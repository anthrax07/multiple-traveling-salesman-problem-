{
 "cells": [
  {
   "cell_type": "code",
   "execution_count": 1,
   "metadata": {},
   "outputs": [],
   "source": [
    "from global_variable import *"
   ]
  },
  {
   "cell_type": "code",
   "execution_count": 2,
   "metadata": {},
   "outputs": [],
   "source": [
    "import random\n",
    "import networkx as nx\n",
    "import math\n",
    "import itertools    \n",
    "import matplotlib.pyplot as plt\n",
    "import ast\n",
    "import numpy as np\n",
    "import operator"
   ]
  },
  {
   "cell_type": "code",
   "execution_count": 3,
   "metadata": {},
   "outputs": [],
   "source": [
    "with open('sensornew.txt', 'r') as f:\n",
    "    sensor = ast.literal_eval(f.read())"
   ]
  },
  {
   "cell_type": "code",
   "execution_count": 4,
   "metadata": {},
   "outputs": [],
   "source": [
    " sensor=sorted(sensor)"
   ]
  },
  {
   "cell_type": "code",
   "execution_count": 5,
   "metadata": {},
   "outputs": [],
   "source": [
    "def distance(points,i,j):\n",
    "    x=points[i][0]-points[j][0]\n",
    "    y=points[i][1]-points[j][1]\n",
    "    return math.sqrt(x*x+y*y)"
   ]
  },
  {
   "cell_type": "code",
   "execution_count": 6,
   "metadata": {},
   "outputs": [],
   "source": [
    "def calculate_Pdp_positions(length_of_grid,transmission_range):\n",
    "    pdp_positions={}\n",
    "    k=0\n",
    "    for c_1 in np.arange(length_of_grid/(transmission_range*math.sqrt(2))):\n",
    "        for c_2 in np.arange(length_of_grid/(transmission_range*math.sqrt(2))):\n",
    "            pdp_positions[k]=(c_1*transmission_range*math.sqrt(2),c_2*transmission_range*math.sqrt(2))\n",
    "            k=k+1\n",
    "    return pdp_positions"
   ]
  },
  {
   "cell_type": "code",
   "execution_count": 7,
   "metadata": {},
   "outputs": [],
   "source": [
    "pdp_positions=calculate_Pdp_positions(length_of_grid,transmission_range)"
   ]
  },
  {
   "cell_type": "code",
   "execution_count": 8,
   "metadata": {},
   "outputs": [],
   "source": [
    "def create_trip_graph():\n",
    "    G=nx.Graph()\n",
    "    distance_between_pdp={}\n",
    "    for i in range(len(pdp_positions)):\n",
    "        G.add_node('pdp{}'.format(i),pos=pdp_positions[i])\n",
    "    for u in range(len(pdp_positions)):\n",
    "        for v in range(len(pdp_positions)):\n",
    "            wt=distance(pdp_positions,u,v)\n",
    "            G.add_edge('pdp{}'.format(u),'pdp{}'.format(v),weight=wt)\n",
    "            distance_between_pdp[(u,v)]=wt\n",
    "    return G,distance_between_pdp"
   ]
  },
  {
   "cell_type": "code",
   "execution_count": 9,
   "metadata": {},
   "outputs": [],
   "source": [
    "trip_graph,distance_between_pdp=create_trip_graph()"
   ]
  },
  {
   "cell_type": "markdown",
   "metadata": {},
   "source": [
    "## From here it starts the clustering of the randomly distributed sensors in the grid"
   ]
  },
  {
   "cell_type": "code",
   "execution_count": 10,
   "metadata": {},
   "outputs": [],
   "source": [
    "from sklearn.cluster import KMeans\n"
   ]
  },
  {
   "cell_type": "code",
   "execution_count": 11,
   "metadata": {},
   "outputs": [],
   "source": [
    "s=[list(i) for i in sensor]"
   ]
  },
  {
   "cell_type": "code",
   "execution_count": 12,
   "metadata": {},
   "outputs": [],
   "source": [
    "X=np.array(s)"
   ]
  },
  {
   "cell_type": "markdown",
   "metadata": {},
   "source": [
    "#i chose 5 number of cluster because there were some outliers while choosing the less clusters."
   ]
  },
  {
   "cell_type": "code",
   "execution_count": 13,
   "metadata": {},
   "outputs": [
    {
     "data": {
      "text/plain": [
       "KMeans(n_clusters=5)"
      ]
     },
     "execution_count": 13,
     "metadata": {},
     "output_type": "execute_result"
    }
   ],
   "source": [
    "kmeans = KMeans(n_clusters=5)\n",
    "kmeans.fit(X)\n"
   ]
  },
  {
   "cell_type": "code",
   "execution_count": 14,
   "metadata": {},
   "outputs": [],
   "source": [
    "c_centers=tuple(kmeans.cluster_centers_)"
   ]
  },
  {
   "cell_type": "code",
   "execution_count": 15,
   "metadata": {},
   "outputs": [],
   "source": [
    "from collections import defaultdict\n"
   ]
  },
  {
   "cell_type": "code",
   "execution_count": 16,
   "metadata": {},
   "outputs": [],
   "source": [
    "def calculate_min_pdp_distance_with_cluster_center(c_centers,pdp_positions):\n",
    "    \"\"\"\n",
    "    Function to calculate the nearest pdp_position to the cluster center \n",
    "    \"\"\"\n",
    "    new_dict={}\n",
    "    for i in c_centers:\n",
    "        temp={}\n",
    "        for p,value in pdp_positions.items():\n",
    "            arr=np.array(value)\n",
    "            #print(arr)\n",
    "            dist=np.linalg.norm(i-arr)\n",
    "            temp[p]=dist\n",
    "        #print(temp)\n",
    "        print(min(temp.items(),key=operator.itemgetter(1))[0])\n",
    "        print(min(temp.items(),key=operator.itemgetter(1))[1])\n",
    "        print(\"******\")\n",
    "        new_dict[tuple(i)]=min(temp.items(),key=operator.itemgetter(1))[0]\n",
    "\n",
    "    return new_dict"
   ]
  },
  {
   "cell_type": "code",
   "execution_count": 17,
   "metadata": {},
   "outputs": [
    {
     "name": "stdout",
     "output_type": "stream",
     "text": [
      "15\n",
      "67.35631919166055\n",
      "******\n",
      "9\n",
      "60.716477571809264\n",
      "******\n",
      "3\n",
      "28.249707133500525\n",
      "******\n",
      "7\n",
      "44.47276518404438\n",
      "******\n",
      "5\n",
      "23.66755282664656\n",
      "******\n"
     ]
    }
   ],
   "source": [
    "newdict=calculate_min_pdp_distance_with_cluster_center(c_centers,pdp_positions)"
   ]
  },
  {
   "cell_type": "code",
   "execution_count": 18,
   "metadata": {},
   "outputs": [
    {
     "data": {
      "text/plain": [
       "(141.4213562373095, 424.26406871192853)"
      ]
     },
     "execution_count": 18,
     "metadata": {},
     "output_type": "execute_result"
    }
   ],
   "source": [
    "pdp_positions[7]"
   ]
  },
  {
   "cell_type": "code",
   "execution_count": 19,
   "metadata": {},
   "outputs": [
    {
     "data": {
      "text/plain": [
       "{(367.0, 388.8): 15,\n",
       " (342.0, 127.75): 9,\n",
       " (7.5, 451.5): 3,\n",
       " (161.66666666666669, 384.66666666666663): 7,\n",
       " (149.0, 119.0): 5}"
      ]
     },
     "execution_count": 19,
     "metadata": {},
     "output_type": "execute_result"
    }
   ],
   "source": [
    "newdict"
   ]
  },
  {
   "cell_type": "markdown",
   "metadata": {},
   "source": [
    "A trip route for drone is formed in the form of list below"
   ]
  },
  {
   "cell_type": "code",
   "execution_count": 20,
   "metadata": {},
   "outputs": [],
   "source": [
    "trip_route=[]\n",
    "for key,values in newdict.items():\n",
    "    trip_route.append(values)\n"
   ]
  },
  {
   "cell_type": "markdown",
   "metadata": {},
   "source": [
    "As our tour starts from the initial position 0 so 0 is added in the trip route\n"
   ]
  },
  {
   "cell_type": "code",
   "execution_count": 21,
   "metadata": {},
   "outputs": [],
   "source": [
    "trip_route=[0]+trip_route"
   ]
  },
  {
   "cell_type": "code",
   "execution_count": 22,
   "metadata": {},
   "outputs": [
    {
     "data": {
      "text/plain": [
       "[0, 15, 9, 3, 7, 5]"
      ]
     },
     "execution_count": 22,
     "metadata": {},
     "output_type": "execute_result"
    }
   ],
   "source": [
    "trip_route"
   ]
  },
  {
   "cell_type": "code",
   "execution_count": 23,
   "metadata": {},
   "outputs": [],
   "source": [
    "from itertools import combinations"
   ]
  },
  {
   "cell_type": "code",
   "execution_count": 24,
   "metadata": {},
   "outputs": [],
   "source": [
    "dist = {(c1, c2): distance(pdp_positions,c1, c2) for c1, c2 in combinations(trip_route, 2)}"
   ]
  },
  {
   "cell_type": "code",
   "execution_count": 25,
   "metadata": {},
   "outputs": [
    {
     "data": {
      "text/plain": [
       "{(0, 15): 600.0,\n",
       " (0, 9): 316.22776601683796,\n",
       " (0, 3): 424.26406871192853,\n",
       " (0, 7): 447.21359549995793,\n",
       " (0, 5): 200.0,\n",
       " (15, 9): 316.22776601683796,\n",
       " (15, 3): 424.26406871192853,\n",
       " (15, 7): 282.842712474619,\n",
       " (15, 5): 400.0,\n",
       " (9, 3): 400.0,\n",
       " (9, 7): 316.22776601683796,\n",
       " (9, 5): 141.4213562373095,\n",
       " (3, 7): 141.4213562373095,\n",
       " (3, 5): 316.22776601683796,\n",
       " (7, 5): 282.842712474619}"
      ]
     },
     "execution_count": 25,
     "metadata": {},
     "output_type": "execute_result"
    }
   ],
   "source": [
    "dist"
   ]
  },
  {
   "cell_type": "code",
   "execution_count": 26,
   "metadata": {},
   "outputs": [],
   "source": [
    "import gurobipy as gp\n",
    "from gurobipy import GRB"
   ]
  },
  {
   "cell_type": "code",
   "execution_count": 27,
   "metadata": {},
   "outputs": [
    {
     "name": "stdout",
     "output_type": "stream",
     "text": [
      "Restricted license - for non-production use only - expires 2022-01-13\n"
     ]
    }
   ],
   "source": [
    "m = gp.Model()\n"
   ]
  },
  {
   "cell_type": "code",
   "execution_count": 28,
   "metadata": {},
   "outputs": [],
   "source": [
    "vars = m.addVars(dist.keys(), obj=dist, vtype=GRB.BINARY, name='x')"
   ]
  },
  {
   "cell_type": "code",
   "execution_count": 29,
   "metadata": {},
   "outputs": [],
   "source": [
    "for i, j in vars.keys():\n",
    "    vars[j, i] = vars[i, j]  # edge in opposite direction"
   ]
  },
  {
   "cell_type": "code",
   "execution_count": 30,
   "metadata": {},
   "outputs": [],
   "source": [
    "cons = m.addConstrs(vars.sum(c, '*') == 2 for c in trip_route)"
   ]
  },
  {
   "cell_type": "code",
   "execution_count": 31,
   "metadata": {},
   "outputs": [],
   "source": [
    "def subtourelim(model, where):\n",
    "    if where == GRB.Callback.MIPSOL:\n",
    "        # make a list of edges selected in the solution\n",
    "        vals = model.cbGetSolution(model._vars)\n",
    "        selected = gp.tuplelist((i, j) for i, j in model._vars.keys()\n",
    "                             if vals[i, j] > 0.5)\n",
    "        # find the shortest cycle in the selected edge list\n",
    "        tour = subtour(selected)\n",
    "        if len(tour) < len(trip_route):\n",
    "            # add subtour elimination constr. for every pair of cities in subtour\n",
    "            model.cbLazy(gp.quicksum(model._vars[i, j] for i, j in combinations(tour, 2))\n",
    "                         <= len(tour)-1)\n"
   ]
  },
  {
   "cell_type": "code",
   "execution_count": 32,
   "metadata": {},
   "outputs": [],
   "source": [
    "def subtour(edges):\n",
    "    unvisited = trip_route[:]\n",
    "    cycle = trip_route[:] # Dummy - guaranteed to be replaced\n",
    "    while unvisited:  # true if list is non-empty\n",
    "        thiscycle = []\n",
    "        neighbors = unvisited\n",
    "        while neighbors:\n",
    "            current = neighbors[0]\n",
    "            thiscycle.append(current)\n",
    "            unvisited.remove(current)\n",
    "            neighbors = [j for i, j in edges.select(current, '*')\n",
    "                         if j in unvisited]\n",
    "        if len(thiscycle) <= len(cycle):\n",
    "            cycle = thiscycle # New shortest subtour\n",
    "    return cycle"
   ]
  },
  {
   "cell_type": "code",
   "execution_count": 33,
   "metadata": {},
   "outputs": [
    {
     "name": "stdout",
     "output_type": "stream",
     "text": [
      "Changed value of parameter lazyConstraints to 1\n",
      "   Prev: 0  Min: 0  Max: 1  Default: 0\n",
      "Gurobi Optimizer version 9.1.2 build v9.1.2rc0 (win64)\n",
      "Thread count: 2 physical cores, 4 logical processors, using up to 4 threads\n",
      "Optimize a model with 6 rows, 15 columns and 30 nonzeros\n",
      "Model fingerprint: 0xaa61b96f\n",
      "Variable types: 0 continuous, 15 integer (15 binary)\n",
      "Coefficient statistics:\n",
      "  Matrix range     [1e+00, 1e+00]\n",
      "  Objective range  [1e+02, 6e+02]\n",
      "  Bounds range     [1e+00, 1e+00]\n",
      "  RHS range        [2e+00, 2e+00]\n",
      "Found heuristic solution: objective 2131.3708499\n",
      "Presolve time: 0.00s\n",
      "Presolved: 6 rows, 15 columns, 30 nonzeros\n",
      "Variable types: 0 continuous, 15 integer (15 binary)\n",
      "\n",
      "Root relaxation: objective 1.506177e+03, 7 iterations, 0.00 seconds\n",
      "\n",
      "    Nodes    |    Current Node    |     Objective Bounds      |     Work\n",
      " Expl Unexpl |  Obj  Depth IntInf | Incumbent    BestBd   Gap | It/Node Time\n",
      "\n",
      "*    0     0               0    1506.1772597 1506.17726  0.00%     -    0s\n",
      "\n",
      "Cutting planes:\n",
      "  Lazy constraints: 1\n",
      "\n",
      "Explored 0 nodes (9 simplex iterations) in 0.04 seconds\n",
      "Thread count was 4 (of 4 available processors)\n",
      "\n",
      "Solution count 2: 1506.18 2131.37 \n",
      "\n",
      "Optimal solution found (tolerance 1.00e-04)\n",
      "Best objective 1.506177259678e+03, best bound 1.506177259678e+03, gap 0.0000%\n",
      "\n",
      "User-callback calls 45, time in user-callback 0.01 sec\n"
     ]
    }
   ],
   "source": [
    "m._vars = vars\n",
    "m.Params.lazyConstraints = 1\n",
    "m.optimize(subtourelim)"
   ]
  },
  {
   "cell_type": "code",
   "execution_count": 34,
   "metadata": {},
   "outputs": [],
   "source": [
    "vals = m.getAttr('x', vars)\n",
    "selected = gp.tuplelist((i, j) for i, j in vals.keys() if vals[i, j] > 0.5)\n",
    "\n",
    "tour = subtour(selected)\n"
   ]
  },
  {
   "cell_type": "markdown",
   "metadata": {},
   "source": [
    "## This is the tour i got by using gurobi solver"
   ]
  },
  {
   "cell_type": "code",
   "execution_count": 35,
   "metadata": {},
   "outputs": [
    {
     "data": {
      "text/plain": [
       "[0, 3, 7, 15, 9, 5]"
      ]
     },
     "execution_count": 35,
     "metadata": {},
     "output_type": "execute_result"
    }
   ],
   "source": [
    "tour"
   ]
  },
  {
   "cell_type": "code",
   "execution_count": null,
   "metadata": {},
   "outputs": [],
   "source": []
  },
  {
   "cell_type": "code",
   "execution_count": 36,
   "metadata": {},
   "outputs": [],
   "source": [
    "assert len(tour) == len(trip_route)"
   ]
  },
  {
   "cell_type": "markdown",
   "metadata": {},
   "source": [
    "## Here Starts the nearest neighbour solution for the TSP problem for calculating the trip time"
   ]
  },
  {
   "cell_type": "code",
   "execution_count": 37,
   "metadata": {},
   "outputs": [],
   "source": [
    "def first(collection):\n",
    "    \"Start iterating over collection, and return the first element.\"\n",
    "    #print(\"I'm here\")\n",
    "    return next(iter(collection))"
   ]
  },
  {
   "cell_type": "code",
   "execution_count": 38,
   "metadata": {},
   "outputs": [],
   "source": [
    "def nearest_neighbor(A, cities):\n",
    "    \"Find the city in cities that is nearest to city A.\"\n",
    "    distance1={}\n",
    "    for j in cities:\n",
    "        for key,values in distance_between_pdp.items():\n",
    "            if key==(A,j):\n",
    "                distance1[j]=values\n",
    "               # print(\"Iwashere\")\n",
    "    minin=min(distance1)  \n",
    "    return(minin)"
   ]
  },
  {
   "cell_type": "code",
   "execution_count": 39,
   "metadata": {},
   "outputs": [],
   "source": [
    "def nn_tsp(cities):\n",
    "    \"\"\"Start the tour at the first city; at each step extend the tour \n",
    "    by moving from the previous city to its nearest neighbor \n",
    "    that has not yet been visited.\"\"\"\n",
    "    start = [first(cities)]\n",
    "    tour = start\n",
    "    print(tour)\n",
    "    unvisited = set(set(cities) - set(start))\n",
    "    while unvisited:\n",
    "        #print(\"after while\")\n",
    "        C = nearest_neighbor(tour[-1], unvisited)\n",
    "        tour.append(C)\n",
    "        unvisited.remove(C)\n",
    "    return tour"
   ]
  },
  {
   "cell_type": "markdown",
   "metadata": {},
   "source": [
    "## This is the tour I got solving nearest neighbour solver for TSP"
   ]
  },
  {
   "cell_type": "code",
   "execution_count": 40,
   "metadata": {},
   "outputs": [
    {
     "name": "stdout",
     "output_type": "stream",
     "text": [
      "[0]\n"
     ]
    },
    {
     "data": {
      "text/plain": [
       "[0, 3, 5, 7, 9, 15]"
      ]
     },
     "execution_count": 40,
     "metadata": {},
     "output_type": "execute_result"
    }
   ],
   "source": [
    "nn_solver=nn_tsp(trip_route)\n",
    "nn_solver"
   ]
  },
  {
   "cell_type": "code",
   "execution_count": 42,
   "metadata": {},
   "outputs": [],
   "source": [
    "K=nx.DiGraph()"
   ]
  },
  {
   "cell_type": "code",
   "execution_count": 43,
   "metadata": {},
   "outputs": [],
   "source": [
    "for i in range(len(sensor)):\n",
    "    K.add_node('sensor{}'.format(i),pos=sensor[i])"
   ]
  },
  {
   "cell_type": "code",
   "execution_count": 44,
   "metadata": {},
   "outputs": [],
   "source": [
    "def calulate_distance_between_each_sensors_and_assign_weight(points,K):\n",
    "    distance_sensors={}\n",
    "    M=K\n",
    "    k=0\n",
    "    edge_weight=1\n",
    "    for i in range(len(points)):\n",
    "        for j in range(len(points)):\n",
    "            euclidean_distance=distance(points,i,j)\n",
    "            if i!=j:\n",
    "                #M.add_edge(\"sensor{}\".format(i),\"sensor{}\".format(j))\n",
    "\n",
    "                \n",
    "                if euclidean_distance<=transmission_range:\n",
    "                    #if M.has_edge('sensor{}'.format(i),'sensor{}'.format(j))!=True:\n",
    "                    M.add_edge(\"sensor{}\".format(i),\"sensor{}\".format(j))\n",
    "\n",
    "                    M[\"sensor{}\".format(i)][\"sensor{}\".format(j)]['weight']=1\n",
    "\n",
    "                    distance_sensors[i,j]=(euclidean_distance,edge_weight)\n",
    "#                 else:\n",
    "#                     M[\"sensor{}\".format(i)][\"sensor{}\".format(j)]['weight']=100\n",
    "#                     distance_sensors[i,j]=(euclidean_distance,100)\n",
    "#             k=k+1\n",
    "    return distance_sensors,M"
   ]
  },
  {
   "cell_type": "code",
   "execution_count": 45,
   "metadata": {},
   "outputs": [],
   "source": [
    "euclidean_distance_between_sensor,L=calulate_distance_between_each_sensors_and_assign_weight(sensor,K)"
   ]
  },
  {
   "cell_type": "code",
   "execution_count": 46,
   "metadata": {},
   "outputs": [
    {
     "data": {
      "image/png": "[encoded data removed]",
      "text/plain": [
       "<Figure size 432x288 with 1 Axes>"
      ]
     },
     "metadata": {},
     "output_type": "display_data"
    }
   ],
   "source": [
    "nx.draw(L,nx.get_node_attributes(L,'pos'),with_labels=True)"
   ]
  },
  {
   "cell_type": "code",
   "execution_count": 47,
   "metadata": {},
   "outputs": [],
   "source": [
    "def distance_pdp_sensors(pdp_positions,sensor,u,v):\n",
    "    x=pdp_positions[u][0]-sensor[v][0]\n",
    "    y=pdp_positions[u][1]-sensor[v][1]\n",
    "    return math.sqrt(x*x+y*y)"
   ]
  },
  {
   "cell_type": "code",
   "execution_count": 48,
   "metadata": {},
   "outputs": [],
   "source": [
    "def connectivity_graph(pdp_positions,sensor,K):\n",
    "    J=K\n",
    "    distance_pdp_each_sensor={}\n",
    "    k=0\n",
    "    weight=1\n",
    "    for i in range(len(pdp_positions)):\n",
    "        J.add_node('pdp{}'.format(i),pos=pdp_positions[i])\n",
    "    for u in range(len(pdp_positions)):\n",
    "        for v in range(len(sensor)):\n",
    "            euclidean_distance_between_pdp_sensor=distance_pdp_sensors(pdp_positions,sensor,u,v)\n",
    "            J.add_edge(\"pdp{}\".format(u),\"sensor{}\".format(v))\n",
    "            \n",
    "            if euclidean_distance_between_pdp_sensor<=transmission_range:\n",
    "                #J.add_edge(\"pdp{}\".format(u),\"sensor{}\".format(v))\n",
    "                #if J.has_edge('pdp{}'.format(i),'sensor{}'.format(j))!=True:\n",
    "                    #J.add_edge(\"pdp{}\".format(u),\"sensor{}\".format(v))\n",
    "               \n",
    "                \n",
    "                J[\"pdp{}\".format(u)][\"sensor{}\".format(v)]['weight']=1\n",
    "                distance_pdp_each_sensor[u,v]=euclidean_distance_between_pdp_sensor,weight\n",
    "            else:\n",
    "                J[\"pdp{}\".format(u)][\"sensor{}\".format(v)]['weight']=100\n",
    "                distance_pdp_each_sensor[u,v]=euclidean_distance_between_pdp_sensor,100\n",
    "#            k=k+1\n",
    "    return distance_pdp_each_sensor,J"
   ]
  },
  {
   "cell_type": "code",
   "execution_count": 49,
   "metadata": {},
   "outputs": [],
   "source": [
    "distance_between_pdp_to_each_sensor,N=connectivity_graph(pdp_positions,sensor,L)"
   ]
  },
  {
   "cell_type": "code",
   "execution_count": 50,
   "metadata": {},
   "outputs": [],
   "source": [
    "k=0\n",
    "arc_length={}\n",
    "shortest_path={}\n",
    "for i in range(len(pdp_positions)):\n",
    "    for j in range(len(sensor)):\n",
    "        if N.has_edge('pdp{}'.format(i),'sensor{}'.format(j)):\n",
    "            shortest_path[i,j]=nx.shortest_path(N,source='pdp{}'.format(i),target='sensor{}'.format(j),\n",
    "                                              weight='weight',method='dijkstra')\n",
    "            arc_length[i,j]=nx.dijkstra_path_length(N,'pdp{}'.format(i),'sensor{}'.format(j))\n",
    "            \n",
    "           \n",
    "        else:\n",
    "            shortest_path[i,j]=0"
   ]
  },
  {
   "cell_type": "code",
   "execution_count": 52,
   "metadata": {},
   "outputs": [],
   "source": [
    "new_zipped=dict(zip(arc_length.items(),shortest_path.values()))"
   ]
  },
  {
   "cell_type": "code",
   "execution_count": 62,
   "metadata": {
    "collapsed": true,
    "jupyter": {
     "outputs_hidden": true
    }
   },
   "outputs": [
    {
     "data": {
      "text/plain": [
       "{((0, 0), 100): ['pdp0', 'sensor0'],\n",
       " ((0, 1), 100): ['pdp0', 'sensor1'],\n",
       " ((0, 2), 100): ['pdp0', 'sensor2'],\n",
       " ((0, 3), 100): ['pdp0', 'sensor3'],\n",
       " ((0, 4), 100): ['pdp0', 'sensor4'],\n",
       " ((0, 5), 100): ['pdp0', 'sensor5'],\n",
       " ((0, 6), 100): ['pdp0', 'sensor6'],\n",
       " ((0, 7), 100): ['pdp0', 'sensor7'],\n",
       " ((0, 8), 100): ['pdp0', 'sensor8'],\n",
       " ((0, 9), 100): ['pdp0', 'sensor9'],\n",
       " ((0, 10), 100): ['pdp0', 'sensor10'],\n",
       " ((0, 11), 100): ['pdp0', 'sensor11'],\n",
       " ((0, 12), 100): ['pdp0', 'sensor12'],\n",
       " ((0, 13), 100): ['pdp0', 'sensor13'],\n",
       " ((0, 14), 100): ['pdp0', 'sensor14'],\n",
       " ((1, 0), 100): ['pdp1', 'sensor0'],\n",
       " ((1, 1), 100): ['pdp1', 'sensor1'],\n",
       " ((1, 2), 100): ['pdp1', 'sensor2'],\n",
       " ((1, 3), 100): ['pdp1', 'sensor3'],\n",
       " ((1, 4), 100): ['pdp1', 'sensor4'],\n",
       " ((1, 5), 100): ['pdp1', 'sensor5'],\n",
       " ((1, 6), 100): ['pdp1', 'sensor6'],\n",
       " ((1, 7), 100): ['pdp1', 'sensor7'],\n",
       " ((1, 8), 100): ['pdp1', 'sensor8'],\n",
       " ((1, 9), 100): ['pdp1', 'sensor9'],\n",
       " ((1, 10), 100): ['pdp1', 'sensor10'],\n",
       " ((1, 11), 100): ['pdp1', 'sensor11'],\n",
       " ((1, 12), 100): ['pdp1', 'sensor12'],\n",
       " ((1, 13), 100): ['pdp1', 'sensor13'],\n",
       " ((1, 14), 100): ['pdp1', 'sensor14'],\n",
       " ((2, 0), 100): ['pdp2', 'sensor0'],\n",
       " ((2, 1), 100): ['pdp2', 'sensor1'],\n",
       " ((2, 2), 100): ['pdp2', 'sensor2'],\n",
       " ((2, 3), 100): ['pdp2', 'sensor3'],\n",
       " ((2, 4), 100): ['pdp2', 'sensor4'],\n",
       " ((2, 5), 100): ['pdp2', 'sensor5'],\n",
       " ((2, 6), 100): ['pdp2', 'sensor6'],\n",
       " ((2, 7), 100): ['pdp2', 'sensor7'],\n",
       " ((2, 8), 100): ['pdp2', 'sensor8'],\n",
       " ((2, 9), 100): ['pdp2', 'sensor9'],\n",
       " ((2, 10), 100): ['pdp2', 'sensor10'],\n",
       " ((2, 11), 100): ['pdp2', 'sensor11'],\n",
       " ((2, 12), 100): ['pdp2', 'sensor12'],\n",
       " ((2, 13), 100): ['pdp2', 'sensor13'],\n",
       " ((2, 14), 100): ['pdp2', 'sensor14'],\n",
       " ((3, 0), 1): ['pdp3', 'sensor0'],\n",
       " ((3, 1), 1): ['pdp3', 'sensor1'],\n",
       " ((3, 2), 100): ['pdp3', 'sensor2'],\n",
       " ((3, 3), 100): ['pdp3', 'sensor3'],\n",
       " ((3, 4), 100): ['pdp3', 'sensor4'],\n",
       " ((3, 5), 100): ['pdp3', 'sensor5'],\n",
       " ((3, 6), 100): ['pdp3', 'sensor6'],\n",
       " ((3, 7), 100): ['pdp3', 'sensor7'],\n",
       " ((3, 8), 100): ['pdp3', 'sensor8'],\n",
       " ((3, 9), 100): ['pdp3', 'sensor9'],\n",
       " ((3, 10), 100): ['pdp3', 'sensor10'],\n",
       " ((3, 11), 100): ['pdp3', 'sensor11'],\n",
       " ((3, 12), 100): ['pdp3', 'sensor12'],\n",
       " ((3, 13), 100): ['pdp3', 'sensor13'],\n",
       " ((3, 14), 100): ['pdp3', 'sensor14'],\n",
       " ((4, 0), 100): ['pdp4', 'sensor0'],\n",
       " ((4, 1), 100): ['pdp4', 'sensor1'],\n",
       " ((4, 2), 100): ['pdp4', 'sensor2'],\n",
       " ((4, 3), 100): ['pdp4', 'sensor3'],\n",
       " ((4, 4), 100): ['pdp4', 'sensor4'],\n",
       " ((4, 5), 100): ['pdp4', 'sensor5'],\n",
       " ((4, 6), 100): ['pdp4', 'sensor6'],\n",
       " ((4, 7), 100): ['pdp4', 'sensor7'],\n",
       " ((4, 8), 100): ['pdp4', 'sensor8'],\n",
       " ((4, 9), 100): ['pdp4', 'sensor9'],\n",
       " ((4, 10), 100): ['pdp4', 'sensor10'],\n",
       " ((4, 11), 100): ['pdp4', 'sensor11'],\n",
       " ((4, 12), 100): ['pdp4', 'sensor12'],\n",
       " ((4, 13), 100): ['pdp4', 'sensor13'],\n",
       " ((4, 14), 100): ['pdp4', 'sensor14'],\n",
       " ((5, 0), 100): ['pdp5', 'sensor0'],\n",
       " ((5, 1), 100): ['pdp5', 'sensor1'],\n",
       " ((5, 2), 100): ['pdp5', 'sensor2'],\n",
       " ((5, 3), 1): ['pdp5', 'sensor3'],\n",
       " ((5, 4), 100): ['pdp5', 'sensor4'],\n",
       " ((5, 5), 100): ['pdp5', 'sensor5'],\n",
       " ((5, 6), 100): ['pdp5', 'sensor6'],\n",
       " ((5, 7), 100): ['pdp5', 'sensor7'],\n",
       " ((5, 8), 100): ['pdp5', 'sensor8'],\n",
       " ((5, 9), 100): ['pdp5', 'sensor9'],\n",
       " ((5, 10), 100): ['pdp5', 'sensor10'],\n",
       " ((5, 11), 100): ['pdp5', 'sensor11'],\n",
       " ((5, 12), 100): ['pdp5', 'sensor12'],\n",
       " ((5, 13), 100): ['pdp5', 'sensor13'],\n",
       " ((5, 14), 100): ['pdp5', 'sensor14'],\n",
       " ((6, 0), 100): ['pdp6', 'sensor0'],\n",
       " ((6, 1), 100): ['pdp6', 'sensor1'],\n",
       " ((6, 2), 2): ['pdp6', 'sensor4', 'sensor2'],\n",
       " ((6, 3), 100): ['pdp6', 'sensor3'],\n",
       " ((6, 4), 1): ['pdp6', 'sensor4'],\n",
       " ((6, 5), 3): ['pdp6', 'sensor4', 'sensor2', 'sensor5'],\n",
       " ((6, 6), 4): ['pdp6', 'sensor4', 'sensor2', 'sensor5', 'sensor6'],\n",
       " ((6, 7), 5): ['pdp6', 'sensor4', 'sensor2', 'sensor5', 'sensor6', 'sensor7'],\n",
       " ((6, 8), 100): ['pdp6', 'sensor8'],\n",
       " ((6, 9), 100): ['pdp6', 'sensor9'],\n",
       " ((6, 10), 100): ['pdp6', 'sensor10'],\n",
       " ((6, 11), 6): ['pdp6',\n",
       "  'sensor4',\n",
       "  'sensor2',\n",
       "  'sensor5',\n",
       "  'sensor6',\n",
       "  'sensor7',\n",
       "  'sensor11'],\n",
       " ((6, 12), 100): ['pdp6', 'sensor12'],\n",
       " ((6, 13), 5): ['pdp6',\n",
       "  'sensor4',\n",
       "  'sensor2',\n",
       "  'sensor5',\n",
       "  'sensor6',\n",
       "  'sensor13'],\n",
       " ((6, 14), 100): ['pdp6', 'sensor14'],\n",
       " ((7, 0), 100): ['pdp7', 'sensor0'],\n",
       " ((7, 1), 100): ['pdp7', 'sensor1'],\n",
       " ((7, 2), 1): ['pdp7', 'sensor2'],\n",
       " ((7, 3), 100): ['pdp7', 'sensor3'],\n",
       " ((7, 4), 1): ['pdp7', 'sensor4'],\n",
       " ((7, 5), 1): ['pdp7', 'sensor5'],\n",
       " ((7, 6), 2): ['pdp7', 'sensor5', 'sensor6'],\n",
       " ((7, 7), 3): ['pdp7', 'sensor5', 'sensor6', 'sensor7'],\n",
       " ((7, 8), 100): ['pdp7', 'sensor8'],\n",
       " ((7, 9), 100): ['pdp7', 'sensor9'],\n",
       " ((7, 10), 100): ['pdp7', 'sensor10'],\n",
       " ((7, 11), 4): ['pdp7', 'sensor5', 'sensor6', 'sensor7', 'sensor11'],\n",
       " ((7, 12), 100): ['pdp7', 'sensor12'],\n",
       " ((7, 13), 3): ['pdp7', 'sensor5', 'sensor6', 'sensor13'],\n",
       " ((7, 14), 100): ['pdp7', 'sensor14'],\n",
       " ((8, 0), 100): ['pdp8', 'sensor0'],\n",
       " ((8, 1), 100): ['pdp8', 'sensor1'],\n",
       " ((8, 2), 100): ['pdp8', 'sensor2'],\n",
       " ((8, 3), 100): ['pdp8', 'sensor3'],\n",
       " ((8, 4), 100): ['pdp8', 'sensor4'],\n",
       " ((8, 5), 100): ['pdp8', 'sensor5'],\n",
       " ((8, 6), 100): ['pdp8', 'sensor6'],\n",
       " ((8, 7), 100): ['pdp8', 'sensor7'],\n",
       " ((8, 8), 3): ['pdp8', 'sensor10', 'sensor12', 'sensor8'],\n",
       " ((8, 9), 3): ['pdp8', 'sensor10', 'sensor12', 'sensor9'],\n",
       " ((8, 10), 1): ['pdp8', 'sensor10'],\n",
       " ((8, 11), 100): ['pdp8', 'sensor11'],\n",
       " ((8, 12), 2): ['pdp8', 'sensor10', 'sensor12'],\n",
       " ((8, 13), 100): ['pdp8', 'sensor13'],\n",
       " ((8, 14), 100): ['pdp8', 'sensor14'],\n",
       " ((9, 0), 100): ['pdp9', 'sensor0'],\n",
       " ((9, 1), 100): ['pdp9', 'sensor1'],\n",
       " ((9, 2), 100): ['pdp9', 'sensor2'],\n",
       " ((9, 3), 100): ['pdp9', 'sensor3'],\n",
       " ((9, 4), 100): ['pdp9', 'sensor4'],\n",
       " ((9, 5), 100): ['pdp9', 'sensor5'],\n",
       " ((9, 6), 100): ['pdp9', 'sensor6'],\n",
       " ((9, 7), 100): ['pdp9', 'sensor7'],\n",
       " ((9, 8), 1): ['pdp9', 'sensor8'],\n",
       " ((9, 9), 1): ['pdp9', 'sensor9'],\n",
       " ((9, 10), 2): ['pdp9', 'sensor12', 'sensor10'],\n",
       " ((9, 11), 100): ['pdp9', 'sensor11'],\n",
       " ((9, 12), 1): ['pdp9', 'sensor12'],\n",
       " ((9, 13), 100): ['pdp9', 'sensor13'],\n",
       " ((9, 14), 100): ['pdp9', 'sensor14'],\n",
       " ((10, 0), 100): ['pdp10', 'sensor0'],\n",
       " ((10, 1), 100): ['pdp10', 'sensor1'],\n",
       " ((10, 2), 4): ['pdp10', 'sensor7', 'sensor6', 'sensor5', 'sensor2'],\n",
       " ((10, 3), 100): ['pdp10', 'sensor3'],\n",
       " ((10, 4), 5): ['pdp10',\n",
       "  'sensor7',\n",
       "  'sensor6',\n",
       "  'sensor5',\n",
       "  'sensor2',\n",
       "  'sensor4'],\n",
       " ((10, 5), 3): ['pdp10', 'sensor7', 'sensor6', 'sensor5'],\n",
       " ((10, 6), 2): ['pdp10', 'sensor7', 'sensor6'],\n",
       " ((10, 7), 1): ['pdp10', 'sensor7'],\n",
       " ((10, 8), 1): ['pdp10', 'sensor8'],\n",
       " ((10, 9), 2): ['pdp10', 'sensor8', 'sensor9'],\n",
       " ((10, 10), 3): ['pdp10', 'sensor8', 'sensor12', 'sensor10'],\n",
       " ((10, 11), 1): ['pdp10', 'sensor11'],\n",
       " ((10, 12), 2): ['pdp10', 'sensor8', 'sensor12'],\n",
       " ((10, 13), 3): ['pdp10', 'sensor7', 'sensor6', 'sensor13'],\n",
       " ((10, 14), 100): ['pdp10', 'sensor14'],\n",
       " ((11, 0), 100): ['pdp11', 'sensor0'],\n",
       " ((11, 1), 100): ['pdp11', 'sensor1'],\n",
       " ((11, 2), 2): ['pdp11', 'sensor5', 'sensor2'],\n",
       " ((11, 3), 100): ['pdp11', 'sensor3'],\n",
       " ((11, 4), 3): ['pdp11', 'sensor5', 'sensor2', 'sensor4'],\n",
       " ((11, 5), 1): ['pdp11', 'sensor5'],\n",
       " ((11, 6), 1): ['pdp11', 'sensor6'],\n",
       " ((11, 7), 1): ['pdp11', 'sensor7'],\n",
       " ((11, 8), 100): ['pdp11', 'sensor8'],\n",
       " ((11, 9), 100): ['pdp11', 'sensor9'],\n",
       " ((11, 10), 100): ['pdp11', 'sensor10'],\n",
       " ((11, 11), 2): ['pdp11', 'sensor7', 'sensor11'],\n",
       " ((11, 12), 100): ['pdp11', 'sensor12'],\n",
       " ((11, 13), 2): ['pdp11', 'sensor6', 'sensor13'],\n",
       " ((11, 14), 100): ['pdp11', 'sensor14'],\n",
       " ((12, 0), 100): ['pdp12', 'sensor0'],\n",
       " ((12, 1), 100): ['pdp12', 'sensor1'],\n",
       " ((12, 2), 100): ['pdp12', 'sensor2'],\n",
       " ((12, 3), 100): ['pdp12', 'sensor3'],\n",
       " ((12, 4), 100): ['pdp12', 'sensor4'],\n",
       " ((12, 5), 100): ['pdp12', 'sensor5'],\n",
       " ((12, 6), 100): ['pdp12', 'sensor6'],\n",
       " ((12, 7), 100): ['pdp12', 'sensor7'],\n",
       " ((12, 8), 3): ['pdp12', 'sensor10', 'sensor12', 'sensor8'],\n",
       " ((12, 9), 3): ['pdp12', 'sensor10', 'sensor12', 'sensor9'],\n",
       " ((12, 10), 1): ['pdp12', 'sensor10'],\n",
       " ((12, 11), 100): ['pdp12', 'sensor11'],\n",
       " ((12, 12), 2): ['pdp12', 'sensor10', 'sensor12'],\n",
       " ((12, 13), 100): ['pdp12', 'sensor13'],\n",
       " ((12, 14), 100): ['pdp12', 'sensor14'],\n",
       " ((13, 0), 100): ['pdp13', 'sensor0'],\n",
       " ((13, 1), 100): ['pdp13', 'sensor1'],\n",
       " ((13, 2), 100): ['pdp13', 'sensor2'],\n",
       " ((13, 3), 100): ['pdp13', 'sensor3'],\n",
       " ((13, 4), 100): ['pdp13', 'sensor4'],\n",
       " ((13, 5), 100): ['pdp13', 'sensor5'],\n",
       " ((13, 6), 100): ['pdp13', 'sensor6'],\n",
       " ((13, 7), 100): ['pdp13', 'sensor7'],\n",
       " ((13, 8), 2): ['pdp13', 'sensor9', 'sensor8'],\n",
       " ((13, 9), 1): ['pdp13', 'sensor9'],\n",
       " ((13, 10), 2): ['pdp13', 'sensor12', 'sensor10'],\n",
       " ((13, 11), 100): ['pdp13', 'sensor11'],\n",
       " ((13, 12), 1): ['pdp13', 'sensor12'],\n",
       " ((13, 13), 100): ['pdp13', 'sensor13'],\n",
       " ((13, 14), 100): ['pdp13', 'sensor14'],\n",
       " ((14, 0), 100): ['pdp14', 'sensor0'],\n",
       " ((14, 1), 100): ['pdp14', 'sensor1'],\n",
       " ((14, 2), 5): ['pdp14',\n",
       "  'sensor11',\n",
       "  'sensor7',\n",
       "  'sensor6',\n",
       "  'sensor5',\n",
       "  'sensor2'],\n",
       " ((14, 3), 100): ['pdp14', 'sensor3'],\n",
       " ((14, 4), 6): ['pdp14',\n",
       "  'sensor11',\n",
       "  'sensor7',\n",
       "  'sensor6',\n",
       "  'sensor5',\n",
       "  'sensor2',\n",
       "  'sensor4'],\n",
       " ((14, 5), 4): ['pdp14', 'sensor11', 'sensor7', 'sensor6', 'sensor5'],\n",
       " ((14, 6), 3): ['pdp14', 'sensor11', 'sensor7', 'sensor6'],\n",
       " ((14, 7), 2): ['pdp14', 'sensor11', 'sensor7'],\n",
       " ((14, 8), 100): ['pdp14', 'sensor8'],\n",
       " ((14, 9), 100): ['pdp14', 'sensor9'],\n",
       " ((14, 10), 100): ['pdp14', 'sensor10'],\n",
       " ((14, 11), 1): ['pdp14', 'sensor11'],\n",
       " ((14, 12), 100): ['pdp14', 'sensor12'],\n",
       " ((14, 13), 4): ['pdp14', 'sensor11', 'sensor7', 'sensor6', 'sensor13'],\n",
       " ((14, 14), 100): ['pdp14', 'sensor14'],\n",
       " ((15, 0), 100): ['pdp15', 'sensor0'],\n",
       " ((15, 1), 100): ['pdp15', 'sensor1'],\n",
       " ((15, 2), 4): ['pdp15', 'sensor13', 'sensor6', 'sensor5', 'sensor2'],\n",
       " ((15, 3), 100): ['pdp15', 'sensor3'],\n",
       " ((15, 4), 5): ['pdp15',\n",
       "  'sensor13',\n",
       "  'sensor6',\n",
       "  'sensor5',\n",
       "  'sensor2',\n",
       "  'sensor4'],\n",
       " ((15, 5), 3): ['pdp15', 'sensor13', 'sensor6', 'sensor5'],\n",
       " ((15, 6), 2): ['pdp15', 'sensor13', 'sensor6'],\n",
       " ((15, 7), 3): ['pdp15', 'sensor13', 'sensor6', 'sensor7'],\n",
       " ((15, 8), 100): ['pdp15', 'sensor8'],\n",
       " ((15, 9), 100): ['pdp15', 'sensor9'],\n",
       " ((15, 10), 100): ['pdp15', 'sensor10'],\n",
       " ((15, 11), 4): ['pdp15', 'sensor13', 'sensor6', 'sensor7', 'sensor11'],\n",
       " ((15, 12), 100): ['pdp15', 'sensor12'],\n",
       " ((15, 13), 1): ['pdp15', 'sensor13'],\n",
       " ((15, 14), 1): ['pdp15', 'sensor14']}"
      ]
     },
     "execution_count": 62,
     "metadata": {},
     "output_type": "execute_result"
    }
   ],
   "source": [
    "new_zipped"
   ]
  },
  {
   "cell_type": "code",
   "execution_count": 54,
   "metadata": {},
   "outputs": [],
   "source": [
    "def spanning_tree_collecting_time(pdp):\n",
    "    \"\"\"This function defines which sensors are connected with the desired pdp\"\"\"\n",
    "    \"\"\"\n",
    "    return list\n",
    "    \"\"\"\n",
    "    sensor_subset=[]\n",
    "    for key,value in new_zipped.items():\n",
    "        if key[0][0]==pdp:\n",
    "            if key[1]!=100:\n",
    "                #print(i)\n",
    "                sensor_subset.append(key[0][1])\n",
    "    return sensor_subset"
   ]
  },
  {
   "cell_type": "code",
   "execution_count": 58,
   "metadata": {},
   "outputs": [],
   "source": [
    "def to_check_the_minimum_hops_between_the_pdp_and_sensor(spanning_tree):\n",
    "    \"\"\"In this function we check which sensor can send data to the pdp with minimum hops\n",
    "    for example if sensor2 is connected with pdp10 with  hop distance with 2 and same sensor2 is connected with \n",
    "    pdp11 with hop distance 4 then we assume that sensor2 will send data to the drone when drone is at pdp10 since \n",
    "    it has minimum hop distance\"\"\"\n",
    "    subset2=spanning_tree\n",
    "    for key,value in subset2.items():\n",
    "        for key1,value1 in subset2.items():\n",
    "            if key!=key1:\n",
    "                for i in value:\n",
    "                    for j in value1:\n",
    "                        if i==j:\n",
    "                            #print(i)\n",
    "                            #s=get_number(i)\n",
    "                            if nx.dijkstra_path_length(N,'pdp{}'.format(key),'sensor{}'.format(i))>nx.dijkstra_path_length(N,'pdp{}'.format(key1),'sensor{}'.format(i)):\n",
    "                                subset2[key].remove(i)\n",
    "                            else:\n",
    "                                subset2[key1].remove(j)\n",
    "    return subset2"
   ]
  },
  {
   "cell_type": "code",
   "execution_count": 59,
   "metadata": {},
   "outputs": [],
   "source": [
    "def create_spanning_tree_for_tour(tour):\n",
    "    sensor_subset={}\n",
    "    for i in tour:\n",
    "        sensor_subset[i]=spanning_tree_collecting_time(i)\n",
    "    correct_sensor_subset=to_check_the_minimum_hops_between_the_pdp_and_sensor(sensor_subset)\n",
    "    return correct_sensor_subset"
   ]
  },
  {
   "cell_type": "code",
   "execution_count": 86,
   "metadata": {},
   "outputs": [],
   "source": [
    "spanning_tree_nearest_nn=create_spanning_tree_for_tour(nn_solver)"
   ]
  },
  {
   "cell_type": "code",
   "execution_count": 80,
   "metadata": {},
   "outputs": [],
   "source": [
    "spanning_tree_of_sensor=create_spanning_tree_for_tour(tour)"
   ]
  },
  {
   "cell_type": "code",
   "execution_count": 63,
   "metadata": {},
   "outputs": [],
   "source": [
    "def calculate_collecting_time(checked_sensor_arc):\n",
    "    \n",
    "    weight=0\n",
    "    for key,values in checked_sensor_arc.items():\n",
    "        if values!=[]:\n",
    "            for j in values:\n",
    "                for key1,values1 in new_zipped.items():\n",
    "                    if key1[0]==(key,j):\n",
    "                        #print(key1[1])\n",
    "                        weight=weight+key1[1]\n",
    "    t_collecting=(data_rate/bandwidth)*weight\n",
    "    return t_collecting\n",
    "    "
   ]
  },
  {
   "cell_type": "code",
   "execution_count": 75,
   "metadata": {},
   "outputs": [],
   "source": [
    "def calculate_trip_time(Route):\n",
    "    \"\"\"\n",
    "    \"\"\"\n",
    "    trip_time=0\n",
    "    total_route=Route+[0]\n",
    "    for j in range(len(total_route)):\n",
    "        if j<len(total_route)-1:\n",
    "            for key,value in distance_between_pdp.items():\n",
    "                if total_route[j]==key[0] and total_route[j+1]==key[1]:\n",
    "                    trip_time=trip_time+(value/drone_speed)\n",
    "                    print(trip_time)\n",
    "    return trip_time"
   ]
  },
  {
   "cell_type": "code",
   "execution_count": 84,
   "metadata": {},
   "outputs": [
    {
     "name": "stdout",
     "output_type": "stream",
     "text": [
      "141.4213562373095\n",
      "188.56180831641268\n",
      "282.842712474619\n",
      "388.251967813565\n",
      "435.39241989266816\n",
      "502.05908655933484\n"
     ]
    }
   ],
   "source": [
    "total_time_for_gurob_solver=calculate_collecting_time(spanning_tree_of_sensor)+calculate_trip_time(tour)"
   ]
  },
  {
   "cell_type": "code",
   "execution_count": 85,
   "metadata": {},
   "outputs": [
    {
     "data": {
      "text/plain": [
       "557.0590865593349"
      ]
     },
     "execution_count": 85,
     "metadata": {},
     "output_type": "execute_result"
    }
   ],
   "source": [
    "total_time_for_gurob_solver"
   ]
  },
  {
   "cell_type": "code",
   "execution_count": 87,
   "metadata": {},
   "outputs": [
    {
     "name": "stdout",
     "output_type": "stream",
     "text": [
      "141.4213562373095\n",
      "246.83061157625548\n",
      "341.1115157344618\n",
      "446.5207710734078\n",
      "551.9300264123538\n",
      "751.9300264123538\n"
     ]
    }
   ],
   "source": [
    "totall_time_for_nn_solver=calculate_collecting_time(spanning_tree_nearest_nn)+calculate_trip_time(nn_solver)"
   ]
  },
  {
   "cell_type": "code",
   "execution_count": 88,
   "metadata": {},
   "outputs": [
    {
     "data": {
      "text/plain": [
       "806.9300264123538"
      ]
     },
     "execution_count": 88,
     "metadata": {},
     "output_type": "execute_result"
    }
   ],
   "source": [
    "totall_time_for_nn_solver"
   ]
  },
  {
   "cell_type": "code",
   "execution_count": null,
   "metadata": {},
   "outputs": [],
   "source": []
  }
 ],
 "metadata": {
  "kernelspec": {
   "display_name": "Python 3",
   "language": "python",
   "name": "python3"
  },
  "language_info": {
   "codemirror_mode": {
    "name": "ipython",
    "version": 3
   },
   "file_extension": ".py",
   "mimetype": "text/x-python",
   "name": "python",
   "nbconvert_exporter": "python",
   "pygments_lexer": "ipython3",
   "version": "3.7.4"
  }
 },
 "nbformat": 4,
 "nbformat_minor": 4
}
