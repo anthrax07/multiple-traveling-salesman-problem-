{
 "cells": [
  {
   "cell_type": "code",
   "execution_count": 1,
   "metadata": {},
   "outputs": [],
   "source": [
    "import random\n",
    "import networkx as nx\n",
    "import math\n",
    "import itertools    \n",
    "import matplotlib.pyplot as plt\n",
    "import ast\n",
    "import numpy as np"
   ]
  },
  {
   "cell_type": "code",
   "execution_count": 2,
   "metadata": {},
   "outputs": [],
   "source": [
    "from global_variable import *"
   ]
  },
  {
   "cell_type": "code",
   "execution_count": 3,
   "metadata": {},
   "outputs": [],
   "source": [
    "with open('sensornew.txt', 'r') as f:\n",
    "    sensor = ast.literal_eval(f.read())"
   ]
  },
  {
   "cell_type": "code",
   "execution_count": 4,
   "metadata": {},
   "outputs": [],
   "source": [
    "def calculate_Pdp_positions(length_of_grid,transmission_range):\n",
    "    pdp_positions={}\n",
    "    k=0\n",
    "    for c_1 in np.arange(length_of_grid/(transmission_range*math.sqrt(2))):\n",
    "        for c_2 in np.arange(length_of_grid/(transmission_range*math.sqrt(2))):\n",
    "            pdp_positions[k]=(c_1*transmission_range*math.sqrt(2),c_2*transmission_range*math.sqrt(2))\n",
    "            k=k+1\n",
    "    return pdp_positions"
   ]
  },
  {
   "cell_type": "code",
   "execution_count": 5,
   "metadata": {},
   "outputs": [],
   "source": [
    "pdp_positions=calculate_Pdp_positions(length_of_grid,transmission_range)"
   ]
  },
  {
   "cell_type": "code",
   "execution_count": 6,
   "metadata": {},
   "outputs": [],
   "source": [
    "def distance(points,i,j):\n",
    "    x=points[i][0]-points[j][0]\n",
    "    y=points[i][1]-points[j][1]\n",
    "    return math.sqrt(x*x+y*y)"
   ]
  },
  {
   "cell_type": "code",
   "execution_count": 7,
   "metadata": {},
   "outputs": [],
   "source": [
    "def create_trip_graph():\n",
    "    G=nx.Graph()\n",
    "    distance_between_pdp={}\n",
    "    k=0\n",
    "    for i in range(len(pdp_positions)):\n",
    "        G.add_node('pdp{}'.format(i),pos=pdp_positions[i])\n",
    "    for u in range(len(pdp_positions)):\n",
    "        for v in range(len(pdp_positions)):\n",
    "            wt=distance(pdp_positions,u,v)\n",
    "            G.add_edge('pdp{}'.format(u),'pdp{}'.format(v),weight=wt)\n",
    "            distance_between_pdp[(u,v)]=wt\n",
    "            k=k+1\n",
    "    return G,distance_between_pdp"
   ]
  },
  {
   "cell_type": "code",
   "execution_count": 8,
   "metadata": {},
   "outputs": [],
   "source": [
    "trip_graph,distance_between_pdp=create_trip_graph()"
   ]
  },
  {
   "cell_type": "code",
   "execution_count": 9,
   "metadata": {},
   "outputs": [
    {
     "data": {
      "image/png": "[encoded data removed]",
      "text/plain": [
       "<Figure size 432x288 with 1 Axes>"
      ]
     },
     "metadata": {
      "needs_background": "light"
     },
     "output_type": "display_data"
    }
   ],
   "source": [
    "for i in range(len(sensor)):\n",
    "    plt.scatter(sensor[i][0],sensor[i][1],c='r')\n",
    "    plt.annotate(i,(sensor[i][0],sensor[i][1]))\n",
    "for j in range(len(pdp_positions)):\n",
    "    plt.scatter(pdp_positions[j][0],pdp_positions[j][1],c='b')\n",
    "    plt.annotate(j,(pdp_positions[j][0],pdp_positions[j][1]))"
   ]
  },
  {
   "cell_type": "code",
   "execution_count": 10,
   "metadata": {},
   "outputs": [],
   "source": [
    "def threshold_distance_inside_sensor_range():\n",
    "    trs=(data_stored/bandwidth)*drone_speed\n",
    "    return trs"
   ]
  },
  {
   "cell_type": "code",
   "execution_count": 71,
   "metadata": {},
   "outputs": [],
   "source": [
    "Dmov=[]\n"
   ]
  },
  {
   "cell_type": "code",
   "execution_count": 72,
   "metadata": {},
   "outputs": [],
   "source": [
    "def check_euclid(init,final,sensor,Dmov):\n",
    "    \"\"\"function to check whether the sensor can send data while drone is moving\"\"\"\n",
    "    sensor1=sensor\n",
    "    dsubset=[]\n",
    "    p1=np.array(pdp_positions[init])\n",
    "    p2=np.array(pdp_positions[final])\n",
    "    for i in range(len(sensor1)):\n",
    "        p3=np.array(sensor1[i])\n",
    "        d=np.cross(p2-p1,p3-p1)/np.linalg.norm(p2-p1)\n",
    "        print(d)\n",
    "        dsi=2*(math.sqrt(abs(transmission_range**2-d**2)))\n",
    "        print(dsi)\n",
    "        if dsi>=threshold_distance_inside_sensor_range():\n",
    "            if i not in Dmov:\n",
    "                dsubset.append(i)\n",
    "        \n",
    "    Dmov=Dmov+list(check_overlapping(init,final,dsubset))\n",
    "    return Dmov\n"
   ]
  },
  {
   "cell_type": "code",
   "execution_count": 73,
   "metadata": {},
   "outputs": [],
   "source": [
    "def check_overlapping(pdp_init,pdp_final,dsubset,sensor=sensor,radius=transmission_range):\n",
    "    \"\"\"function to check the overlapping sensor\"\"\"\n",
    "    l={}\n",
    "    distance_of_line_connecting_two_pdp=distance_between_pdp[pdp_init,pdp_final]\n",
    "    #compute direction vector of line connecting two pdp\n",
    "    Dx=(pdp_positions[pdp_final][0]-pdp_positions[pdp_init][0])/distance_of_line_connecting_two_pdp\n",
    "    print(Dx)\n",
    "    Dy=(pdp_positions[pdp_final][1]-pdp_positions[pdp_init][1])/distance_of_line_connecting_two_pdp\n",
    "    print(Dy)\n",
    "    for i in dsubset :\n",
    "        \n",
    "        t=Dx*(sensor[i][0]-pdp_positions[pdp_init][0])+Dy*(sensor[i][1]-pdp_positions[pdp_init][1])\n",
    "        Ex=t*Dx+pdp_positions[pdp_init][0]\n",
    "        Ey=t*Dy+pdp_positions[pdp_init][1]\n",
    "        LEC=math.sqrt((Ex-sensor[i][0])**2+(Ey-sensor[i][1])**2)\n",
    "        if(LEC)<radius:\n",
    "            dt=math.sqrt(radius**2-LEC**2)\n",
    "            #calculate the first intersection point\n",
    "            Fx=(t-dt)*Dx+pdp_positions[pdp_init][0]\n",
    "            Fy=(t-dt)*Dy+pdp_positions[pdp_init][1]\n",
    "            #calculate the second intersection point\n",
    "            Gx=(t+dt)*Dx+pdp_positions[pdp_init][0]\n",
    "            Gy=(t+dt)*Dx+pdp_positions[pdp_init][1]\n",
    "            l[i]=(Fx,Fy),(Gx,Gy)\n",
    "        print(l)    \n",
    "    return(l)"
   ]
  },
  {
   "cell_type": "code",
   "execution_count": 76,
   "metadata": {},
   "outputs": [
    {
     "name": "stdout",
     "output_type": "stream",
     "text": [
      "300.5203820042827\n",
      "566.7892024377317\n",
      "327.3904396893715\n",
      "623.4885724694559\n",
      "182.43354954612926\n",
      "305.16880574527926\n",
      "-21.213203435596423\n",
      "195.44820285692063\n",
      "121.62236636408616\n",
      "138.4485463990142\n",
      "168.99852070358486\n",
      "272.4738519564767\n",
      "91.21677477306464\n",
      "81.96340646898464\n",
      "33.941125496954264\n",
      "188.12761626087757\n",
      "-86.97413408594534\n",
      "98.701570402907\n",
      "-123.74368670764584\n",
      "145.7737973711326\n",
      "-229.1025971044414\n",
      "412.2523499023383\n",
      "-18.38477631085025\n",
      "196.59094587493087\n",
      "-166.17009357883865\n",
      "265.4241887997399\n",
      "38.89087296526013\n",
      "184.25525772688277\n",
      "-68.58935777509512\n",
      "145.54037240573487\n",
      "0.7071067811865476\n",
      "0.7071067811865476\n",
      "{}\n",
      "{}\n",
      "{}\n",
      "{3: ((64.89862519457375, 64.89862519457375), (203.1013748054263, 203.1013748054263))}\n",
      "{3: ((64.89862519457375, 64.89862519457375), (203.1013748054263, 203.1013748054263))}\n",
      "{3: ((64.89862519457375, 64.89862519457375), (203.1013748054263, 203.1013748054263))}\n",
      "{3: ((64.89862519457375, 64.89862519457375), (203.1013748054263, 203.1013748054263)), 6: ((330.52155973831583, 330.52155973831583), (388.4784402616842, 388.4784402616842))}\n",
      "{3: ((64.89862519457375, 64.89862519457375), (203.1013748054263, 203.1013748054263)), 6: ((330.52155973831583, 330.52155973831583), (388.4784402616842, 388.4784402616842)), 7: ((268.48684340673645, 268.48684340673645), (401.5131565932636, 401.5131565932636))}\n",
      "{3: ((64.89862519457375, 64.89862519457375), (203.1013748054263, 203.1013748054263)), 6: ((330.52155973831583, 330.52155973831583), (388.4784402616842, 388.4784402616842)), 7: ((268.48684340673645, 268.48684340673645), (401.5131565932636, 401.5131565932636)), 8: ((233.60372512717151, 233.60372512717151), (303.3962748728285, 303.3962748728285))}\n",
      "{3: ((64.89862519457375, 64.89862519457375), (203.1013748054263, 203.1013748054263)), 6: ((330.52155973831583, 330.52155973831583), (388.4784402616842, 388.4784402616842)), 7: ((268.48684340673645, 268.48684340673645), (401.5131565932636, 401.5131565932636)), 8: ((233.60372512717151, 233.60372512717151), (303.3962748728285, 303.3962748728285))}\n",
      "{3: ((64.89862519457375, 64.89862519457375), (203.1013748054263, 203.1013748054263)), 6: ((330.52155973831583, 330.52155973831583), (388.4784402616842, 388.4784402616842)), 7: ((268.48684340673645, 268.48684340673645), (401.5131565932636, 401.5131565932636)), 8: ((233.60372512717151, 233.60372512717151), (303.3962748728285, 303.3962748728285))}\n",
      "{3: ((64.89862519457375, 64.89862519457375), (203.1013748054263, 203.1013748054263)), 6: ((330.52155973831583, 330.52155973831583), (388.4784402616842, 388.4784402616842)), 7: ((268.48684340673645, 268.48684340673645), (401.5131565932636, 401.5131565932636)), 8: ((233.60372512717151, 233.60372512717151), (303.3962748728285, 303.3962748728285)), 11: ((270.49460452597947, 270.49460452597947), (409.5053954740206, 409.5053954740206))}\n",
      "{3: ((64.89862519457375, 64.89862519457375), (203.1013748054263, 203.1013748054263)), 6: ((330.52155973831583, 330.52155973831583), (388.4784402616842, 388.4784402616842)), 7: ((268.48684340673645, 268.48684340673645), (401.5131565932636, 401.5131565932636)), 8: ((233.60372512717151, 233.60372512717151), (303.3962748728285, 303.3962748728285)), 11: ((270.49460452597947, 270.49460452597947), (409.5053954740206, 409.5053954740206))}\n",
      "{3: ((64.89862519457375, 64.89862519457375), (203.1013748054263, 203.1013748054263)), 6: ((330.52155973831583, 330.52155973831583), (388.4784402616842, 388.4784402616842)), 7: ((268.48684340673645, 268.48684340673645), (401.5131565932636, 401.5131565932636)), 8: ((233.60372512717151, 233.60372512717151), (303.3962748728285, 303.3962748728285)), 11: ((270.49460452597947, 270.49460452597947), (409.5053954740206, 409.5053954740206)), 13: ((349.35592889602316, 349.35592889602316), (479.64407110397696, 479.64407110397696))}\n",
      "{3: ((64.89862519457375, 64.89862519457375), (203.1013748054263, 203.1013748054263)), 6: ((330.52155973831583, 330.52155973831583), (388.4784402616842, 388.4784402616842)), 7: ((268.48684340673645, 268.48684340673645), (401.5131565932636, 401.5131565932636)), 8: ((233.60372512717151, 233.60372512717151), (303.3962748728285, 303.3962748728285)), 11: ((270.49460452597947, 270.49460452597947), (409.5053954740206, 409.5053954740206)), 13: ((349.35592889602316, 349.35592889602316), (479.64407110397696, 479.64407110397696)), 14: ((389.04370786774473, 389.04370786774473), (491.9562921322553, 491.9562921322553))}\n"
     ]
    }
   ],
   "source": [
    "Dmov=check_euclid(0,10,sensor,Dmov)"
   ]
  },
  {
   "cell_type": "code",
   "execution_count": 77,
   "metadata": {},
   "outputs": [
    {
     "data": {
      "text/plain": [
       "[3, 6, 7, 8, 11, 13, 14]"
      ]
     },
     "execution_count": 77,
     "metadata": {},
     "output_type": "execute_result"
    }
   ],
   "source": [
    "dsubset"
   ]
  },
  {
   "cell_type": "code",
   "execution_count": 78,
   "metadata": {},
   "outputs": [
    {
     "data": {
      "text/plain": [
       "[3, 6, 7, 8, 11, 13, 14]"
      ]
     },
     "execution_count": 78,
     "metadata": {},
     "output_type": "execute_result"
    }
   ],
   "source": [
    "Dmov"
   ]
  },
  {
   "cell_type": "code",
   "execution_count": null,
   "metadata": {},
   "outputs": [],
   "source": []
  }
 ],
 "metadata": {
  "kernelspec": {
   "display_name": "Python 3",
   "language": "python",
   "name": "python3"
  },
  "language_info": {
   "codemirror_mode": {
    "name": "ipython",
    "version": 3
   },
   "file_extension": ".py",
   "mimetype": "text/x-python",
   "name": "python",
   "nbconvert_exporter": "python",
   "pygments_lexer": "ipython3",
   "version": "3.7.4"
  }
 },
 "nbformat": 4,
 "nbformat_minor": 4
}
