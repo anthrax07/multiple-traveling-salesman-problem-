{
 "cells": [
  {
   "cell_type": "code",
   "execution_count": 1,
   "metadata": {},
   "outputs": [],
   "source": [
    "from testvariable import *\n",
    "# from variable500grid import *\n",
    "# from variable2000grid50sensor import*\n",
    "# from global_variable import*"
   ]
  },
  {
   "cell_type": "code",
   "execution_count": 2,
   "metadata": {},
   "outputs": [],
   "source": [
    "import random\n",
    "import networkx as nx\n",
    "import math\n",
    "import itertools    \n",
    "import matplotlib.pyplot as plt\n",
    "import ast\n",
    "import numpy as np\n",
    "import operator\n",
    "from sklearn.cluster import KMeans\n",
    "from collections import defaultdict\n",
    "import time\n",
    "import statistics\n"
   ]
  },
  {
   "cell_type": "code",
   "execution_count": 3,
   "metadata": {},
   "outputs": [],
   "source": [
    "# with open('sensor_for_large_Grid1500_50sensorlistonlyfeb12real.txt', 'r') as f:\n",
    "#     sensor = ast.literal_eval(f.read())"
   ]
  },
  {
   "cell_type": "code",
   "execution_count": 4,
   "metadata": {},
   "outputs": [],
   "source": [
    "# with open('sensor_for_large_Grid500_15sensorlistonly.txt','r')as f:\n",
    "#     sensor=ast.literal_eval(f.read())"
   ]
  },
  {
   "cell_type": "code",
   "execution_count": 5,
   "metadata": {},
   "outputs": [],
   "source": [
    "txt_files1 = [\n",
    "    'test500grid10sensortest1.txt',\n",
    "    'test500grid10sensortest2.txt',\n",
    "    'test500grid10sensortest3.txt',\n",
    "    'test500grid10sensortest4.txt',\n",
    "    'test500grid10sensortest5.txt',\n",
    "    'test500grid10sensortest6.txt',\n",
    "    'test500grid10sensortest7.txt',\n",
    "    'test500grid10sensortest8.txt',\n",
    "    'test500grid10sensortest9.txt',\n",
    "    'test500grid10sensortest10.txt'\n",
    "    ]"
   ]
  },
  {
   "cell_type": "code",
   "execution_count": 6,
   "metadata": {},
   "outputs": [],
   "source": [
    "txt_files2 = [\n",
    "    'test500grid20sensortest1.txt',\n",
    "    'test500grid20sensortest2.txt',\n",
    "    'test500grid20sensortest3.txt',\n",
    "    'test500grid20sensortest4.txt',\n",
    "    'test500grid20sensortest5.txt',\n",
    "    'test500grid20sensortest6.txt',\n",
    "    'test500grid20sensortest7.txt',\n",
    "    'test500grid20sensortest8.txt',\n",
    "    'test500grid20sensortest9.txt',\n",
    "    'test500grid20sensortest10.txt'\n",
    "    ]"
   ]
  },
  {
   "cell_type": "code",
   "execution_count": 7,
   "metadata": {},
   "outputs": [],
   "source": [
    "txt_files3 = [\n",
    "    'test500grid40sensortest1.txt',\n",
    "    'test500grid40sensortest2.txt',\n",
    "    'test500grid40sensortest3.txt',\n",
    "    'test500grid40sensortest4.txt',\n",
    "    'test500grid40sensortest5.txt',\n",
    "    'test500grid40sensortest6.txt',\n",
    "    'test500grid40sensortest7.txt',\n",
    "    'test500grid40sensortest8.txt',\n",
    "    'test500grid40sensortest9.txt',\n",
    "    'test500grid40sensortest10.txt'\n",
    "    ]"
   ]
  },
  {
   "cell_type": "code",
   "execution_count": 8,
   "metadata": {},
   "outputs": [],
   "source": [
    "txt_files4 = [\n",
    "    'test700grid10sensortest1.txt',\n",
    "    'test700grid10sensortest2.txt',\n",
    "    'test700grid10sensortest3.txt',\n",
    "    'test700grid10sensortest4.txt',\n",
    "    'test700grid10sensortest5.txt',\n",
    "    'test700grid10sensortest6.txt',\n",
    "    'test700grid10sensortest7.txt',\n",
    "    'test700grid10sensortest8.txt',\n",
    "    'test700grid10sensortest9.txt',\n",
    "    'test700grid10sensortest10.txt'\n",
    "    ]"
   ]
  },
  {
   "cell_type": "code",
   "execution_count": 9,
   "metadata": {},
   "outputs": [],
   "source": [
    "txt_files5 = [\n",
    "    'test700grid20sensortest1.txt',\n",
    "    'test700grid20sensortest2.txt',\n",
    "    'test700grid20sensortest3.txt',\n",
    "    'test700grid20sensortest4.txt',\n",
    "    'test700grid20sensortest5.txt',\n",
    "    'test700grid20sensortest6.txt',\n",
    "    'test700grid20sensortest7.txt',\n",
    "    'test700grid20sensortest8.txt',\n",
    "    'test700grid20sensortest9.txt',\n",
    "    'test700grid20sensortest10.txt'\n",
    "    ]"
   ]
  },
  {
   "cell_type": "code",
   "execution_count": 10,
   "metadata": {},
   "outputs": [],
   "source": [
    "txt_files6 = [\n",
    "    'test700grid40sensortest1.txt',\n",
    "    'test700grid40sensortest2.txt',\n",
    "    'test700grid40sensortest3.txt',\n",
    "    'test700grid40sensortest4.txt',\n",
    "    'test700grid40sensortest5.txt',\n",
    "    'test700grid40sensortest6.txt',\n",
    "    'test700grid40sensortest7.txt',\n",
    "    'test700grid40sensortest8.txt',\n",
    "    'test700grid40sensortest9.txt',\n",
    "    'test700grid40sensortest10.txt'\n",
    "    ]"
   ]
  },
  {
   "cell_type": "code",
   "execution_count": 11,
   "metadata": {},
   "outputs": [],
   "source": [
    "txt_files7 = [\n",
    "    'test1000grid10sensortest1.txt',\n",
    "    'test1000grid10sensortest2.txt',\n",
    "    'test1000grid10sensortest3.txt',\n",
    "    'test1000grid10sensortest4.txt',\n",
    "    'test1000grid10sensortest5.txt',\n",
    "    'test1000grid10sensortest6.txt',\n",
    "    'test1000grid10sensortest7.txt',\n",
    "    'test1000grid10sensortest8.txt',\n",
    "    'test1000grid10sensortest9.txt',\n",
    "    'test1000grid10sensortest10.txt'\n",
    "    ]"
   ]
  },
  {
   "cell_type": "code",
   "execution_count": 12,
   "metadata": {},
   "outputs": [],
   "source": [
    "txt_files8 = [\n",
    "    'test1000grid20sensortest1.txt',\n",
    "    'test1000grid20sensortest2.txt',\n",
    "    'test1000grid20sensortest3.txt',\n",
    "    'test1000grid20sensortest4.txt',\n",
    "    'test1000grid20sensortest5.txt',\n",
    "    'test1000grid20sensortest6.txt',\n",
    "    'test1000grid20sensortest7.txt',\n",
    "    'test1000grid20sensortest8.txt',\n",
    "    'test1000grid20sensortest9.txt',\n",
    "    'test1000grid20sensortest10.txt'\n",
    "    ]"
   ]
  },
  {
   "cell_type": "code",
   "execution_count": 13,
   "metadata": {},
   "outputs": [],
   "source": [
    "txt_files9 = [\n",
    "    'test1000grid40sensortest1.txt',\n",
    "    'test1000grid40sensortest2.txt',\n",
    "    'test1000grid40sensortest3.txt',\n",
    "    'test1000grid40sensortest4.txt',\n",
    "    'test1000grid40sensortest5.txt',\n",
    "    'test1000grid40sensortest6.txt',\n",
    "    'test1000grid40sensortest7.txt',\n",
    "    'test1000grid40sensortest8.txt',\n",
    "    'test1000grid40sensortest9.txt',\n",
    "    'test1000grid40sensortest10.txt'\n",
    "    ]"
   ]
  },
  {
   "cell_type": "code",
   "execution_count": 14,
   "metadata": {},
   "outputs": [],
   "source": [
    " txt_files10=[\n",
    "     'densitytest350grid10sensortest1.txt',\n",
    "     'densitytest350grid10sensortest2.txt',\n",
    "     'densitytest350grid10sensortest3.txt',\n",
    "     'densitytest350grid10sensortest4.txt',\n",
    "     'densitytest350grid10sensortest5.txt',\n",
    "     'densitytest350grid10sensortest6.txt',\n",
    "     'densitytest350grid10sensortest7.txt',\n",
    "     'densitytest350grid10sensortest8.txt',\n",
    "     'densitytest350grid10sensortest9.txt',\n",
    "     'densitytest350grid10sensortest10.txt'\n",
    " ]"
   ]
  },
  {
   "cell_type": "code",
   "execution_count": 15,
   "metadata": {},
   "outputs": [],
   "source": [
    " txt_files11=[\n",
    "     'densitytest428grid15sensortest1.txt',\n",
    "     'densitytest428grid15sensortest2.txt',\n",
    "     'densitytest428grid15sensortest3.txt',\n",
    "     'densitytest428grid15sensortest4.txt',\n",
    "     'densitytest428grid15sensortest5.txt',\n",
    "     'densitytest428grid15sensortest6.txt',\n",
    "     'densitytest428grid15sensortest7.txt',\n",
    "     'densitytest428grid15sensortest8.txt',\n",
    "     'densitytest428grid15sensortest9.txt',\n",
    "     'densitytest428grid15sensortest10.txt'\n",
    " ]"
   ]
  },
  {
   "cell_type": "code",
   "execution_count": 16,
   "metadata": {},
   "outputs": [],
   "source": [
    " txt_files12=[\n",
    "     'densitytest494grid20sensortest1.txt',\n",
    "     'densitytest494grid20sensortest2.txt',\n",
    "     'densitytest494grid20sensortest3.txt',\n",
    "     'densitytest494grid20sensortest4.txt',\n",
    "     'densitytest494grid20sensortest5.txt',\n",
    "     'densitytest494grid20sensortest6.txt',\n",
    "     'densitytest494grid20sensortest7.txt',\n",
    "     'densitytest494grid20sensortest8.txt',\n",
    "     'densitytest494grid20sensortest9.txt',\n",
    "     'densitytest494grid20sensortest10.txt'\n",
    " ]"
   ]
  },
  {
   "cell_type": "code",
   "execution_count": 17,
   "metadata": {},
   "outputs": [],
   "source": [
    " txt_files13=[\n",
    "     'densitytest553grid25sensortest1.txt',\n",
    "     'densitytest553grid25sensortest2.txt',\n",
    "     'densitytest553grid25sensortest3.txt',\n",
    "     'densitytest553grid25sensortest4.txt',\n",
    "     'densitytest553grid25sensortest5.txt',\n",
    "     'densitytest553grid25sensortest6.txt',\n",
    "     'densitytest553grid25sensortest7.txt',\n",
    "     'densitytest553grid25sensortest8.txt',\n",
    "     'densitytest553grid25sensortest9.txt',\n",
    "     'densitytest553grid25sensortest10.txt'\n",
    " ]"
   ]
  },
  {
   "cell_type": "code",
   "execution_count": 18,
   "metadata": {},
   "outputs": [],
   "source": [
    " txt_files14=[\n",
    "     'densitytest606grid30sensortest1.txt',\n",
    "     'densitytest606grid30sensortest2.txt',\n",
    "     'densitytest606grid30sensortest3.txt',\n",
    "     'densitytest606grid30sensortest4.txt',\n",
    "     'densitytest606grid30sensortest5.txt',\n",
    "     'densitytest606grid30sensortest6.txt',\n",
    "     'densitytest606grid30sensortest7.txt',\n",
    "     'densitytest606grid30sensortest8.txt',\n",
    "     'densitytest606grid30sensortest9.txt',\n",
    "     'densitytest606grid30sensortest10.txt'\n",
    " ]"
   ]
  },
  {
   "cell_type": "code",
   "execution_count": 19,
   "metadata": {},
   "outputs": [],
   "source": [
    " txt_files15=[\n",
    "     'densitytest654grid35sensortest1.txt',\n",
    "     'densitytest654grid35sensortest2.txt',\n",
    "     'densitytest654grid35sensortest3.txt',\n",
    "     'densitytest654grid35sensortest4.txt',\n",
    "     'densitytest654grid35sensortest5.txt',\n",
    "     'densitytest654grid35sensortest6.txt',\n",
    "     'densitytest654grid35sensortest7.txt',\n",
    "     'densitytest654grid35sensortest8.txt',\n",
    "     'densitytest654grid35sensortest9.txt',\n",
    "     'densitytest654grid35sensortest10.txt'\n",
    " ]"
   ]
  },
  {
   "cell_type": "code",
   "execution_count": 20,
   "metadata": {},
   "outputs": [],
   "source": [
    " txt_files16=[\n",
    "     'densitytest742grid45sensortest1.txt',\n",
    "     'densitytest742grid45sensortest2.txt',\n",
    "     'densitytest742grid45sensortest3.txt',\n",
    "     'densitytest742grid45sensortest4.txt',\n",
    "     'densitytest742grid45sensortest5.txt',\n",
    "     'densitytest742grid45sensortest6.txt',\n",
    "     'densitytest742grid45sensortest7.txt',\n",
    "     'densitytest742grid45sensortest8.txt',\n",
    "     'densitytest742grid45sensortest9.txt',\n",
    "     'densitytest742grid45sensortest10.txt'\n",
    " ]"
   ]
  },
  {
   "cell_type": "code",
   "execution_count": 21,
   "metadata": {},
   "outputs": [],
   "source": [
    " txt_files17=[\n",
    "     'densitytest782grid50sensortest1.txt',\n",
    "     'densitytest782grid50sensortest2.txt',\n",
    "     'densitytest782grid50sensortest3.txt',\n",
    "     'densitytest782grid50sensortest4.txt',\n",
    "     'densitytest782grid50sensortest5.txt',\n",
    "     'densitytest782grid50sensortest6.txt',\n",
    "     'densitytest782grid50sensortest7.txt',\n",
    "     'densitytest782grid50sensortest8.txt',\n",
    "     'densitytest782grid50sensortest9.txt',\n",
    "     'densitytest782grid50sensortest10.txt'\n",
    " ]"
   ]
  },
  {
   "cell_type": "code",
   "execution_count": 22,
   "metadata": {},
   "outputs": [],
   "source": [
    " txt_files18=[\n",
    "     'densitytest820grid55sensortest1.txt',\n",
    "     'densitytest820grid55sensortest2.txt',\n",
    "     'densitytest820grid55sensortest3.txt',\n",
    "     'densitytest820grid55sensortest4.txt',\n",
    "     'densitytest820grid55sensortest5.txt',\n",
    "     'densitytest820grid55sensortest6.txt',\n",
    "     'densitytest820grid55sensortest7.txt',\n",
    "     'densitytest820grid55sensortest8.txt',\n",
    "     'densitytest820grid55sensortest9.txt',\n",
    "     'densitytest820grid55sensortest10.txt'\n",
    " ]"
   ]
  },
  {
   "cell_type": "code",
   "execution_count": 23,
   "metadata": {},
   "outputs": [],
   "source": [
    " txt_files19=[\n",
    "     'densitytest857grid60sensortest2.txt',\n",
    "     'densitytest857grid60sensortest3.txt',\n",
    "     'densitytest857grid60sensortest4.txt',\n",
    "     'densitytest857grid60sensortest5.txt',\n",
    "     'densitytest857grid60sensortest6.txt',\n",
    "     'densitytest857grid60sensortest7.txt',\n",
    "     'densitytest857grid60sensortest8.txt',\n",
    "     'densitytest857grid60sensortest9.txt',\n",
    "     'densitytest857grid60sensortest10.txt',\n",
    "     'densitytest857grid60sensortest11.txt'\n",
    " ]"
   ]
  },
  {
   "cell_type": "code",
   "execution_count": 24,
   "metadata": {},
   "outputs": [],
   "source": [
    "files_dict={1:txt_files1,2:txt_files2,3:txt_files3,4:txt_files4,5:txt_files5,6:txt_files6,7:txt_files7,8:txt_files8,9:txt_files9,10:txt_files10,11:txt_files11,12:txt_files12,13:txt_files13,14:txt_files14,15:txt_files15,16:txt_files16,17:txt_files17,18:txt_files18,19:txt_files19}"
   ]
  },
  {
   "cell_type": "code",
   "execution_count": 25,
   "metadata": {},
   "outputs": [
    {
     "data": {
      "text/plain": [
       "{1: ['test500grid10sensortest1.txt',\n",
       "  'test500grid10sensortest2.txt',\n",
       "  'test500grid10sensortest3.txt',\n",
       "  'test500grid10sensortest4.txt',\n",
       "  'test500grid10sensortest5.txt',\n",
       "  'test500grid10sensortest6.txt',\n",
       "  'test500grid10sensortest7.txt',\n",
       "  'test500grid10sensortest8.txt',\n",
       "  'test500grid10sensortest9.txt',\n",
       "  'test500grid10sensortest10.txt'],\n",
       " 2: ['test500grid20sensortest1.txt',\n",
       "  'test500grid20sensortest2.txt',\n",
       "  'test500grid20sensortest3.txt',\n",
       "  'test500grid20sensortest4.txt',\n",
       "  'test500grid20sensortest5.txt',\n",
       "  'test500grid20sensortest6.txt',\n",
       "  'test500grid20sensortest7.txt',\n",
       "  'test500grid20sensortest8.txt',\n",
       "  'test500grid20sensortest9.txt',\n",
       "  'test500grid20sensortest10.txt'],\n",
       " 3: ['test500grid40sensortest1.txt',\n",
       "  'test500grid40sensortest2.txt',\n",
       "  'test500grid40sensortest3.txt',\n",
       "  'test500grid40sensortest4.txt',\n",
       "  'test500grid40sensortest5.txt',\n",
       "  'test500grid40sensortest6.txt',\n",
       "  'test500grid40sensortest7.txt',\n",
       "  'test500grid40sensortest8.txt',\n",
       "  'test500grid40sensortest9.txt',\n",
       "  'test500grid40sensortest10.txt'],\n",
       " 4: ['test700grid10sensortest1.txt',\n",
       "  'test700grid10sensortest2.txt',\n",
       "  'test700grid10sensortest3.txt',\n",
       "  'test700grid10sensortest4.txt',\n",
       "  'test700grid10sensortest5.txt',\n",
       "  'test700grid10sensortest6.txt',\n",
       "  'test700grid10sensortest7.txt',\n",
       "  'test700grid10sensortest8.txt',\n",
       "  'test700grid10sensortest9.txt',\n",
       "  'test700grid10sensortest10.txt'],\n",
       " 5: ['test700grid20sensortest1.txt',\n",
       "  'test700grid20sensortest2.txt',\n",
       "  'test700grid20sensortest3.txt',\n",
       "  'test700grid20sensortest4.txt',\n",
       "  'test700grid20sensortest5.txt',\n",
       "  'test700grid20sensortest6.txt',\n",
       "  'test700grid20sensortest7.txt',\n",
       "  'test700grid20sensortest8.txt',\n",
       "  'test700grid20sensortest9.txt',\n",
       "  'test700grid20sensortest10.txt'],\n",
       " 6: ['test700grid40sensortest1.txt',\n",
       "  'test700grid40sensortest2.txt',\n",
       "  'test700grid40sensortest3.txt',\n",
       "  'test700grid40sensortest4.txt',\n",
       "  'test700grid40sensortest5.txt',\n",
       "  'test700grid40sensortest6.txt',\n",
       "  'test700grid40sensortest7.txt',\n",
       "  'test700grid40sensortest8.txt',\n",
       "  'test700grid40sensortest9.txt',\n",
       "  'test700grid40sensortest10.txt'],\n",
       " 7: ['test1000grid10sensortest1.txt',\n",
       "  'test1000grid10sensortest2.txt',\n",
       "  'test1000grid10sensortest3.txt',\n",
       "  'test1000grid10sensortest4.txt',\n",
       "  'test1000grid10sensortest5.txt',\n",
       "  'test1000grid10sensortest6.txt',\n",
       "  'test1000grid10sensortest7.txt',\n",
       "  'test1000grid10sensortest8.txt',\n",
       "  'test1000grid10sensortest9.txt',\n",
       "  'test1000grid10sensortest10.txt'],\n",
       " 8: ['test1000grid20sensortest1.txt',\n",
       "  'test1000grid20sensortest2.txt',\n",
       "  'test1000grid20sensortest3.txt',\n",
       "  'test1000grid20sensortest4.txt',\n",
       "  'test1000grid20sensortest5.txt',\n",
       "  'test1000grid20sensortest6.txt',\n",
       "  'test1000grid20sensortest7.txt',\n",
       "  'test1000grid20sensortest8.txt',\n",
       "  'test1000grid20sensortest9.txt',\n",
       "  'test1000grid20sensortest10.txt'],\n",
       " 9: ['test1000grid40sensortest1.txt',\n",
       "  'test1000grid40sensortest2.txt',\n",
       "  'test1000grid40sensortest3.txt',\n",
       "  'test1000grid40sensortest4.txt',\n",
       "  'test1000grid40sensortest5.txt',\n",
       "  'test1000grid40sensortest6.txt',\n",
       "  'test1000grid40sensortest7.txt',\n",
       "  'test1000grid40sensortest8.txt',\n",
       "  'test1000grid40sensortest9.txt',\n",
       "  'test1000grid40sensortest10.txt'],\n",
       " 10: ['densitytest350grid10sensortest1.txt',\n",
       "  'densitytest350grid10sensortest2.txt',\n",
       "  'densitytest350grid10sensortest3.txt',\n",
       "  'densitytest350grid10sensortest4.txt',\n",
       "  'densitytest350grid10sensortest5.txt',\n",
       "  'densitytest350grid10sensortest6.txt',\n",
       "  'densitytest350grid10sensortest7.txt',\n",
       "  'densitytest350grid10sensortest8.txt',\n",
       "  'densitytest350grid10sensortest9.txt',\n",
       "  'densitytest350grid10sensortest10.txt'],\n",
       " 11: ['densitytest428grid15sensortest1.txt',\n",
       "  'densitytest428grid15sensortest2.txt',\n",
       "  'densitytest428grid15sensortest3.txt',\n",
       "  'densitytest428grid15sensortest4.txt',\n",
       "  'densitytest428grid15sensortest5.txt',\n",
       "  'densitytest428grid15sensortest6.txt',\n",
       "  'densitytest428grid15sensortest7.txt',\n",
       "  'densitytest428grid15sensortest8.txt',\n",
       "  'densitytest428grid15sensortest9.txt',\n",
       "  'densitytest428grid15sensortest10.txt'],\n",
       " 12: ['densitytest494grid20sensortest1.txt',\n",
       "  'densitytest494grid20sensortest2.txt',\n",
       "  'densitytest494grid20sensortest3.txt',\n",
       "  'densitytest494grid20sensortest4.txt',\n",
       "  'densitytest494grid20sensortest5.txt',\n",
       "  'densitytest494grid20sensortest6.txt',\n",
       "  'densitytest494grid20sensortest7.txt',\n",
       "  'densitytest494grid20sensortest8.txt',\n",
       "  'densitytest494grid20sensortest9.txt',\n",
       "  'densitytest494grid20sensortest10.txt'],\n",
       " 13: ['densitytest553grid25sensortest1.txt',\n",
       "  'densitytest553grid25sensortest2.txt',\n",
       "  'densitytest553grid25sensortest3.txt',\n",
       "  'densitytest553grid25sensortest4.txt',\n",
       "  'densitytest553grid25sensortest5.txt',\n",
       "  'densitytest553grid25sensortest6.txt',\n",
       "  'densitytest553grid25sensortest7.txt',\n",
       "  'densitytest553grid25sensortest8.txt',\n",
       "  'densitytest553grid25sensortest9.txt',\n",
       "  'densitytest553grid25sensortest10.txt'],\n",
       " 14: ['densitytest606grid30sensortest1.txt',\n",
       "  'densitytest606grid30sensortest2.txt',\n",
       "  'densitytest606grid30sensortest3.txt',\n",
       "  'densitytest606grid30sensortest4.txt',\n",
       "  'densitytest606grid30sensortest5.txt',\n",
       "  'densitytest606grid30sensortest6.txt',\n",
       "  'densitytest606grid30sensortest7.txt',\n",
       "  'densitytest606grid30sensortest8.txt',\n",
       "  'densitytest606grid30sensortest9.txt',\n",
       "  'densitytest606grid30sensortest10.txt'],\n",
       " 15: ['densitytest654grid35sensortest1.txt',\n",
       "  'densitytest654grid35sensortest2.txt',\n",
       "  'densitytest654grid35sensortest3.txt',\n",
       "  'densitytest654grid35sensortest4.txt',\n",
       "  'densitytest654grid35sensortest5.txt',\n",
       "  'densitytest654grid35sensortest6.txt',\n",
       "  'densitytest654grid35sensortest7.txt',\n",
       "  'densitytest654grid35sensortest8.txt',\n",
       "  'densitytest654grid35sensortest9.txt',\n",
       "  'densitytest654grid35sensortest10.txt'],\n",
       " 16: ['densitytest742grid45sensortest1.txt',\n",
       "  'densitytest742grid45sensortest2.txt',\n",
       "  'densitytest742grid45sensortest3.txt',\n",
       "  'densitytest742grid45sensortest4.txt',\n",
       "  'densitytest742grid45sensortest5.txt',\n",
       "  'densitytest742grid45sensortest6.txt',\n",
       "  'densitytest742grid45sensortest7.txt',\n",
       "  'densitytest742grid45sensortest8.txt',\n",
       "  'densitytest742grid45sensortest9.txt',\n",
       "  'densitytest742grid45sensortest10.txt'],\n",
       " 17: ['densitytest782grid50sensortest1.txt',\n",
       "  'densitytest782grid50sensortest2.txt',\n",
       "  'densitytest782grid50sensortest3.txt',\n",
       "  'densitytest782grid50sensortest4.txt',\n",
       "  'densitytest782grid50sensortest5.txt',\n",
       "  'densitytest782grid50sensortest6.txt',\n",
       "  'densitytest782grid50sensortest7.txt',\n",
       "  'densitytest782grid50sensortest8.txt',\n",
       "  'densitytest782grid50sensortest9.txt',\n",
       "  'densitytest782grid50sensortest10.txt'],\n",
       " 18: ['densitytest820grid55sensortest1.txt',\n",
       "  'densitytest820grid55sensortest2.txt',\n",
       "  'densitytest820grid55sensortest3.txt',\n",
       "  'densitytest820grid55sensortest4.txt',\n",
       "  'densitytest820grid55sensortest5.txt',\n",
       "  'densitytest820grid55sensortest6.txt',\n",
       "  'densitytest820grid55sensortest7.txt',\n",
       "  'densitytest820grid55sensortest8.txt',\n",
       "  'densitytest820grid55sensortest9.txt',\n",
       "  'densitytest820grid55sensortest10.txt'],\n",
       " 19: ['densitytest857grid60sensortest2.txt',\n",
       "  'densitytest857grid60sensortest3.txt',\n",
       "  'densitytest857grid60sensortest4.txt',\n",
       "  'densitytest857grid60sensortest5.txt',\n",
       "  'densitytest857grid60sensortest6.txt',\n",
       "  'densitytest857grid60sensortest7.txt',\n",
       "  'densitytest857grid60sensortest8.txt',\n",
       "  'densitytest857grid60sensortest9.txt',\n",
       "  'densitytest857grid60sensortest10.txt',\n",
       "  'densitytest857grid60sensortest11.txt']}"
      ]
     },
     "execution_count": 25,
     "metadata": {},
     "output_type": "execute_result"
    }
   ],
   "source": [
    "files_dict"
   ]
  },
  {
   "cell_type": "code",
   "execution_count": 26,
   "metadata": {},
   "outputs": [],
   "source": [
    "# with open('test1000grid40sensortest10.txt','r')as f:\n",
    "#     sensor=ast.literal_eval(f.read())"
   ]
  },
  {
   "cell_type": "code",
   "execution_count": 27,
   "metadata": {},
   "outputs": [],
   "source": [
    "# length_of_grid"
   ]
  },
  {
   "cell_type": "code",
   "execution_count": 28,
   "metadata": {},
   "outputs": [],
   "source": [
    "#  sensor=sorted(sensor)"
   ]
  },
  {
   "cell_type": "code",
   "execution_count": 29,
   "metadata": {},
   "outputs": [],
   "source": [
    "# len(sensor)"
   ]
  },
  {
   "cell_type": "code",
   "execution_count": 30,
   "metadata": {},
   "outputs": [],
   "source": [
    "# s=[list(i) for i in sensor]"
   ]
  },
  {
   "cell_type": "code",
   "execution_count": 31,
   "metadata": {},
   "outputs": [],
   "source": [
    "# X=np.array(s)"
   ]
  },
  {
   "cell_type": "markdown",
   "metadata": {},
   "source": [
    "## function just to calculate distance between two pdp points"
   ]
  },
  {
   "cell_type": "code",
   "execution_count": 32,
   "metadata": {},
   "outputs": [],
   "source": [
    "def distance(points,i,j):\n",
    "    x=points[i][0]-points[j][0]\n",
    "    y=points[i][1]-points[j][1]\n",
    "    return math.sqrt(x*x+y*y)"
   ]
  },
  {
   "cell_type": "markdown",
   "metadata": {},
   "source": [
    "## Function to determine the pdp position in the grid"
   ]
  },
  {
   "cell_type": "code",
   "execution_count": 33,
   "metadata": {},
   "outputs": [],
   "source": [
    "def calculate_Pdp_positions(length_of_grid,transmission_range):\n",
    "    '''\n",
    "    This function calculates the drone hovering points\n",
    "    '''\n",
    "    pdp_positions={}\n",
    "    k=0\n",
    "    for c_1 in np.arange(length_of_grid/(transmission_range*math.sqrt(2))):\n",
    "        for c_2 in np.arange(length_of_grid/(transmission_range*math.sqrt(2))):\n",
    "            pdp_positions[k]=(c_1*transmission_range*math.sqrt(2),c_2*transmission_range*math.sqrt(2))\n",
    "            k=k+1\n",
    "    return pdp_positions"
   ]
  },
  {
   "cell_type": "code",
   "execution_count": 34,
   "metadata": {},
   "outputs": [],
   "source": [
    "# pdp_positions=calculate_Pdp_positions(length_of_grid,transmission_range)"
   ]
  },
  {
   "cell_type": "code",
   "execution_count": 35,
   "metadata": {},
   "outputs": [],
   "source": [
    "# for i in range(len(sensor)):\n",
    "#     plt.scatter(sensor[i][0],sensor[i][1],c='r')\n",
    "#     plt.annotate(i,(sensor[i][0],sensor[i][1]))\n",
    "# for j in range(len(pdp_positions)):\n",
    "#     plt.scatter(pdp_positions[j][0],pdp_positions[j][1],c='b')\n",
    "#     plt.annotate(j,(pdp_positions[j][0],pdp_positions[j][1]))"
   ]
  },
  {
   "cell_type": "code",
   "execution_count": null,
   "metadata": {},
   "outputs": [],
   "source": []
  },
  {
   "cell_type": "markdown",
   "metadata": {},
   "source": [
    "## Function to create the trip graph"
   ]
  },
  {
   "cell_type": "code",
   "execution_count": 36,
   "metadata": {},
   "outputs": [],
   "source": [
    "def create_trip_graph():\n",
    "    '''\n",
    "    This function is used to calculate the trip graph between the hoverin point\n",
    "    '''\n",
    "    G=nx.Graph()\n",
    "    distance_between_pdp={}\n",
    "    for i in range(len(pdp_positions)):\n",
    "        G.add_node('pdp{}'.format(i),pos=pdp_positions[i])\n",
    "    for u in range(len(pdp_positions)):\n",
    "        for v in range(len(pdp_positions)):\n",
    "            wt=distance(pdp_positions,u,v)\n",
    "            G.add_edge('pdp{}'.format(u),'pdp{}'.format(v),weight=wt)\n",
    "            distance_between_pdp[(u,v)]=wt\n",
    "    return G,distance_between_pdp"
   ]
  },
  {
   "cell_type": "code",
   "execution_count": 37,
   "metadata": {},
   "outputs": [],
   "source": [
    "# trip_graph,distance_between_pdp=create_trip_graph()"
   ]
  },
  {
   "cell_type": "markdown",
   "metadata": {},
   "source": [
    "## This function calculates the pdp with the minimum distance betweeen the cluster center"
   ]
  },
  {
   "cell_type": "code",
   "execution_count": 38,
   "metadata": {},
   "outputs": [],
   "source": [
    "def calculate_min_pdp_distance_with_cluster_center(c_centers,pdp_positions):\n",
    "    \"\"\"\n",
    "    Function to calculate the nearest pdp_position to the cluster center \n",
    "    \"\"\"\n",
    "    new_dict={}\n",
    "    for i in c_centers:\n",
    "        temp={}\n",
    "        for p,value in pdp_positions.items():\n",
    "            arr=np.array(value)\n",
    "            #print(arr)\n",
    "            dist=np.linalg.norm(i-arr)\n",
    "            temp[p]=dist\n",
    "        #print(temp)\n",
    "#         print(min(temp.items(),key=operator.itemgetter(1))[0])\n",
    "#         print(min(temp.items(),key=operator.itemgetter(1))[1])\n",
    "#         print(\"******\")\n",
    "        new_dict[tuple(i)]=min(temp.items(),key=operator.itemgetter(1))[0]\n",
    "\n",
    "    return new_dict"
   ]
  },
  {
   "cell_type": "code",
   "execution_count": 39,
   "metadata": {},
   "outputs": [],
   "source": [
    "# K=nx.DiGraph()"
   ]
  },
  {
   "cell_type": "code",
   "execution_count": 40,
   "metadata": {},
   "outputs": [],
   "source": [
    "# for i in range(len(sensor)):\n",
    "#     K.add_node('sensor{}'.format(i),pos=sensor[i])"
   ]
  },
  {
   "cell_type": "code",
   "execution_count": 41,
   "metadata": {},
   "outputs": [],
   "source": [
    "def calulate_distance_between_each_sensors_and_assign_weight(points,K):\n",
    "    '''\n",
    "    This function is used to assign the edge weight between the sensors.\n",
    "    >>It calculates the distance between each of the sensor and adds edge weight in the graph\n",
    "    input:sensor points and graph\n",
    "    output:distance between sensor and graph\n",
    "    '''\n",
    "    distance_sensors={}\n",
    "    M=K\n",
    "    k=0\n",
    "    edge_weight=1\n",
    "    for i in range(len(points)):\n",
    "        for j in range(len(points)):\n",
    "            euclidean_distance=distance(points,i,j)\n",
    "            if i!=j:\n",
    "                #M.add_edge(\"sensor{}\".format(i),\"sensor{}\".format(j))\n",
    "\n",
    "                \n",
    "                if euclidean_distance<=transmission_range:\n",
    "                    #if M.has_edge('sensor{}'.format(i),'sensor{}'.format(j))!=True:\n",
    "                    M.add_edge(\"sensor{}\".format(i),\"sensor{}\".format(j))\n",
    "\n",
    "                    M[\"sensor{}\".format(i)][\"sensor{}\".format(j)]['weight']=1\n",
    "\n",
    "                    distance_sensors[i,j]=(euclidean_distance,edge_weight)\n",
    "#                 else:\n",
    "#                     M[\"sensor{}\".format(i)][\"sensor{}\".format(j)]['weight']=100\n",
    "#                     distance_sensors[i,j]=(euclidean_distance,100)\n",
    "#             k=k+1\n",
    "    return distance_sensors,M"
   ]
  },
  {
   "cell_type": "code",
   "execution_count": 42,
   "metadata": {},
   "outputs": [],
   "source": [
    "# def pipeline():\n",
    "#     global pdp_positions\n",
    "#     global a\n",
    "#     global main_weight\n",
    "#     global new_zipped\n",
    "#     global arc_length\n",
    "#     global distance_between_pdp\n",
    "#     global sensor\n",
    "#     global N\n",
    "#     jk=0\n",
    "#     for file in txt_files:\n",
    "#         start = time.time()\n",
    "#         with open(file, 'r') as f:\n",
    "#             sensor = ast.literal_eval(f.read())\n",
    "#         pdp_positions,threshold=calculate_Pdp_positions(length_of_grid,transmission_range)\n",
    "#         sensor=sorted(sensor)\n",
    "#         s=[list(i) for i in sensor]\n",
    "#         X=np.array(s)\n",
    "#         trip_graph,distance_between_pdp=create_trip_graph()\n",
    "#         K=nx.DiGraph()\n",
    "#         for i in range(len(sensor)):\n",
    "#             K.add_node('sensor{}'.format(i),pos=sensor[i])\n",
    "#         euclidean_distance_between_sensor,L=calulate_distance_between_each_sensors_and_assign_weight(sensor,K)\n",
    "#         distance_between_pdp_to_each_sensor,N=connectivity_graph(pdp_positions,sensor,L)\n",
    "#         new_zipped,arc_length=shortest_distance_pdp_sensor(pdp_positions,sensor,N)\n",
    "#         values32=get_values_for_weight(new_zipped,pdp_positions)\n",
    "#         values1,counts=get_values_and_counts(values32)\n",
    "#         a=np.arange(len(pdp_positions)).reshape(int(math.sqrt(len(pdp_positions))),int(math.sqrt(len(pdp_positions))))\n",
    "#         main_weight=calculate_weight(values1,counts)\n",
    "#         weight=calculate_weight(values1,counts)\n",
    "#         route,best_time=incremental_heursitic(weight)\n",
    "#         stop = time.time()\n",
    "#         duration = stop-start\n",
    "#         jk=jk+1\n",
    "#         print(\"--------------------------------------------------------------------------------------------------------------\")\n",
    "#         print(\"Loop : \", jk)\n",
    "#         print(\"Sensor File :\", file)\n",
    "#         print(\"Duration :\", duration)\n",
    "#         print(\"this is n : \", route)\n",
    "#         print(\"this is best:\",best_time)\n",
    "        "
   ]
  },
  {
   "cell_type": "code",
   "execution_count": 43,
   "metadata": {},
   "outputs": [],
   "source": [
    "# euclidean_distance_between_sensor,L=calulate_distance_between_each_sensors_and_assign_weight(sensor,K)"
   ]
  },
  {
   "cell_type": "code",
   "execution_count": 44,
   "metadata": {},
   "outputs": [],
   "source": [
    "# nx.draw(L,nx.get_node_attributes(L,'pos'),with_labels=True)"
   ]
  },
  {
   "cell_type": "code",
   "execution_count": 45,
   "metadata": {},
   "outputs": [],
   "source": [
    "def distance_pdp_sensors(pdp_positions,sensor,u,v):\n",
    "    '''\n",
    "    this function calculate distance between sensor and hovering points\n",
    "    input:hovering points ,sensor and index\n",
    "    output: distance between the points\n",
    "    '''\n",
    "    x=pdp_positions[u][0]-sensor[v][0]\n",
    "    y=pdp_positions[u][1]-sensor[v][1]\n",
    "    return math.sqrt(x*x+y*y)"
   ]
  },
  {
   "cell_type": "markdown",
   "metadata": {},
   "source": [
    "## Function that is used for creating the conncectivity graph"
   ]
  },
  {
   "cell_type": "code",
   "execution_count": 47,
   "metadata": {},
   "outputs": [
    {
     "ename": "IndentationError",
     "evalue": "unindent does not match any outer indentation level (<tokenize>, line 8)",
     "output_type": "error",
     "traceback": [
      "\u001b[1;36m  File \u001b[1;32m\"<tokenize>\"\u001b[1;36m, line \u001b[1;32m8\u001b[0m\n\u001b[1;33m    J=K\u001b[0m\n\u001b[1;37m    ^\u001b[0m\n\u001b[1;31mIndentationError\u001b[0m\u001b[1;31m:\u001b[0m unindent does not match any outer indentation level\n"
     ]
    }
   ],
   "source": [
    "def connectivity_graph(pdp_positions,sensor,K):\n",
    "     '''\n",
    "    this function creates connectivity graph between hovering points and sensors.\n",
    "    >>calculates distance between hovering point and sensor if the distance is less than transmission range it assigns weigth as 1\n",
    "    >>input:hovering points ,sensor position and graph\n",
    "    \n",
    "    '''\n",
    "    J=K\n",
    "    distance_pdp_each_sensor={}\n",
    "    k=0\n",
    "    weight=1\n",
    "    for i in range(len(pdp_positions)):\n",
    "        J.add_node('pdp{}'.format(i),pos=pdp_positions[i])\n",
    "    for u in range(len(pdp_positions)):\n",
    "        for v in range(len(sensor)):\n",
    "            euclidean_distance_between_pdp_sensor=distance_pdp_sensors(pdp_positions,sensor,u,v)\n",
    "            J.add_edge(\"pdp{}\".format(u),\"sensor{}\".format(v))\n",
    "            \n",
    "            if euclidean_distance_between_pdp_sensor<=transmission_range:\n",
    "                #J.add_edge(\"pdp{}\".format(u),\"sensor{}\".format(v))\n",
    "                #if J.has_edge('pdp{}'.format(i),'sensor{}'.format(j))!=True:\n",
    "                    #J.add_edge(\"pdp{}\".format(u),\"sensor{}\".format(v))\n",
    "               \n",
    "                \n",
    "                J[\"pdp{}\".format(u)][\"sensor{}\".format(v)]['weight']=1\n",
    "                distance_pdp_each_sensor[u,v]=euclidean_distance_between_pdp_sensor,weight\n",
    "            else:\n",
    "                J[\"pdp{}\".format(u)][\"sensor{}\".format(v)]['weight']=100\n",
    "                distance_pdp_each_sensor[u,v]=euclidean_distance_between_pdp_sensor,100\n",
    "#            k=k+1\n",
    "    return distance_pdp_each_sensor,J"
   ]
  },
  {
   "cell_type": "code",
   "execution_count": null,
   "metadata": {},
   "outputs": [],
   "source": [
    "# distance_between_pdp_to_each_sensor,N=connectivity_graph(pdp_positions,sensor,L)"
   ]
  },
  {
   "cell_type": "markdown",
   "metadata": {},
   "source": [
    "# Here it finds the shortest distance between each pdp and "
   ]
  },
  {
   "cell_type": "code",
   "execution_count": null,
   "metadata": {},
   "outputs": [],
   "source": [
    "def shortest_distance_pdp_sensor(pdp_positions, sensor, N):\n",
    "     '''\n",
    "    calculates the shortest distance between hovering point and sensor\n",
    "    >>uses dijkstra algorithm to calculate the shortest path\n",
    "    >>input: hovering points, sensor and Graph\n",
    "    >>output:\n",
    "    '''\n",
    "    k=0\n",
    "    arc_length={}\n",
    "    shortest_path={}\n",
    "    for i in range(len(pdp_positions)):\n",
    "        for j in range(len(sensor)):\n",
    "            if N.has_edge('pdp{}'.format(i),'sensor{}'.format(j)):\n",
    "                shortest_path[i,j]=nx.shortest_path(N,source='pdp{}'.format(i),target='sensor{}'.format(j),\n",
    "                                                  weight='weight',method='dijkstra')\n",
    "                arc_length[i,j]=nx.dijkstra_path_length(N,'pdp{}'.format(i),'sensor{}'.format(j))\n",
    "\n",
    "\n",
    "            else:\n",
    "                shortest_path[i,j]=0\n",
    "    return dict(zip(arc_length.items(),shortest_path.values())), arc_length "
   ]
  },
  {
   "cell_type": "code",
   "execution_count": null,
   "metadata": {},
   "outputs": [],
   "source": [
    "# k=0\n",
    "# arc_length={}\n",
    "# shortest_path={}\n",
    "# for i in range(len(pdp_positions)):\n",
    "#     for j in range(len(sensor)):\n",
    "#         if N.has_edge('pdp{}'.format(i),'sensor{}'.format(j)):\n",
    "#             shortest_path[i,j]=nx.shortest_path(N,source='pdp{}'.format(i),target='sensor{}'.format(j),\n",
    "#                                               weight='weight',method='dijkstra')\n",
    "#             arc_length[i,j]=nx.dijkstra_path_length(N,'pdp{}'.format(i),'sensor{}'.format(j))\n",
    "            \n",
    "           \n",
    "#         else:\n",
    "#             shortest_path[i,j]=0"
   ]
  },
  {
   "cell_type": "code",
   "execution_count": null,
   "metadata": {},
   "outputs": [],
   "source": [
    "# new_zipped=dict(zip(arc_length.items(),shortest_path.values()))"
   ]
  },
  {
   "cell_type": "code",
   "execution_count": null,
   "metadata": {},
   "outputs": [],
   "source": [
    "# new_zipped"
   ]
  },
  {
   "cell_type": "code",
   "execution_count": null,
   "metadata": {},
   "outputs": [],
   "source": [
    "def spanning_tree_collecting_time(pdp):\n",
    "    \"\"\"This function defines which sensors are connected with the desired pdp\"\"\"\n",
    "    \"\"\"\n",
    "    return list\n",
    "    \"\"\"\n",
    "    sensor_subset=[]\n",
    "    for key,value in new_zipped.items():\n",
    "        if key[0][0]==pdp:\n",
    "            if key[1]!=100:\n",
    "                #print(i)\n",
    "                sensor_subset.append(key[0][1])\n",
    "    return sensor_subset"
   ]
  },
  {
   "cell_type": "code",
   "execution_count": null,
   "metadata": {},
   "outputs": [],
   "source": [
    "def to_check_the_minimum_hops_between_the_pdp_and_sensor(spanning_tree):\n",
    "    \"\"\"In this function we check which sensor can send data to the pdp with minimum hops\n",
    "    for example if sensor2 is connected with pdp10 with  hop distance with 2 and same sensor2 is connected with \n",
    "    pdp11 with hop distance 4 then we assume that sensor2 will send data to the drone when drone is at pdp10 since \n",
    "    it has minimum hop distance\"\"\"\n",
    "    subset2=spanning_tree\n",
    "    for key,value in subset2.items():\n",
    "        for key1,value1 in subset2.items():\n",
    "            if key!=key1:\n",
    "                for i in value:\n",
    "                    for j in value1:\n",
    "                        if i==j:\n",
    "                            #print(i)\n",
    "                            #s=get_number(i)\n",
    "                            if nx.dijkstra_path_length(N,'pdp{}'.format(key),'sensor{}'.format(i))>nx.dijkstra_path_length(N,'pdp{}'.format(key1),'sensor{}'.format(i)):\n",
    "                                subset2[key].remove(i)\n",
    "                            else:\n",
    "                                subset2[key1].remove(j)\n",
    "    return subset2"
   ]
  },
  {
   "cell_type": "code",
   "execution_count": null,
   "metadata": {},
   "outputs": [],
   "source": [
    "def create_spanning_tree_for_tour(tour):\n",
    "    sensor_subset={}\n",
    "    for i in tour:\n",
    "        sensor_subset[i]=spanning_tree_collecting_time(i)\n",
    "    correct_sensor_subset=to_check_the_minimum_hops_between_the_pdp_and_sensor(sensor_subset)\n",
    "#     print(\"this is to check minimum hops\")\n",
    "#     print(correct_sensor_subset)\n",
    "    return correct_sensor_subset"
   ]
  },
  {
   "cell_type": "code",
   "execution_count": null,
   "metadata": {},
   "outputs": [],
   "source": [
    "def check_all_sensor_can_send_data(checked_sensor_arc):\n",
    "    \"\"\"The main aim of creating this function was to check whether all the sensors are connected to the pdps in the route\n",
    "    of drone tour.For example we have pdp10 and pdp7 in our route.ie Route=[10 7].We create spanning tree for the both \n",
    "    the pdps and check whether all the sensors are connected or not.If all the sensors are not connected in the combined\n",
    "    spanning tree calculated with the pdps of the Route\"\"\"\n",
    "    s=[]\n",
    "    for key,values in checked_sensor_arc.items():\n",
    "        s=list(set().union(s,values))\n",
    "    if len(s)==len(sensor): # before there was only s==sensor but it was wrong as s is list and sensor is a list of tuple\n",
    "        return 1\n",
    "    else:\n",
    "        return 0\n",
    "    "
   ]
  },
  {
   "cell_type": "code",
   "execution_count": null,
   "metadata": {},
   "outputs": [],
   "source": [
    "def get_only_pdp_with_sensor_after_minimum_hop_check(new_dict):\n",
    "    \"\"\" This function is used to get pdps after checking which sensors are connected with minimum distance with pdps\"\"\"\n",
    "    updated_dict=to_check_the_minimum_hops_between_the_pdp_and_sensor(new_dict)\n",
    "    route=[]\n",
    "    for key,value in updated_dict.items():\n",
    "        if value!=[]:\n",
    "            route.append(key)\n",
    "        else:\n",
    "            continue\n",
    "    return route\n",
    "    "
   ]
  },
  {
   "cell_type": "markdown",
   "metadata": {},
   "source": [
    "## Here Starts the nearest neighbour solution for the TSP problem for calculating the trip time"
   ]
  },
  {
   "cell_type": "code",
   "execution_count": null,
   "metadata": {},
   "outputs": [],
   "source": [
    "def first(collection):\n",
    "    \"Start iterating over collection, and return the first element.\"\n",
    "    #print(\"I'm here\")\n",
    "    return next(iter(collection))"
   ]
  },
  {
   "cell_type": "code",
   "execution_count": null,
   "metadata": {},
   "outputs": [],
   "source": [
    "def nearest_neighbor(A, cities):\n",
    "    \"Find the city in cities that is nearest to city A.\"\n",
    "    distance1={}\n",
    "    for j in cities:\n",
    "        for key,values in distance_between_pdp.items():\n",
    "            if key==(A,j):\n",
    "                distance1[j]=values\n",
    "               # print(\"Iwashere\")\n",
    "    minin=min(distance1)  \n",
    "    return(minin)"
   ]
  },
  {
   "cell_type": "code",
   "execution_count": null,
   "metadata": {},
   "outputs": [],
   "source": [
    "def nn_tsp(cities):\n",
    "    \"\"\"Start the tour at the first city; at each step extend the tour \n",
    "    by moving from the previous city to its nearest neighbor \n",
    "    that has not yet been visited.\"\"\"\n",
    "    start = [first(cities)]\n",
    "    tour = start\n",
    "#     print(tour)\n",
    "    unvisited = set(set(cities) - set(start))\n",
    "    while unvisited:\n",
    "        #print(\"after while\")\n",
    "        C = nearest_neighbor(tour[-1], unvisited)\n",
    "        tour.append(C)\n",
    "        unvisited.remove(C)\n",
    "    return tour"
   ]
  },
  {
   "cell_type": "markdown",
   "metadata": {},
   "source": [
    "## function to calculate the collecting time"
   ]
  },
  {
   "cell_type": "code",
   "execution_count": null,
   "metadata": {},
   "outputs": [],
   "source": [
    "def calculate_collecting_time(checked_sensor_arc):\n",
    "    '''\n",
    "    This function calculates the collecting time\n",
    "    '''\n",
    "    \n",
    "    weight=0\n",
    "    for key,values in checked_sensor_arc.items():\n",
    "        if values!=[]:\n",
    "            for j in values:\n",
    "                for key1,values1 in new_zipped.items():\n",
    "                    if key1[0]==(key,j):\n",
    "                        #print(key1[1])\n",
    "                        weight=weight+key1[1]\n",
    "    t_collecting=(data_stored/bandwidth)*weight\n",
    "    print(\"this is collecting time\")\n",
    "    print(t_collecting)\n",
    "    return t_collecting\n",
    "    "
   ]
  },
  {
   "cell_type": "markdown",
   "metadata": {},
   "source": [
    "## function to calculate the trip time"
   ]
  },
  {
   "cell_type": "code",
   "execution_count": null,
   "metadata": {},
   "outputs": [],
   "source": [
    "def calculate_trip_time(Route):\n",
    "    \"\"\"\n",
    "    This function calculates the trip time\n",
    "    >> it gets Route ,the list of hovering points as input and returns trip time as out\n",
    "    \"\"\"\n",
    "    print(\"this is the route in trip time\")\n",
    "    print(Route)\n",
    "    trip_time=0\n",
    "    if 0 in Route:\n",
    "        Route.remove(0)\n",
    "        total_route=[0]+Route\n",
    "    else:\n",
    "        total_route=[0]+Route\n",
    "    print(total_route)\n",
    "        \n",
    "#     solved=solve_gurobi(total_route)\n",
    "#     print(\"this is the route after tspsolved\")\n",
    "#     print(solved)\n",
    "    solved=total_route+[0]\n",
    "    for j in range(len(solved)):\n",
    "        if j<len(solved)-1:\n",
    "            for key,value in distance_between_pdp.items():\n",
    "                if solved[j]==key[0] and solved[j+1]==key[1]:\n",
    "                    print(solved[j],solved[j+1])\n",
    "                    print(value)\n",
    "                    trip_time=trip_time+(value/drone_speed)  \n",
    "                    print(trip_time)\n",
    "    print(\"this is trip time\")\n",
    "    print(trip_time)\n",
    "    return trip_time"
   ]
  },
  {
   "cell_type": "markdown",
   "metadata": {},
   "source": [
    "## This function determines the threshold distance inside the sensor range"
   ]
  },
  {
   "cell_type": "code",
   "execution_count": null,
   "metadata": {},
   "outputs": [],
   "source": [
    "def threshold_distance_inside_sensor_range():\n",
    "    '''\n",
    "    this function calculates the desired threshold distance that should be travelled by the Drone so that sensor can send data \n",
    "    while the drone is moving.\n",
    "    '''\n",
    "    trs=(data_stored/bandwidth)*drone_speed\n",
    "    return trs"
   ]
  },
  {
   "cell_type": "code",
   "execution_count": null,
   "metadata": {},
   "outputs": [],
   "source": [
    "trs=threshold_distance_inside_sensor_range()"
   ]
  },
  {
   "cell_type": "markdown",
   "metadata": {},
   "source": [
    "## The function that determines the sensors that can send data while drone moves from each path to another"
   ]
  },
  {
   "cell_type": "code",
   "execution_count": null,
   "metadata": {},
   "outputs": [],
   "source": [
    "def sensor_that_can_send_data_while_moving(init,final):\n",
    "    '''\n",
    "    This function checks which sensor can send data while the drone is hovering from one point to another\n",
    "    '''\n",
    "    dmov=[]\n",
    "    print(\"init ,final\",init ,final)\n",
    "    \n",
    "    sensor_that_can_send_data_whilmoving={}\n",
    "    for i in range (len(sensor)):\n",
    "        flag=0\n",
    "        p1=np.array(pdp_positions[init])\n",
    "        p2=np.array(pdp_positions[final])\n",
    "        p3=np.array(sensor[i])\n",
    "        #dot=np.dot(p3-p1,p2-p1)\n",
    "#         check=np.dot(p3-p1,p2-p1)/(np.linalg.norm(p2-p1))**2 #here to check whether the point representing the sensor will be \n",
    "#                                                             #perpendicular to the line representing two pdp points i calculated the check\n",
    "        #print(check)\n",
    "\n",
    "        dist=abs(np.cross(p3-p1,p2-p1)/np.linalg.norm(p2-p1)) #this is perpencicular distance between the sensor point and the line of two pdp\n",
    "        #if check<1 and check>0:#here i checked whether the point representing the sensor will be \n",
    "                                                        #perpendicular to the line representing two pdp points\n",
    "        if dist<transmission_range:\n",
    "            dsi=(2*(math.sqrt(transmission_range**2-dist**2)))/np.linalg.norm(p2-p1)\n",
    "            project=np.dot(p3-p1,p2-p1)/(np.linalg.norm(p2-p1))**2\n",
    "            check1=project-dsi/2\n",
    "            check2=project+dsi/2\n",
    "            if check1<1 and check2<1:\n",
    "                if check1<0 and check2>0:\n",
    "#                     print(\"the first cut point is outside the line segment whereas second cut point lies in the line segment\")\n",
    "                    first_cutx=pdp_positions[init][0]\n",
    "                    first_cuty=pdp_positions[init][1]\n",
    "                    second_cutx=pdp_positions[init][0]+(check2*(pdp_positions[final][0]-pdp_positions[init][0]))\n",
    "                    second_cuty=pdp_positions[init][1]+(check2*(pdp_positions[final][1]-pdp_positions[init][1]))\n",
    "                    flag=1\n",
    "                if check1>0 and check2>0:\n",
    "#                     print(\"the both cut point lies in the line segment\")\n",
    "                    first_cutx=pdp_positions[init][0]+(check1*(pdp_positions[final][0]-pdp_positions[init][0]))\n",
    "                    first_cuty=pdp_positions[init][1]+(check1*(pdp_positions[final][1]-pdp_positions[init][1]))\n",
    "                    second_cutx=pdp_positions[init][0]+(check2*(pdp_positions[final][0]-pdp_positions[init][0]))\n",
    "                    second_cuty=pdp_positions[init][1]+(check2*(pdp_positions[final][1]-pdp_positions[init][1]))\n",
    "                    flag=1\n",
    "            \n",
    "            if check1>0 and check2>1:\n",
    "                if check1<1:\n",
    "#                     print(\"the first cut point is inside the line segment whereas second cut point is outside the line segment\")\n",
    "                    first_cutx=pdp_positions[init][0]+(check1*(pdp_positions[final][0]-pdp_positions[init][0]))\n",
    "                    first_cuty=pdp_positions[init][1]+(check1*(pdp_positions[final][1]-pdp_positions[init][1]))\n",
    "                    second_cutx=pdp_positions[final][0]\n",
    "                    second_cuty=pdp_positions[final][1]\n",
    "                    flag=1\n",
    "                \n",
    "                \n",
    "#             print(i)\n",
    "#             print(check1,check2)\n",
    "#             print(\"*******\")\n",
    "            \n",
    "\n",
    "           \n",
    "#             first_cutpoint=project-dsi/2   #its the distance from initial point to the first cutpoint\n",
    "#             final_cutpoint=project+dsi/2   #its the distance from initial pdp point to the \n",
    "            if flag==1:\n",
    "#                 print(first_cutx,first_cuty)\n",
    "#                 print(second_cutx,second_cuty)\n",
    "                sensor_that_can_send_data_whilmoving[i]=(first_cutx,first_cuty),(second_cutx,second_cuty)\n",
    "#             sorted_dict=dict(sorted(sensor_that_can_send_data_whilmoving.items(), key=lambda item: item[1]))\n",
    "    \"\"\"We need to find the distance of the cut points so to find it we are doing the following steps\n",
    "    \"\"\"\n",
    "    new_dict={}\n",
    "    for k,value in sensor_that_can_send_data_whilmoving.items():\n",
    "        p1=np.array(pdp_positions[init])\n",
    "        p2=np.array(value[0])\n",
    "        p3=np.array(value[1])\n",
    "        cut1=np.linalg.norm(p1-p2)\n",
    "        cut2=np.linalg.norm(p1-p3)\n",
    "        new_dict[k]=(cut1,cut2)\n",
    "    sorted_dict=list(sorted(new_dict.items(), key=lambda item: item[1]))\n",
    "    \"\"\"I am putting flag to check if there is no any sensor that can send data while drone is moving from one point\n",
    "    to another\n",
    "    \"\"\"\n",
    "    flag=0\n",
    "    \n",
    "    \n",
    "    \"\"\"We need to check whether the overlapped sensors can send data or not so in the following steps that is cal\n",
    "    culated\"\"\"\n",
    "#     print(sorted_dict)\n",
    "    if sorted_dict!=[]:\n",
    "        flag=1 \n",
    "        \"\"\"\n",
    "        The first element is appended because while checking the overlapping of the sensors \n",
    "        \"\"\"\n",
    "        if len(sorted_dict)==1:\n",
    "            distance=sorted_dict[0][1][0]+threshold_distance_inside_sensor_range()\n",
    "            if distance<sorted_dict[0][1][1]:\n",
    "                dmov.append(sorted_dict[0][0])\n",
    "                return (flag,dmov)\n",
    "            \n",
    "        for i,value in enumerate(sorted_dict):\n",
    "            if i==0:\n",
    "                first_cutpoint=value[1][0]\n",
    "            second_cutpoint=value[1][1]\n",
    "            check_1=second_cutpoint-first_cutpoint\n",
    "#             print(\"firstcutpoint second cutpoint check\")\n",
    "#             print(first_cutpoint,second_cutpoint,check_1)\n",
    "            if check_1>=threshold_distance_inside_sensor_range():\n",
    "                distance_travelled=first_cutpoint+threshold_distance_inside_sensor_range()\n",
    "                if i<len(sorted_dict)-1:\n",
    "                    first_cutpoint=max(distance_travelled,sorted_dict[i+1][1][0])\n",
    "                dmov.append(value[0])\n",
    "            else:\n",
    "                if i<len(sorted_dict)-1:\n",
    "                    first_cutpoint=max(sorted_dict[i][1][1],sorted_dict[i+1][1][0])\n",
    "\n",
    "#         print(\"this is dmov\")\n",
    "#         print(dmov)\n",
    "        return(flag,dmov)\n",
    "\n",
    "\n",
    "    return(flag,[])\n",
    "\n",
    "\n",
    "\n",
    "\n",
    "\n",
    "\n",
    "\n",
    "        \n",
    "    "
   ]
  },
  {
   "cell_type": "markdown",
   "metadata": {},
   "source": [
    "# This function calculates the collecting time while drone is moving from one pdp position to another pdp position in its route"
   ]
  },
  {
   "cell_type": "code",
   "execution_count": null,
   "metadata": {},
   "outputs": [],
   "source": [
    "def calculate_moving_time(route_grb,checked):\n",
    "     '''\n",
    "    This function is used to calculate the time that is required by drone while the drone is moving from the hovering points in the Route\n",
    "    '''\n",
    "    Route=route_grb\n",
    "    total=0\n",
    "    Dmov=defaultdict(list)\n",
    "#     print(\"this is checked\")\n",
    "#     print(checked)\n",
    "#     if Route[0]==0:\n",
    "#         route=nn_tsp(Route)\n",
    "#     else:\n",
    "#         Route=[0]+Route\n",
    "#         route=nn_tsp(Route)\n",
    "    \n",
    "    path=[0]+Route+[0]\n",
    "#     print(\"this is path\")\n",
    "#     print(path)\n",
    "    for i in range(len(path)-1):\n",
    "        flag,dmov=sensor_that_can_send_data_while_moving(path[i],path[i+1])\n",
    "        if flag == 1:\n",
    "            for value in dmov:\n",
    "                if value not in Dmov.values():\n",
    "                    Dmov[path[i],path[i+1]].append(value)\n",
    "#     print(\"this is route inside Dmov\")\n",
    "    \n",
    "#     if len(Route)==1:\n",
    "#         \"\"\"This if condition is just for when there is single value in Route list\n",
    "#         \"\"\"\n",
    "#         print(\"i am in this if condition\")\n",
    "# #         print(Dmov)\n",
    "#         for key,values in Dmov.items():\n",
    "#             for val in values:\n",
    "#                 #check=arc_length[Route,val]\n",
    "# #                 print(Route[0],val)\n",
    "#                 if arc_length[(Route[0],val)]!=100:\n",
    "#                     total=total+arc_length[Route[0],val]\n",
    "#         moving_time=(data_rate/bandwidth)*total\n",
    "#         print(moving_time)\n",
    "#         return moving_time\n",
    "    \"\"\"Here just trying to remove the repeated sensor list in the route\"\"\"\n",
    "    \n",
    "    for key,value in Dmov.items():\n",
    "        for key1,val1 in Dmov.items():\n",
    "            if key!=key1:\n",
    "                for val in value:\n",
    "                    if val in val1:\n",
    "                        val1.remove(val)\n",
    "                \n",
    "    \"\"\"since the path is [0]+Route+[0] like this we need to add the last element of the Route list again so we are\n",
    "    adding it. So to make it easy to find hop distance between the element of route and sensor,we zipped the value\"\"\"\n",
    "#     print(path)\n",
    "    \n",
    "#     r=path+[path[-1]]\n",
    "#     zipped=dict(zip(r,Dmov.items()))\n",
    "#     print(zipped)\n",
    "    for key,values in Dmov.items():\n",
    "        for val in values:\n",
    "            for key1,val1 in checked.items():\n",
    "                if val in val1:\n",
    "                    total=total+arc_length[key1,val]\n",
    "   \n",
    "    moving_time=(data_stored/bandwidth)*total\n",
    "#     print(Dmov)\n",
    "    print(\"this is moving time\")\n",
    "    print(moving_time)\n",
    "    return moving_time\n",
    "            \n",
    "    \n",
    "                \n",
    "            \n",
    "        "
   ]
  },
  {
   "cell_type": "code",
   "execution_count": null,
   "metadata": {},
   "outputs": [],
   "source": [
    "# a=np.arange(len(pdp_positions)).reshape(int(math.sqrt(len(pdp_positions))),int(math.sqrt(len(pdp_positions))))"
   ]
  },
  {
   "cell_type": "code",
   "execution_count": null,
   "metadata": {},
   "outputs": [],
   "source": [
    "# a"
   ]
  },
  {
   "cell_type": "code",
   "execution_count": null,
   "metadata": {},
   "outputs": [],
   "source": [
    "def get_neighbours(a,search_value):\n",
    "    '''\n",
    "    This function calculates the neigbour \n",
    "    '''\n",
    "    neighbours=[]\n",
    "    for i in range(len(a)):\n",
    "        for j,value in enumerate(a[i]):\n",
    "            if i == 0 or i == len(a) - 1 or j == 0 or j == len(a[i]) - 1:\n",
    "                new_neighbors=[]\n",
    "                if i!=0:\n",
    "                    new_neighbors.append(a[i - 1][j]) \n",
    "                if j!=len(a[i])-1:\n",
    "                    new_neighbors.append(a[i][j+1])\n",
    "                if i!=len(a)-1:\n",
    "                    new_neighbors.append(a[i+1][j])\n",
    "                if j!=0:\n",
    "                    new_neighbors.append(a[i][j-1])\n",
    "            else:\n",
    "                new_neighbors=[\n",
    "                    a[i-1][j],\n",
    "                    a[i][j+1],\n",
    "                    a[i+1][j],\n",
    "                    a[i][j-1]\n",
    "                ]\n",
    "            neighbours.append({value:new_neighbors})\n",
    "    for s in neighbours:\n",
    "        for key,value in s.items():\n",
    "            if key==search_value:\n",
    "                n=value\n",
    "    return n\n",
    "                \n",
    "        "
   ]
  },
  {
   "cell_type": "code",
   "execution_count": null,
   "metadata": {},
   "outputs": [],
   "source": [
    "def subtourelim(model, where):\n",
    "    '''\n",
    "    This is the part of gurobi solver\n",
    "    '''\n",
    "    if where == GRB.Callback.MIPSOL:\n",
    "        # make a list of edges selected in the solution\n",
    "        vals = model.cbGetSolution(model._vars)\n",
    "        selected = gp.tuplelist((i, j) for i, j in model._vars.keys()\n",
    "                             if vals[i, j] > 0.5)\n",
    "        # find the shortest cycle in the selected edge list\n",
    "        tour = subtour(selected)\n",
    "        if len(tour) < len(trip_routegb):\n",
    "            # add subtour elimination constr. for every pair of cities in subtour\n",
    "            model.cbLazy(gp.quicksum(model._vars[i, j] for i, j in combinations(tour, 2))\n",
    "                         <= len(tour)-1)\n"
   ]
  },
  {
   "cell_type": "code",
   "execution_count": null,
   "metadata": {},
   "outputs": [],
   "source": [
    "def subtour(edges):\n",
    "    '''\n",
    "    This is also one of the part of gurobi solver\n",
    "    '''\n",
    "    unvisited = trip_routegb[:]\n",
    "    cycle = trip_routegb[:] # Dummy - guaranteed to be replaced\n",
    "    while unvisited:  # true if list is non-empty\n",
    "        thiscycle = []\n",
    "        neighbors = unvisited\n",
    "        while neighbors:\n",
    "            current = neighbors[0]\n",
    "            thiscycle.append(current)\n",
    "            unvisited.remove(current)\n",
    "            neighbors = [j for i, j in edges.select(current, '*')\n",
    "                         if j in unvisited]\n",
    "        if len(thiscycle) <= len(cycle):\n",
    "            cycle = thiscycle # New shortest subtour\n",
    "    return cycle"
   ]
  },
  {
   "cell_type": "code",
   "execution_count": null,
   "metadata": {},
   "outputs": [],
   "source": [
    "from itertools import combinations\n",
    "\n",
    "import gurobipy as gp\n",
    "from gurobipy import GRB\n",
    "\n",
    "\n"
   ]
  },
  {
   "cell_type": "code",
   "execution_count": null,
   "metadata": {},
   "outputs": [],
   "source": [
    "def solve_gurobi(trip):\n",
    "    '''\n",
    "    This function is used to solve the travelling salesman problem\n",
    "    '''\n",
    "    global trip_routegb\n",
    "    trip_routegb=trip\n",
    "    dist = {(c1, c2): distance(pdp_positions,c1, c2) for c1, c2 in combinations(trip_routegb, 2)}\n",
    "    m = gp.Model()\n",
    "    m.Params.LogToConsole = 0\n",
    "    vars = m.addVars(dist.keys(), obj=dist, vtype=GRB.BINARY, name='x')\n",
    "    for i, j in vars.keys():\n",
    "        vars[j, i] = vars[i, j]  # edge in opposite direction\n",
    "    cons = m.addConstrs(vars.sum(c, '*') == 2 for c in trip_routegb)\n",
    "    m._vars = vars\n",
    "    m.Params.lazyConstraints = 1\n",
    "    m.optimize(subtourelim)\n",
    "    vals = m.getAttr('x', vars)\n",
    "    selected = gp.tuplelist((i, j) for i, j in vals.keys() if vals[i, j] > 0.5)\n",
    "#     print(selected)\n",
    "    tour = subtour(selected)\n",
    "    print(m.objVal)\n",
    "#     print(tour)\n",
    "    return tour"
   ]
  },
  {
   "cell_type": "code",
   "execution_count": null,
   "metadata": {},
   "outputs": [],
   "source": [
    "def determine_collecting_time(checked_sensor_arc):\n",
    "    \"\"\"After checking whether all the sensor can send data while the drone makes a trip in the way as\n",
    "    described in the Route.We assign collecting time as infinite or call the collecting time function\"\"\"\n",
    "    value=check_all_sensor_can_send_data(checked_sensor_arc)\n",
    "    if value==1:\n",
    "        t_collecting=calculate_collecting_time(checked_sensor_arc)\n",
    "    if value==0:\n",
    "        t_collecting=math.inf\n",
    "    return t_collecting"
   ]
  },
  {
   "cell_type": "code",
   "execution_count": null,
   "metadata": {},
   "outputs": [],
   "source": [
    "def check_all_sensor_can_send_data(checked_sensor_arc):\n",
    "    \"\"\"The main aim of creating this function was to check whether all the sensors are connected to the pdps in the route\n",
    "    of drone tour.For example we have pdp10 and pdp7 in our route.ie Route=[10 7].We create spanning tree for the both \n",
    "    the pdps and check whether all the sensors are connected or not.If all the sensors are not connected in the combined\n",
    "    spanning tree calculated with the pdps of the Route\"\"\"\n",
    "    s=[]\n",
    "    for key,values in checked_sensor_arc.items():\n",
    "        s=list(set().union(s,values))\n",
    "    if len(s)==len(sensor): # before there was only s==sensor but it was wrong as s is list and sensor is a list of tuple\n",
    "        return 1\n",
    "    else:\n",
    "        return 0\n",
    "    "
   ]
  },
  {
   "cell_type": "code",
   "execution_count": null,
   "metadata": {},
   "outputs": [],
   "source": [
    "def calculate_total_time(checked_sensor_arc_length):\n",
    "    '''\n",
    "    This function calculates the total time \n",
    "    '''\n",
    "    checked=checked_sensor_arc_length\n",
    "    route=[]\n",
    "    for key,value in checked.items():\n",
    "        if value!=[]:\n",
    "            route.append(key)\n",
    "#     print(\"this is the route for total time calculation\")\n",
    "#     print(route)\n",
    "    if 0 in route:\n",
    "        route.remove(0)\n",
    "    random.shuffle(route) # i added this because gurobi was giving problem\n",
    "    route=[0]+route\n",
    "#     print(\"this route is send for tsp solving\")\n",
    "#     print(route)\n",
    "#     route_nntsp=nn_tsp(route)\n",
    "    if len(route)<=2:\n",
    "        print(\" i am using nntsp\")\n",
    "        route_nntsp=nn_tsp(route)\n",
    "        total_time=determine_collecting_time(checked)+calculate_trip_time(route_nntsp)-calculate_moving_time(route_nntsp,checked)\n",
    "    else:\n",
    "#         print(\"i am using gurobi\")\n",
    "        route_grb=solve_gurobi(route)\n",
    "#         print(\"this is gurobipath\",route_grb)\n",
    "        #     total_time=determine_collecting_time(checked)+calculate_trip_time(route_nntsp)-calculate_moving_time(route_nntsp,checked)\n",
    "        collect_time=determine_collecting_time(checked)\n",
    "#         print(\"collect time\")\n",
    "#         print(collect_time)\n",
    "        if collect_time==math.inf:\n",
    "            return math.inf\n",
    "        total_time=collect_time+calculate_trip_time(route_grb)-calculate_moving_time(route_grb,checked)\n",
    "    print(\"total time\")\n",
    "    print(total_time)\n",
    "    return total_time\n",
    "    "
   ]
  },
  {
   "cell_type": "code",
   "execution_count": null,
   "metadata": {},
   "outputs": [],
   "source": [
    "def replace_with_neighbours_and_calculate_total_time(neighbours,j,route_copy):\n",
    "     '''\n",
    "    This function replaces the neighbor and calculates the total time for each combination of the route\n",
    "    input:list of neighbors, index at which the neighbors should replace and the original Route\n",
    "    output: dict:total time calculated for this neighbors\n",
    "    '''\n",
    "    total_time={}\n",
    "    \n",
    "    route_copy_list=list(route_copy)\n",
    "    #Route=nn_tsp(trip_route)\n",
    "    #Route.pop(0) ## i need the same route value everytime i.e the initial one to replace it by calculated neighbors\n",
    "    for item in neighbours:\n",
    "        spanning_tree={}\n",
    "        route_copy_list[j]=item\n",
    "        set_route=set(route_copy_list)\n",
    "        for k in set_route:\n",
    "            spanning_tree[k]=spanning_tree_collecting_time(k)\n",
    "        checked_sensor_arc_length=to_check_the_minimum_hops_between_the_pdp_and_sensor(spanning_tree)\n",
    "#         print(checked_sensor_arc_length)\n",
    "#         print(\"i am at replace sensor\")\n",
    "        \n",
    "#         for key,value in checked_sensor_arc_length.items():\n",
    "#             if value\n",
    "        temp=get_only_pdp_with_sensor_after_minimum_hop_check(checked_sensor_arc_length)\n",
    "        total_time[tuple(temp)]=calculate_total_time(checked_sensor_arc_length)\n",
    "    return total_time\n",
    "        "
   ]
  },
  {
   "cell_type": "code",
   "execution_count": null,
   "metadata": {},
   "outputs": [],
   "source": [
    "def local_search(Route):\n",
    "     '''\n",
    "    >>this function is used to peform local search \n",
    "    >>it performs local search for each of the hovering points in Route and calculate total time for each combination\n",
    "    >>it outputs the route and minimum total time\n",
    "    >>input: Route before local search\n",
    "    >>output: minimum total time and route associated with this minimum time\n",
    "    '''\n",
    "    #totaltime=totaltime\n",
    "    total_time={}\n",
    "    new_route=Route\n",
    "    if 0 in new_route:\n",
    "        new_route.remove(0)\n",
    "    route_copy=tuple(new_route.copy())\n",
    "    #sensor_subset2=sensor_subset1\n",
    "    pdp_to_search_neighbours=new_route #list of pdps to find the neighbours of each pdp\n",
    "#     print(\"Here is to search the neighbors\")\n",
    "#     print(pdp_to_search_neighbours)\n",
    "#     print(\"********\")\n",
    "    for j,val in enumerate(pdp_to_search_neighbours):\n",
    "       \n",
    "        neighbours=get_neighbours(a,pdp_to_search_neighbours[j])\n",
    "#         print(neighbours)\n",
    "        #for k in range(len(neighbours)):\n",
    "        total_time[j]=replace_with_neighbours_and_calculate_total_time(neighbours,j,route_copy)\n",
    "#     print(\"this is the total time dictionary in local search\")\n",
    "#     print(total_time)\n",
    "    if total_time=={}:\n",
    "        return Route ,math.inf,total_time\n",
    "    else:\n",
    "        minimum=[]\n",
    "        for item ,values in total_time.items():\n",
    "            minm_totaltime=min(values.items(),key=operator.itemgetter(1))[0]\n",
    "            minm_totaltime_value=min(values.items(),key=operator.itemgetter(1))[1] #gives the value of \n",
    "            minimum.append(minm_totaltime_value)\n",
    "        for m,n in total_time.items():\n",
    "            for o,k in n.items():\n",
    "                if k==min(minimum):\n",
    "                    minm_route=o\n",
    "                    break\n",
    "#         print(\"minmum time is calculated\")\n",
    "#         print(type(minm_totaltime))\n",
    "#         print(minm_totaltime)\n",
    "        #minini=min(m)\n",
    "        return minm_route,min(minimum),total_time\n",
    "#         if minm_totaltime_value<totaltime:\n",
    "#             totaltime=values[minm_totaltime]\n",
    "#             Route=minm_totaltime\n",
    "#         else:\n",
    "#             Route=Route\n",
    "#             totaltime=totaltime\n",
    "#         return Route,totaltime\n",
    "    \n",
    "\n",
    "    \n",
    "            \n",
    "        \n",
    "    \n",
    "    "
   ]
  },
  {
   "cell_type": "code",
   "execution_count": null,
   "metadata": {},
   "outputs": [],
   "source": [
    "def update_spanning(route):\n",
    "    '''\n",
    "    This function calculates the spanning tree for each of the hovering point in route\n",
    "    '''\n",
    "    spanning_tree_for_pdp={}\n",
    "    route=route\n",
    "    for i in route:\n",
    "        spanning_tree_for_pdp[i]=spanning_tree_collecting_time(i)\n",
    "    return(spanning_tree_for_pdp)\n",
    "    \n",
    "    "
   ]
  },
  {
   "cell_type": "code",
   "execution_count": null,
   "metadata": {},
   "outputs": [],
   "source": [
    "def calc_cluster_number(sensor):\n",
    "    '''\n",
    "    >>This the main heuristic algorithm where we calculate the cluster center in each iteration and find hovering points nearest to each of the center.\n",
    "    >> We then calculate total time associated with this hovering pint\n",
    "    >>input: sensors\n",
    "    >>output: best time and route\n",
    "    '''\n",
    "    best_time=math.inf\n",
    "    calculated_total=0\n",
    "    \n",
    "    for i in range(1,len(sensor)+1):\n",
    "        print(\"i am in first loop {} \".format(i))\n",
    "#         print(i)\n",
    "        new_dict={}\n",
    "        kmeans=KMeans(n_clusters=i,random_state=2000)\n",
    "        kmeans.fit(X)\n",
    "        c_centers=tuple(kmeans.cluster_centers_)\n",
    "        for j in c_centers:\n",
    "            temp={}\n",
    "            for p,value in pdp_positions.items():\n",
    "                arr=np.array(value)\n",
    "                dist=np.linalg.norm(j-arr)\n",
    "                \n",
    "                temp[p]=dist\n",
    "            new_dict[tuple(j)]=min(temp.items(),key=operator.itemgetter(1))[0]\n",
    "        subset_pdp=[]\n",
    "        for key,values in new_dict.items():\n",
    "            subset_pdp.append(values)\n",
    "#         print(\"this is the pdpd\")\n",
    "#         print(subset_pdp)\n",
    "        subset=update_spanning(subset_pdp)\n",
    "#         print(subset)\n",
    "        trip_route=get_only_pdp_with_sensor_after_minimum_hop_check(subset)# this function is called to determine the route of drone\n",
    "        \n",
    "        spanning_tree_of_sensor=create_spanning_tree_for_tour(trip_route)# here which sensor is connected to which pdp is determined\n",
    "\n",
    "        total_time=calculate_total_time(spanning_tree_of_sensor)\n",
    "        print(total_time)\n",
    "        nn_solver=get_only_pdp_with_sensor_after_minimum_hop_check(spanning_tree_of_sensor)\n",
    "        route,value,total_time_local_search=local_search(nn_solver) #calculate total time using local search algorithm\n",
    "#             print(\"this is final route from local search\")\n",
    "#             print(route)\n",
    "#             print(\"this is the minimum time from local search\")\n",
    "#             print(value)\n",
    "        if total_time<value:\n",
    "            calculated_total=total_time\n",
    "            final_route=nn_solver\n",
    "        else:\n",
    "            calculated_total=value\n",
    "            final_route=route\n",
    "            total_time=value\n",
    "            nn_solver=final_route\n",
    "#             print(\"##########\")\n",
    "#             print(calculated_total)\n",
    "#             print(final_route)\n",
    "\n",
    "        if calculated_total<=best_time:\n",
    "            best_time=calculated_total\n",
    "            best_route=final_route\n",
    "        else:\n",
    "            print(\"i was in break\")\n",
    "            break\n",
    "#         else:\n",
    "#             continue\n",
    "    return best_time,best_route\n",
    "        \n",
    "        \n",
    "            "
   ]
  },
  {
   "cell_type": "code",
   "execution_count": null,
   "metadata": {},
   "outputs": [],
   "source": [
    "def pipeline():\n",
    "    '''\n",
    "    This is the pipeline where all the test cases are called and it outputs the mean of each of the test cases\n",
    "    output: execution time and best time \n",
    "    '''\n",
    "    global pdp_positions\n",
    "    global a\n",
    "    global main_weight\n",
    "    global new_zipped\n",
    "    global arc_length\n",
    "    global distance_between_pdp\n",
    "    global sensor\n",
    "    global N\n",
    "    global X\n",
    "    jk=0\n",
    "    mean_besttime=[]\n",
    "    mean_exectime=[]\n",
    "    for key,txt_files in files_dict.items():\n",
    "        besttime=[]\n",
    "        exectime=[]\n",
    "        \n",
    "        for file in txt_files:\n",
    "            print(file)\n",
    "            start = time.time()\n",
    "            with open(file, 'r') as f:\n",
    "                sensor = ast.literal_eval(f.read())\n",
    "            if key in[1,2,3]:\n",
    "                length_of_grid=500\n",
    "            if key in [4,5,6]:\n",
    "                length_of_grid=700\n",
    "            if key in [7,8,9]:\n",
    "                length_of_grid=1000\n",
    "            if key==10:\n",
    "                length_of_grid=350\n",
    "            if key==11:\n",
    "                length_of_grid=428\n",
    "            if key==12:\n",
    "                length_of_grid=494\n",
    "            if key==13:\n",
    "                length_of_grid=553\n",
    "            if key==14:\n",
    "                length_of_grid=606\n",
    "            if key==15:\n",
    "                length_of_grid=654\n",
    "            if key==16:\n",
    "                length_of_grid=742\n",
    "            if key==17:\n",
    "                length_of_grid=782\n",
    "            if key==18:\n",
    "                length_of_grid=820\n",
    "            if key==19:\n",
    "                length_of_grid=857\n",
    "            pdp_positions=calculate_Pdp_positions(length_of_grid,transmission_range)\n",
    "            sensor=sorted(sensor)\n",
    "            s=[list(i) for i in sensor]\n",
    "            X=np.array(s)\n",
    "            trip_graph,distance_between_pdp=create_trip_graph()\n",
    "            K=nx.DiGraph()\n",
    "            for i in range(len(sensor)):\n",
    "                K.add_node('sensor{}'.format(i),pos=sensor[i])\n",
    "            euclidean_distance_between_sensor,L=calulate_distance_between_each_sensors_and_assign_weight(sensor,K)\n",
    "            distance_between_pdp_to_each_sensor,N=connectivity_graph(pdp_positions,sensor,L)\n",
    "            new_zipped,arc_length=shortest_distance_pdp_sensor(pdp_positions,sensor,N)\n",
    "        #         values32=get_values_for_weight(new_zipped,pdp_positions)\n",
    "        #         values1,counts=get_values_and_counts(values32)\n",
    "            a=np.arange(len(pdp_positions)).reshape(int(math.sqrt(len(pdp_positions))),int(math.sqrt(len(pdp_positions))))\n",
    "        #         main_weight=calculate_weight(values1,counts)\n",
    "        #         weight=calculate_weight(values1,counts)\n",
    "            best_time,route=calc_cluster_number(sensor)\n",
    "            stop = time.time()\n",
    "            duration = stop-start\n",
    "            jk=jk+1\n",
    "            besttime.append(best_time)\n",
    "            exectime.append(duration)\n",
    "            print(\"--------------------------------------------------------------------------------------------------------------\")\n",
    "            print(\"Loop : \", jk)\n",
    "            print(\"Sensor File :\", file)\n",
    "            print(\"Duration :\", duration)\n",
    "            print(\"this is n : \", route)\n",
    "            print(\"this is best:\",best_time)\n",
    "        mean_besttime.append(statistics.mean(besttime))\n",
    "        mean_exectime.append(statistics.mean(exectime))\n",
    "    return mean_besttime,mean_exectime\n",
    "        "
   ]
  },
  {
   "cell_type": "code",
   "execution_count": null,
   "metadata": {},
   "outputs": [],
   "source": [
    "besttime,exectime=pipeline()"
   ]
  },
  {
   "cell_type": "code",
   "execution_count": null,
   "metadata": {},
   "outputs": [],
   "source": [
    "import statistics"
   ]
  },
  {
   "cell_type": "code",
   "execution_count": null,
   "metadata": {},
   "outputs": [],
   "source": [
    "besttime"
   ]
  },
  {
   "cell_type": "code",
   "execution_count": null,
   "metadata": {},
   "outputs": [],
   "source": [
    "exectime"
   ]
  },
  {
   "cell_type": "code",
   "execution_count": null,
   "metadata": {},
   "outputs": [],
   "source": [
    "statistics.mean(besttime)\n"
   ]
  },
  {
   "cell_type": "code",
   "execution_count": null,
   "metadata": {},
   "outputs": [],
   "source": [
    "statistics.mean(exectime)"
   ]
  },
  {
   "cell_type": "code",
   "execution_count": null,
   "metadata": {},
   "outputs": [],
   "source": [
    "%%time\n",
    "# best_time,dicct=calc_cluster_number(sensor)"
   ]
  },
  {
   "cell_type": "code",
   "execution_count": null,
   "metadata": {},
   "outputs": [],
   "source": [
    "for i in range(1,10):\n",
    "    print(i)\n",
    "    for file in 'txt_files{}'.format(i):"
   ]
  },
  {
   "cell_type": "code",
   "execution_count": null,
   "metadata": {},
   "outputs": [],
   "source": [
    "distance_between_pdp[15,9]"
   ]
  },
  {
   "cell_type": "code",
   "execution_count": null,
   "metadata": {},
   "outputs": [],
   "source": [
    "best_time"
   ]
  },
  {
   "cell_type": "code",
   "execution_count": null,
   "metadata": {},
   "outputs": [],
   "source": [
    "sensor_that_can_send_data_while_moving(15,10)"
   ]
  },
  {
   "cell_type": "code",
   "execution_count": null,
   "metadata": {},
   "outputs": [],
   "source": [
    "dicct\n"
   ]
  },
  {
   "cell_type": "code",
   "execution_count": null,
   "metadata": {},
   "outputs": [],
   "source": [
    "# ttt=calculate_trip_time([0]+list(dicct))"
   ]
  },
  {
   "cell_type": "code",
   "execution_count": null,
   "metadata": {},
   "outputs": [],
   "source": [
    "# ttt"
   ]
  },
  {
   "cell_type": "code",
   "execution_count": null,
   "metadata": {},
   "outputs": [],
   "source": [
    "ss={}\n",
    "for i in dicct:\n",
    "    ss[i]=spanning_tree_collecting_time(i)"
   ]
  },
  {
   "cell_type": "code",
   "execution_count": null,
   "metadata": {},
   "outputs": [],
   "source": [
    "ss"
   ]
  },
  {
   "cell_type": "markdown",
   "metadata": {},
   "source": [
    "## A trip route for drone is formed in the form of list below"
   ]
  },
  {
   "cell_type": "code",
   "execution_count": null,
   "metadata": {},
   "outputs": [],
   "source": [
    "sss={}\n",
    "for val in ss:\n",
    "    sss[val]=spanning_tree_collecting_time(val)"
   ]
  },
  {
   "cell_type": "code",
   "execution_count": null,
   "metadata": {},
   "outputs": [],
   "source": [
    "sss_=to_check_the_minimum_hops_between_the_pdp_and_sensor(sss)"
   ]
  },
  {
   "cell_type": "code",
   "execution_count": null,
   "metadata": {},
   "outputs": [],
   "source": [
    "sss_"
   ]
  },
  {
   "cell_type": "code",
   "execution_count": null,
   "metadata": {},
   "outputs": [],
   "source": [
    "total_time=calculate_total_time(sss_)"
   ]
  },
  {
   "cell_type": "code",
   "execution_count": null,
   "metadata": {},
   "outputs": [],
   "source": [
    "distance_between_pdp[15,9]"
   ]
  },
  {
   "cell_type": "markdown",
   "metadata": {},
   "source": [
    "As our tour starts from the initial position 0 so 0 is added in the trip route\n"
   ]
  },
  {
   "cell_type": "markdown",
   "metadata": {},
   "source": [
    "\n",
    "\n",
    "if (0 in trip_route):\n",
    "    trip_route.remove(0)\n",
    "    trip_route=[0]+trip_route\n",
    "else:\n",
    "    trip_route=[0]+trip_route"
   ]
  },
  {
   "cell_type": "code",
   "execution_count": null,
   "metadata": {},
   "outputs": [],
   "source": [
    "caldd=calculate_trip_time([0, 4, 8, 12, 13, 14, 9, 6, 7, 3, 1])"
   ]
  },
  {
   "cell_type": "code",
   "execution_count": null,
   "metadata": {},
   "outputs": [],
   "source": [
    "total_time"
   ]
  },
  {
   "cell_type": "code",
   "execution_count": null,
   "metadata": {},
   "outputs": [],
   "source": [
    "moving_time=calculate_moving_time(list(dicct),sss_)"
   ]
  },
  {
   "cell_type": "code",
   "execution_count": null,
   "metadata": {},
   "outputs": [],
   "source": [
    "fg=solve_gurobi([ 0, 7,4, 8, 9, 11, 17, 22, 26, 27, 29, 31, 33, 37, 38, 39, 42, 43, 50, 52, 54, 56, 62])"
   ]
  },
  {
   "cell_type": "code",
   "execution_count": null,
   "metadata": {},
   "outputs": [],
   "source": [
    "fg"
   ]
  },
  {
   "cell_type": "code",
   "execution_count": null,
   "metadata": {},
   "outputs": [],
   "source": [
    "chd=[ 0, 7,4, 8, 9, 11, 17, 22, 26, 27, 29, 31, 33, 37, 38, 39, 42, 43, 50, 52, 54, 56, 62]"
   ]
  },
  {
   "cell_type": "code",
   "execution_count": null,
   "metadata": {},
   "outputs": [],
   "source": [
    "chd"
   ]
  },
  {
   "cell_type": "code",
   "execution_count": null,
   "metadata": {},
   "outputs": [],
   "source": [
    "vb=random.shuffle(chd)"
   ]
  },
  {
   "cell_type": "code",
   "execution_count": null,
   "metadata": {},
   "outputs": [],
   "source": [
    "chd"
   ]
  },
  {
   "cell_type": "code",
   "execution_count": null,
   "metadata": {},
   "outputs": [],
   "source": [
    "trs"
   ]
  },
  {
   "cell_type": "code",
   "execution_count": null,
   "metadata": {},
   "outputs": [],
   "source": [
    "var_holder = {}\n",
    " \n",
    "for i in range(10):\n",
    "    var_holder['my_var_' + str(i)] = \"iterationNumber==\"+str(i)\n",
    " \n",
    "locals().update(var_holder)\n",
    " \n",
    "print(type(my_var_0))"
   ]
  },
  {
   "cell_type": "code",
   "execution_count": null,
   "metadata": {},
   "outputs": [],
   "source": []
  }
 ],
 "metadata": {
  "kernelspec": {
   "display_name": "Python 3",
   "language": "python",
   "name": "python3"
  },
  "language_info": {
   "codemirror_mode": {
    "name": "ipython",
    "version": 3
   },
   "file_extension": ".py",
   "mimetype": "text/x-python",
   "name": "python",
   "nbconvert_exporter": "python",
   "pygments_lexer": "ipython3",
   "version": "3.8.5"
  }
 },
 "nbformat": 4,
 "nbformat_minor": 4
}
