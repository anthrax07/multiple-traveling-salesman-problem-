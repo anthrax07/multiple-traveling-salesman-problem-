{
 "cells": [
  {
   "cell_type": "code",
   "execution_count": 2,
   "metadata": {},
   "outputs": [],
   "source": [
    "import pandas as pd\n",
    "import numpy as np\n",
    "from matplotlib import pyplot as plt\n",
    "from gurobipy import *"
   ]
  },
  {
   "cell_type": "code",
   "execution_count": 3,
   "metadata": {},
   "outputs": [],
   "source": [
    "no_of_vehicles = 5"
   ]
  },
  {
   "cell_type": "code",
   "execution_count": 4,
   "metadata": {},
   "outputs": [],
   "source": [
    "df = pd.read_csv(\"WRSN-coordinates.txt\", ' ')"
   ]
  },
  {
   "cell_type": "code",
   "execution_count": 5,
   "metadata": {},
   "outputs": [],
   "source": [
    "Y = list(df[\"Y\"]);"
   ]
  },
  {
   "cell_type": "code",
   "execution_count": 6,
   "metadata": {},
   "outputs": [],
   "source": [
    "X = list(df[\"X\"])"
   ]
  },
  {
   "cell_type": "code",
   "execution_count": 7,
   "metadata": {},
   "outputs": [],
   "source": [
    "coordinates = np.column_stack((X, Y))"
   ]
  },
  {
   "cell_type": "code",
   "execution_count": 8,
   "metadata": {},
   "outputs": [
    {
     "data": {
      "text/plain": [
       "array([[ 0,  0],\n",
       "       [41, 49],\n",
       "       [35, 17],\n",
       "       [55, 45],\n",
       "       [55, 20],\n",
       "       [15, 30],\n",
       "       [25, 30],\n",
       "       [20, 50],\n",
       "       [10, 43],\n",
       "       [55, 60],\n",
       "       [30, 60],\n",
       "       [20, 65],\n",
       "       [50, 35],\n",
       "       [30, 25],\n",
       "       [15, 10],\n",
       "       [30,  5],\n",
       "       [15, 40]])"
      ]
     },
     "execution_count": 8,
     "metadata": {},
     "output_type": "execute_result"
    }
   ],
   "source": [
    "coordinates"
   ]
  },
  {
   "cell_type": "code",
   "execution_count": 9,
   "metadata": {},
   "outputs": [],
   "source": [
    "n = len(coordinates)"
   ]
  },
  {
   "cell_type": "code",
   "execution_count": 10,
   "metadata": {},
   "outputs": [
    {
     "name": "stdout",
     "output_type": "stream",
     "text": [
      "Restricted license - for non-production use only - expires 2023-10-25\n"
     ]
    }
   ],
   "source": [
    "m = Model(\"MVRP\")"
   ]
  },
  {
   "cell_type": "code",
   "execution_count": 11,
   "metadata": {},
   "outputs": [],
   "source": [
    "x = {};"
   ]
  },
  {
   "cell_type": "code",
   "execution_count": 12,
   "metadata": {},
   "outputs": [],
   "source": [
    "y = {}"
   ]
  },
  {
   "cell_type": "code",
   "execution_count": 16,
   "metadata": {},
   "outputs": [],
   "source": [
    "dist_matrix = np.empty([n, n])"
   ]
  },
  {
   "cell_type": "code",
   "execution_count": 17,
   "metadata": {},
   "outputs": [
    {
     "data": {
      "text/plain": [
       "array([[9.01630201e-312, 9.01657800e-312, 1.16895932e-320,\n",
       "                    nan, 1.12646967e-321, 0.00000000e+000,\n",
       "        8.94213159e+130, 6.82017654e-038, 8.51699324e-096,\n",
       "        9.51164989e-043, 6.37980173e-067, 9.17328798e-072,\n",
       "        2.89457046e-057, 6.01347002e-154, 1.14327516e-071,\n",
       "        1.18295532e-076, 4.41944541e-062],\n",
       "       [1.21201399e-099, 5.60012299e-067, 2.78606619e+179,\n",
       "        5.98149126e-154, 4.24783896e-086, 2.00376585e-052,\n",
       "        4.57669521e-072, 3.31336658e-033, 1.05235383e-153,\n",
       "        8.60972211e-067, 1.13278064e-095, 6.01347002e-154,\n",
       "        1.69014496e-052, 1.02941350e-071, 4.66000397e-033,\n",
       "        7.25066048e-043, 1.69053530e-052],\n",
       "       [1.18295137e-076, 6.01346953e-154, 7.48534014e-067,\n",
       "        1.21156926e-099, 4.43917043e-038, 3.11212924e+179,\n",
       "        3.84572306e-086, 2.31656150e-052, 2.44005739e-154,\n",
       "        4.56335201e-072, 2.90129909e-057, 1.05250177e-153,\n",
       "        4.18392973e-062, 1.05691666e+141, 6.01347002e-154,\n",
       "        1.69258079e-052, 2.57595207e-057],\n",
       "       [4.66224047e-033, 3.57281348e-062, 2.89631559e-057,\n",
       "        1.21090039e-099, 6.01334510e-154, 8.54621477e-072,\n",
       "        3.60094811e+179, 4.04679961e-086, 1.11005056e-047,\n",
       "        4.57669523e-072, 3.50970052e-033, 1.14726849e-259,\n",
       "        6.01347002e-154, 3.12378285e-033, 1.17941595e-095,\n",
       "        1.45217175e-047, 9.05618825e-043],\n",
       "       [9.34428459e-067, 7.25066042e-043, 6.01347002e-154,\n",
       "        1.38373855e-047, 1.18295466e-076, 4.27180268e-033,\n",
       "        5.20174390e-090, 6.76925746e-043, 3.76430988e+179,\n",
       "        5.98149110e-154, 3.84568602e-086, 1.36900992e-071,\n",
       "        1.55736577e-033, 4.08447904e-033, 1.05191738e-153,\n",
       "        4.90847109e-062, 1.17959740e-095],\n",
       "       [6.01347002e-154, 1.10818589e-047, 3.53477817e-057,\n",
       "        2.52578220e-052, 4.75179287e-038, 6.01346953e-154,\n",
       "        1.38080700e-047, 5.20843312e-090, 5.59939853e-067,\n",
       "        3.92259883e+179, 4.65002894e-086, 5.34851278e-038,\n",
       "        2.44006305e-154, 4.56335201e-072, 1.90180956e-052,\n",
       "        1.05148151e-153, 1.14394360e-071],\n",
       "       [8.99611207e-096, 5.34966528e-038, 1.10763900e-047,\n",
       "        6.01347002e-154, 5.64244877e-062, 3.11413498e-033,\n",
       "        8.17163773e-043, 1.26931701e-076, 4.01149208e-057,\n",
       "        1.21112015e-099, 6.01334510e-154, 1.30388021e-076,\n",
       "        3.92132752e+179, 3.44357016e-086, 1.20054592e-071,\n",
       "        1.28823127e-057, 2.58143366e-057],\n",
       "       [1.14583817e-259, 6.01347002e-154, 2.11060498e-052,\n",
       "        1.17941452e-095, 1.31452332e-047, 1.12947625e-042,\n",
       "        1.36945036e-071, 6.73944703e-067, 6.01347002e-154,\n",
       "        2.00493391e-076, 5.08074313e-067, 1.31196711e-071,\n",
       "        1.21268196e-099, 5.98149210e-154, 3.69095140e-086,\n",
       "        1.69299502e-052, 2.99938298e-067],\n",
       "       [1.08516485e-042, 1.05133640e-153, 5.15437304e-062,\n",
       "        9.46427971e-096, 6.01347002e-154, 1.72558932e-047,\n",
       "        6.81438841e-038, 1.42627376e-071, 5.99760571e-067,\n",
       "        2.21459879e-052, 1.26931502e-076, 6.01346953e-154,\n",
       "        1.42516482e-071, 1.21134078e-099, 6.77188490e-043,\n",
       "        4.08468191e+179, 3.44357010e-086],\n",
       "       [1.36900562e-071, 2.44006449e-154, 2.99063837e-067,\n",
       "        1.72371943e-047, 1.05162945e-153, 1.90097956e-052,\n",
       "        9.45879337e-096, 4.66917170e-062, 4.27328459e-033,\n",
       "        6.01347002e-154, 2.17767044e-076, 1.02835801e-071,\n",
       "        1.42604405e-071, 1.18295334e-076, 1.36856424e-071,\n",
       "        5.20460917e-090, 6.01334510e-154],\n",
       "       [1.03330761e-047, 3.75988018e+179, 3.64464665e-086,\n",
       "        1.24503145e-047, 1.15298172e-259, 8.94213159e+130,\n",
       "        1.89975767e-052, 8.98331776e-096, 5.40220733e-062,\n",
       "        2.73947681e-057, 8.60969357e-067, 1.68817590e-052,\n",
       "        6.01347002e-154, 1.08645608e-071, 1.26931239e-076,\n",
       "        5.34275028e-038, 1.21179511e-099],\n",
       "       [2.40679026e-057, 4.08657395e+179, 5.98149123e-154,\n",
       "        4.64999190e-086, 1.79739515e-052, 1.96568862e-062,\n",
       "        3.69928128e-033, 1.05191738e-153, 1.72398565e-047,\n",
       "        1.13387790e-095, 6.01347002e-154, 7.12748838e-067,\n",
       "        7.40213558e-038, 2.00326164e-076, 7.25416372e-043,\n",
       "        7.40559197e-038, 1.18295071e-076],\n",
       "       [6.01346953e-154, 3.37424802e-057, 1.21134426e-099,\n",
       "        1.03330763e-047, 3.27549594e+179, 3.44357019e-086,\n",
       "        1.36945385e-071, 2.44005876e-154, 2.36942783e-038,\n",
       "        4.08523437e-033, 1.05177342e-153, 1.31351651e-071,\n",
       "        1.20149433e+141, 6.01347002e-154, 4.01832538e-057,\n",
       "        1.48278806e-076, 5.34618109e-038],\n",
       "       [7.75258583e-072, 1.31237876e-047, 1.21223548e-099,\n",
       "        6.01334510e-154, 3.67247041e-062, 2.94879476e+179,\n",
       "        4.04679956e-086, 6.00749908e-067, 2.99939994e-067,\n",
       "        5.15155026e-062, 1.14663210e-259, 6.01347002e-154,\n",
       "        4.27555566e-033, 7.59344509e-096, 1.91656001e-076,\n",
       "        4.27328459e-033, 1.12948500e-042],\n",
       "       [7.25066029e-043, 6.01347002e-154, 5.15246650e-062,\n",
       "        1.18295270e-076, 1.24395703e-047, 1.21111755e-099,\n",
       "        5.60012299e-067, 2.78858647e+179, 5.98149117e-154,\n",
       "        3.84568602e-086, 8.61114822e-067, 2.99938302e-067,\n",
       "        9.74149626e-072, 1.05221043e-153, 4.67202417e-062,\n",
       "        9.92513222e-096, 6.01347002e-154],\n",
       "       [3.53543159e-057, 1.03979315e-042, 3.69410628e-057,\n",
       "        7.25066050e-043, 6.01346953e-154, 1.82918514e-076,\n",
       "        1.21223635e-099, 8.54400411e-072, 2.62840047e+179,\n",
       "        5.05218192e-086, 9.35013121e-067, 2.44005593e-154,\n",
       "        1.28446940e-057, 3.21868258e-057, 1.05119187e-153,\n",
       "        9.34723346e-067, 1.08614746e-095],\n",
       "       [1.65716447e-047, 1.31317461e-047, 6.01347002e-154,\n",
       "        1.65882431e-076, 1.79339644e-052, 1.08551245e-042,\n",
       "        7.75262029e-072, 2.21134400e-052, 1.21179510e-099,\n",
       "        6.01334510e-154, 3.67294518e-062, 3.11466933e+179,\n",
       "        3.64464659e-086, 6.13055070e-062, 3.62603494e-043,\n",
       "        4.47191024e-033, 1.14615450e-259]])"
      ]
     },
     "execution_count": 17,
     "metadata": {},
     "output_type": "execute_result"
    }
   ],
   "source": [
    "dist_matrix"
   ]
  },
  {
   "cell_type": "code",
   "execution_count": 18,
   "metadata": {},
   "outputs": [],
   "source": [
    "for i in range(n):\n",
    "    for j in range(n):\n",
    "        x[i, j] = m.addVar(vtype=GRB.BINARY, name=\"x%d,%d\" % (i, j))  # 决策变量，公式1(Decision variable, formula 1)\n",
    "        dist_matrix[i, j] = np.sqrt((X[i] - X[j]) ** 2 + (Y[i] - Y[j]) ** 2)  # 距离矩阵(Distance matrix)"
   ]
  },
  {
   "cell_type": "code",
   "execution_count": 21,
   "metadata": {},
   "outputs": [],
   "source": [
    "m.setObjective(quicksum(quicksum(x[(i, j)] * dist_matrix[(i, j)] for j in range(n)) for i in range(n)),\n",
    "               GRB.MINIMIZE)  # 目标函数, 公式2 (Objective function, formula 2)"
   ]
  },
  {
   "cell_type": "code",
   "execution_count": 23,
   "metadata": {},
   "outputs": [
    {
     "data": {
      "text/plain": [
       "<gurobi.Constr *Awaiting Model Update*>"
      ]
     },
     "execution_count": 23,
     "metadata": {},
     "output_type": "execute_result"
    }
   ],
   "source": [
    "m.addConstr(quicksum(x[(0, j)] for j in range(n)) == no_of_vehicles)  # 约束条件1，公式3(\n",
    "# Constraint 1, formula 3)"
   ]
  },
  {
   "cell_type": "code",
   "execution_count": 24,
   "metadata": {},
   "outputs": [
    {
     "data": {
      "text/plain": [
       "<gurobi.Constr *Awaiting Model Update*>"
      ]
     },
     "execution_count": 24,
     "metadata": {},
     "output_type": "execute_result"
    }
   ],
   "source": [
    "m.addConstr(quicksum(x[(i, 0)] for i in range(n)) == no_of_vehicles)  # 约束条件2，公式4"
   ]
  },
  {
   "cell_type": "code",
   "execution_count": 25,
   "metadata": {},
   "outputs": [],
   "source": [
    "for i in range(n - 1):\n",
    "    m.addConstr(quicksum(x[(i + 1, j)] for j in range(n)) == 1)  # 约束条件3，公式5"
   ]
  },
  {
   "cell_type": "code",
   "execution_count": 26,
   "metadata": {},
   "outputs": [],
   "source": [
    "for j in range(n - 1):\n",
    "    m.addConstr(quicksum(x[(i, j + 1)] for i in range(n)) == 1)  # 约束条件4，公式6"
   ]
  },
  {
   "cell_type": "code",
   "execution_count": 27,
   "metadata": {},
   "outputs": [],
   "source": [
    "for j in range(n):  # 约束条件5，公式7\n",
    "    for i in range(n):\n",
    "        m.addConstr((x[i, j] + x[j, i]) <= 1)"
   ]
  },
  {
   "cell_type": "code",
   "execution_count": 28,
   "metadata": {},
   "outputs": [],
   "source": [
    "m.update()"
   ]
  },
  {
   "cell_type": "code",
   "execution_count": 29,
   "metadata": {},
   "outputs": [
    {
     "name": "stdout",
     "output_type": "stream",
     "text": [
      "Gurobi Optimizer version 9.5.0 build v9.5.0rc5 (win64)\n",
      "Thread count: 4 physical cores, 8 logical processors, using up to 8 threads\n",
      "Optimize a model with 323 rows, 289 columns and 1139 nonzeros\n",
      "Model fingerprint: 0xda7e3749\n",
      "Variable types: 0 continuous, 289 integer (289 binary)\n",
      "Coefficient statistics:\n",
      "  Matrix range     [1e+00, 2e+00]\n",
      "  Objective range  [6e+00, 8e+01]\n",
      "  Bounds range     [1e+00, 1e+00]\n",
      "  RHS range        [1e+00, 5e+00]\n",
      "Found heuristic solution: objective 904.2464630\n",
      "Presolve removed 153 rows and 17 columns\n",
      "Presolve time: 0.01s\n",
      "Presolved: 170 rows, 272 columns, 816 nonzeros\n",
      "Variable types: 0 continuous, 272 integer (272 binary)\n",
      "\n",
      "Root relaxation: objective 5.408471e+02, 58 iterations, 0.00 seconds (0.00 work units)\n",
      "\n",
      "    Nodes    |    Current Node    |     Objective Bounds      |     Work\n",
      " Expl Unexpl |  Obj  Depth IntInf | Incumbent    BestBd   Gap | It/Node Time\n",
      "\n",
      "*    0     0               0     540.8471172  540.84712  0.00%     -    0s\n",
      "\n",
      "Explored 1 nodes (58 simplex iterations) in 0.05 seconds (0.00 work units)\n",
      "Thread count was 8 (of 8 available processors)\n",
      "\n",
      "Solution count 2: 540.847 904.246 \n",
      "\n",
      "Optimal solution found (tolerance 1.00e-04)\n",
      "Best objective 5.408471172323e+02, best bound 5.408471172323e+02, gap 0.0000%\n"
     ]
    }
   ],
   "source": [
    "m.optimize()"
   ]
  },
  {
   "cell_type": "code",
   "execution_count": 30,
   "metadata": {},
   "outputs": [
    {
     "name": "stdout",
     "output_type": "stream",
     "text": [
      "\n",
      " minimum distance: 540.847\n"
     ]
    }
   ],
   "source": [
    "print('\\n minimum distance: %g' % m.objVal)"
   ]
  },
  {
   "cell_type": "code",
   "execution_count": 31,
   "metadata": {},
   "outputs": [
    {
     "name": "stdout",
     "output_type": "stream",
     "text": [
      "\n",
      "    Variable            x \n",
      "-------------------------\n",
      "        x0,2            1 \n",
      "        x0,5            1 \n",
      "        x0,7            1 \n",
      "        x0,8            1 \n",
      "       x0,14            1 \n",
      "        x1,9            1 \n",
      "       x2,13            1 \n",
      "       x3,12            1 \n",
      "        x4,0            1 \n",
      "        x5,6            1 \n",
      "        x6,0            1 \n",
      "       x7,11            1 \n",
      "       x8,16            1 \n",
      "        x9,3            1 \n",
      "       x10,1            1 \n",
      "      x11,10            1 \n",
      "       x12,4            1 \n",
      "       x13,0            1 \n",
      "      x14,15            1 \n",
      "       x15,0            1 \n",
      "       x16,0            1 \n"
     ]
    }
   ],
   "source": [
    "m.printAttr('x')"
   ]
  },
  {
   "cell_type": "code",
   "execution_count": 32,
   "metadata": {},
   "outputs": [],
   "source": [
    "from_node = []\n",
    "to_node = np.empty([n, n])"
   ]
  },
  {
   "cell_type": "code",
   "execution_count": 33,
   "metadata": {},
   "outputs": [],
   "source": [
    "for v in m.getVars():\n",
    "    from_node.append(v.x)"
   ]
  },
  {
   "cell_type": "code",
   "execution_count": 34,
   "metadata": {},
   "outputs": [],
   "source": [
    "for i in range(n):\n",
    "    for j in range(n):\n",
    "        to_node[i, j] = from_node[n * i + j]"
   ]
  },
  {
   "cell_type": "code",
   "execution_count": 35,
   "metadata": {},
   "outputs": [
    {
     "name": "stdout",
     "output_type": "stream",
     "text": [
      "\n",
      "Distance Matrix (dij):\n",
      "     0   1   2   3   4   5   6   7   8   9   10  11  12  13  14  15  16\n",
      "0    0  63  38  71  58  33  39  53  44  81  67  68  61  39  18  30  42\n",
      "1   63   0  32  14  32  32  24  21  31  17  15  26  16  26  46  45  27\n",
      "2   38  32   0  34  20  23  16  36  36  47  43  50  23   9  21  13  30\n",
      "3   71  14  34   0  25  42  33  35  45  15  29  40  11  32  53  47  40\n",
      "4   58  32  20  25   0  41  31  46  50  40  47  57  15  25  41  29  44\n",
      "5   33  32  23  42  41   0  10  20  13  50  33  35  35  15  20  29  10\n",
      "6   39  24  16  33  31  10   0  20  19  42  30  35  25   7  22  25  14\n",
      "7   53  21  36  35  46  20  20   0  12  36  14  15  33  26  40  46  11\n",
      "8   44  31  36  45  50  13  19  12   0  48  26  24  40  26  33  42   5\n",
      "9   81  17  47  15  40  50  42  36  48   0  25  35  25  43  64  60  44\n",
      "10  67  15  43  29  47  33  30  14  26  25   0  11  32  35  52  55  25\n",
      "11  68  26  50  40  57  35  35  15  24  35  11   0  42  41  55  60  25\n",
      "12  61  16  23  11  15  35  25  33  40  25  32  42   0  22  43  36  35\n",
      "13  39  26   9  32  25  15   7  26  26  43  35  41  22   0  21  20  21\n",
      "14  18  46  21  53  41  20  22  40  33  64  52  55  43  21   0  15  30\n",
      "15  30  45  13  47  29  29  25  46  42  60  55  60  36  20  15   0  38\n",
      "16  42  27  30  40  44  10  14  11   5  44  25  25  35  21  30  38   0\n",
      "\n",
      "Decision (Xij):\n",
      "     0   1   2   3   4   5   6   7   8   9   10  11  12  13  14  15  16\n",
      "0    0   0   1   0   0   1   0   1   1   0   0   0   0   0   1   0   0\n",
      "1    0   0   0   0   0   0   0   0   0   1   0   0   0   0   0   0   0\n",
      "2    0   0   0   0   0   0   0   0   0   0   0   0   0   1   0   0   0\n",
      "3    0   0   0   0   0   0   0   0   0   0   0   0   1   0   0   0   0\n",
      "4    1   0   0   0   0   0   0   0   0   0   0   0   0   0   0   0   0\n",
      "5    0   0   0   0   0   0   1   0   0   0   0   0   0   0   0   0   0\n",
      "6    1   0   0   0   0   0   0   0   0   0   0   0   0   0   0   0   0\n",
      "7    0   0   0   0   0   0   0   0   0   0   0   1   0   0   0   0   0\n",
      "8    0   0   0   0   0   0   0   0   0   0   0   0   0   0   0   0   1\n",
      "9    0   0   0   1   0   0   0   0   0   0   0   0   0   0   0   0   0\n",
      "10   0   1   0   0   0   0   0   0   0   0   0   0   0   0   0   0   0\n",
      "11   0   0   0   0   0   0   0   0   0   0   1   0   0   0   0   0   0\n",
      "12   0   0   0   0   1   0   0   0   0   0   0   0   0   0   0   0   0\n",
      "13   1   0   0   0   0   0   0   0   0   0   0   0   0   0   0   0   0\n",
      "14   0   0   0   0   0   0   0   0   0   0   0   0   0   0   0   1   0\n",
      "15   1   0   0   0   0   0   0   0   0   0   0   0   0   0   0   0   0\n",
      "16   1   0   0   0   0   0   0   0   0   0   0   0   0   0   0   0   0\n"
     ]
    }
   ],
   "source": [
    "print('\\nDistance Matrix (dij):\\n', pd.DataFrame(dist_matrix).astype('int64'))\n",
    "print('\\nDecision (Xij):\\n', pd.DataFrame(to_node).astype('int64'))"
   ]
  },
  {
   "cell_type": "code",
   "execution_count": 36,
   "metadata": {},
   "outputs": [],
   "source": [
    "# to node:决策矩阵\n",
    "I = []  # 决策矩阵的行\n",
    "J = []  # 决策矩阵的列\n",
    "for i in range(n):\n",
    "    for j in range(n):\n",
    "        if to_node[i, j] > 0.5:\n",
    "            I.append(i)\n",
    "            J.append(j)"
   ]
  },
  {
   "cell_type": "code",
   "execution_count": 37,
   "metadata": {},
   "outputs": [
    {
     "name": "stdout",
     "output_type": "stream",
     "text": [
      "[ 0  0  0  0  0  1  2  3  4  5  6  7  8  9 10 11 12 13 14 15 16]\n",
      "[ 2  5  7  8 14  9 13 12  0  6  0 11 16  3  1 10  4  0 15  0  0]\n"
     ]
    }
   ],
   "source": [
    "print(np.array(I))\n",
    "print(np.array(J))"
   ]
  },
  {
   "cell_type": "code",
   "execution_count": 38,
   "metadata": {},
   "outputs": [],
   "source": [
    "all_routes = {}\n",
    "cnt = 0"
   ]
  },
  {
   "cell_type": "code",
   "execution_count": 39,
   "metadata": {},
   "outputs": [
    {
     "name": "stdout",
     "output_type": "stream",
     "text": [
      "all sub route trace:\n",
      "{'0': [0, 2, 13, 0], '1': [0, 5, 6, 0], '2': [0, 7, 11, 10, 1, 9, 3, 12, 4, 0], '3': [0, 8, 16, 0], '4': [0, 14, 15, 0]}\n"
     ]
    }
   ],
   "source": [
    "for i in range(no_of_vehicles):\n",
    "    end = J[i]  # Take out the J[0] of (0,J[0])\n",
    "    route = [0, end]  # Initial route=[0,J[0]]\n",
    "    while end != 0:\n",
    "        start_index = I.index(end)  # 找到J[0]在I[]中对应的index，也就是下一个取值的start_index (# Find the index corresponding to J[0] in I[], which is the start_index of the next value)\n",
    "        end = J[start_index]  # 将这个index, 到J[]中去找对应的值，(# Put this index, to J[] to find the corresponding value,)\n",
    "        route.append(end)  # 将该值添加到子路径列表route中 (Add the value to the sub-route list route)\n",
    "    all_routes[str(i)] = route  # 多条子路径构成了总的路径表达(Multiple sub-paths constitute the total path expression)\n",
    "# 输出all_routes, 包括各条子路径# Output all_routes, including each sub-route\n",
    "print('all sub route trace:')\n",
    "print(all_routes)"
   ]
  },
  {
   "cell_type": "code",
   "execution_count": 40,
   "metadata": {},
   "outputs": [
    {
     "name": "stdout",
     "output_type": "stream",
     "text": [
      "all sub route total distance sum:\n",
      "{0: 87.39538242827732, 1: 82.59226804203011, 2: 213.90805870165184, 3: 92.69845073072119, 4: 64.25295732965294}\n"
     ]
    }
   ],
   "source": [
    "sub_route_total_distance = {}\n",
    "\n",
    "for i in range(no_of_vehicles):\n",
    "    prev_index = 0\n",
    "    # print('\\n')\n",
    "    sub_route_total_distance[i] = 0\n",
    "    for j in range(len(all_routes[str(i)])):\n",
    "        cur_index = all_routes[str(i)][j]\n",
    "        # print('dist[%d,%d]=%d' % (prev_index, cur_index, dist_matrix[prev_index][cur_index]))\n",
    "        sub_route_total_distance[i] += dist_matrix[prev_index][cur_index]\n",
    "        prev_index = cur_index\n",
    "print('all sub route total distance sum:')\n",
    "print(sub_route_total_distance)\n"
   ]
  },
  {
   "cell_type": "code",
   "execution_count": 41,
   "metadata": {},
   "outputs": [
    {
     "data": {
      "text/plain": [
       "Text(0.5, 1.0, 'Original sensors and chargers positions')"
      ]
     },
     "execution_count": 41,
     "metadata": {},
     "output_type": "execute_result"
    },
    {
     "data": {
      "image/png": "[encoded data removed]",
      "text/plain": [
       "<Figure size 432x288 with 1 Axes>"
      ]
     },
     "metadata": {
      "needs_background": "light"
     },
     "output_type": "display_data"
    }
   ],
   "source": [
    "# Figure 1 Original WRSN sensor node and charger Wireless radar sensor network\n",
    "plt.figure()\n",
    "plt.scatter(X[1:], Y[1:], marker='o', color='blue')\n",
    "plt.scatter(X[0], Y[0], marker='^', color='blue')\n",
    "plt.xlabel('x-coordinate(m)')\n",
    "plt.ylabel('y-coordinate(m)')\n",
    "for i in range(no_of_vehicles):\n",
    "    plt.scatter(X[0] - 2 + i, Y[0] - 1, marker='^', color='red')\n",
    "plt.title('Original sensors and chargers positions')\n"
   ]
  },
  {
   "cell_type": "code",
   "execution_count": 42,
   "metadata": {},
   "outputs": [
    {
     "data": {
      "image/png": "[encoded data removed]",
      "text/plain": [
       "<Figure size 432x288 with 1 Axes>"
      ]
     },
     "metadata": {
      "needs_background": "light"
     },
     "output_type": "display_data"
    }
   ],
   "source": [
    "# Figure 2 Trajectory after MTSP solution\n",
    "plt.figure()\n",
    "plt.scatter(X[1:], Y[1:], marker='o', color='blue')\n",
    "plt.scatter(X[0], Y[0], marker='^', color='blue')\n",
    "plt.xlabel('x-coordinate(m)')\n",
    "plt.ylabel('y-coordinate(m)')\n",
    "plt.title('Total min distance %g (m)' % m.objVal)\n",
    "# plt.plot([XX1, XX2], [YY1, YY2])\n",
    "for index in all_routes:\n",
    "    route_list = all_routes[index]\n",
    "    x = []\n",
    "    y = []\n",
    "    for i in route_list:\n",
    "        x.append(X[i])\n",
    "        y.append(Y[i])\n",
    "    plt.plot(x, y)\n",
    "plt.show()"
   ]
  },
  {
   "cell_type": "code",
   "execution_count": null,
   "metadata": {},
   "outputs": [],
   "source": []
  }
 ],
 "metadata": {
  "kernelspec": {
   "display_name": "Python 3",
   "language": "python",
   "name": "python3"
  },
  "language_info": {
   "codemirror_mode": {
    "name": "ipython",
    "version": 3
   },
   "file_extension": ".py",
   "mimetype": "text/x-python",
   "name": "python",
   "nbconvert_exporter": "python",
   "pygments_lexer": "ipython3",
   "version": "3.8.5"
  }
 },
 "nbformat": 4,
 "nbformat_minor": 4
}
