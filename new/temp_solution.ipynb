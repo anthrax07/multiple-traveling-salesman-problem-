{
 "cells": [
  {
   "cell_type": "code",
   "execution_count": 1,
   "metadata": {},
   "outputs": [],
   "source": [
    "def get_weight():\n",
    "    \n",
    "    weight = {0: 0,\n",
    "     1: 0,\n",
    "     2: 0,\n",
    "     4: 0,\n",
    "     5: 1.0,\n",
    "     3: 2.0,\n",
    "     8: 2.1666666666666665,\n",
    "     12: 2.1666666666666665,\n",
    "     6: 2.6499999999999995,\n",
    "     14: 2.6999999999999997,\n",
    "     13: 3.0,\n",
    "     9: 3.5,\n",
    "     15: 3.8666666666666667,\n",
    "     7: 4.416666666666667,\n",
    "     11: 4.833333333333333,\n",
    "     10: 5.95}\n",
    "    return weight"
   ]
  },
  {
   "cell_type": "code",
   "execution_count": 2,
   "metadata": {},
   "outputs": [],
   "source": [
    "main_weight=get_weight()"
   ]
  },
  {
   "cell_type": "code",
   "execution_count": 3,
   "metadata": {},
   "outputs": [],
   "source": [
    "weight=get_weight()"
   ]
  },
  {
   "cell_type": "code",
   "execution_count": 4,
   "metadata": {},
   "outputs": [
    {
     "data": {
      "text/plain": [
       "16"
      ]
     },
     "execution_count": 4,
     "metadata": {},
     "output_type": "execute_result"
    }
   ],
   "source": [
    "len(weight)"
   ]
  },
  {
   "cell_type": "code",
   "execution_count": 5,
   "metadata": {
    "jupyter": {
     "source_hidden": true
    }
   },
   "outputs": [],
   "source": [
    "pdb_distance = {(0, 0): 0.0,\n",
    " (0, 1): 141.4213562373095,\n",
    " (0, 2): 282.842712474619,\n",
    " (0, 3): 424.26406871192853,\n",
    " (0, 4): 141.4213562373095,\n",
    " (0, 5): 200.0,\n",
    " (0, 6): 316.22776601683796,\n",
    " (0, 7): 447.21359549995793,\n",
    " (0, 8): 282.842712474619,\n",
    " (0, 9): 316.22776601683796,\n",
    " (0, 10): 400.0,\n",
    " (0, 11): 509.9019513592785,\n",
    " (0, 12): 424.26406871192853,\n",
    " (0, 13): 447.21359549995793,\n",
    " (0, 14): 509.9019513592785,\n",
    " (0, 15): 600.0,\n",
    " (1, 0): 141.4213562373095,\n",
    " (1, 1): 0.0,\n",
    " (1, 2): 141.4213562373095,\n",
    " (1, 3): 282.842712474619,\n",
    " (1, 4): 200.0,\n",
    " (1, 5): 141.4213562373095,\n",
    " (1, 6): 200.0,\n",
    " (1, 7): 316.22776601683796,\n",
    " (1, 8): 316.22776601683796,\n",
    " (1, 9): 282.842712474619,\n",
    " (1, 10): 316.22776601683796,\n",
    " (1, 11): 400.0,\n",
    " (1, 12): 447.21359549995793,\n",
    " (1, 13): 424.26406871192853,\n",
    " (1, 14): 447.21359549995793,\n",
    " (1, 15): 509.9019513592785,\n",
    " (2, 0): 282.842712474619,\n",
    " (2, 1): 141.4213562373095,\n",
    " (2, 2): 0.0,\n",
    " (2, 3): 141.4213562373095,\n",
    " (2, 4): 316.22776601683796,\n",
    " (2, 5): 200.0,\n",
    " (2, 6): 141.4213562373095,\n",
    " (2, 7): 200.0,\n",
    " (2, 8): 400.0,\n",
    " (2, 9): 316.22776601683796,\n",
    " (2, 10): 282.842712474619,\n",
    " (2, 11): 316.22776601683796,\n",
    " (2, 12): 509.9019513592785,\n",
    " (2, 13): 447.21359549995793,\n",
    " (2, 14): 424.26406871192853,\n",
    " (2, 15): 447.21359549995793,\n",
    " (3, 0): 424.26406871192853,\n",
    " (3, 1): 282.842712474619,\n",
    " (3, 2): 141.4213562373095,\n",
    " (3, 3): 0.0,\n",
    " (3, 4): 447.21359549995793,\n",
    " (3, 5): 316.22776601683796,\n",
    " (3, 6): 200.0,\n",
    " (3, 7): 141.4213562373095,\n",
    " (3, 8): 509.9019513592785,\n",
    " (3, 9): 400.0,\n",
    " (3, 10): 316.22776601683796,\n",
    " (3, 11): 282.842712474619,\n",
    " (3, 12): 600.0,\n",
    " (3, 13): 509.9019513592785,\n",
    " (3, 14): 447.21359549995793,\n",
    " (3, 15): 424.26406871192853,\n",
    " (4, 0): 141.4213562373095,\n",
    " (4, 1): 200.0,\n",
    " (4, 2): 316.22776601683796,\n",
    " (4, 3): 447.21359549995793,\n",
    " (4, 4): 0.0,\n",
    " (4, 5): 141.4213562373095,\n",
    " (4, 6): 282.842712474619,\n",
    " (4, 7): 424.26406871192853,\n",
    " (4, 8): 141.4213562373095,\n",
    " (4, 9): 200.0,\n",
    " (4, 10): 316.22776601683796,\n",
    " (4, 11): 447.21359549995793,\n",
    " (4, 12): 282.842712474619,\n",
    " (4, 13): 316.22776601683796,\n",
    " (4, 14): 400.0,\n",
    " (4, 15): 509.9019513592785,\n",
    " (5, 0): 200.0,\n",
    " (5, 1): 141.4213562373095,\n",
    " (5, 2): 200.0,\n",
    " (5, 3): 316.22776601683796,\n",
    " (5, 4): 141.4213562373095,\n",
    " (5, 5): 0.0,\n",
    " (5, 6): 141.4213562373095,\n",
    " (5, 7): 282.842712474619,\n",
    " (5, 8): 200.0,\n",
    " (5, 9): 141.4213562373095,\n",
    " (5, 10): 200.0,\n",
    " (5, 11): 316.22776601683796,\n",
    " (5, 12): 316.22776601683796,\n",
    " (5, 13): 282.842712474619,\n",
    " (5, 14): 316.22776601683796,\n",
    " (5, 15): 400.0,\n",
    " (6, 0): 316.22776601683796,\n",
    " (6, 1): 200.0,\n",
    " (6, 2): 141.4213562373095,\n",
    " (6, 3): 200.0,\n",
    " (6, 4): 282.842712474619,\n",
    " (6, 5): 141.4213562373095,\n",
    " (6, 6): 0.0,\n",
    " (6, 7): 141.4213562373095,\n",
    " (6, 8): 316.22776601683796,\n",
    " (6, 9): 200.0,\n",
    " (6, 10): 141.4213562373095,\n",
    " (6, 11): 200.0,\n",
    " (6, 12): 400.0,\n",
    " (6, 13): 316.22776601683796,\n",
    " (6, 14): 282.842712474619,\n",
    " (6, 15): 316.22776601683796,\n",
    " (7, 0): 447.21359549995793,\n",
    " (7, 1): 316.22776601683796,\n",
    " (7, 2): 200.0,\n",
    " (7, 3): 141.4213562373095,\n",
    " (7, 4): 424.26406871192853,\n",
    " (7, 5): 282.842712474619,\n",
    " (7, 6): 141.4213562373095,\n",
    " (7, 7): 0.0,\n",
    " (7, 8): 447.21359549995793,\n",
    " (7, 9): 316.22776601683796,\n",
    " (7, 10): 200.0,\n",
    " (7, 11): 141.4213562373095,\n",
    " (7, 12): 509.9019513592785,\n",
    " (7, 13): 400.0,\n",
    " (7, 14): 316.22776601683796,\n",
    " (7, 15): 282.842712474619,\n",
    " (8, 0): 282.842712474619,\n",
    " (8, 1): 316.22776601683796,\n",
    " (8, 2): 400.0,\n",
    " (8, 3): 509.9019513592785,\n",
    " (8, 4): 141.4213562373095,\n",
    " (8, 5): 200.0,\n",
    " (8, 6): 316.22776601683796,\n",
    " (8, 7): 447.21359549995793,\n",
    " (8, 8): 0.0,\n",
    " (8, 9): 141.4213562373095,\n",
    " (8, 10): 282.842712474619,\n",
    " (8, 11): 424.26406871192853,\n",
    " (8, 12): 141.4213562373095,\n",
    " (8, 13): 200.0,\n",
    " (8, 14): 316.22776601683796,\n",
    " (8, 15): 447.21359549995793,\n",
    " (9, 0): 316.22776601683796,\n",
    " (9, 1): 282.842712474619,\n",
    " (9, 2): 316.22776601683796,\n",
    " (9, 3): 400.0,\n",
    " (9, 4): 200.0,\n",
    " (9, 5): 141.4213562373095,\n",
    " (9, 6): 200.0,\n",
    " (9, 7): 316.22776601683796,\n",
    " (9, 8): 141.4213562373095,\n",
    " (9, 9): 0.0,\n",
    " (9, 10): 141.4213562373095,\n",
    " (9, 11): 282.842712474619,\n",
    " (9, 12): 200.0,\n",
    " (9, 13): 141.4213562373095,\n",
    " (9, 14): 200.0,\n",
    " (9, 15): 316.22776601683796,\n",
    " (10, 0): 400.0,\n",
    " (10, 1): 316.22776601683796,\n",
    " (10, 2): 282.842712474619,\n",
    " (10, 3): 316.22776601683796,\n",
    " (10, 4): 316.22776601683796,\n",
    " (10, 5): 200.0,\n",
    " (10, 6): 141.4213562373095,\n",
    " (10, 7): 200.0,\n",
    " (10, 8): 282.842712474619,\n",
    " (10, 9): 141.4213562373095,\n",
    " (10, 10): 0.0,\n",
    " (10, 11): 141.4213562373095,\n",
    " (10, 12): 316.22776601683796,\n",
    " (10, 13): 200.0,\n",
    " (10, 14): 141.4213562373095,\n",
    " (10, 15): 200.0,\n",
    " (11, 0): 509.9019513592785,\n",
    " (11, 1): 400.0,\n",
    " (11, 2): 316.22776601683796,\n",
    " (11, 3): 282.842712474619,\n",
    " (11, 4): 447.21359549995793,\n",
    " (11, 5): 316.22776601683796,\n",
    " (11, 6): 200.0,\n",
    " (11, 7): 141.4213562373095,\n",
    " (11, 8): 424.26406871192853,\n",
    " (11, 9): 282.842712474619,\n",
    " (11, 10): 141.4213562373095,\n",
    " (11, 11): 0.0,\n",
    " (11, 12): 447.21359549995793,\n",
    " (11, 13): 316.22776601683796,\n",
    " (11, 14): 200.0,\n",
    " (11, 15): 141.4213562373095,\n",
    " (12, 0): 424.26406871192853,\n",
    " (12, 1): 447.21359549995793,\n",
    " (12, 2): 509.9019513592785,\n",
    " (12, 3): 600.0,\n",
    " (12, 4): 282.842712474619,\n",
    " (12, 5): 316.22776601683796,\n",
    " (12, 6): 400.0,\n",
    " (12, 7): 509.9019513592785,\n",
    " (12, 8): 141.4213562373095,\n",
    " (12, 9): 200.0,\n",
    " (12, 10): 316.22776601683796,\n",
    " (12, 11): 447.21359549995793,\n",
    " (12, 12): 0.0,\n",
    " (12, 13): 141.4213562373095,\n",
    " (12, 14): 282.842712474619,\n",
    " (12, 15): 424.26406871192853,\n",
    " (13, 0): 447.21359549995793,\n",
    " (13, 1): 424.26406871192853,\n",
    " (13, 2): 447.21359549995793,\n",
    " (13, 3): 509.9019513592785,\n",
    " (13, 4): 316.22776601683796,\n",
    " (13, 5): 282.842712474619,\n",
    " (13, 6): 316.22776601683796,\n",
    " (13, 7): 400.0,\n",
    " (13, 8): 200.0,\n",
    " (13, 9): 141.4213562373095,\n",
    " (13, 10): 200.0,\n",
    " (13, 11): 316.22776601683796,\n",
    " (13, 12): 141.4213562373095,\n",
    " (13, 13): 0.0,\n",
    " (13, 14): 141.4213562373095,\n",
    " (13, 15): 282.842712474619,\n",
    " (14, 0): 509.9019513592785,\n",
    " (14, 1): 447.21359549995793,\n",
    " (14, 2): 424.26406871192853,\n",
    " (14, 3): 447.21359549995793,\n",
    " (14, 4): 400.0,\n",
    " (14, 5): 316.22776601683796,\n",
    " (14, 6): 282.842712474619,\n",
    " (14, 7): 316.22776601683796,\n",
    " (14, 8): 316.22776601683796,\n",
    " (14, 9): 200.0,\n",
    " (14, 10): 141.4213562373095,\n",
    " (14, 11): 200.0,\n",
    " (14, 12): 282.842712474619,\n",
    " (14, 13): 141.4213562373095,\n",
    " (14, 14): 0.0,\n",
    " (14, 15): 141.4213562373095,\n",
    " (15, 0): 600.0,\n",
    " (15, 1): 509.9019513592785,\n",
    " (15, 2): 447.21359549995793,\n",
    " (15, 3): 424.26406871192853,\n",
    " (15, 4): 509.9019513592785,\n",
    " (15, 5): 400.0,\n",
    " (15, 6): 316.22776601683796,\n",
    " (15, 7): 282.842712474619,\n",
    " (15, 8): 447.21359549995793,\n",
    " (15, 9): 316.22776601683796,\n",
    " (15, 10): 200.0,\n",
    " (15, 11): 141.4213562373095,\n",
    " (15, 12): 424.26406871192853,\n",
    " (15, 13): 282.842712474619,\n",
    " (15, 14): 141.4213562373095,\n",
    " (15, 15): 0.0}"
   ]
  },
  {
   "cell_type": "code",
   "execution_count": 6,
   "metadata": {},
   "outputs": [],
   "source": [
    "import global_variable as gv"
   ]
  },
  {
   "cell_type": "code",
   "execution_count": 7,
   "metadata": {},
   "outputs": [],
   "source": [
    "import operator\n",
    "def get_max_weight(weight):\n",
    "    return max(get_weight().items(),key=operator.itemgetter(1))[0]\n",
    "\n",
    "def get_min_weight(weight):\n",
    "    return min(get_weight().items(),key=operator.itemgetter(1))[0]"
   ]
  },
  {
   "cell_type": "code",
   "execution_count": 8,
   "metadata": {},
   "outputs": [],
   "source": [
    "route=[]"
   ]
  },
  {
   "cell_type": "code",
   "execution_count": 9,
   "metadata": {},
   "outputs": [],
   "source": [
    "def compare_with_half_transmission_range(weight_copy,route1):\n",
    "    maximum_weight_index=max(weight_copy.items(),key=operator.itemgetter(1))[0]\n",
    "    compare_point_a=init_point if len(route)<1 else route[-1]\n",
    "    distance=pdb_distance[compare_point_a,maximum_weight_index]\n",
    "    if maximum_weight_index not in route and distance>=(gv.transmission_range):\n",
    "        route1.append(maximum_weight_index)\n",
    "        del weight1[maximum_weight_index]\n",
    "        return route1,weight1"
   ]
  },
  {
   "cell_type": "code",
   "execution_count": 10,
   "metadata": {},
   "outputs": [],
   "source": [
    "def get_pdp_with_max_weight(weight,route,first=1,init_point=0):\n",
    "    \n",
    "    if first ==1:\n",
    "        not_satisfied=[]\n",
    "        temp_dict={}\n",
    "        weight_copy=weight.copy()\n",
    "    if len(weight)==0:\n",
    "        route1,weight1=compare_with_half_transmission_range(weight_copy,route)\n",
    "        return route1, weight1\n",
    "    compare_point_a=init_point if len(route)<1 else route[-1]\n",
    "    maximum_from_dict=max(weight.items(),key=operator.itemgetter(1))[0]\n",
    "    distance=pdb_distance[compare_point_a,maximum_from_dict]\n",
    "    if maximum_from_dict not in route and distance>=2*gv.transmission_range:\n",
    "        route.append(maximum_from_dict)\n",
    "        del weight[maximum_from_dict]\n",
    "        if len(not_satisfied)<1:\n",
    "            return route,weight\n",
    "        else:\n",
    "            for item in not_satisfied:\n",
    "                for k,v in main_weight:\n",
    "                    if item==k:\n",
    "                        temp_dict[item]=v\n",
    "            weight.update(temp_dict)\n",
    "            return route,weight\n",
    "    else :\n",
    "        #if maximum_from_dict not in route:\n",
    "        not_satisfied.append(maximum_from_dict)\n",
    "        del weight[maximum_from_dict]\n",
    "        get_pdp_with_max_weight(weight,route,first=0)\n",
    "    "
   ]
  },
  {
   "cell_type": "code",
   "execution_count": 11,
   "metadata": {},
   "outputs": [
    {
     "name": "stdout",
     "output_type": "stream",
     "text": [
      "[10]\n"
     ]
    },
    {
     "ename": "UnboundLocalError",
     "evalue": "local variable 'not_satisfied' referenced before assignment",
     "output_type": "error",
     "traceback": [
      "\u001b[1;31m---------------------------------------------------------------------------\u001b[0m",
      "\u001b[1;31mUnboundLocalError\u001b[0m                         Traceback (most recent call last)",
      "\u001b[1;32m<ipython-input-11-2bbd9083d20d>\u001b[0m in \u001b[0;36m<module>\u001b[1;34m\u001b[0m\n\u001b[0;32m      1\u001b[0m \u001b[0mi\u001b[0m\u001b[1;33m=\u001b[0m\u001b[1;36m0\u001b[0m\u001b[1;33m\u001b[0m\u001b[1;33m\u001b[0m\u001b[0m\n\u001b[0;32m      2\u001b[0m \u001b[1;32mwhile\u001b[0m \u001b[0mi\u001b[0m\u001b[1;33m<\u001b[0m\u001b[0mlen\u001b[0m\u001b[1;33m(\u001b[0m\u001b[0mmain_weight\u001b[0m\u001b[1;33m)\u001b[0m\u001b[1;33m:\u001b[0m\u001b[1;33m\u001b[0m\u001b[1;33m\u001b[0m\u001b[0m\n\u001b[1;32m----> 3\u001b[1;33m     \u001b[0mroute1\u001b[0m\u001b[1;33m,\u001b[0m\u001b[0mweight2\u001b[0m\u001b[1;33m=\u001b[0m\u001b[0mget_pdp_with_max_weight\u001b[0m\u001b[1;33m(\u001b[0m\u001b[0mweight\u001b[0m\u001b[1;33m,\u001b[0m\u001b[0mroute\u001b[0m\u001b[1;33m)\u001b[0m\u001b[1;33m\u001b[0m\u001b[1;33m\u001b[0m\u001b[0m\n\u001b[0m\u001b[0;32m      4\u001b[0m     \u001b[0mprint\u001b[0m \u001b[1;33m(\u001b[0m\u001b[0mroute1\u001b[0m\u001b[1;33m)\u001b[0m\u001b[1;33m\u001b[0m\u001b[1;33m\u001b[0m\u001b[0m\n\u001b[0;32m      5\u001b[0m     \u001b[0mi\u001b[0m\u001b[1;33m=\u001b[0m\u001b[0mi\u001b[0m\u001b[1;33m+\u001b[0m\u001b[1;36m1\u001b[0m\u001b[1;33m\u001b[0m\u001b[1;33m\u001b[0m\u001b[0m\n",
      "\u001b[1;32m<ipython-input-10-409c4ed2a892>\u001b[0m in \u001b[0;36mget_pdp_with_max_weight\u001b[1;34m(weight, route, first, init_point)\u001b[0m\n\u001b[0;32m     27\u001b[0m         \u001b[0mnot_satisfied\u001b[0m\u001b[1;33m.\u001b[0m\u001b[0mappend\u001b[0m\u001b[1;33m(\u001b[0m\u001b[0mmaximum_from_dict\u001b[0m\u001b[1;33m)\u001b[0m\u001b[1;33m\u001b[0m\u001b[1;33m\u001b[0m\u001b[0m\n\u001b[0;32m     28\u001b[0m         \u001b[1;32mdel\u001b[0m \u001b[0mweight\u001b[0m\u001b[1;33m[\u001b[0m\u001b[0mmaximum_from_dict\u001b[0m\u001b[1;33m]\u001b[0m\u001b[1;33m\u001b[0m\u001b[1;33m\u001b[0m\u001b[0m\n\u001b[1;32m---> 29\u001b[1;33m         \u001b[0mget_pdp_with_max_weight\u001b[0m\u001b[1;33m(\u001b[0m\u001b[0mweight\u001b[0m\u001b[1;33m,\u001b[0m\u001b[0mroute\u001b[0m\u001b[1;33m,\u001b[0m\u001b[0mfirst\u001b[0m\u001b[1;33m=\u001b[0m\u001b[1;36m0\u001b[0m\u001b[1;33m)\u001b[0m\u001b[1;33m\u001b[0m\u001b[1;33m\u001b[0m\u001b[0m\n\u001b[0m\u001b[0;32m     30\u001b[0m \u001b[1;33m\u001b[0m\u001b[0m\n",
      "\u001b[1;32m<ipython-input-10-409c4ed2a892>\u001b[0m in \u001b[0;36mget_pdp_with_max_weight\u001b[1;34m(weight, route, first, init_point)\u001b[0m\n\u001b[0;32m     14\u001b[0m         \u001b[0mroute\u001b[0m\u001b[1;33m.\u001b[0m\u001b[0mappend\u001b[0m\u001b[1;33m(\u001b[0m\u001b[0mmaximum_from_dict\u001b[0m\u001b[1;33m)\u001b[0m\u001b[1;33m\u001b[0m\u001b[1;33m\u001b[0m\u001b[0m\n\u001b[0;32m     15\u001b[0m         \u001b[1;32mdel\u001b[0m \u001b[0mweight\u001b[0m\u001b[1;33m[\u001b[0m\u001b[0mmaximum_from_dict\u001b[0m\u001b[1;33m]\u001b[0m\u001b[1;33m\u001b[0m\u001b[1;33m\u001b[0m\u001b[0m\n\u001b[1;32m---> 16\u001b[1;33m         \u001b[1;32mif\u001b[0m \u001b[0mlen\u001b[0m\u001b[1;33m(\u001b[0m\u001b[0mnot_satisfied\u001b[0m\u001b[1;33m)\u001b[0m\u001b[1;33m<\u001b[0m\u001b[1;36m1\u001b[0m\u001b[1;33m:\u001b[0m\u001b[1;33m\u001b[0m\u001b[1;33m\u001b[0m\u001b[0m\n\u001b[0m\u001b[0;32m     17\u001b[0m             \u001b[1;32mreturn\u001b[0m \u001b[0mroute\u001b[0m\u001b[1;33m,\u001b[0m\u001b[0mweight\u001b[0m\u001b[1;33m\u001b[0m\u001b[1;33m\u001b[0m\u001b[0m\n\u001b[0;32m     18\u001b[0m         \u001b[1;32melse\u001b[0m\u001b[1;33m:\u001b[0m\u001b[1;33m\u001b[0m\u001b[1;33m\u001b[0m\u001b[0m\n",
      "\u001b[1;31mUnboundLocalError\u001b[0m: local variable 'not_satisfied' referenced before assignment"
     ]
    }
   ],
   "source": [
    "i=0\n",
    "while i<len(main_weight):\n",
    "    route1,weight2=get_pdp_with_max_weight(weight,route)\n",
    "    print (route1)\n",
    "    i=i+1"
   ]
  },
  {
   "cell_type": "code",
   "execution_count": null,
   "metadata": {},
   "outputs": [],
   "source": [
    "route1"
   ]
  },
  {
   "cell_type": "code",
   "execution_count": null,
   "metadata": {},
   "outputs": [],
   "source": [
    "weight2"
   ]
  },
  {
   "cell_type": "code",
   "execution_count": null,
   "metadata": {},
   "outputs": [],
   "source": [
    "def compare_to_max(weights, transmission_range):\n",
    "    \n",
    "    if len(weights) == 0:\n",
    "        return None\n",
    "    for k, v in weights:\n",
    "        compare_point_a = weights[-1][0] if len(computed_list) < 1 else computed_list[-1]\n",
    "        compare_key = (k, compare_point_a)\n",
    "        distance = pdb_distance[compare_key]\n",
    "    \n",
    "    \n",
    "        if distance >= transmission_range:\n",
    "            print(compare_key, \"done\")\n",
    "            return computed_list.append(k)\n",
    "    \n",
    "        else: # append to list\n",
    "            weights = weights[1:]\n",
    "            \n",
    "            compare_to_max(weights, transmission_range)\n",
    "            #continue #compare_to_max(sorted_weight, transmission_range)\n",
    "    return None"
   ]
  },
  {
   "cell_type": "code",
   "execution_count": null,
   "metadata": {},
   "outputs": [],
   "source": [
    "def sort_dict(weight):\n",
    "    return sorted(weight.items(), key=lambda kv: kv[1])[::-1]\n",
    "computed_list = [] # holds compared values"
   ]
  },
  {
   "cell_type": "code",
   "execution_count": null,
   "metadata": {},
   "outputs": [],
   "source": [
    "for i in [2, 1, 0.5]: # reduction method of tranmission_range\n",
    "    transmission_range = gv.transmission_range*i\n",
    "    sorted_weight = sort_dict(get_weight())\n",
    "    mm = compare_to_max(sorted_weight, transmission_range)\n",
    "    print(mm)\n",
    "    if mm == None:\n",
    "        continue\n",
    "    else:\n",
    "        #sorted_weight.pop(0)\n",
    "        break"
   ]
  },
  {
   "cell_type": "code",
   "execution_count": null,
   "metadata": {},
   "outputs": [],
   "source": [
    "sorted_weight"
   ]
  },
  {
   "cell_type": "code",
   "execution_count": null,
   "metadata": {},
   "outputs": [],
   "source": [
    "computed_list"
   ]
  },
  {
   "cell_type": "code",
   "execution_count": null,
   "metadata": {},
   "outputs": [],
   "source": [
    "sorted_weight[1:]"
   ]
  },
  {
   "cell_type": "code",
   "execution_count": null,
   "metadata": {},
   "outputs": [],
   "source": [
    "pdb_distance[10,11]"
   ]
  },
  {
   "cell_type": "code",
   "execution_count": null,
   "metadata": {},
   "outputs": [],
   "source": [
    "pdb_distance[10,11]>=200"
   ]
  },
  {
   "cell_type": "code",
   "execution_count": null,
   "metadata": {},
   "outputs": [],
   "source": [
    "wtt=get_weight()"
   ]
  },
  {
   "cell_type": "code",
   "execution_count": null,
   "metadata": {},
   "outputs": [],
   "source": [
    "wtt.items()"
   ]
  },
  {
   "cell_type": "code",
   "execution_count": null,
   "metadata": {},
   "outputs": [],
   "source": []
  }
 ],
 "metadata": {
  "kernelspec": {
   "display_name": "Python 3",
   "language": "python",
   "name": "python3"
  },
  "language_info": {
   "codemirror_mode": {
    "name": "ipython",
    "version": 3
   },
   "file_extension": ".py",
   "mimetype": "text/x-python",
   "name": "python",
   "nbconvert_exporter": "python",
   "pygments_lexer": "ipython3",
   "version": "3.7.4"
  }
 },
 "nbformat": 4,
 "nbformat_minor": 4
}
