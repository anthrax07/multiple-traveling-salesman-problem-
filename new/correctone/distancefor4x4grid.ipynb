{
 "cells": [
  {
   "cell_type": "code",
   "execution_count": 1,
   "metadata": {},
   "outputs": [],
   "source": [
    "import random\n",
    "import networkx as nx\n",
    "import math\n",
    "import itertools    \n",
    "import matplotlib.pyplot as plt\n",
    "import ast\n",
    "import numpy as np"
   ]
  },
  {
   "cell_type": "code",
   "execution_count": 2,
   "metadata": {},
   "outputs": [],
   "source": [
    "from global_variable import *"
   ]
  },
  {
   "cell_type": "code",
   "execution_count": 3,
   "metadata": {},
   "outputs": [],
   "source": [
    "with open('sensornew.txt', 'r') as f:\n",
    "    sensor = ast.literal_eval(f.read())"
   ]
  },
  {
   "cell_type": "code",
   "execution_count": 4,
   "metadata": {},
   "outputs": [],
   "source": [
    "def calculate_Pdp_positions(length_of_grid,transmission_range):\n",
    "    pdp_positions={}\n",
    "    k=0\n",
    "    for c_1 in np.arange(length_of_grid/(transmission_range*math.sqrt(2))):\n",
    "        for c_2 in np.arange(length_of_grid/(transmission_range*math.sqrt(2))):\n",
    "            pdp_positions[k]=(c_1*transmission_range*math.sqrt(2),c_2*transmission_range*math.sqrt(2))\n",
    "            k=k+1\n",
    "    return pdp_positions"
   ]
  },
  {
   "cell_type": "code",
   "execution_count": 5,
   "metadata": {},
   "outputs": [],
   "source": [
    "pdp_positions=calculate_Pdp_positions(length_of_grid,transmission_range)"
   ]
  },
  {
   "cell_type": "code",
   "execution_count": 6,
   "metadata": {},
   "outputs": [
    {
     "data": {
      "text/plain": [
       "100"
      ]
     },
     "execution_count": 6,
     "metadata": {},
     "output_type": "execute_result"
    }
   ],
   "source": [
    "transmission_range"
   ]
  },
  {
   "cell_type": "code",
   "execution_count": 7,
   "metadata": {},
   "outputs": [],
   "source": [
    "def distance(points,i,j):\n",
    "    x=points[i][0]-points[j][0]\n",
    "    y=points[i][1]-points[j][1]\n",
    "    return math.sqrt(x*x+y*y)"
   ]
  },
  {
   "cell_type": "code",
   "execution_count": 8,
   "metadata": {},
   "outputs": [],
   "source": [
    "def create_trip_graph():\n",
    "    G=nx.Graph()\n",
    "    distance_between_pdp={}\n",
    "    k=0\n",
    "    for i in range(len(pdp_positions)):\n",
    "        G.add_node('pdp{}'.format(i),pos=pdp_positions[i])\n",
    "    for u in range(len(pdp_positions)):\n",
    "        for v in range(len(pdp_positions)):\n",
    "            wt=distance(pdp_positions,u,v)\n",
    "            G.add_edge('pdp{}'.format(u),'pdp{}'.format(v),weight=wt)\n",
    "            distance_between_pdp[(u,v)]=wt\n",
    "            k=k+1\n",
    "    return G,distance_between_pdp"
   ]
  },
  {
   "cell_type": "code",
   "execution_count": 9,
   "metadata": {},
   "outputs": [],
   "source": [
    "trip_graph,distance_between_pdp=create_trip_graph()"
   ]
  },
  {
   "cell_type": "code",
   "execution_count": 10,
   "metadata": {},
   "outputs": [
    {
     "data": {
      "image/png": "[encoded data removed]",
      "text/plain": [
       "<Figure size 432x288 with 1 Axes>"
      ]
     },
     "metadata": {
      "needs_background": "light"
     },
     "output_type": "display_data"
    }
   ],
   "source": [
    "for i in range(len(sensor)):\n",
    "    plt.scatter(sensor[i][0],sensor[i][1],c='r')\n",
    "    plt.annotate(i,(sensor[i][0],sensor[i][1]))\n",
    "for j in range(len(pdp_positions)):\n",
    "    plt.scatter(pdp_positions[j][0],pdp_positions[j][1],c='b')\n",
    "    plt.annotate(j,(pdp_positions[j][0],pdp_positions[j][1]))"
   ]
  },
  {
   "cell_type": "code",
   "execution_count": 11,
   "metadata": {},
   "outputs": [],
   "source": [
    "def threshold_distance_inside_sensor_range():\n",
    "    trs=(data_stored/bandwidth)*drone_speed\n",
    "    return trs"
   ]
  },
  {
   "cell_type": "code",
   "execution_count": 12,
   "metadata": {},
   "outputs": [
    {
     "name": "stdout",
     "output_type": "stream",
     "text": [
      "2.5\n"
     ]
    }
   ],
   "source": [
    "trs=threshold_distance_inside_sensor_range()\n",
    "print(trs)"
   ]
  },
  {
   "cell_type": "code",
   "execution_count": 13,
   "metadata": {},
   "outputs": [],
   "source": [
    "Dmov=[]\n"
   ]
  },
  {
   "cell_type": "code",
   "execution_count": 14,
   "metadata": {},
   "outputs": [],
   "source": [
    "# def check_distance_between_a_point_line(init,final):\n",
    "#     for i in range(len(sensor)):\n",
    "#         vect_int_fin=[0 ,0]\n",
    "#         vect_int_fin[0]=pdp_positions[final][0]-pdp_positions[init][0]\n",
    "#         vect_int_fin[1]=pdp_positions[final][1]-pdp_positions[init][1]\n",
    "        \n",
    "#         vect_int_point=[0,0]\n",
    "#         vect_int_point[0]=sensor[i][0]-pdp_positions[init][0]\n",
    "#         vect_int_point[1]=sensor[i][1]-pdp_positions[init][1]\n",
    "        \n",
    "#         vect_final_point=[0,0]\n",
    "#         vect_final_point[0]=sensor[i][0]-pdp_positions[final][0]\n",
    "#         vect_final_point[1]=sensor[i][1]-pdp_positions[final][1]\n",
    "        \n",
    "#         dot_product_point_final=(vect_int_fin[0]*vect_final_point[0])+(vect_int_fin[1]*vect_final_point[1])\n",
    "#         print(dot_product_point_final)\n",
    "#         if dot_product_point_final==0:\n",
    "#             print (i)\n",
    "# #         print(dot_product_point_final)\n",
    "# #         #print()\n",
    "# #         dot_product_point_init=(vect_int_fin[0]*vect_int_point[0])+(vect_int_fin[1]*vect_int_point[1])\n",
    "# #         print(dot_product_point_init)\n",
    "# #         if  not dot_product_point_final  >=0 and dot_product_point_init<=0:\n",
    "# #             print (i)\n",
    "            \n",
    "\n",
    "    "
   ]
  },
  {
   "cell_type": "code",
   "execution_count": 15,
   "metadata": {},
   "outputs": [],
   "source": [
    "# for i in range(len (sensor)):\n",
    "    \n",
    "#     A=sensor[i][0]-pdp_positions[0][0]\n",
    "#     B=sensor[i][1]-pdp_positions[0][1]\n",
    "#     C=pdp_positions[10][0]-pdp_positions[0][0]\n",
    "#     D=pdp_positions[10][1]-pdp_positions[0][1]\n",
    "#     dot=A*C+B*D\n",
    "#     #print(dot)\n",
    "#     len_sq=C*C+D*D\n",
    "#     #print(len_sq)\n",
    "#     param=dot/len_sq\n",
    "#     #print(param)\n",
    "#     if param<1 and param >0:\n",
    "#         xx=pdp_positions[0][0]+param*C\n",
    "#         yy=pdp_positions[0][1]+param*D\n",
    "        \n",
    "#         dist= math.sqrt((sensor[i][0]-xx)**2+(sensor[i][1]-yy)**2)\n",
    "#         if dist<200:\n",
    "#             print(i)\n",
    "#             print(xx,yy)\n",
    "#             print(dist)\n",
    "# #         dsi=2*(math.sqrt(abs(200**2-dist**2)))\n",
    "# #         if dsi>=trs:\n",
    "# #             print(i)\n",
    "            \n",
    "        \n",
    "        \n",
    "        \n",
    "    "
   ]
  },
  {
   "cell_type": "code",
   "execution_count": 202,
   "metadata": {},
   "outputs": [],
   "source": [
    "def sensor_that_can_send_data_while_moving(init,final):\n",
    "    \n",
    "    sensor_that_can_send_data_whilmoving={}\n",
    "    for i in range (len(sensor)):\n",
    "        flag=0\n",
    "        p1=np.array(pdp_positions[init])\n",
    "        p2=np.array(pdp_positions[final])\n",
    "        p3=np.array(sensor[i])\n",
    "        #dot=np.dot(p3-p1,p2-p1)\n",
    "#         check=np.dot(p3-p1,p2-p1)/(np.linalg.norm(p2-p1))**2 #here to check whether the point representing the sensor will be \n",
    "#                                                             #perpendicular to the line representing two pdp points i calculated the check\n",
    "        #print(check)\n",
    "\n",
    "        dist=abs(np.cross(p3-p1,p2-p1)/np.linalg.norm(p2-p1)) #this is perpencicular distance between the sensor point and the line of two pdp\n",
    "        #if check<1 and check>0:#here i checked whether the point representing the sensor will be \n",
    "                                                        #perpendicular to the line representing two pdp points\n",
    "        if dist<transmission_range:\n",
    "            dsi=(2*(math.sqrt(transmission_range**2-dist**2)))/np.linalg.norm(p2-p1)\n",
    "            project=np.dot(p3-p1,p2-p1)/(np.linalg.norm(p2-p1))**2\n",
    "            check1=project-dsi/2\n",
    "            check2=project+dsi/2\n",
    "            if check1<1 and check2<1:\n",
    "                if check1<0 and check2>0:\n",
    "                    print(\"the first cut point is outside the line segment whereas second cut point lies in the line segment\")\n",
    "                    first_cutx=pdp_positions[init][0]\n",
    "                    first_cuty=pdp_positions[init][1]\n",
    "                    second_cutx=pdp_positions[init][0]+(check2*(pdp_positions[final][0]-pdp_positions[init][0]))\n",
    "                    second_cuty=pdp_positions[init][1]+(check2*(pdp_positions[final][1]-pdp_positions[init][1]))\n",
    "                    flag=1\n",
    "                if check1>0 and check2>0:\n",
    "                    print(\"the both cut point lies in the line segment\")\n",
    "                    first_cutx=pdp_positions[init][0]+(check1*(pdp_positions[final][0]-pdp_positions[init][0]))\n",
    "                    first_cuty=pdp_positions[init][1]+(check1*(pdp_positions[final][1]-pdp_positions[init][1]))\n",
    "                    second_cutx=pdp_positions[init][0]+(check2*(pdp_positions[final][0]-pdp_positions[init][0]))\n",
    "                    second_cuty=pdp_positions[init][1]+(check2*(pdp_positions[final][1]-pdp_positions[init][1]))\n",
    "                    flag=1\n",
    "            \n",
    "            if check1>0 and check2>1:\n",
    "                if check1<1:\n",
    "                    print(\"the first cut point is inside the line segment whereas second cut point is outside the line segment\")\n",
    "                    first_cutx=pdp_positions[init][0]+(check1*(pdp_positions[final][0]-pdp_positions[init][0]))\n",
    "                    first_cuty=pdp_positions[init][1]+(check1*(pdp_positions[final][1]-pdp_positions[init][1]))\n",
    "                    second_cutx=pdp_positions[final][0]\n",
    "                    second_cuty=pdp_positions[final][1]\n",
    "                    flag=1\n",
    "                \n",
    "                \n",
    "#             print(i)\n",
    "#             print(check1,check2)\n",
    "#             print(\"*******\")\n",
    "            \n",
    "\n",
    "           \n",
    "#             first_cutpoint=project-dsi/2   #its the distance from initial point to the first cutpoint\n",
    "#             final_cutpoint=project+dsi/2   #its the distance from initial pdp point to the \n",
    "            if flag==1:\n",
    "                sensor_that_can_send_data_whilmoving[i]=(first_cutx,first_cuty),(second_cutx,second_cuty)\n",
    "#             sorted_dict=dict(sorted(sensor_that_can_send_data_whilmoving.items(), key=lambda item: item[1]))\n",
    "    return(sensor_that_can_send_data_whilmoving)\n",
    "\n",
    "\n",
    "\n",
    "\n",
    "\n",
    "\n",
    "\n",
    "        )\n",
    "    "
   ]
  },
  {
   "cell_type": "code",
   "execution_count": 232,
   "metadata": {},
   "outputs": [],
   "source": [
    "def check_overlapping(sensor_dict):\n",
    "    new_dict={}\n",
    "    for k,value in sensor_dict.items():\n",
    "        p1=np.array(pdp_positions[0])\n",
    "        p2=np.array(value[0])\n",
    "        p3=np.array(value[1])\n",
    "        cut1=np.linalg.norm(p1-p2)\n",
    "        cut2=np.linalg.norm(p1-p3)\n",
    "        new_dict[k]=(cut1,cut2)\n",
    "    sorted_dict=list(sorted(new_dict.items(), key=lambda item: item[1]))\n",
    "\n",
    "    return sorted_dict\n",
    "        "
   ]
  },
  {
   "cell_type": "code",
   "execution_count": 233,
   "metadata": {},
   "outputs": [],
   "source": [
    "check_overlaping=check_overlapping(sensor_that_can_send_data_whilmoving)"
   ]
  },
  {
   "cell_type": "code",
   "execution_count": 234,
   "metadata": {},
   "outputs": [
    {
     "data": {
      "text/plain": [
       "[(3, (91.78051592953445, 287.2287187864551)),\n",
       " (8, (330.3655562957225, 400.0)),\n",
       " (7, (379.6977352645481, 400.0)),\n",
       " (11, (382.53713826938696, 400.0))]"
      ]
     },
     "execution_count": 234,
     "metadata": {},
     "output_type": "execute_result"
    }
   ],
   "source": [
    "check_overlaping"
   ]
  },
  {
   "cell_type": "code",
   "execution_count": 279,
   "metadata": {},
   "outputs": [],
   "source": [
    "def calculate_overlapping_sensors(check_overlapping):\n",
    "    Dmov=[]\n",
    "    Dmov.append(check_overlapping[0][0])\n",
    "    for i,value in enumerate(check_overlapping[1:]):\n",
    "        flag=0\n",
    "        final_cutpoint=check_overlapping[0][1][0]+2.5\n",
    "        maximum_between_end_and_next_start=max(value[1][0],final_cutpoint)\n",
    "        if maximum_between_end_and_next_start+trs<value[1][1]:\n",
    "            flag=1\n",
    "            Dmov.append(value[0])\n",
    "            final_cutpoint=maximum_between_end_and_next_start+trs\n",
    "    return Dmov\n",
    "        \n",
    "        "
   ]
  },
  {
   "cell_type": "code",
   "execution_count": 280,
   "metadata": {},
   "outputs": [
    {
     "data": {
      "text/plain": [
       "[3, 8, 7, 11]"
      ]
     },
     "execution_count": 280,
     "metadata": {},
     "output_type": "execute_result"
    }
   ],
   "source": [
    "calculate_overlapping_sensors(check_overlaping)"
   ]
  },
  {
   "cell_type": "code",
   "execution_count": 278,
   "metadata": {},
   "outputs": [
    {
     "name": "stdout",
     "output_type": "stream",
     "text": [
      "330.3655562957225\n",
      "379.6977352645481\n",
      "382.53713826938696\n"
     ]
    }
   ],
   "source": [
    "for i,v in enumerate(check_overlaping[1:]):\n",
    "    print(v[1][0])"
   ]
  },
  {
   "cell_type": "code",
   "execution_count": 247,
   "metadata": {},
   "outputs": [
    {
     "data": {
      "text/plain": [
       "94.28051592953445"
      ]
     },
     "execution_count": 247,
     "metadata": {},
     "output_type": "execute_result"
    }
   ],
   "source": [
    "check_overlaping[0][1][0]+2.5"
   ]
  },
  {
   "cell_type": "code",
   "execution_count": 235,
   "metadata": {},
   "outputs": [
    {
     "name": "stdout",
     "output_type": "stream",
     "text": [
      "(8, (330.3655562957225, 400.0))\n",
      "(7, (379.6977352645481, 400.0))\n",
      "(11, (382.53713826938696, 400.0))\n"
     ]
    }
   ],
   "source": [
    "for i in check_overlaping[1:]:\n",
    "    print(i)"
   ]
  },
  {
   "cell_type": "code",
   "execution_count": 204,
   "metadata": {},
   "outputs": [
    {
     "name": "stdout",
     "output_type": "stream",
     "text": [
      "the both cut point lies in the line segment\n",
      "the first cut point is inside the line segment whereas second cut point is outside the line segment\n",
      "the first cut point is inside the line segment whereas second cut point is outside the line segment\n",
      "the first cut point is inside the line segment whereas second cut point is outside the line segment\n"
     ]
    }
   ],
   "source": [
    "sensor_that_can_send_data_whilmoving=sensor_that_can_send_data_while_moving(0,10)"
   ]
  },
  {
   "cell_type": "code",
   "execution_count": 205,
   "metadata": {},
   "outputs": [
    {
     "data": {
      "text/plain": [
       "{3: ((64.89862519457375, 64.89862519457375),\n",
       "  (203.10137480542627, 203.10137480542627)),\n",
       " 7: ((268.48684340673645, 268.48684340673645),\n",
       "  (282.842712474619, 282.842712474619)),\n",
       " 8: ((233.60372512717151, 233.60372512717151),\n",
       "  (282.842712474619, 282.842712474619)),\n",
       " 11: ((270.49460452597947, 270.49460452597947),\n",
       "  (282.842712474619, 282.842712474619))}"
      ]
     },
     "execution_count": 205,
     "metadata": {},
     "output_type": "execute_result"
    }
   ],
   "source": [
    "sensor_that_can_send_data_whilmoving"
   ]
  },
  {
   "cell_type": "code",
   "execution_count": 90,
   "metadata": {},
   "outputs": [
    {
     "data": {
      "text/plain": [
       "(282.842712474619, 282.842712474619)"
      ]
     },
     "execution_count": 90,
     "metadata": {},
     "output_type": "execute_result"
    }
   ],
   "source": [
    "pdp_positions[10]"
   ]
  },
  {
   "cell_type": "code",
   "execution_count": 214,
   "metadata": {},
   "outputs": [
    {
     "name": "stdout",
     "output_type": "stream",
     "text": [
      "(64.89862519457375, 64.89862519457375)\n",
      "(268.48684340673645, 268.48684340673645)\n",
      "(233.60372512717151, 233.60372512717151)\n",
      "(270.49460452597947, 270.49460452597947)\n"
     ]
    }
   ],
   "source": [
    "for key,values in sensor_that_can_send_data_whilmoving.items():\n",
    "    print(values[0])\n",
    "    "
   ]
  },
  {
   "cell_type": "code",
   "execution_count": 21,
   "metadata": {},
   "outputs": [
    {
     "data": {
      "image/png": "[encoded data removed]",
      "text/plain": [
       "<Figure size 432x288 with 1 Axes>"
      ]
     },
     "metadata": {
      "needs_background": "light"
     },
     "output_type": "display_data"
    },
    {
     "data": {
      "image/png": "[encoded data removed]",
      "text/plain": [
       "<Figure size 432x288 with 1 Axes>"
      ]
     },
     "metadata": {
      "needs_background": "light"
     },
     "output_type": "display_data"
    }
   ],
   "source": [
    "\n",
    "\n",
    "circle=[]\n",
    "color=['b','g','r','c','y','k','m']\n",
    "s=0\n",
    "for i in range(len(sensor)):\n",
    "    for k,v in sensor_that_can_send_data_whilmoving.items():\n",
    "        if i==k:\n",
    "            circle.append(plt.Circle((sensor[i][0],sensor[i][1]),100,color=color[s],fill=False))\n",
    "            plt.plot(sensor[i][0],sensor[i][1],marker='x')\n",
    "            plt.annotate(i,(sensor[i][0],sensor[i][1]))\n",
    "            plt.plot([0, 282.842712474619], [0,282.842712474619],marker='o' )\n",
    "            s=s+1\n",
    "\n",
    "    \n",
    "    \n",
    "fig,ax=plt.subplots()\n",
    "ax.set_xlim((-100, 600))\n",
    "ax.set_ylim((-100,600))\n",
    "for i in range(len(circle)):\n",
    "    ax.add_artist(circle[i])\n",
    "\n",
    "plt.plot([0, 282.842712474619], [0,282.842712474619] )\n",
    "plt.show()\n",
    "\n",
    "\n",
    "#plt.gca().set_aspect()\n",
    "    "
   ]
  },
  {
   "cell_type": "code",
   "execution_count": 22,
   "metadata": {},
   "outputs": [
    {
     "data": {
      "text/plain": [
       "[(7, 432),\n",
       " (8, 471),\n",
       " (128, 386),\n",
       " (149, 119),\n",
       " (157, 329),\n",
       " (200, 439),\n",
       " (295, 424),\n",
       " (311, 359),\n",
       " (330, 207),\n",
       " (338, 163),\n",
       " (346, 22),\n",
       " (353, 327),\n",
       " (354, 119),\n",
       " (387, 442),\n",
       " (489, 392)]"
      ]
     },
     "execution_count": 22,
     "metadata": {},
     "output_type": "execute_result"
    }
   ],
   "source": [
    "sensor"
   ]
  },
  {
   "cell_type": "code",
   "execution_count": 23,
   "metadata": {},
   "outputs": [
    {
     "data": {
      "text/plain": [
       "(295, 424)"
      ]
     },
     "execution_count": 23,
     "metadata": {},
     "output_type": "execute_result"
    }
   ],
   "source": [
    "sensor[6]"
   ]
  },
  {
   "cell_type": "code",
   "execution_count": 24,
   "metadata": {},
   "outputs": [],
   "source": [
    "# check_distance_between_a_point_line(0,10)"
   ]
  },
  {
   "cell_type": "code",
   "execution_count": 25,
   "metadata": {},
   "outputs": [],
   "source": [
    "# vect_int_fin=[0, 0]\n",
    "# print(vect_int_fin)"
   ]
  },
  {
   "cell_type": "code",
   "execution_count": 26,
   "metadata": {},
   "outputs": [],
   "source": [
    "# def check_sensor_can_send_data_while_moving(init,final,sensor,Dmov):\n",
    "#     \"\"\"function to check whether the sensor can send data while drone is moving\"\"\"\n",
    "#     sensor1=sensor\n",
    "#     dsubset=[]\n",
    "#     p1=np.array(pdp_positions[init])\n",
    "#     p2=np.array(pdp_positions[final])\n",
    "#     for i in range(len(sensor1)):\n",
    "#         p3=np.array(sensor1[i])\n",
    "#         d=np.cross(p2-p1,p3-p1)/np.linalg.norm(p2-p1)\n",
    "#         print(d)\n",
    "#         dsi=2*(math.sqrt(abs(transmission_range**2-d**2)))\n",
    "#         print(dsi)\n",
    "#         if dsi>=threshold_distance_inside_sensor_range():\n",
    "# #             if i not in Dmov:\n",
    "# #                 dsubset.append(i)\n",
    "#             print (i)\n",
    "        \n",
    "#    # Dmov=Dmov+list(check_overlapping(init,final,dsubset))\n",
    "#    # return Dmov\n"
   ]
  },
  {
   "cell_type": "code",
   "execution_count": 27,
   "metadata": {},
   "outputs": [],
   "source": [
    "# check_sensor_can_send_data_while_moving(0,10,sensor,Dmov)"
   ]
  },
  {
   "cell_type": "code",
   "execution_count": 105,
   "metadata": {},
   "outputs": [
    {
     "ename": "NameError",
     "evalue": "name 'l' is not defined",
     "output_type": "error",
     "traceback": [
      "\u001b[1;31m---------------------------------------------------------------------------\u001b[0m",
      "\u001b[1;31mNameError\u001b[0m                                 Traceback (most recent call last)",
      "\u001b[1;32m<ipython-input-105-54cd200e4a32>\u001b[0m in \u001b[0;36m<module>\u001b[1;34m\u001b[0m\n\u001b[0;32m     24\u001b[0m \u001b[1;31m# #             l[i]=(Fx,Fy),(Gx,Gy)\u001b[0m\u001b[1;33m\u001b[0m\u001b[1;33m\u001b[0m\u001b[1;33m\u001b[0m\u001b[0m\n\u001b[0;32m     25\u001b[0m \u001b[1;31m#\u001b[0m\u001b[1;33m\u001b[0m\u001b[1;33m\u001b[0m\u001b[1;33m\u001b[0m\u001b[0m\n\u001b[1;32m---> 26\u001b[1;33m \u001b[0ml\u001b[0m\u001b[1;33m[\u001b[0m\u001b[0mi\u001b[0m\u001b[1;33m]\u001b[0m\u001b[1;33m=\u001b[0m\u001b[0mi\u001b[0m\u001b[1;33m\u001b[0m\u001b[1;33m\u001b[0m\u001b[0m\n\u001b[0m\u001b[0;32m     27\u001b[0m \u001b[1;31m#             print(i)\u001b[0m\u001b[1;33m\u001b[0m\u001b[1;33m\u001b[0m\u001b[1;33m\u001b[0m\u001b[0m\n\u001b[0;32m     28\u001b[0m \u001b[1;31m#     return(l)\u001b[0m\u001b[1;33m\u001b[0m\u001b[1;33m\u001b[0m\u001b[1;33m\u001b[0m\u001b[0m\n",
      "\u001b[1;31mNameError\u001b[0m: name 'l' is not defined"
     ]
    }
   ],
   "source": [
    "# def check_overlapping(pdp_init,pdp_final,sensor=sensor,radius=transmission_range):\n",
    "#     \"\"\"function to check the overlapping sensor\"\"\"\n",
    "#     l={}\n",
    "#     distance_of_line_connecting_two_pdp=distance_between_pdp[pdp_init,pdp_final]\n",
    "#     #compute direction vector of line connecting two pdp\n",
    "#     Dx=(pdp_positions[pdp_final][0]-pdp_positions[pdp_init][0])/distance_of_line_connecting_two_pdp\n",
    "#     print(Dx)\n",
    "#     Dy=(pdp_positions[pdp_final][1]-pdp_positions[pdp_init][1])/distance_of_line_connecting_two_pdp\n",
    "#     print(Dy)\n",
    "#     for i in range(len(sensor)) :\n",
    "        \n",
    "#         t=Dx*(sensor[i][0]-pdp_positions[pdp_init][0])+Dy*(sensor[i][1]-pdp_positions[pdp_init][1])\n",
    "#         Ex=t*Dx+pdp_positions[pdp_init][0]\n",
    "#         Ey=t*Dy+pdp_positions[pdp_init][1]\n",
    "#         LEC=math.sqrt((Ex-sensor[i][0])**2+(Ey-sensor[i][1])**2)\n",
    "#         if(LEC)<radius:\n",
    "# #             dt=math.sqrt(radius**2-LEC**2)\n",
    "# #             #calculate the first intersection point\n",
    "# #             Fx=(t-dt)*Dx+pdp_positions[pdp_init][0]\n",
    "# #             Fy=(t-dt)*Dy+pdp_positions[pdp_init][1]\n",
    "# #             #calculate the second intersection point\n",
    "# #             Gx=(t+dt)*Dx+pdp_positions[pdp_init][0]\n",
    "# #             Gy=(t+dt)*Dx+pdp_positions[pdp_init][1]\n",
    "# #             l[i]=(Fx,Fy),(Gx,Gy)\n",
    "#          \n",
    "#l[i]=i\n",
    "#             print(i)    \n",
    "#     return(l)"
   ]
  },
  {
   "cell_type": "code",
   "execution_count": 106,
   "metadata": {},
   "outputs": [
    {
     "data": {
      "text/plain": [
       "(149, 119)"
      ]
     },
     "execution_count": 106,
     "metadata": {},
     "output_type": "execute_result"
    }
   ],
   "source": [
    "sensor[3]"
   ]
  },
  {
   "cell_type": "code",
   "execution_count": null,
   "metadata": {},
   "outputs": [],
   "source": [
    "pdp_positions[10]"
   ]
  },
  {
   "cell_type": "code",
   "execution_count": 48,
   "metadata": {},
   "outputs": [
    {
     "data": {
      "text/plain": [
       "400.0"
      ]
     },
     "execution_count": 48,
     "metadata": {},
     "output_type": "execute_result"
    }
   ],
   "source": [
    "distance_between_pdp[0,10]"
   ]
  },
  {
   "cell_type": "code",
   "execution_count": 183,
   "metadata": {},
   "outputs": [],
   "source": [
    "a=(0,0)\n",
    "b=(5,0)\n",
    "c=(2,2)\n",
    "p1=np.array(pdp_positions[0])\n",
    "p2=np.array(pdp_positions[10])\n",
    "p3=np.array(sensor[14])\n",
    "proj=np.dot(p3-p1,p2-p1)/(np.linalg.norm(p2-p1))**2\n",
    "proj1=np.dot(p3-p1,p2-p1)/(np.linalg.norm(p2-p1))\n",
    "dist=np.cross(p3-p1,p2-p1)/(np.linalg.norm(p2-p1))\n",
    "dsi=2*(math.sqrt(transmission_range**2-dist**2))\n",
    "dsi1=(2*(math.sqrt(transmission_range**2-dist**2)))/np.linalg.norm(p2-p1)"
   ]
  },
  {
   "cell_type": "code",
   "execution_count": 191,
   "metadata": {},
   "outputs": [],
   "source": [
    "a=(0,0)\n",
    "b=(5,0)\n",
    "c=(2,2)\n",
    "p1=np.array(a)\n",
    "p2=np.array(b)\n",
    "p3=np.array(c)\n",
    "proj=np.dot(p3-p1,p2-p1)/(np.linalg.norm(p2-p1))**2\n",
    "proj1=np.dot(p3-p1,p2-p1)/(np.linalg.norm(p2-p1))\n",
    "dist=np.cross(p3-p1,p2-p1)/(np.linalg.norm(p2-p1))\n",
    "dsi=2*(math.sqrt(3**2-dist**2))\n",
    "dsi1=dsi/(np.linalg.norm(p2-p1))"
   ]
  }
 ],
 "metadata": {
  "kernelspec": {
   "display_name": "Python 3",
   "language": "python",
   "name": "python3"
  },
  "language_info": {
   "codemirror_mode": {
    "name": "ipython",
    "version": 3
   },
   "file_extension": ".py",
   "mimetype": "text/x-python",
   "name": "python",
   "nbconvert_exporter": "python",
   "pygments_lexer": "ipython3",
   "version": "3.7.4"
  }
 },
 "nbformat": 4,
 "nbformat_minor": 4
}
