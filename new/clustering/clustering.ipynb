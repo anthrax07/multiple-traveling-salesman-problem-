{
 "cells": [
  {
   "cell_type": "code",
   "execution_count": 1,
   "metadata": {},
   "outputs": [],
   "source": [
    "import random\n",
    "import networkx as nx\n",
    "import math\n",
    "import itertools    \n",
    "import matplotlib.pyplot as plt\n",
    "import ast\n",
    "import numpy as np\n",
    "import operator"
   ]
  },
  {
   "cell_type": "code",
   "execution_count": 2,
   "metadata": {},
   "outputs": [],
   "source": [
    "with open('sensornew.txt', 'r') as f:\n",
    "    sensor = ast.literal_eval(f.read())"
   ]
  },
  {
   "cell_type": "code",
   "execution_count": 3,
   "metadata": {},
   "outputs": [
    {
     "data": {
      "text/plain": [
       "[(7, 432),\n",
       " (8, 471),\n",
       " (128, 386),\n",
       " (149, 119),\n",
       " (157, 329),\n",
       " (200, 439),\n",
       " (295, 424),\n",
       " (311, 359),\n",
       " (330, 207),\n",
       " (338, 163),\n",
       " (346, 22),\n",
       " (353, 327),\n",
       " (354, 119),\n",
       " (387, 442),\n",
       " (489, 392)]"
      ]
     },
     "execution_count": 3,
     "metadata": {},
     "output_type": "execute_result"
    }
   ],
   "source": [
    "sensor"
   ]
  },
  {
   "cell_type": "code",
   "execution_count": 29,
   "metadata": {},
   "outputs": [],
   "source": [
    "s=[list(i) for i in sensor]"
   ]
  },
  {
   "cell_type": "code",
   "execution_count": 30,
   "metadata": {},
   "outputs": [
    {
     "data": {
      "text/plain": [
       "[[7, 432],\n",
       " [8, 471],\n",
       " [128, 386],\n",
       " [149, 119],\n",
       " [157, 329],\n",
       " [200, 439],\n",
       " [295, 424],\n",
       " [311, 359],\n",
       " [330, 207],\n",
       " [338, 163],\n",
       " [346, 22],\n",
       " [353, 327],\n",
       " [354, 119],\n",
       " [387, 442],\n",
       " [489, 392]]"
      ]
     },
     "execution_count": 30,
     "metadata": {},
     "output_type": "execute_result"
    }
   ],
   "source": [
    "s"
   ]
  },
  {
   "cell_type": "code",
   "execution_count": 42,
   "metadata": {},
   "outputs": [],
   "source": [
    "import matplotlib.pyplot as plt\n",
    "import numpy as np"
   ]
  },
  {
   "cell_type": "code",
   "execution_count": 43,
   "metadata": {},
   "outputs": [],
   "source": [
    "from matplotlib import style\n",
    "style.use('ggplot')\n"
   ]
  },
  {
   "cell_type": "code",
   "execution_count": 44,
   "metadata": {},
   "outputs": [],
   "source": [
    "X=np.array(s)"
   ]
  },
  {
   "cell_type": "code",
   "execution_count": 45,
   "metadata": {},
   "outputs": [
    {
     "data": {
      "text/plain": [
       "array([  7,   8, 128, 149, 157, 200, 295, 311, 330, 338, 346, 353, 354,\n",
       "       387, 489])"
      ]
     },
     "execution_count": 45,
     "metadata": {},
     "output_type": "execute_result"
    }
   ],
   "source": [
    "X[:,0]"
   ]
  },
  {
   "cell_type": "code",
   "execution_count": 46,
   "metadata": {},
   "outputs": [
    {
     "data": {
      "image/png": "[encoded data removed]",
      "text/plain": [
       "<Figure size 432x288 with 1 Axes>"
      ]
     },
     "metadata": {},
     "output_type": "display_data"
    }
   ],
   "source": [
    "plt.scatter(X[:,0],X[:,1],s=150)\n",
    "plt.show()"
   ]
  },
  {
   "cell_type": "code",
   "execution_count": 57,
   "metadata": {},
   "outputs": [],
   "source": [
    "class K_Means:\n",
    "    def __init__(self,k=3, tol=0.001,max_iter=1000):\n",
    "        self.k=k\n",
    "        self.tol=tol\n",
    "        self.max_iter=300\n",
    "    def fit(self,data):\n",
    "        self.centroids={}\n",
    "        for i in range(self.k):\n",
    "            self.centroids[i]=data[i]\n",
    "        for i in range(self.max_iter):\n",
    "            self.classifications={}\n",
    "            for i in range(self.k):\n",
    "                self.classifications[i]=[]\n",
    "            for featureset in data:\n",
    "                distances=[np.linalg.norm(featureset-self.centroids[centroid]) for centroid in self.centroids ]\n",
    "                classification=distances.index(min(distances))\n",
    "                self.classifications[classification].append(featureset)\n",
    "            prev_centroids=dict(self.centroids)\n",
    "            for classification in self.classifications:\n",
    "                self.centroids[classification]=np.average(self.classifications[classification],axis=0)\n",
    "            optimized =True\n",
    "            for c in self.centroids:\n",
    "                original_centroid=prev_centroids[c]\n",
    "                current_centroid=self.centroids[c]\n",
    "                if np.sum((current_centroid-original_centroid)/original_centroid*100.0)>self.tol:\n",
    "                    optimized=False\n",
    "            if optimized:\n",
    "                break\n",
    "    def predict(self,data):\n",
    "        distances=[np.linalg.norm(data-self.centroids[centroid]) for centroid in self.centroids]\n",
    "        classification=distances.index(min(distances))\n",
    "        return classification\n",
    "                "
   ]
  },
  {
   "cell_type": "code",
   "execution_count": 58,
   "metadata": {},
   "outputs": [
    {
     "data": {
      "image/png": "[encoded data removed]",
      "text/plain": [
       "<Figure size 432x288 with 1 Axes>"
      ]
     },
     "metadata": {},
     "output_type": "display_data"
    }
   ],
   "source": [
    "model=K_Means()\n",
    "model.fit(X)\n",
    "colors=['g','r','y']\n",
    "\n",
    "for centroid in model.centroids:\n",
    "    plt.scatter(model.centroids[centroid][0], model.centroids[centroid][1],marker=\"o\", color=\"k\", s=150, linewidths=5)\n",
    "for classification in model.classifications:\n",
    "    color=colors[classification]\n",
    "    for featureset in model.classifications[classification]:\n",
    "        plt.scatter(featureset[0], featureset[1], marker=\"x\", color=color, s=150, linewidths=5)\n",
    "plt.show()\n",
    "        "
   ]
  },
  {
   "cell_type": "code",
   "execution_count": null,
   "metadata": {},
   "outputs": [],
   "source": []
  },
  {
   "cell_type": "code",
   "execution_count": null,
   "metadata": {},
   "outputs": [],
   "source": []
  }
 ],
 "metadata": {
  "kernelspec": {
   "display_name": "Python 3",
   "language": "python",
   "name": "python3"
  },
  "language_info": {
   "codemirror_mode": {
    "name": "ipython",
    "version": 3
   },
   "file_extension": ".py",
   "mimetype": "text/x-python",
   "name": "python",
   "nbconvert_exporter": "python",
   "pygments_lexer": "ipython3",
   "version": "3.7.4"
  }
 },
 "nbformat": 4,
 "nbformat_minor": 4
}
