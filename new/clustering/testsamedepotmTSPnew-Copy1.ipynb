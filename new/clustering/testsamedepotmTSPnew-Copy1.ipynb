{
 "cells": [
  {
   "cell_type": "code",
   "execution_count": 1,
   "metadata": {},
   "outputs": [],
   "source": [
    "# from variable500grid import *\n",
    "# from variable2000grid50sensor import*\n",
    "from global_variable import*"
   ]
  },
  {
   "cell_type": "code",
   "execution_count": 2,
   "metadata": {},
   "outputs": [],
   "source": [
    "import random\n",
    "import networkx as nx\n",
    "import math\n",
    "import itertools    \n",
    "import matplotlib.pyplot as plt\n",
    "import ast\n",
    "import numpy as np\n",
    "import operator\n",
    "from sklearn.cluster import KMeans\n",
    "from collections import defaultdict\n",
    "import pandas as pd\n",
    "from matplotlib import pyplot as plt\n",
    "from gurobipy import *\n",
    "import gurobipy as gp"
   ]
  },
  {
   "cell_type": "code",
   "execution_count": 3,
   "metadata": {},
   "outputs": [],
   "source": [
    "# with open('sensor_for_large_Grid2000_50sensorlistonlyfeb13real.txt', 'r') as f:\n",
    "#     sensor = ast.literal_eval(f.read())"
   ]
  },
  {
   "cell_type": "code",
   "execution_count": 4,
   "metadata": {},
   "outputs": [],
   "source": [
    "with open('test500grid10sensortest4.txt', 'r') as f:\n",
    "    sensor = ast.literal_eval(f.read())"
   ]
  },
  {
   "cell_type": "code",
   "execution_count": 5,
   "metadata": {},
   "outputs": [
    {
     "data": {
      "text/plain": [
       "500"
      ]
     },
     "execution_count": 5,
     "metadata": {},
     "output_type": "execute_result"
    }
   ],
   "source": [
    "length_of_grid"
   ]
  },
  {
   "cell_type": "code",
   "execution_count": 6,
   "metadata": {},
   "outputs": [],
   "source": [
    " sensor=sorted(sensor)"
   ]
  },
  {
   "cell_type": "code",
   "execution_count": 7,
   "metadata": {},
   "outputs": [
    {
     "data": {
      "text/plain": [
       "[(24, 318),\n",
       " (125, 296),\n",
       " (127, 330),\n",
       " (174, 337),\n",
       " (268, 43),\n",
       " (338, 24),\n",
       " (352, 119),\n",
       " (378, 36),\n",
       " (379, 262),\n",
       " (411, 275)]"
      ]
     },
     "execution_count": 7,
     "metadata": {},
     "output_type": "execute_result"
    }
   ],
   "source": [
    "sensor"
   ]
  },
  {
   "cell_type": "code",
   "execution_count": 8,
   "metadata": {},
   "outputs": [],
   "source": [
    "s=[list(i) for i in sensor]"
   ]
  },
  {
   "cell_type": "code",
   "execution_count": 9,
   "metadata": {
    "jupyter": {
     "source_hidden": true
    }
   },
   "outputs": [],
   "source": [
    "X=np.array(s)"
   ]
  },
  {
   "cell_type": "markdown",
   "metadata": {},
   "source": [
    "## function just to calculate distance between two pdp points"
   ]
  },
  {
   "cell_type": "code",
   "execution_count": 10,
   "metadata": {},
   "outputs": [],
   "source": [
    "def distance(points,i,j):\n",
    "    x=points[i][0]-points[j][0]\n",
    "    y=points[i][1]-points[j][1]\n",
    "    return math.sqrt(x*x+y*y)"
   ]
  },
  {
   "cell_type": "markdown",
   "metadata": {},
   "source": [
    "## Function to determine the pdp position in the grid"
   ]
  },
  {
   "cell_type": "code",
   "execution_count": 11,
   "metadata": {},
   "outputs": [],
   "source": [
    "def calculate_Pdp_positions(length_of_grid,transmission_range):\n",
    "    pdp_positions={}\n",
    "    k=0\n",
    "    for c_1 in np.arange(length_of_grid/(transmission_range*math.sqrt(2))):\n",
    "        for c_2 in np.arange(length_of_grid/(transmission_range*math.sqrt(2))):\n",
    "            pdp_positions[k]=(c_1*transmission_range*math.sqrt(2),c_2*transmission_range*math.sqrt(2))\n",
    "            k=k+1\n",
    "    return pdp_positions"
   ]
  },
  {
   "cell_type": "code",
   "execution_count": 12,
   "metadata": {},
   "outputs": [],
   "source": [
    "pdp_positions=calculate_Pdp_positions(length_of_grid,transmission_range)"
   ]
  },
  {
   "cell_type": "markdown",
   "metadata": {},
   "source": [
    "## Function to create the trip graph"
   ]
  },
  {
   "cell_type": "code",
   "execution_count": 13,
   "metadata": {},
   "outputs": [],
   "source": [
    "def create_trip_graph():\n",
    "    G=nx.Graph()\n",
    "    distance_between_pdp={}\n",
    "    for i in range(len(pdp_positions)):\n",
    "        G.add_node('pdp{}'.format(i),pos=pdp_positions[i])\n",
    "    for u in range(len(pdp_positions)):\n",
    "        for v in range(len(pdp_positions)):\n",
    "            wt=distance(pdp_positions,u,v)\n",
    "            G.add_edge('pdp{}'.format(u),'pdp{}'.format(v),weight=wt)\n",
    "            distance_between_pdp[(u,v)]=wt\n",
    "    return G,distance_between_pdp"
   ]
  },
  {
   "cell_type": "code",
   "execution_count": 14,
   "metadata": {},
   "outputs": [],
   "source": [
    "trip_graph,distance_between_pdp=create_trip_graph()"
   ]
  },
  {
   "cell_type": "markdown",
   "metadata": {},
   "source": [
    "## This function calculates the pdp with the minimum distance betweeen the cluster center"
   ]
  },
  {
   "cell_type": "code",
   "execution_count": 15,
   "metadata": {},
   "outputs": [],
   "source": [
    "def calculate_min_pdp_distance_with_cluster_center(c_centers,pdp_positions):\n",
    "    \"\"\"\n",
    "    Function to calculate the nearest pdp_position to the cluster center \n",
    "    \"\"\"\n",
    "    new_dict={}\n",
    "    for i in c_centers:\n",
    "        temp={}\n",
    "        for p,value in pdp_positions.items():\n",
    "            arr=np.array(value)\n",
    "            #print(arr)\n",
    "            dist=np.linalg.norm(i-arr)\n",
    "            temp[p]=dist\n",
    "        #print(temp)\n",
    "        print(min(temp.items(),key=operator.itemgetter(1))[0])\n",
    "        print(min(temp.items(),key=operator.itemgetter(1))[1])\n",
    "        print(\"******\")\n",
    "        new_dict[tuple(i)]=min(temp.items(),key=operator.itemgetter(1))[0]\n",
    "\n",
    "    return new_dict"
   ]
  },
  {
   "cell_type": "code",
   "execution_count": 16,
   "metadata": {},
   "outputs": [],
   "source": [
    "K=nx.DiGraph()"
   ]
  },
  {
   "cell_type": "code",
   "execution_count": 17,
   "metadata": {
    "jupyter": {
     "source_hidden": true
    }
   },
   "outputs": [],
   "source": [
    "for i in range(len(sensor)):\n",
    "    K.add_node('sensor{}'.format(i),pos=sensor[i])"
   ]
  },
  {
   "cell_type": "code",
   "execution_count": 18,
   "metadata": {},
   "outputs": [],
   "source": [
    "def calulate_distance_between_each_sensors_and_assign_weight(points,K):\n",
    "    distance_sensors={}\n",
    "    M=K\n",
    "    k=0\n",
    "    edge_weight=1\n",
    "    for i in range(len(points)):\n",
    "        for j in range(len(points)):\n",
    "            euclidean_distance=distance(points,i,j)\n",
    "            if i!=j:\n",
    "                #M.add_edge(\"sensor{}\".format(i),\"sensor{}\".format(j))\n",
    "\n",
    "                \n",
    "                if euclidean_distance<=transmission_range:\n",
    "                    #if M.has_edge('sensor{}'.format(i),'sensor{}'.format(j))!=True:\n",
    "                    M.add_edge(\"sensor{}\".format(i),\"sensor{}\".format(j))\n",
    "\n",
    "                    M[\"sensor{}\".format(i)][\"sensor{}\".format(j)]['weight']=1\n",
    "\n",
    "                    distance_sensors[i,j]=(euclidean_distance,edge_weight)\n",
    "#                 else:\n",
    "#                     M[\"sensor{}\".format(i)][\"sensor{}\".format(j)]['weight']=100\n",
    "#                     distance_sensors[i,j]=(euclidean_distance,100)\n",
    "#             k=k+1\n",
    "    return distance_sensors,M"
   ]
  },
  {
   "cell_type": "code",
   "execution_count": 19,
   "metadata": {},
   "outputs": [],
   "source": [
    "euclidean_distance_between_sensor,L=calulate_distance_between_each_sensors_and_assign_weight(sensor,K)"
   ]
  },
  {
   "cell_type": "code",
   "execution_count": 20,
   "metadata": {},
   "outputs": [
    {
     "data": {
      "image/png": "[encoded data removed]",
      "text/plain": [
       "<Figure size 432x288 with 1 Axes>"
      ]
     },
     "metadata": {},
     "output_type": "display_data"
    }
   ],
   "source": [
    "nx.draw(L,nx.get_node_attributes(L,'pos'),with_labels=True)"
   ]
  },
  {
   "cell_type": "code",
   "execution_count": 21,
   "metadata": {},
   "outputs": [],
   "source": [
    "def distance_pdp_sensors(pdp_positions,sensor,u,v):\n",
    "    x=pdp_positions[u][0]-sensor[v][0]\n",
    "    y=pdp_positions[u][1]-sensor[v][1]\n",
    "    return math.sqrt(x*x+y*y)"
   ]
  },
  {
   "cell_type": "markdown",
   "metadata": {},
   "source": [
    "## Function that is used for creating the conncectivity graph"
   ]
  },
  {
   "cell_type": "code",
   "execution_count": 22,
   "metadata": {},
   "outputs": [],
   "source": [
    "def connectivity_graph(pdp_positions,sensor,K):\n",
    "    J=K\n",
    "    distance_pdp_each_sensor={}\n",
    "    k=0\n",
    "    weight=1\n",
    "    for i in range(len(pdp_positions)):\n",
    "        J.add_node('pdp{}'.format(i),pos=pdp_positions[i])\n",
    "    for u in range(len(pdp_positions)):\n",
    "        for v in range(len(sensor)):\n",
    "            euclidean_distance_between_pdp_sensor=distance_pdp_sensors(pdp_positions,sensor,u,v)\n",
    "            J.add_edge(\"pdp{}\".format(u),\"sensor{}\".format(v))\n",
    "            \n",
    "            if euclidean_distance_between_pdp_sensor<=transmission_range:\n",
    "                #J.add_edge(\"pdp{}\".format(u),\"sensor{}\".format(v))\n",
    "                #if J.has_edge('pdp{}'.format(i),'sensor{}'.format(j))!=True:\n",
    "                    #J.add_edge(\"pdp{}\".format(u),\"sensor{}\".format(v))\n",
    "               \n",
    "                \n",
    "                J[\"pdp{}\".format(u)][\"sensor{}\".format(v)]['weight']=1\n",
    "                distance_pdp_each_sensor[u,v]=euclidean_distance_between_pdp_sensor,weight\n",
    "            else:\n",
    "                J[\"pdp{}\".format(u)][\"sensor{}\".format(v)]['weight']=100\n",
    "                distance_pdp_each_sensor[u,v]=euclidean_distance_between_pdp_sensor,100\n",
    "#            k=k+1\n",
    "    return distance_pdp_each_sensor,J"
   ]
  },
  {
   "cell_type": "code",
   "execution_count": 23,
   "metadata": {},
   "outputs": [],
   "source": [
    "distance_between_pdp_to_each_sensor,N=connectivity_graph(pdp_positions,sensor,L)"
   ]
  },
  {
   "cell_type": "markdown",
   "metadata": {},
   "source": [
    "# Here it finds the shortest distance between each pdp and "
   ]
  },
  {
   "cell_type": "code",
   "execution_count": 24,
   "metadata": {},
   "outputs": [],
   "source": [
    "k=0\n",
    "arc_length={}\n",
    "shortest_path={}\n",
    "for i in range(len(pdp_positions)):\n",
    "    for j in range(len(sensor)):\n",
    "        if N.has_edge('pdp{}'.format(i),'sensor{}'.format(j)):\n",
    "            shortest_path[i,j]=nx.shortest_path(N,source='pdp{}'.format(i),target='sensor{}'.format(j),\n",
    "                                              weight='weight',method='dijkstra')\n",
    "            arc_length[i,j]=nx.dijkstra_path_length(N,'pdp{}'.format(i),'sensor{}'.format(j))\n",
    "            \n",
    "           \n",
    "        else:\n",
    "            shortest_path[i,j]=0"
   ]
  },
  {
   "cell_type": "code",
   "execution_count": 25,
   "metadata": {},
   "outputs": [],
   "source": [
    "new_zipped=dict(zip(arc_length.items(),shortest_path.values()))"
   ]
  },
  {
   "cell_type": "code",
   "execution_count": 26,
   "metadata": {},
   "outputs": [],
   "source": [
    "def spanning_tree_collecting_time(pdp):\n",
    "    \"\"\"This function defines which sensors are connected with the desired pdp\"\"\"\n",
    "    \"\"\"\n",
    "    return list\n",
    "    \"\"\"\n",
    "    sensor_subset=[]\n",
    "    for key,value in new_zipped.items():\n",
    "        if key[0][0]==pdp:\n",
    "            if key[1]!=100:\n",
    "                #print(i)\n",
    "                sensor_subset.append(key[0][1])\n",
    "    return sensor_subset"
   ]
  },
  {
   "cell_type": "code",
   "execution_count": 27,
   "metadata": {},
   "outputs": [],
   "source": [
    "def to_check_the_minimum_hops_between_the_pdp_and_sensor(spanning_tree):\n",
    "    \"\"\"In this function we check which sensor can send data to the pdp with minimum hops\n",
    "    for example if sensor2 is connected with pdp10 with  hop distance with 2 and same sensor2 is connected with \n",
    "    pdp11 with hop distance 4 then we assume that sensor2 will send data to the drone when drone is at pdp10 since \n",
    "    it has minimum hop distance\"\"\"\n",
    "    subset2=spanning_tree\n",
    "    for key,value in subset2.items():\n",
    "        for key1,value1 in subset2.items():\n",
    "            if key!=key1:\n",
    "                for i in value:\n",
    "                    for j in value1:\n",
    "                        if i==j:\n",
    "                            #print(i)\n",
    "                            #s=get_number(i)\n",
    "                            if nx.dijkstra_path_length(N,'pdp{}'.format(key),'sensor{}'.format(i))>nx.dijkstra_path_length(N,'pdp{}'.format(key1),'sensor{}'.format(i)):\n",
    "                                subset2[key].remove(i)\n",
    "                            else:\n",
    "                                subset2[key1].remove(j)\n",
    "    return subset2"
   ]
  },
  {
   "cell_type": "code",
   "execution_count": 28,
   "metadata": {},
   "outputs": [],
   "source": [
    "def create_spanning_tree_for_tour(tour):\n",
    "    sensor_subset={}\n",
    "    for i in tour:\n",
    "        sensor_subset[i]=spanning_tree_collecting_time(i)\n",
    "    correct_sensor_subset=to_check_the_minimum_hops_between_the_pdp_and_sensor(sensor_subset)\n",
    "    return correct_sensor_subset"
   ]
  },
  {
   "cell_type": "code",
   "execution_count": 29,
   "metadata": {},
   "outputs": [],
   "source": [
    "def check_all_sensor_can_send_data(checked_sensor_arc):\n",
    "    \"\"\"The main aim of creating this function was to check whether all the sensors are connected to the pdps in the route\n",
    "    of drone tour.For example we have pdp10 and pdp7 in our route.ie Route=[10 7].We create spanning tree for the both \n",
    "    the pdps and check whether all the sensors are connected or not.If all the sensors are not connected in the combined\n",
    "    spanning tree calculated with the pdps of the Route\"\"\"\n",
    "    s=[]\n",
    "    for key,values in checked_sensor_arc.items():\n",
    "        s=list(set().union(s,values))\n",
    "    if len(s)==len(sensor): # before there was only s==sensor but it was wrong as s is list and sensor is a list of tuple\n",
    "        return 1\n",
    "    else:\n",
    "        return 0\n",
    "    "
   ]
  },
  {
   "cell_type": "code",
   "execution_count": 30,
   "metadata": {},
   "outputs": [],
   "source": [
    "def determine_collecting_time(checked_sensor_arc):\n",
    "    \"\"\"After checking whether all the sensor can send data while the drone makes a trip in the way as\n",
    "    described in the Route.We assign collecting time as infinite or call the collecting time function\"\"\"\n",
    "    value=check_all_sensor_can_send_data(checked_sensor_arc)\n",
    "    if value==1:\n",
    "        t_collecting=calculate_collecting_time(checked_sensor_arc)\n",
    "    if value==0:\n",
    "        t_collecting=math.inf\n",
    "    return t_collecting"
   ]
  },
  {
   "cell_type": "code",
   "execution_count": 31,
   "metadata": {},
   "outputs": [],
   "source": [
    "def check_all_sensor_can_send_data(checked_sensor_arc):\n",
    "    \"\"\"The main aim of creating this function was to check whether all the sensors are connected to the pdps in the route\n",
    "    of drone tour.For example we have pdp10 and pdp7 in our route.ie Route=[10 7].We create spanning tree for the both \n",
    "    the pdps and check whether all the sensors are connected or not.If all the sensors are not connected in the combined\n",
    "    spanning tree calculated with the pdps of the Route\"\"\"\n",
    "    s=[]\n",
    "    for key,values in checked_sensor_arc.items():\n",
    "        s=list(set().union(s,values))\n",
    "    if len(s)==len(sensor): # before there was only s==sensor but it was wrong as s is list and sensor is a list of tuple\n",
    "        return 1\n",
    "    else:\n",
    "        return 0\n",
    "    "
   ]
  },
  {
   "cell_type": "code",
   "execution_count": 32,
   "metadata": {},
   "outputs": [],
   "source": [
    "def calculate_collecting_time(checked_sensor_arc):\n",
    "    \n",
    "    dict_={}\n",
    "    for key,values in checked_sensor_arc.items():\n",
    "        weight=0\n",
    "        if values!=[]:\n",
    "            for j in values:\n",
    "                for key1,values1 in new_zipped.items():\n",
    "                    if key1[0]==(key,j):\n",
    "                        #print(key1[1])\n",
    "                        weight=weight+key1[1]\n",
    "                        t_collecting=(data_rate/bandwidth)*weight\n",
    "        dict_[key]=t_collecting\n",
    "    return dict_\n",
    "    "
   ]
  },
  {
   "cell_type": "code",
   "execution_count": 33,
   "metadata": {},
   "outputs": [],
   "source": [
    "def calc_cluster_number(sensor):\n",
    "    M=1000*1000\n",
    "    no_of_vehicles=2\n",
    "    K=3\n",
    "    \n",
    "    for i in range(1,len(sensor)+1):\n",
    "        new_dict={}\n",
    "        kmeans=KMeans(n_clusters=i,random_state=1000)\n",
    "        kmeans.fit(X)\n",
    "        c_centers=tuple(kmeans.cluster_centers_)\n",
    "        for j in c_centers:\n",
    "            temp={}\n",
    "            for p,value in pdp_positions.items():\n",
    "                arr=np.array(value)\n",
    "                dist=np.linalg.norm(j-arr)\n",
    "                temp[p]=dist\n",
    "#           print(temp)\n",
    "            new_dict[tuple(j)]=min(temp.items(),key=operator.itemgetter(1))[0]\n",
    "        subset={}\n",
    "        print(new_dict)\n",
    "        for key,values in new_dict.items():\n",
    "            subset[values]=spanning_tree_collecting_time(values)\n",
    "        checked=to_check_the_minimum_hops_between_the_pdp_and_sensor(subset)\n",
    "        check=check_all_sensor_can_send_data(checked)\n",
    "        if check==1:\n",
    "            print(\"i am here\")\n",
    "            df_=calculate_collecting_time(checked)\n",
    "            print(df_)\n",
    "            break\n",
    "    coordinates=[]\n",
    "    for key,values in df_.items():\n",
    "        for k,v in pdp_positions.items():\n",
    "            if key==k:\n",
    "                l=list(v)\n",
    "                coordinates.append(l)\n",
    "    \n",
    "    \n",
    "    \n",
    "    return coordinates\n",
    "        \n",
    "        \n",
    "            "
   ]
  },
  {
   "cell_type": "code",
   "execution_count": 34,
   "metadata": {},
   "outputs": [
    {
     "name": "stdout",
     "output_type": "stream",
     "text": [
      "{(257.6, 204.0): 9}\n",
      "{(354.3333333333333, 126.5): 13, (112.5, 320.25): 6}\n",
      "{(334.0, 55.5): 8, (112.5, 320.25): 6, (395.0, 268.5): 14}\n",
      "{(334.0, 55.5): 8, (24.0, 318.0): 2, (142.0, 321.0): 6, (395.0, 268.5): 14}\n",
      "i am here\n",
      "{8: 15.0, 2: 2.5, 6: 7.5, 14: 5.0}\n",
      "Wall time: 261 ms\n"
     ]
    }
   ],
   "source": [
    "%%time\n",
    "coordinates=calc_cluster_number(sensor)"
   ]
  },
  {
   "cell_type": "code",
   "execution_count": 35,
   "metadata": {},
   "outputs": [],
   "source": [
    "# coordinates=[]\n",
    "# for key,values in o.items():\n",
    "#     for k,v in pdp_positions.items():\n",
    "#         if key==k:\n",
    "#             l=list(v)\n",
    "#             coordinates.append(l)\n",
    "    "
   ]
  },
  {
   "cell_type": "code",
   "execution_count": 36,
   "metadata": {},
   "outputs": [
    {
     "data": {
      "text/plain": [
       "[[282.842712474619, 0.0],\n",
       " [0.0, 282.842712474619],\n",
       " [141.4213562373095, 282.842712474619],\n",
       " [424.26406871192853, 282.842712474619]]"
      ]
     },
     "execution_count": 36,
     "metadata": {},
     "output_type": "execute_result"
    }
   ],
   "source": [
    "coordinates"
   ]
  },
  {
   "cell_type": "code",
   "execution_count": 37,
   "metadata": {},
   "outputs": [],
   "source": [
    "coordinates=[[0,0]]+coordinates"
   ]
  },
  {
   "cell_type": "code",
   "execution_count": 38,
   "metadata": {},
   "outputs": [],
   "source": [
    "M=1000*1000"
   ]
  },
  {
   "cell_type": "code",
   "execution_count": 39,
   "metadata": {},
   "outputs": [],
   "source": [
    "n = len(coordinates)"
   ]
  },
  {
   "cell_type": "code",
   "execution_count": 40,
   "metadata": {},
   "outputs": [
    {
     "data": {
      "text/plain": [
       "5"
      ]
     },
     "execution_count": 40,
     "metadata": {},
     "output_type": "execute_result"
    }
   ],
   "source": [
    "n"
   ]
  },
  {
   "cell_type": "code",
   "execution_count": 41,
   "metadata": {},
   "outputs": [],
   "source": [
    "L=n"
   ]
  },
  {
   "cell_type": "code",
   "execution_count": 42,
   "metadata": {},
   "outputs": [],
   "source": [
    "coordinates=np.array(coordinates)"
   ]
  },
  {
   "cell_type": "code",
   "execution_count": 43,
   "metadata": {},
   "outputs": [],
   "source": [
    "depot, customers = coordinates[0, :], coordinates[1:, :]"
   ]
  },
  {
   "cell_type": "code",
   "execution_count": 44,
   "metadata": {},
   "outputs": [],
   "source": [
    "no_of_vehicles=2"
   ]
  },
  {
   "cell_type": "markdown",
   "metadata": {},
   "source": [
    "set minimum number of customers to be visited by each drone"
   ]
  },
  {
   "cell_type": "code",
   "execution_count": 45,
   "metadata": {},
   "outputs": [],
   "source": [
    "# K=n//no_of_vehicles-1"
   ]
  },
  {
   "cell_type": "code",
   "execution_count": 46,
   "metadata": {},
   "outputs": [],
   "source": [
    "K=(n-1)//no_of_vehicles"
   ]
  },
  {
   "cell_type": "code",
   "execution_count": 47,
   "metadata": {},
   "outputs": [
    {
     "data": {
      "text/plain": [
       "2"
      ]
     },
     "execution_count": 47,
     "metadata": {},
     "output_type": "execute_result"
    }
   ],
   "source": [
    "K"
   ]
  },
  {
   "cell_type": "code",
   "execution_count": 48,
   "metadata": {},
   "outputs": [],
   "source": [
    "dist_matrix = np.empty([n, n])"
   ]
  },
  {
   "cell_type": "code",
   "execution_count": 49,
   "metadata": {},
   "outputs": [
    {
     "name": "stdout",
     "output_type": "stream",
     "text": [
      "Set parameter Username\n",
      "Academic license - for non-commercial use only - expires 2022-05-20\n"
     ]
    }
   ],
   "source": [
    "m = Model(\"MVRP\")"
   ]
  },
  {
   "cell_type": "code",
   "execution_count": 50,
   "metadata": {},
   "outputs": [],
   "source": [
    "for i in range(n):\n",
    "    for j in range(n):\n",
    "        dist_matrix[i, j] = np.sqrt((coordinates[i][0] - coordinates[j][0]) ** 2 + (coordinates[i][1] - coordinates[j][1]) ** 2)\n",
    "        if i==j:\n",
    "            dist_matrix[i,j]=M\n",
    "        continue"
   ]
  },
  {
   "cell_type": "code",
   "execution_count": 51,
   "metadata": {},
   "outputs": [],
   "source": [
    "x={}"
   ]
  },
  {
   "cell_type": "code",
   "execution_count": 52,
   "metadata": {},
   "outputs": [],
   "source": [
    "for i in range(n):\n",
    "    for j in range(n):\n",
    "        for k in range(no_of_vehicles):\n",
    "            x[i, j,k] = m.addVar(vtype=GRB.BINARY, name=\"x%d,%d,%d\" % (i, j,k))\n",
    "m.update()"
   ]
  },
  {
   "cell_type": "code",
   "execution_count": 53,
   "metadata": {},
   "outputs": [],
   "source": [
    "# for i in range(n):\n",
    "#     x[i, i].ub = 0"
   ]
  },
  {
   "cell_type": "code",
   "execution_count": 54,
   "metadata": {},
   "outputs": [],
   "source": [
    "u_vars = {}\n",
    "for i in range(n):\n",
    "    u_vars[i] = m.addVar(lb=0, ub=L, vtype=gurobipy.GRB.INTEGER, name='u' + str(i))\n",
    "m.update()"
   ]
  },
  {
   "cell_type": "markdown",
   "metadata": {},
   "source": [
    "new added line"
   ]
  },
  {
   "cell_type": "code",
   "execution_count": 55,
   "metadata": {},
   "outputs": [
    {
     "data": {
      "text/plain": [
       "<gurobi.Constr *Awaiting Model Update*>"
      ]
     },
     "execution_count": 55,
     "metadata": {},
     "output_type": "execute_result"
    }
   ],
   "source": [
    "m.addConstr(gp.quicksum(gp.quicksum(x[0,j,k] for j in range(1,n))for k in range(no_of_vehicles))==no_of_vehicles)"
   ]
  },
  {
   "cell_type": "code",
   "execution_count": 56,
   "metadata": {},
   "outputs": [
    {
     "data": {
      "text/plain": [
       "<gurobi.Constr *Awaiting Model Update*>"
      ]
     },
     "execution_count": 56,
     "metadata": {},
     "output_type": "execute_result"
    }
   ],
   "source": [
    "m.addConstr(gp.quicksum(gp.quicksum(x[j,0,k] for j in range(1,n))for k in range(no_of_vehicles))==no_of_vehicles)"
   ]
  },
  {
   "cell_type": "code",
   "execution_count": 57,
   "metadata": {},
   "outputs": [],
   "source": [
    "for i in range(1, n):\n",
    "    m.addConstr(gp.quicksum(gp.quicksum(x[i, j,k] for j in range(n))for k in range(no_of_vehicles)) == 1)"
   ]
  },
  {
   "cell_type": "code",
   "execution_count": null,
   "metadata": {},
   "outputs": [],
   "source": []
  },
  {
   "cell_type": "code",
   "execution_count": 58,
   "metadata": {},
   "outputs": [],
   "source": [
    "# for k in range(no_of_vehicles):\n",
    "#     for i in range(1, n):\n",
    "#         m.addConstr(gp.quicksum(x[i, j,k] for j in range(n)) == 1)"
   ]
  },
  {
   "cell_type": "code",
   "execution_count": 59,
   "metadata": {},
   "outputs": [],
   "source": [
    "\n",
    "for j in range(1, n):\n",
    "    m.addConstr(gp.quicksum(gurobipy.quicksum(x[i, j,k] for i in range(n))for k in range(no_of_vehicles)) == 1)"
   ]
  },
  {
   "cell_type": "code",
   "execution_count": null,
   "metadata": {},
   "outputs": [],
   "source": []
  },
  {
   "cell_type": "code",
   "execution_count": 60,
   "metadata": {},
   "outputs": [],
   "source": [
    "# for k in range(no_of_vehicles):\n",
    "#     for j in range(1, n):\n",
    "#         m.addConstr(gurobipy.quicksum(x[i, j,k] for i in range(n)) == 1)"
   ]
  },
  {
   "cell_type": "markdown",
   "metadata": {},
   "source": [
    "This constraint is new for route continuity"
   ]
  },
  {
   "cell_type": "code",
   "execution_count": 61,
   "metadata": {},
   "outputs": [],
   "source": [
    "for k in range(no_of_vehicles):\n",
    "    for i in range(n):\n",
    "        m.addConstr(gp.quicksum(x[i,j,k] for j in range(n) )-gp.quicksum(x[j,i,k] for j in range(n) )==0)"
   ]
  },
  {
   "cell_type": "code",
   "execution_count": 62,
   "metadata": {},
   "outputs": [],
   "source": [
    "for i in range(1,n):\n",
    "    m.addConstr(u_vars[i]+(L-2)*gp.quicksum(x[0,i,k] for k in range(no_of_vehicles))-gp.quicksum(x[i,0,k] for k in range(no_of_vehicles))<=L-1)"
   ]
  },
  {
   "cell_type": "code",
   "execution_count": 63,
   "metadata": {},
   "outputs": [],
   "source": [
    "for i in range(1,n):\n",
    "    m.addConstr(u_vars[i]+gp.quicksum(x[0,i,k] for k in range(no_of_vehicles))+(2-K)*gp.quicksum(x[i,0,k] for k in range(no_of_vehicles))>=2)"
   ]
  },
  {
   "cell_type": "code",
   "execution_count": 64,
   "metadata": {},
   "outputs": [],
   "source": [
    "for i in range(1,n):\n",
    "    m.addConstr(gp.quicksum(x[0,i,k] for k in range(no_of_vehicles))+gp.quicksum(x[i,0,k] for k in range(no_of_vehicles))<=1)"
   ]
  },
  {
   "cell_type": "code",
   "execution_count": 65,
   "metadata": {},
   "outputs": [],
   "source": [
    "for i in range(1,n):\n",
    "    for j in range(1,n):\n",
    "        if i !=j:\n",
    "            m.addConstr(u_vars[i]-u_vars[j]+L*gp.quicksum(x[i,j,k] for k in range(no_of_vehicles))+(L-2)*gp.quicksum(x[j,i,k] for k in range (no_of_vehicles))<=L-1)"
   ]
  },
  {
   "cell_type": "markdown",
   "metadata": {},
   "source": [
    "## new constraint for mTSP"
   ]
  },
  {
   "cell_type": "code",
   "execution_count": 66,
   "metadata": {},
   "outputs": [],
   "source": [
    "# for k in range(no_of_vehicles):\n",
    "#     m.addConstr(gp.quicksum(x[k,j,k] for j in range(1,n))-gp.quicksum(x[j,k,k] for j in range(1,n))==0)"
   ]
  },
  {
   "cell_type": "code",
   "execution_count": 67,
   "metadata": {},
   "outputs": [],
   "source": [
    "# for j in range(1,n):\n",
    "#     m.addConstr(gp.quicksum(x[k,j,k] for k in range(no_of_vehicles))+gp.quicksum(gp.quicksum(x[i,j,k] for i in range(1,n))for k in range(no_of_vehicles))==1)"
   ]
  },
  {
   "cell_type": "code",
   "execution_count": 68,
   "metadata": {},
   "outputs": [],
   "source": [
    "# for j in range(1,n):\n",
    "#     for k in range(no_of_vehicles):\n",
    "#         m.addConstr(x[k,j,k]+gp.quicksum(x[i,j,k] for i in range(1,n))-x[j,k,k]-gp.quicksum(x[j,i,k] for i in range(1,n))==0)"
   ]
  },
  {
   "cell_type": "code",
   "execution_count": 69,
   "metadata": {},
   "outputs": [],
   "source": [
    "# for i in range(1,n):\n",
    "#     m.addConstr(u_vars[i]+(L-2)*gp.quicksum(x[k,i,k] for k in range(no_of_vehicles))-gp.quicksum(x[i,k,k] for k in range(no_of_vehicles))<=1)"
   ]
  },
  {
   "cell_type": "code",
   "execution_count": 70,
   "metadata": {},
   "outputs": [],
   "source": [
    "# for i in range(1,n):\n",
    "#     m.addConstr(u_vars[i]+gp.quicksum(x[k,i,k] for k in range(no_of_vehicles))+(2-K)*gp.quicksum(x[i,k,k] for k in range(no_of_vehicles))>=2)"
   ]
  },
  {
   "cell_type": "code",
   "execution_count": 71,
   "metadata": {},
   "outputs": [],
   "source": [
    "# for i in range(1,n):\n",
    "#     m.addConstr(gp.quicksum(x[k,i,k] for k in range(no_of_vehicles))+gp.quicksum(x[i,k,k] for k in range(no_of_vehicles))<=1)"
   ]
  },
  {
   "cell_type": "code",
   "execution_count": 72,
   "metadata": {},
   "outputs": [],
   "source": [
    "m.update()"
   ]
  },
  {
   "cell_type": "code",
   "execution_count": 73,
   "metadata": {},
   "outputs": [],
   "source": [
    "z=m.addVar(vtype=GRB.CONTINUOUS,name='z')"
   ]
  },
  {
   "cell_type": "code",
   "execution_count": 74,
   "metadata": {},
   "outputs": [],
   "source": [
    "for k in range(no_of_vehicles):\n",
    "    m.addConstr(quicksum(quicksum(x[(i, j,k)]*dist_matrix[(i, j)] for j in range(n)) for i in range(n))<=z)"
   ]
  },
  {
   "cell_type": "code",
   "execution_count": 75,
   "metadata": {},
   "outputs": [
    {
     "name": "stdout",
     "output_type": "stream",
     "text": [
      "Gurobi Optimizer version 9.5.0 build v9.5.0rc5 (win64)\n",
      "Thread count: 4 physical cores, 8 logical processors, using up to 8 threads\n",
      "Optimize a model with 46 rows, 56 columns and 348 nonzeros\n",
      "Model fingerprint: 0x2a9cab3f\n",
      "Variable types: 1 continuous, 55 integer (50 binary)\n",
      "Coefficient statistics:\n",
      "  Matrix range     [1e+00, 1e+06]\n",
      "  Objective range  [1e+00, 1e+00]\n",
      "  Bounds range     [1e+00, 5e+00]\n",
      "  RHS range        [1e+00, 4e+00]\n",
      "Found heuristic solution: objective 1217.0087326\n",
      "Presolve removed 0 rows and 11 columns\n",
      "Presolve time: 0.00s\n",
      "Presolved: 46 rows, 45 columns, 314 nonzeros\n",
      "Variable types: 1 continuous, 44 integer (40 binary)\n",
      "\n",
      "Root relaxation: objective 9.247321e+02, 34 iterations, 0.00 seconds (0.00 work units)\n",
      "\n",
      "    Nodes    |    Current Node    |     Objective Bounds      |     Work\n",
      " Expl Unexpl |  Obj  Depth IntInf | Incumbent    BestBd   Gap | It/Node Time\n",
      "\n",
      "     0     0  924.73213    0    9 1217.00873  924.73213  24.0%     -    0s\n",
      "H    0     0                    1108.9724299  924.73213  16.6%     -    0s\n",
      "     0     0 1037.32893    0   14 1108.97243 1037.32893  6.46%     -    0s\n",
      "\n",
      "Cutting planes:\n",
      "  Gomory: 8\n",
      "  Cover: 1\n",
      "  Clique: 1\n",
      "  MIR: 3\n",
      "  StrongCG: 1\n",
      "  GUB cover: 1\n",
      "  RLT: 5\n",
      "\n",
      "Explored 1 nodes (41 simplex iterations) in 0.04 seconds (0.00 work units)\n",
      "Thread count was 8 (of 8 available processors)\n",
      "\n",
      "Solution count 2: 1108.97 1217.01 \n",
      "\n",
      "Optimal solution found (tolerance 1.00e-04)\n",
      "Best objective 1.108972429851e+03, best bound 1.108972429851e+03, gap 0.0000%\n"
     ]
    }
   ],
   "source": [
    "    m.setObjective(z,GRB.MINIMIZE)\n",
    "    m.optimize()\n",
    "m.write(\"coll1.lp\")"
   ]
  },
  {
   "cell_type": "code",
   "execution_count": 76,
   "metadata": {},
   "outputs": [],
   "source": [
    "# %%time\n",
    "# m._vars = x\n",
    "# m._uvars = u_vars\n",
    "# # m.params.OutputFlag = int(kwargs.get('output_flag', 0))\n",
    "# # m.params.TimeLimit = float(kwargs.get('time_limit', 60.0))\n",
    "# m.setObjective(quicksum(quicksum(x[(i, j)]*dist_matrix[(i, j)] for j in range(n)) for i in range(n)),GRB.MINIMIZE)\n",
    "# m.optimize()\n",
    "# m.write(\"coll.lp\")"
   ]
  },
  {
   "cell_type": "code",
   "execution_count": 77,
   "metadata": {},
   "outputs": [
    {
     "name": "stdout",
     "output_type": "stream",
     "text": [
      "\n",
      " minimum distance: 1108.97\n"
     ]
    }
   ],
   "source": [
    "print('\\n minimum distance: %g' % m.objVal)"
   ]
  },
  {
   "cell_type": "code",
   "execution_count": 78,
   "metadata": {},
   "outputs": [
    {
     "name": "stdout",
     "output_type": "stream",
     "text": [
      "\n",
      "    Variable            X \n",
      "-------------------------\n",
      "      x0,3,0            1 \n",
      "      x0,4,1            1 \n",
      "      x1,0,1            1 \n",
      "      x2,0,0            1 \n",
      "      x3,2,0            1 \n",
      "      x4,1,1            1 \n",
      "          u1            2 \n",
      "          u2            2 \n",
      "          u3            1 \n",
      "          u4            1 \n",
      "           z      1108.97 \n"
     ]
    }
   ],
   "source": [
    "m.printAttr('X')"
   ]
  },
  {
   "cell_type": "code",
   "execution_count": 79,
   "metadata": {},
   "outputs": [],
   "source": [
    "from_node = []\n",
    "to_node = np.empty([n, n])"
   ]
  },
  {
   "cell_type": "code",
   "execution_count": 80,
   "metadata": {},
   "outputs": [],
   "source": [
    "for v in m.getVars():\n",
    "    from_node.append(v.x)"
   ]
  },
  {
   "cell_type": "code",
   "execution_count": 81,
   "metadata": {},
   "outputs": [],
   "source": [
    "for i in range(n):\n",
    "    for j in range(n):\n",
    "        to_node[i, j] = from_node[n * i + j]"
   ]
  },
  {
   "cell_type": "code",
   "execution_count": 82,
   "metadata": {},
   "outputs": [
    {
     "name": "stdout",
     "output_type": "stream",
     "text": [
      "\n",
      "Distance Matrix (dij):\n",
      "          0        1        2        3        4\n",
      "0  1000000      282      282      316      509\n",
      "1      282  1000000      400      316      316\n",
      "2      282      400  1000000      141      424\n",
      "3      316      316      141  1000000      282\n",
      "4      509      316      424      282  1000000\n",
      "\n",
      "Decision (Xij):\n",
      "    0  1  2  3  4\n",
      "0  0  0  0  0  0\n",
      "1  0  1  0  0  1\n",
      "2  0  1  0  0  0\n",
      "3  0  0  0  0  0\n",
      "4  1  0  0  0  0\n"
     ]
    }
   ],
   "source": [
    "print('\\nDistance Matrix (dij):\\n', pd.DataFrame(dist_matrix).astype('int64'))\n",
    "print('\\nDecision (Xij):\\n', pd.DataFrame(to_node).astype('int64'))"
   ]
  },
  {
   "cell_type": "code",
   "execution_count": 83,
   "metadata": {},
   "outputs": [
    {
     "data": {
      "text/plain": [
       "{(0, 0, 0): 0.0,\n",
       " (0, 0, 1): 0.0,\n",
       " (0, 1, 0): 0.0,\n",
       " (0, 1, 1): 0.0,\n",
       " (0, 2, 0): 0.0,\n",
       " (0, 2, 1): 0.0,\n",
       " (0, 3, 0): 1.0,\n",
       " (0, 3, 1): 0.0,\n",
       " (0, 4, 0): 0.0,\n",
       " (0, 4, 1): 1.0,\n",
       " (1, 0, 0): 0.0,\n",
       " (1, 0, 1): 1.0,\n",
       " (1, 1, 0): 0.0,\n",
       " (1, 1, 1): 0.0,\n",
       " (1, 2, 0): 0.0,\n",
       " (1, 2, 1): 0.0,\n",
       " (1, 3, 0): 0.0,\n",
       " (1, 3, 1): 0.0,\n",
       " (1, 4, 0): 0.0,\n",
       " (1, 4, 1): 0.0,\n",
       " (2, 0, 0): 1.0,\n",
       " (2, 0, 1): 0.0,\n",
       " (2, 1, 0): 0.0,\n",
       " (2, 1, 1): 0.0,\n",
       " (2, 2, 0): 0.0,\n",
       " (2, 2, 1): 0.0,\n",
       " (2, 3, 0): 0.0,\n",
       " (2, 3, 1): 0.0,\n",
       " (2, 4, 0): 0.0,\n",
       " (2, 4, 1): 0.0,\n",
       " (3, 0, 0): 0.0,\n",
       " (3, 0, 1): 0.0,\n",
       " (3, 1, 0): 0.0,\n",
       " (3, 1, 1): 0.0,\n",
       " (3, 2, 0): 1.0,\n",
       " (3, 2, 1): 0.0,\n",
       " (3, 3, 0): 0.0,\n",
       " (3, 3, 1): 0.0,\n",
       " (3, 4, 0): 0.0,\n",
       " (3, 4, 1): 0.0,\n",
       " (4, 0, 0): 0.0,\n",
       " (4, 0, 1): 0.0,\n",
       " (4, 1, 0): 0.0,\n",
       " (4, 1, 1): 1.0,\n",
       " (4, 2, 0): 0.0,\n",
       " (4, 2, 1): 0.0,\n",
       " (4, 3, 0): 0.0,\n",
       " (4, 3, 1): 0.0,\n",
       " (4, 4, 0): 0.0,\n",
       " (4, 4, 1): 0.0}"
      ]
     },
     "execution_count": 83,
     "metadata": {},
     "output_type": "execute_result"
    }
   ],
   "source": [
    "solution = m.getAttr('X', x)\n",
    "solution"
   ]
  },
  {
   "cell_type": "code",
   "execution_count": 84,
   "metadata": {},
   "outputs": [
    {
     "name": "stdout",
     "output_type": "stream",
     "text": [
      "(0, 3, 0)\n",
      "(0, 4, 1)\n",
      "(1, 0, 1)\n",
      "(2, 0, 0)\n",
      "(3, 2, 0)\n",
      "(4, 1, 1)\n"
     ]
    }
   ],
   "source": [
    "selected=[]\n",
    "for key,val in solution.items():\n",
    "    if val>0:\n",
    "        selected.append(key)\n",
    "        print(key)"
   ]
  },
  {
   "cell_type": "code",
   "execution_count": 85,
   "metadata": {},
   "outputs": [
    {
     "data": {
      "text/plain": [
       "[(0, 3, 0), (0, 4, 1), (1, 0, 1), (2, 0, 0), (3, 2, 0), (4, 1, 1)]"
      ]
     },
     "execution_count": 85,
     "metadata": {},
     "output_type": "execute_result"
    }
   ],
   "source": [
    "selected"
   ]
  },
  {
   "cell_type": "code",
   "execution_count": 96,
   "metadata": {},
   "outputs": [
    {
     "data": {
      "text/plain": [
       "0"
      ]
     },
     "execution_count": 96,
     "metadata": {},
     "output_type": "execute_result"
    }
   ],
   "source": [
    "selected[0][0]"
   ]
  },
  {
   "cell_type": "code",
   "execution_count": 86,
   "metadata": {},
   "outputs": [],
   "source": [
    "from collections import defaultdict\n",
    "values32=defaultdict(list)"
   ]
  },
  {
   "cell_type": "code",
   "execution_count": 87,
   "metadata": {},
   "outputs": [],
   "source": [
    "Depot= [x for x in range(no_of_vehicles)]"
   ]
  },
  {
   "cell_type": "code",
   "execution_count": 100,
   "metadata": {},
   "outputs": [],
   "source": [
    "Depot=[0]"
   ]
  },
  {
   "cell_type": "code",
   "execution_count": 103,
   "metadata": {},
   "outputs": [
    {
     "name": "stdout",
     "output_type": "stream",
     "text": [
      "0\n",
      "0\n",
      "3\n",
      "3\n",
      "2\n",
      "2\n",
      "0\n",
      "0\n",
      "4\n",
      "4\n",
      "1\n",
      "1\n"
     ]
    }
   ],
   "source": [
    "subtour= defaultdict(list)\n",
    "\n",
    "for i in range(no_of_vehicles):\n",
    "    subtour[i]=[]\n",
    "    next_city=selected[i][0]\n",
    "    finished=False\n",
    "    while not finished:\n",
    "        for j in range(i,len(selected)):\n",
    "            if selected[j][0]==next_city:\n",
    "                print(next_city)\n",
    "                subtour[i].append(next_city)\n",
    "                print(next_city)\n",
    "                next_city=selected[j][1]\n",
    "                break\n",
    "        if next_city in Depot:\n",
    "            subtour[i].append(next_city)\n",
    "            finished=True"
   ]
  },
  {
   "cell_type": "code",
   "execution_count": 104,
   "metadata": {},
   "outputs": [
    {
     "data": {
      "text/plain": [
       "defaultdict(list, {0: [0, 3, 2, 0], 1: [0, 4, 1, 0]})"
      ]
     },
     "execution_count": 104,
     "metadata": {},
     "output_type": "execute_result"
    }
   ],
   "source": [
    "subtour"
   ]
  },
  {
   "cell_type": "code",
   "execution_count": 106,
   "metadata": {},
   "outputs": [],
   "source": [
    "dist_matrix = np.empty([n, n])"
   ]
  },
  {
   "cell_type": "code",
   "execution_count": 107,
   "metadata": {},
   "outputs": [
    {
     "data": {
      "text/plain": [
       "5"
      ]
     },
     "execution_count": 107,
     "metadata": {},
     "output_type": "execute_result"
    }
   ],
   "source": [
    "len(dist_matrix)"
   ]
  },
  {
   "cell_type": "code",
   "execution_count": 109,
   "metadata": {},
   "outputs": [],
   "source": [
    "\n",
    "for i in range(n):\n",
    "    for j in range(n):\n",
    "        \n",
    "        dist_matrix[i,j]=np.linalg.norm(np.array(coordinates[i])-np.array(coordinates[j]))"
   ]
  },
  {
   "cell_type": "code",
   "execution_count": 110,
   "metadata": {},
   "outputs": [
    {
     "data": {
      "text/plain": [
       "array([[  0.        , 282.84271247, 282.84271247, 316.22776602,\n",
       "        509.90195136],\n",
       "       [282.84271247,   0.        , 400.        , 316.22776602,\n",
       "        316.22776602],\n",
       "       [282.84271247, 400.        ,   0.        , 141.42135624,\n",
       "        424.26406871],\n",
       "       [316.22776602, 316.22776602, 141.42135624,   0.        ,\n",
       "        282.84271247],\n",
       "       [509.90195136, 316.22776602, 424.26406871, 282.84271247,\n",
       "          0.        ]])"
      ]
     },
     "execution_count": 110,
     "metadata": {},
     "output_type": "execute_result"
    }
   ],
   "source": [
    "dist_matrix"
   ]
  },
  {
   "cell_type": "code",
   "execution_count": 111,
   "metadata": {},
   "outputs": [
    {
     "name": "stdout",
     "output_type": "stream",
     "text": [
      "dist[0,3]=316\n",
      "dist[3,2]=141\n",
      "dist[2,0]=282\n",
      "dist[0,4]=509\n",
      "dist[4,1]=316\n",
      "dist[1,0]=282\n",
      "all sub route total distance sum:\n",
      "{0: 740.4918347287664, 1: 1108.9724298507354}\n"
     ]
    }
   ],
   "source": [
    "sub_route_total_distance = {}\n",
    "\n",
    "for i in range(no_of_vehicles):\n",
    "    # print('\\n')\n",
    "    sub_route_total_distance[i] = 0\n",
    "    for j in range(len(subtour[i])):\n",
    "        if j<len(subtour[i])-1:\n",
    "            \n",
    "            cur_index = subtour[i][j]\n",
    "            next_index=subtour[i][j+1]\n",
    "            print('dist[%d,%d]=%d' % (cur_index, next_index, dist_matrix[cur_index][next_index]))\n",
    "            sub_route_total_distance[i] += dist_matrix[cur_index][next_index]\n",
    "print('all sub route total distance sum:')\n",
    "print(sub_route_total_distance)"
   ]
  },
  {
   "cell_type": "code",
   "execution_count": 112,
   "metadata": {},
   "outputs": [
    {
     "name": "stdout",
     "output_type": "stream",
     "text": [
      "1849.4642645795018\n"
     ]
    }
   ],
   "source": [
    "tv=0\n",
    "for v,k in sub_route_total_distance.items():\n",
    "    tv=tv+k\n",
    "print(tv)"
   ]
  },
  {
   "cell_type": "code",
   "execution_count": 115,
   "metadata": {},
   "outputs": [],
   "source": [
    "X=[]\n",
    "Y=[]\n",
    "for i,value in enumerate (coordinates):\n",
    "    X.append(coordinates[i][0])\n",
    "    Y.append(coordinates[i][1])"
   ]
  },
  {
   "cell_type": "code",
   "execution_count": 116,
   "metadata": {},
   "outputs": [
    {
     "data": {
      "text/plain": [
       "[0.0, 282.842712474619, 0.0, 141.4213562373095, 424.26406871192853]"
      ]
     },
     "execution_count": 116,
     "metadata": {},
     "output_type": "execute_result"
    }
   ],
   "source": [
    "X"
   ]
  },
  {
   "cell_type": "code",
   "execution_count": 117,
   "metadata": {},
   "outputs": [
    {
     "data": {
      "image/png": "[encoded data removed]",
      "text/plain": [
       "<Figure size 432x288 with 1 Axes>"
      ]
     },
     "metadata": {
      "needs_background": "light"
     },
     "output_type": "display_data"
    }
   ],
   "source": [
    "plt.figure()\n",
    "plt.scatter(X[len(Depot):], Y[len(Depot):], marker='o', color='blue')\n",
    "plt.scatter(X[0:len(Depot)], Y[0:len(Depot)], marker='^', color='red')\n",
    "plt.xlabel('x-coordinate(m)')\n",
    "plt.ylabel('y-coordinate(m)')\n",
    "plt.title('Total min distance %g (m)' % m.objVal)\n",
    "# plt.plot([XX1, XX2], [YY1, YY2])\n",
    "for index in subtour:\n",
    "    route_list = subtour[index]\n",
    "    x = []\n",
    "    y = []\n",
    "    for i in route_list:\n",
    "        x.append(X[i])\n",
    "        y.append(Y[i])\n",
    "    plt.plot(x, y)\n",
    "plt.show()"
   ]
  },
  {
   "cell_type": "code",
   "execution_count": 118,
   "metadata": {},
   "outputs": [
    {
     "data": {
      "text/plain": [
       "defaultdict(list, {0: [0, 3, 2, 0], 1: [0, 4, 1, 0]})"
      ]
     },
     "execution_count": 118,
     "metadata": {},
     "output_type": "execute_result"
    }
   ],
   "source": [
    "subtour"
   ]
  }
 ],
 "metadata": {
  "kernelspec": {
   "display_name": "Python 3",
   "language": "python",
   "name": "python3"
  },
  "language_info": {
   "codemirror_mode": {
    "name": "ipython",
    "version": 3
   },
   "file_extension": ".py",
   "mimetype": "text/x-python",
   "name": "python",
   "nbconvert_exporter": "python",
   "pygments_lexer": "ipython3",
   "version": "3.8.5"
  }
 },
 "nbformat": 4,
 "nbformat_minor": 4
}
