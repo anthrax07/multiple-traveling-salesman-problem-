{
 "cells": [
  {
   "cell_type": "code",
   "execution_count": 1,
   "metadata": {},
   "outputs": [],
   "source": [
    "import random\n",
    "import networkx as nx\n",
    "import math\n",
    "import itertools    \n",
    "import matplotlib.pyplot as plt\n",
    "import ast\n",
    "import numpy as np"
   ]
  },
  {
   "cell_type": "code",
   "execution_count": 2,
   "metadata": {},
   "outputs": [],
   "source": [
    "from global_variable import *"
   ]
  },
  {
   "cell_type": "code",
   "execution_count": 3,
   "metadata": {},
   "outputs": [],
   "source": [
    "with open('sensornew.txt', 'r') as f:\n",
    "    sensor = ast.literal_eval(f.read())"
   ]
  },
  {
   "cell_type": "code",
   "execution_count": 4,
   "metadata": {},
   "outputs": [],
   "source": [
    "def calculate_Pdp_positions(length_of_grid,transmission_range):\n",
    "    pdp_positions={}\n",
    "    k=0\n",
    "    for c_1 in np.arange(length_of_grid/(transmission_range*math.sqrt(2))):\n",
    "        for c_2 in np.arange(length_of_grid/(transmission_range*math.sqrt(2))):\n",
    "            pdp_positions[k]=(c_1*transmission_range*math.sqrt(2),c_2*transmission_range*math.sqrt(2))\n",
    "            k=k+1\n",
    "    return pdp_positions"
   ]
  },
  {
   "cell_type": "code",
   "execution_count": 5,
   "metadata": {},
   "outputs": [],
   "source": [
    "pdp_positions=calculate_Pdp_positions(length_of_grid,transmission_range)"
   ]
  },
  {
   "cell_type": "code",
   "execution_count": 6,
   "metadata": {},
   "outputs": [],
   "source": [
    "def distance(points,i,j):\n",
    "    x=points[i][0]-points[j][0]\n",
    "    y=points[i][1]-points[j][1]\n",
    "    return math.sqrt(x*x+y*y)"
   ]
  },
  {
   "cell_type": "code",
   "execution_count": 7,
   "metadata": {},
   "outputs": [],
   "source": [
    "def create_trip_graph():\n",
    "    G=nx.Graph()\n",
    "    distance_between_pdp={}\n",
    "    k=0\n",
    "    for i in range(len(pdp_positions)):\n",
    "        G.add_node('pdp{}'.format(i),pos=pdp_positions[i])\n",
    "    for u in range(len(pdp_positions)):\n",
    "        for v in range(len(pdp_positions)):\n",
    "            wt=distance(pdp_positions,u,v)\n",
    "            G.add_edge('pdp{}'.format(u),'pdp{}'.format(v),weight=wt)\n",
    "            distance_between_pdp[(u,v)]=wt\n",
    "            k=k+1\n",
    "    return G,distance_between_pdp"
   ]
  },
  {
   "cell_type": "code",
   "execution_count": 8,
   "metadata": {},
   "outputs": [],
   "source": [
    "trip_graph,distance_between_pdp=create_trip_graph()"
   ]
  },
  {
   "cell_type": "code",
   "execution_count": 9,
   "metadata": {},
   "outputs": [
    {
     "data": {
      "image/png": "[encoded data removed]",
      "text/plain": [
       "<Figure size 432x288 with 1 Axes>"
      ]
     },
     "metadata": {
      "needs_background": "light"
     },
     "output_type": "display_data"
    }
   ],
   "source": [
    "for i in range(len(sensor)):\n",
    "    plt.scatter(sensor[i][0],sensor[i][1],c='r')\n",
    "    plt.annotate(i,(sensor[i][0],sensor[i][1]))\n",
    "for j in range(len(pdp_positions)):\n",
    "    plt.scatter(pdp_positions[j][0],pdp_positions[j][1],c='b')\n",
    "    plt.annotate(j,(pdp_positions[j][0],pdp_positions[j][1]))"
   ]
  },
  {
   "cell_type": "code",
   "execution_count": 10,
   "metadata": {},
   "outputs": [],
   "source": [
    "def threshold_distance_inside_sensor_range():\n",
    "    trs=(data_stored/bandwidth)*drone_speed\n",
    "    return trs"
   ]
  },
  {
   "cell_type": "code",
   "execution_count": 11,
   "metadata": {},
   "outputs": [
    {
     "name": "stdout",
     "output_type": "stream",
     "text": [
      "2.5\n"
     ]
    }
   ],
   "source": [
    "trs=threshold_distance_inside_sensor_range()\n",
    "print(trs)"
   ]
  },
  {
   "cell_type": "code",
   "execution_count": 12,
   "metadata": {},
   "outputs": [],
   "source": [
    "Dmov=[]\n"
   ]
  },
  {
   "cell_type": "code",
   "execution_count": 13,
   "metadata": {},
   "outputs": [],
   "source": [
    "# def check_distance_between_a_point_line(init,final):\n",
    "#     for i in range(len(sensor)):\n",
    "#         vect_int_fin=[0 ,0]\n",
    "#         vect_int_fin[0]=pdp_positions[final][0]-pdp_positions[init][0]\n",
    "#         vect_int_fin[1]=pdp_positions[final][1]-pdp_positions[init][1]\n",
    "        \n",
    "#         vect_int_point=[0,0]\n",
    "#         vect_int_point[0]=sensor[i][0]-pdp_positions[init][0]\n",
    "#         vect_int_point[1]=sensor[i][1]-pdp_positions[init][1]\n",
    "        \n",
    "#         vect_final_point=[0,0]\n",
    "#         vect_final_point[0]=sensor[i][0]-pdp_positions[final][0]\n",
    "#         vect_final_point[1]=sensor[i][1]-pdp_positions[final][1]\n",
    "        \n",
    "#         dot_product_point_final=(vect_int_fin[0]*vect_final_point[0])+(vect_int_fin[1]*vect_final_point[1])\n",
    "#         print(dot_product_point_final)\n",
    "#         if dot_product_point_final==0:\n",
    "#             print (i)\n",
    "# #         print(dot_product_point_final)\n",
    "# #         #print()\n",
    "# #         dot_product_point_init=(vect_int_fin[0]*vect_int_point[0])+(vect_int_fin[1]*vect_int_point[1])\n",
    "# #         print(dot_product_point_init)\n",
    "# #         if  not dot_product_point_final  >=0 and dot_product_point_init<=0:\n",
    "# #             print (i)\n",
    "            \n",
    "\n",
    "    "
   ]
  },
  {
   "cell_type": "code",
   "execution_count": 14,
   "metadata": {},
   "outputs": [],
   "source": [
    "# for i in range(len (sensor)):\n",
    "    \n",
    "#     A=sensor[i][0]-pdp_positions[0][0]\n",
    "#     B=sensor[i][1]-pdp_positions[0][1]\n",
    "#     C=pdp_positions[10][0]-pdp_positions[0][0]\n",
    "#     D=pdp_positions[10][1]-pdp_positions[0][1]\n",
    "#     dot=A*C+B*D\n",
    "#     #print(dot)\n",
    "#     len_sq=C*C+D*D\n",
    "#     #print(len_sq)\n",
    "#     param=dot/len_sq\n",
    "#     #print(param)\n",
    "#     if param<1 and param >0:\n",
    "#         xx=pdp_positions[0][0]+param*C\n",
    "#         yy=pdp_positions[0][1]+param*D\n",
    "        \n",
    "#         dist= math.sqrt((sensor[i][0]-xx)**2+(sensor[i][1]-yy)**2)\n",
    "#         if dist<200:\n",
    "#             print(i)\n",
    "#             print(xx,yy)\n",
    "#             print(dist)\n",
    "# #         dsi=2*(math.sqrt(abs(200**2-dist**2)))\n",
    "# #         if dsi>=trs:\n",
    "# #             print(i)\n",
    "            \n",
    "        \n",
    "        \n",
    "        \n",
    "    "
   ]
  },
  {
   "cell_type": "code",
   "execution_count": 15,
   "metadata": {},
   "outputs": [],
   "source": [
    "def sensor_that_can_send_data_while_moving(init,final):\n",
    "    \n",
    "    sensor_that_can_send_data_whilmoving={}\n",
    "    for i in range (len(sensor)):\n",
    "        p1=np.array(pdp_positions[init])\n",
    "        p2=np.array(pdp_positions[final])\n",
    "        p3=np.array(sensor[i])\n",
    "        #dot=np.dot(p3-p1,p2-p1)\n",
    "        check=np.dot(p3-p1,p2-p1)/(np.linalg.norm(p2-p1))**2 #here to check whether the point representing the sensor will be \n",
    "                                                            #perpendicular to the line representing two pdp points i calculated the check\n",
    "        #print(check)\n",
    "\n",
    "        dist=abs(np.cross(p3-p1,p2-p1)/np.linalg.norm(p2-p1)) #this is perpencicular distance between the sensor point and the line of two pdp\n",
    "        if check<1 and check>0:#here i checked whether the point representing the sensor will be \n",
    "                                                            #perpendicular to the line representing two pdp points\n",
    "            if dist<200:\n",
    "                dsi=2*(math.sqrt(abs(transmission_range**2-dist**2)))\n",
    "                if dsi>=trs:\n",
    "                    project=np.dot(p3-p1,p2-p1)/np.linalg.norm(p2-p1)\n",
    "                    first_cutpoint=project-dsi/2   #its the distance from initial point to the first cutpoint\n",
    "                    final_cutpoint=project+dsi/2   #its the distance from initial pdp point to the \n",
    "                    sensor_that_can_send_data_whilmoving[i]=first_cutpoint,final_cutpoint\n",
    "                    sorted_dict=dict(sorted(sensor_that_can_send_data_whilmoving.items(), key=lambda item: item[1]))\n",
    "    return(sorted_dict)\n",
    "\n",
    "\n",
    "\n",
    "\n",
    "\n",
    "\n",
    "\n",
    "        #print(dist)\n",
    "        #print(project)\n",
    "        #print(\"******\")\n",
    "        #print(dot)\n",
    "    "
   ]
  },
  {
   "cell_type": "code",
   "execution_count": 16,
   "metadata": {},
   "outputs": [],
   "source": [
    "sensor_that_can_send_data_whilmoving=sensor_that_can_send_data_while_moving(0,10)"
   ]
  },
  {
   "cell_type": "code",
   "execution_count": 20,
   "metadata": {},
   "outputs": [
    {
     "data": {
      "text/plain": [
       "{3: (91.78051592953445, 287.2287187864551),\n",
       " 12: (201.74941310136705, 467.17360190110696),\n",
       " 2: (210.86848265724583, 516.0372884025251),\n",
       " 4: (274.42962245715506, 412.8781688561692),\n",
       " 9: (281.37359868889405, 427.1473960600266),\n",
       " 8: (330.3655562957225, 429.0671266986295)}"
      ]
     },
     "execution_count": 20,
     "metadata": {},
     "output_type": "execute_result"
    }
   ],
   "source": [
    "sensor_that_can_send_data_whilmoving"
   ]
  },
  {
   "cell_type": "code",
   "execution_count": 17,
   "metadata": {},
   "outputs": [
    {
     "data": {
      "text/plain": [
       "(282.842712474619, 282.842712474619)"
      ]
     },
     "execution_count": 17,
     "metadata": {},
     "output_type": "execute_result"
    }
   ],
   "source": [
    "pdp_positions[10]"
   ]
  },
  {
   "cell_type": "code",
   "execution_count": 18,
   "metadata": {},
   "outputs": [
    {
     "data": {
      "image/png": "[encoded data removed]",
      "text/plain": [
       "<Figure size 432x288 with 1 Axes>"
      ]
     },
     "metadata": {
      "needs_background": "light"
     },
     "output_type": "display_data"
    },
    {
     "data": {
      "image/png": "[encoded data removed]",
      "text/plain": [
       "<Figure size 432x288 with 1 Axes>"
      ]
     },
     "metadata": {
      "needs_background": "light"
     },
     "output_type": "display_data"
    }
   ],
   "source": [
    "\n",
    "\n",
    "circle=[]\n",
    "color=['b','g','r','c','y','k']\n",
    "s=0\n",
    "for i in range(len(sensor)):\n",
    "    for k,v in sensor_that_can_send_data_whilmoving.items():\n",
    "        if i==k:\n",
    "            circle.append(plt.Circle((sensor[i][0],sensor[i][1]),200,color=color[s],fill=False))\n",
    "            plt.plot(sensor[i][0],sensor[i][1],marker='x')\n",
    "            plt.annotate(i,(sensor[i][0],sensor[i][1]))\n",
    "            plt.plot([0, 282.842712474619], [0,282.842712474619],marker='o' )\n",
    "            s=s+1\n",
    "\n",
    "    \n",
    "    \n",
    "fig,ax=plt.subplots()\n",
    "ax.set_xlim((-100, 600))\n",
    "ax.set_ylim((-100,600))\n",
    "for i in range(len(circle)):\n",
    "    ax.add_artist(circle[i])\n",
    "\n",
    "plt.plot([0, 282.842712474619], [0,282.842712474619] )\n",
    "plt.show()\n",
    "\n",
    "\n",
    "#plt.gca().set_aspect()\n",
    "    "
   ]
  },
  {
   "cell_type": "code",
   "execution_count": 19,
   "metadata": {},
   "outputs": [
    {
     "ename": "NameError",
     "evalue": "name 'sorted_dict' is not defined",
     "output_type": "error",
     "traceback": [
      "\u001b[1;31m---------------------------------------------------------------------------\u001b[0m",
      "\u001b[1;31mNameError\u001b[0m                                 Traceback (most recent call last)",
      "\u001b[1;32m<ipython-input-19-7ea731287568>\u001b[0m in \u001b[0;36m<module>\u001b[1;34m\u001b[0m\n\u001b[1;32m----> 1\u001b[1;33m \u001b[0msorted_dict\u001b[0m\u001b[1;33m\u001b[0m\u001b[1;33m\u001b[0m\u001b[0m\n\u001b[0m",
      "\u001b[1;31mNameError\u001b[0m: name 'sorted_dict' is not defined"
     ]
    }
   ],
   "source": [
    "sensor"
   ]
  },
  {
   "cell_type": "code",
   "execution_count": null,
   "metadata": {},
   "outputs": [],
   "source": [
    "# check_distance_between_a_point_line(0,10)"
   ]
  },
  {
   "cell_type": "code",
   "execution_count": null,
   "metadata": {},
   "outputs": [],
   "source": [
    "# vect_int_fin=[0, 0]\n",
    "# print(vect_int_fin)"
   ]
  },
  {
   "cell_type": "code",
   "execution_count": null,
   "metadata": {},
   "outputs": [],
   "source": [
    "# def check_sensor_can_send_data_while_moving(init,final,sensor,Dmov):\n",
    "#     \"\"\"function to check whether the sensor can send data while drone is moving\"\"\"\n",
    "#     sensor1=sensor\n",
    "#     dsubset=[]\n",
    "#     p1=np.array(pdp_positions[init])\n",
    "#     p2=np.array(pdp_positions[final])\n",
    "#     for i in range(len(sensor1)):\n",
    "#         p3=np.array(sensor1[i])\n",
    "#         d=np.cross(p2-p1,p3-p1)/np.linalg.norm(p2-p1)\n",
    "#         print(d)\n",
    "#         dsi=2*(math.sqrt(abs(transmission_range**2-d**2)))\n",
    "#         print(dsi)\n",
    "#         if dsi>=threshold_distance_inside_sensor_range():\n",
    "# #             if i not in Dmov:\n",
    "# #                 dsubset.append(i)\n",
    "#             print (i)\n",
    "        \n",
    "#    # Dmov=Dmov+list(check_overlapping(init,final,dsubset))\n",
    "#    # return Dmov\n"
   ]
  },
  {
   "cell_type": "code",
   "execution_count": null,
   "metadata": {},
   "outputs": [],
   "source": [
    "# check_sensor_can_send_data_while_moving(0,10,sensor,Dmov)"
   ]
  },
  {
   "cell_type": "code",
   "execution_count": null,
   "metadata": {},
   "outputs": [],
   "source": [
    "# def check_overlapping(pdp_init,pdp_final,sensor=sensor,radius=transmission_range):\n",
    "#     \"\"\"function to check the overlapping sensor\"\"\"\n",
    "#     l={}\n",
    "#     distance_of_line_connecting_two_pdp=distance_between_pdp[pdp_init,pdp_final]\n",
    "#     #compute direction vector of line connecting two pdp\n",
    "#     Dx=(pdp_positions[pdp_final][0]-pdp_positions[pdp_init][0])/distance_of_line_connecting_two_pdp\n",
    "#     print(Dx)\n",
    "#     Dy=(pdp_positions[pdp_final][1]-pdp_positions[pdp_init][1])/distance_of_line_connecting_two_pdp\n",
    "#     print(Dy)\n",
    "#     for i in range(len(sensor)) :\n",
    "        \n",
    "#         t=Dx*(sensor[i][0]-pdp_positions[pdp_init][0])+Dy*(sensor[i][1]-pdp_positions[pdp_init][1])\n",
    "#         Ex=t*Dx+pdp_positions[pdp_init][0]\n",
    "#         Ey=t*Dy+pdp_positions[pdp_init][1]\n",
    "#         LEC=math.sqrt((Ex-sensor[i][0])**2+(Ey-sensor[i][1])**2)\n",
    "#         if(LEC)<radius:\n",
    "# #             dt=math.sqrt(radius**2-LEC**2)\n",
    "# #             #calculate the first intersection point\n",
    "# #             Fx=(t-dt)*Dx+pdp_positions[pdp_init][0]\n",
    "# #             Fy=(t-dt)*Dy+pdp_positions[pdp_init][1]\n",
    "# #             #calculate the second intersection point\n",
    "# #             Gx=(t+dt)*Dx+pdp_positions[pdp_init][0]\n",
    "# #             Gy=(t+dt)*Dx+pdp_positions[pdp_init][1]\n",
    "# #             l[i]=(Fx,Fy),(Gx,Gy)\n",
    "#             l[i]=i\n",
    "#             print(i)    \n",
    "#     return(l)"
   ]
  },
  {
   "cell_type": "code",
   "execution_count": null,
   "metadata": {},
   "outputs": [],
   "source": []
  }
 ],
 "metadata": {
  "kernelspec": {
   "display_name": "Python 3",
   "language": "python",
   "name": "python3"
  },
  "language_info": {
   "codemirror_mode": {
    "name": "ipython",
    "version": 3
   },
   "file_extension": ".py",
   "mimetype": "text/x-python",
   "name": "python",
   "nbconvert_exporter": "python",
   "pygments_lexer": "ipython3",
   "version": "3.7.4"
  }
 },
 "nbformat": 4,
 "nbformat_minor": 4
}
