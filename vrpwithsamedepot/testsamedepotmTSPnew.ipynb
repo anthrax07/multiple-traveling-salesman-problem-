{
 "cells": [
  {
   "cell_type": "code",
   "execution_count": 93,
   "metadata": {},
   "outputs": [],
   "source": [
    "# from variable500grid import *\n",
    "# from variable2000grid50sensor import*\n",
    "from global_variable import*"
   ]
  },
  {
   "cell_type": "code",
   "execution_count": 94,
   "metadata": {},
   "outputs": [],
   "source": [
    "import random\n",
    "import networkx as nx\n",
    "import math\n",
    "import itertools    \n",
    "import matplotlib.pyplot as plt\n",
    "import ast\n",
    "import numpy as np\n",
    "import operator\n",
    "from sklearn.cluster import KMeans\n",
    "from collections import defaultdict\n"
   ]
  },
  {
   "cell_type": "code",
   "execution_count": 95,
   "metadata": {},
   "outputs": [],
   "source": [
    "# with open('sensor_for_large_Grid2000_50sensorlistonlyfeb13real.txt', 'r') as f:\n",
    "#     sensor = ast.literal_eval(f.read())"
   ]
  },
  {
   "cell_type": "code",
   "execution_count": 96,
   "metadata": {},
   "outputs": [],
   "source": [
    "with open('test1000grid40sensortest10.txt', 'r') as f:\n",
    "    sensor = ast.literal_eval(f.read())"
   ]
  },
  {
   "cell_type": "code",
   "execution_count": 97,
   "metadata": {},
   "outputs": [
    {
     "data": {
      "text/plain": [
       "1500"
      ]
     },
     "execution_count": 97,
     "metadata": {},
     "output_type": "execute_result"
    }
   ],
   "source": [
    "length_of_grid"
   ]
  },
  {
   "cell_type": "code",
   "execution_count": 98,
   "metadata": {},
   "outputs": [],
   "source": [
    " sensor=sorted(sensor)"
   ]
  },
  {
   "cell_type": "code",
   "execution_count": 99,
   "metadata": {},
   "outputs": [
    {
     "data": {
      "text/plain": [
       "[(45, 146),\n",
       " (60, 722),\n",
       " (120, 304),\n",
       " (192, 355),\n",
       " (204, 62),\n",
       " (206, 655),\n",
       " (207, 981),\n",
       " (231, 264),\n",
       " (240, 896),\n",
       " (242, 130),\n",
       " (264, 203),\n",
       " (328, 69),\n",
       " (445, 756),\n",
       " (447, 145),\n",
       " (453, 747),\n",
       " (468, 552),\n",
       " (496, 842),\n",
       " (523, 469),\n",
       " (546, 229),\n",
       " (610, 550),\n",
       " (619, 263),\n",
       " (640, 972),\n",
       " (655, 422),\n",
       " (660, 378),\n",
       " (685, 198),\n",
       " (688, 417),\n",
       " (740, 817),\n",
       " (764, 210),\n",
       " (771, 831),\n",
       " (773, 398),\n",
       " (775, 222),\n",
       " (788, 722),\n",
       " (801, 664),\n",
       " (855, 756),\n",
       " (868, 125),\n",
       " (884, 343),\n",
       " (892, 328),\n",
       " (936, 607),\n",
       " (940, 423),\n",
       " (988, 280)]"
      ]
     },
     "execution_count": 99,
     "metadata": {},
     "output_type": "execute_result"
    }
   ],
   "source": [
    "sensor"
   ]
  },
  {
   "cell_type": "code",
   "execution_count": 100,
   "metadata": {},
   "outputs": [],
   "source": [
    "s=[list(i) for i in sensor]"
   ]
  },
  {
   "cell_type": "code",
   "execution_count": 101,
   "metadata": {
    "jupyter": {
     "source_hidden": true
    }
   },
   "outputs": [],
   "source": [
    "X=np.array(s)"
   ]
  },
  {
   "cell_type": "markdown",
   "metadata": {},
   "source": [
    "## function just to calculate distance between two pdp points"
   ]
  },
  {
   "cell_type": "code",
   "execution_count": 102,
   "metadata": {},
   "outputs": [],
   "source": [
    "def distance(points,i,j):\n",
    "    x=points[i][0]-points[j][0]\n",
    "    y=points[i][1]-points[j][1]\n",
    "    return math.sqrt(x*x+y*y)"
   ]
  },
  {
   "cell_type": "markdown",
   "metadata": {},
   "source": [
    "## Function to determine the pdp position in the grid"
   ]
  },
  {
   "cell_type": "code",
   "execution_count": 103,
   "metadata": {},
   "outputs": [],
   "source": [
    "def calculate_Pdp_positions(length_of_grid,transmission_range):\n",
    "    pdp_positions={}\n",
    "    k=0\n",
    "    for c_1 in np.arange(length_of_grid/(transmission_range*math.sqrt(2))):\n",
    "        for c_2 in np.arange(length_of_grid/(transmission_range*math.sqrt(2))):\n",
    "            pdp_positions[k]=(c_1*transmission_range*math.sqrt(2),c_2*transmission_range*math.sqrt(2))\n",
    "            k=k+1\n",
    "    return pdp_positions"
   ]
  },
  {
   "cell_type": "code",
   "execution_count": 104,
   "metadata": {},
   "outputs": [],
   "source": [
    "pdp_positions=calculate_Pdp_positions(length_of_grid,transmission_range)"
   ]
  },
  {
   "cell_type": "markdown",
   "metadata": {},
   "source": [
    "## Function to create the trip graph"
   ]
  },
  {
   "cell_type": "code",
   "execution_count": 105,
   "metadata": {},
   "outputs": [],
   "source": [
    "def create_trip_graph():\n",
    "    G=nx.Graph()\n",
    "    distance_between_pdp={}\n",
    "    for i in range(len(pdp_positions)):\n",
    "        G.add_node('pdp{}'.format(i),pos=pdp_positions[i])\n",
    "    for u in range(len(pdp_positions)):\n",
    "        for v in range(len(pdp_positions)):\n",
    "            wt=distance(pdp_positions,u,v)\n",
    "            G.add_edge('pdp{}'.format(u),'pdp{}'.format(v),weight=wt)\n",
    "            distance_between_pdp[(u,v)]=wt\n",
    "    return G,distance_between_pdp"
   ]
  },
  {
   "cell_type": "code",
   "execution_count": 106,
   "metadata": {},
   "outputs": [],
   "source": [
    "trip_graph,distance_between_pdp=create_trip_graph()"
   ]
  },
  {
   "cell_type": "markdown",
   "metadata": {},
   "source": [
    "## This function calculates the pdp with the minimum distance betweeen the cluster center"
   ]
  },
  {
   "cell_type": "code",
   "execution_count": 107,
   "metadata": {},
   "outputs": [],
   "source": [
    "def calculate_min_pdp_distance_with_cluster_center(c_centers,pdp_positions):\n",
    "    \"\"\"\n",
    "    Function to calculate the nearest pdp_position to the cluster center \n",
    "    \"\"\"\n",
    "    new_dict={}\n",
    "    for i in c_centers:\n",
    "        temp={}\n",
    "        for p,value in pdp_positions.items():\n",
    "            arr=np.array(value)\n",
    "            #print(arr)\n",
    "            dist=np.linalg.norm(i-arr)\n",
    "            temp[p]=dist\n",
    "        #print(temp)\n",
    "        print(min(temp.items(),key=operator.itemgetter(1))[0])\n",
    "        print(min(temp.items(),key=operator.itemgetter(1))[1])\n",
    "        print(\"******\")\n",
    "        new_dict[tuple(i)]=min(temp.items(),key=operator.itemgetter(1))[0]\n",
    "\n",
    "    return new_dict"
   ]
  },
  {
   "cell_type": "code",
   "execution_count": 108,
   "metadata": {},
   "outputs": [],
   "source": [
    "K=nx.DiGraph()"
   ]
  },
  {
   "cell_type": "code",
   "execution_count": 109,
   "metadata": {
    "jupyter": {
     "source_hidden": true
    }
   },
   "outputs": [],
   "source": [
    "for i in range(len(sensor)):\n",
    "    K.add_node('sensor{}'.format(i),pos=sensor[i])"
   ]
  },
  {
   "cell_type": "code",
   "execution_count": 110,
   "metadata": {},
   "outputs": [],
   "source": [
    "def calulate_distance_between_each_sensors_and_assign_weight(points,K):\n",
    "    distance_sensors={}\n",
    "    M=K\n",
    "    k=0\n",
    "    edge_weight=1\n",
    "    for i in range(len(points)):\n",
    "        for j in range(len(points)):\n",
    "            euclidean_distance=distance(points,i,j)\n",
    "            if i!=j:\n",
    "                #M.add_edge(\"sensor{}\".format(i),\"sensor{}\".format(j))\n",
    "\n",
    "                \n",
    "                if euclidean_distance<=transmission_range:\n",
    "                    #if M.has_edge('sensor{}'.format(i),'sensor{}'.format(j))!=True:\n",
    "                    M.add_edge(\"sensor{}\".format(i),\"sensor{}\".format(j))\n",
    "\n",
    "                    M[\"sensor{}\".format(i)][\"sensor{}\".format(j)]['weight']=1\n",
    "\n",
    "                    distance_sensors[i,j]=(euclidean_distance,edge_weight)\n",
    "#                 else:\n",
    "#                     M[\"sensor{}\".format(i)][\"sensor{}\".format(j)]['weight']=100\n",
    "#                     distance_sensors[i,j]=(euclidean_distance,100)\n",
    "#             k=k+1\n",
    "    return distance_sensors,M"
   ]
  },
  {
   "cell_type": "code",
   "execution_count": 111,
   "metadata": {},
   "outputs": [],
   "source": [
    "euclidean_distance_between_sensor,L=calulate_distance_between_each_sensors_and_assign_weight(sensor,K)"
   ]
  },
  {
   "cell_type": "code",
   "execution_count": 112,
   "metadata": {},
   "outputs": [
    {
     "data": {
      "image/png": "[encoded data removed]",
      "text/plain": [
       "<Figure size 432x288 with 1 Axes>"
      ]
     },
     "metadata": {},
     "output_type": "display_data"
    }
   ],
   "source": [
    "nx.draw(L,nx.get_node_attributes(L,'pos'),with_labels=True)"
   ]
  },
  {
   "cell_type": "code",
   "execution_count": 113,
   "metadata": {},
   "outputs": [],
   "source": [
    "def distance_pdp_sensors(pdp_positions,sensor,u,v):\n",
    "    x=pdp_positions[u][0]-sensor[v][0]\n",
    "    y=pdp_positions[u][1]-sensor[v][1]\n",
    "    return math.sqrt(x*x+y*y)"
   ]
  },
  {
   "cell_type": "markdown",
   "metadata": {},
   "source": [
    "## Function that is used for creating the conncectivity graph"
   ]
  },
  {
   "cell_type": "code",
   "execution_count": 114,
   "metadata": {},
   "outputs": [],
   "source": [
    "def connectivity_graph(pdp_positions,sensor,K):\n",
    "    J=K\n",
    "    distance_pdp_each_sensor={}\n",
    "    k=0\n",
    "    weight=1\n",
    "    for i in range(len(pdp_positions)):\n",
    "        J.add_node('pdp{}'.format(i),pos=pdp_positions[i])\n",
    "    for u in range(len(pdp_positions)):\n",
    "        for v in range(len(sensor)):\n",
    "            euclidean_distance_between_pdp_sensor=distance_pdp_sensors(pdp_positions,sensor,u,v)\n",
    "            J.add_edge(\"pdp{}\".format(u),\"sensor{}\".format(v))\n",
    "            \n",
    "            if euclidean_distance_between_pdp_sensor<=transmission_range:\n",
    "                #J.add_edge(\"pdp{}\".format(u),\"sensor{}\".format(v))\n",
    "                #if J.has_edge('pdp{}'.format(i),'sensor{}'.format(j))!=True:\n",
    "                    #J.add_edge(\"pdp{}\".format(u),\"sensor{}\".format(v))\n",
    "               \n",
    "                \n",
    "                J[\"pdp{}\".format(u)][\"sensor{}\".format(v)]['weight']=1\n",
    "                distance_pdp_each_sensor[u,v]=euclidean_distance_between_pdp_sensor,weight\n",
    "            else:\n",
    "                J[\"pdp{}\".format(u)][\"sensor{}\".format(v)]['weight']=100\n",
    "                distance_pdp_each_sensor[u,v]=euclidean_distance_between_pdp_sensor,100\n",
    "#            k=k+1\n",
    "    return distance_pdp_each_sensor,J"
   ]
  },
  {
   "cell_type": "code",
   "execution_count": 115,
   "metadata": {},
   "outputs": [],
   "source": [
    "distance_between_pdp_to_each_sensor,N=connectivity_graph(pdp_positions,sensor,L)"
   ]
  },
  {
   "cell_type": "markdown",
   "metadata": {},
   "source": [
    "# Here it finds the shortest distance between each pdp and "
   ]
  },
  {
   "cell_type": "code",
   "execution_count": 116,
   "metadata": {},
   "outputs": [],
   "source": [
    "k=0\n",
    "arc_length={}\n",
    "shortest_path={}\n",
    "for i in range(len(pdp_positions)):\n",
    "    for j in range(len(sensor)):\n",
    "        if N.has_edge('pdp{}'.format(i),'sensor{}'.format(j)):\n",
    "            shortest_path[i,j]=nx.shortest_path(N,source='pdp{}'.format(i),target='sensor{}'.format(j),\n",
    "                                              weight='weight',method='dijkstra')\n",
    "            arc_length[i,j]=nx.dijkstra_path_length(N,'pdp{}'.format(i),'sensor{}'.format(j))\n",
    "            \n",
    "           \n",
    "        else:\n",
    "            shortest_path[i,j]=0"
   ]
  },
  {
   "cell_type": "code",
   "execution_count": 117,
   "metadata": {},
   "outputs": [],
   "source": [
    "new_zipped=dict(zip(arc_length.items(),shortest_path.values()))"
   ]
  },
  {
   "cell_type": "code",
   "execution_count": 118,
   "metadata": {},
   "outputs": [],
   "source": [
    "def spanning_tree_collecting_time(pdp):\n",
    "    \"\"\"This function defines which sensors are connected with the desired pdp\"\"\"\n",
    "    \"\"\"\n",
    "    return list\n",
    "    \"\"\"\n",
    "    sensor_subset=[]\n",
    "    for key,value in new_zipped.items():\n",
    "        if key[0][0]==pdp:\n",
    "            if key[1]!=100:\n",
    "                #print(i)\n",
    "                sensor_subset.append(key[0][1])\n",
    "    return sensor_subset"
   ]
  },
  {
   "cell_type": "code",
   "execution_count": 119,
   "metadata": {},
   "outputs": [],
   "source": [
    "def to_check_the_minimum_hops_between_the_pdp_and_sensor(spanning_tree):\n",
    "    \"\"\"In this function we check which sensor can send data to the pdp with minimum hops\n",
    "    for example if sensor2 is connected with pdp10 with  hop distance with 2 and same sensor2 is connected with \n",
    "    pdp11 with hop distance 4 then we assume that sensor2 will send data to the drone when drone is at pdp10 since \n",
    "    it has minimum hop distance\"\"\"\n",
    "    subset2=spanning_tree\n",
    "    for key,value in subset2.items():\n",
    "        for key1,value1 in subset2.items():\n",
    "            if key!=key1:\n",
    "                for i in value:\n",
    "                    for j in value1:\n",
    "                        if i==j:\n",
    "                            #print(i)\n",
    "                            #s=get_number(i)\n",
    "                            if nx.dijkstra_path_length(N,'pdp{}'.format(key),'sensor{}'.format(i))>nx.dijkstra_path_length(N,'pdp{}'.format(key1),'sensor{}'.format(i)):\n",
    "                                subset2[key].remove(i)\n",
    "                            else:\n",
    "                                subset2[key1].remove(j)\n",
    "    return subset2"
   ]
  },
  {
   "cell_type": "code",
   "execution_count": 120,
   "metadata": {},
   "outputs": [],
   "source": [
    "def create_spanning_tree_for_tour(tour):\n",
    "    sensor_subset={}\n",
    "    for i in tour:\n",
    "        sensor_subset[i]=spanning_tree_collecting_time(i)\n",
    "    correct_sensor_subset=to_check_the_minimum_hops_between_the_pdp_and_sensor(sensor_subset)\n",
    "    return correct_sensor_subset"
   ]
  },
  {
   "cell_type": "code",
   "execution_count": 121,
   "metadata": {},
   "outputs": [],
   "source": [
    "def check_all_sensor_can_send_data(checked_sensor_arc):\n",
    "    \"\"\"The main aim of creating this function was to check whether all the sensors are connected to the pdps in the route\n",
    "    of drone tour.For example we have pdp10 and pdp7 in our route.ie Route=[10 7].We create spanning tree for the both \n",
    "    the pdps and check whether all the sensors are connected or not.If all the sensors are not connected in the combined\n",
    "    spanning tree calculated with the pdps of the Route\"\"\"\n",
    "    s=[]\n",
    "    for key,values in checked_sensor_arc.items():\n",
    "        s=list(set().union(s,values))\n",
    "    if len(s)==len(sensor): # before there was only s==sensor but it was wrong as s is list and sensor is a list of tuple\n",
    "        return 1\n",
    "    else:\n",
    "        return 0\n",
    "    "
   ]
  },
  {
   "cell_type": "code",
   "execution_count": 122,
   "metadata": {},
   "outputs": [],
   "source": [
    "def determine_collecting_time(checked_sensor_arc):\n",
    "    \"\"\"After checking whether all the sensor can send data while the drone makes a trip in the way as\n",
    "    described in the Route.We assign collecting time as infinite or call the collecting time function\"\"\"\n",
    "    value=check_all_sensor_can_send_data(checked_sensor_arc)\n",
    "    if value==1:\n",
    "        t_collecting=calculate_collecting_time(checked_sensor_arc)\n",
    "    if value==0:\n",
    "        t_collecting=math.inf\n",
    "    return t_collecting"
   ]
  },
  {
   "cell_type": "code",
   "execution_count": 123,
   "metadata": {},
   "outputs": [],
   "source": [
    "def check_all_sensor_can_send_data(checked_sensor_arc):\n",
    "    \"\"\"The main aim of creating this function was to check whether all the sensors are connected to the pdps in the route\n",
    "    of drone tour.For example we have pdp10 and pdp7 in our route.ie Route=[10 7].We create spanning tree for the both \n",
    "    the pdps and check whether all the sensors are connected or not.If all the sensors are not connected in the combined\n",
    "    spanning tree calculated with the pdps of the Route\"\"\"\n",
    "    s=[]\n",
    "    for key,values in checked_sensor_arc.items():\n",
    "        s=list(set().union(s,values))\n",
    "    if len(s)==len(sensor): # before there was only s==sensor but it was wrong as s is list and sensor is a list of tuple\n",
    "        return 1\n",
    "    else:\n",
    "        return 0\n",
    "    "
   ]
  },
  {
   "cell_type": "code",
   "execution_count": 124,
   "metadata": {},
   "outputs": [],
   "source": [
    "def calculate_collecting_time(checked_sensor_arc):\n",
    "    \n",
    "    dict_={}\n",
    "    for key,values in checked_sensor_arc.items():\n",
    "        weight=0\n",
    "        if values!=[]:\n",
    "            for j in values:\n",
    "                for key1,values1 in new_zipped.items():\n",
    "                    if key1[0]==(key,j):\n",
    "                        #print(key1[1])\n",
    "                        weight=weight+key1[1]\n",
    "                        t_collecting=(data_rate/bandwidth)*weight\n",
    "        dict_[key]=t_collecting\n",
    "    return dict_\n",
    "    "
   ]
  },
  {
   "cell_type": "code",
   "execution_count": 125,
   "metadata": {},
   "outputs": [],
   "source": [
    "def calc_cluster_number(sensor):\n",
    "    \n",
    "    for i in range(1,len(sensor)):\n",
    "        new_dict={}\n",
    "        kmeans=KMeans(n_clusters=i,random_state=1000)\n",
    "        kmeans.fit(X)\n",
    "        c_centers=tuple(kmeans.cluster_centers_)\n",
    "        for j in c_centers:\n",
    "            temp={}\n",
    "            for p,value in pdp_positions.items():\n",
    "                arr=np.array(value)\n",
    "                dist=np.linalg.norm(j-arr)\n",
    "                temp[p]=dist\n",
    "#           print(temp)\n",
    "            new_dict[tuple(j)]=min(temp.items(),key=operator.itemgetter(1))[0]\n",
    "        subset={}\n",
    "        print(new_dict)\n",
    "        for key,values in new_dict.items():\n",
    "            subset[values]=spanning_tree_collecting_time(values)\n",
    "        checked=to_check_the_minimum_hops_between_the_pdp_and_sensor(subset)\n",
    "        check=check_all_sensor_can_send_data(checked)\n",
    "        if check==1:\n",
    "            print(\"i am here\")\n",
    "            df_=calculate_collecting_time(checked)\n",
    "            print(df_)\n",
    "            break\n",
    "    return i,new_dict,df_\n",
    "        \n",
    "        \n",
    "            "
   ]
  },
  {
   "cell_type": "code",
   "execution_count": 126,
   "metadata": {},
   "outputs": [
    {
     "name": "stdout",
     "output_type": "stream",
     "text": [
      "{(551.2249999999999, 461.325): 47}\n",
      "{(214.30769230769232, 379.38461538461536): 25, (713.4444444444445, 500.7777777777777): 59}\n",
      "{(762.5, 400.19999999999993): 58, (230.33333333333343, 186.44444444444446): 23, (429.63636363636374, 797.3636363636365): 39}\n",
      "{(230.33333333333343, 186.44444444444446): 23, (767.625, 739.875): 60, (321.87500000000006, 768.875): 27, (750.6666666666667, 313.66666666666663): 57}\n",
      "{(230.33333333333343, 186.44444444444446): 23, (790.1428571428571, 767.0): 71, (596.125, 410.0): 47, (841.0, 280.7777777777777): 68, (301.00000000000006, 799.8571428571429): 28}\n",
      "{(230.33333333333343, 186.44444444444446): 23, (815.1666666666667, 732.8333333333333): 71, (596.125, 410.0): 47, (841.0, 280.7777777777777): 68, (508.5, 829.25): 50, (178.25, 813.5): 17}\n",
      "{(508.5, 829.25): 50, (709.5, 207.83333333333331): 56, (230.33333333333343, 186.44444444444446): 23, (815.1666666666667, 732.8333333333333): 71, (895.4000000000001, 354.4): 69, (178.25, 813.5): 17, (600.6666666666666, 464.6666666666667): 47}\n",
      "{(815.1666666666667, 732.8333333333333): 71, (170.39999999999998, 254.39999999999998): 13, (895.4000000000001, 354.4): 69, (178.25, 813.5): 17, (709.5, 207.83333333333331): 56, (600.6666666666666, 464.6666666666667): 47, (508.5, 829.25): 50, (305.25, 101.5): 23}\n",
      "{(709.5, 207.83333333333331): 56, (508.5, 829.25): 50, (297.0, 121.79999999999995): 23, (815.1666666666667, 732.8333333333333): 71, (147.0, 267.25): 13, (133.0, 688.5): 16, (223.5, 938.5): 29, (895.4000000000001, 354.4): 69, (600.6666666666666, 464.6666666666667): 47}\n",
      "{(709.5, 207.83333333333331): 56, (464.6666666666667, 781.6666666666667): 39, (297.0, 121.79999999999995): 23, (845.0, 687.25): 71, (147.0, 267.25): 13, (133.0, 688.5): 16, (223.5, 938.5): 29, (895.4000000000001, 354.4): 69, (600.6666666666666, 464.6666666666667): 47, (717.0, 873.3333333333333): 61}\n",
      "{(845.0, 687.25): 71, (170.39999999999998, 254.39999999999998): 13, (694.0, 403.75): 58, (223.5, 938.5): 29, (709.5, 207.83333333333331): 56, (533.6666666666666, 523.6666666666666): 48, (464.6666666666667, 781.6666666666667): 39, (305.25, 101.5): 23, (717.0, 873.3333333333333): 61, (133.0, 688.5): 16, (926.0, 343.5): 79}\n",
      "{(694.0, 403.75): 58, (181.0, 307.6666666666667): 13, (464.6666666666667, 781.6666666666667): 39, (537.3333333333334, 212.33333333333337): 46, (223.5, 938.5): 29, (845.0, 687.25): 71, (216.60000000000002, 121.99999999999994): 23, (773.0, 188.75): 56, (717.0, 873.3333333333333): 61, (926.0, 343.5): 79, (133.0, 688.5): 16, (533.6666666666666, 523.6666666666666): 48}\n",
      "{(694.0, 403.75): 58, (181.0, 307.6666666666667): 13, (464.6666666666667, 781.6666666666667): 39, (537.3333333333334, 212.33333333333337): 46, (223.5, 938.5): 29, (845.0, 687.25): 71, (259.5, 116.0): 23, (773.0, 188.75): 56, (717.0, 873.3333333333333): 61, (926.0, 343.5): 79, (133.0, 688.5): 16, (533.6666666666666, 523.6666666666666): 48, (45.0, 146.0): 1}\n",
      "{(464.6666666666667, 781.6666666666667): 39, (259.5, 116.0): 23, (773.0, 188.75): 56, (868.5, 635.5): 70, (679.0, 375.6): 58, (223.5, 938.5): 29, (926.0, 343.5): 79, (788.5, 781.5): 72, (133.0, 688.5): 16, (181.0, 307.6666666666667): 13, (533.6666666666666, 523.6666666666666): 48, (45.0, 146.0): 1, (496.5, 187.0): 45, (640.0, 972.0): 62}\n",
      "{(464.6666666666667, 781.6666666666667): 39, (537.3333333333334, 212.33333333333337): 46, (694.0, 403.75): 58, (259.5, 116.0): 23, (926.0, 343.5): 79, (223.5, 938.5): 29, (868.5, 635.5): 70, (133.0, 688.5): 16, (868.0, 125.0): 67, (181.0, 307.6666666666667): 13, (533.6666666666666, 523.6666666666666): 48, (741.3333333333333, 210.00000000000003): 56, (640.0, 972.0): 62, (45.0, 146.0): 1, (788.5, 781.5): 72}\n",
      "{(464.6666666666667, 781.6666666666667): 39, (679.0, 375.6): 58, (45.0, 146.0): 1, (868.0, 125.0): 67, (259.5, 116.0): 23, (755.5, 824.0): 61, (133.0, 688.5): 16, (926.0, 343.5): 79, (181.0, 307.6666666666667): 13, (223.5, 938.5): 29, (936.0, 607.0): 81, (496.5, 187.0): 45, (640.0, 972.0): 62, (814.6666666666666, 714.0): 71, (741.3333333333333, 210.00000000000003): 56, (533.6666666666666, 523.6666666666666): 48}\n",
      "{(755.5, 824.0): 61, (537.3333333333334, 212.33333333333337): 46, (206.0, 655.0): 16, (258.0, 87.00000000000006): 23, (773.0, 188.75): 56, (926.0, 343.5): 79, (694.0, 403.75): 58, (223.5, 938.5): 29, (464.6666666666667, 781.6666666666667): 39, (156.0, 329.5): 13, (936.0, 607.0): 81, (533.6666666666666, 523.6666666666666): 48, (814.6666666666666, 714.0): 71, (640.0, 972.0): 62, (247.5, 233.5): 24, (60.0, 722.0): 5, (45.0, 146.0): 1}\n",
      "{(755.5, 824.0): 61, (537.3333333333334, 212.33333333333337): 46, (206.0, 655.0): 16, (258.0, 87.00000000000006): 23, (741.3333333333333, 210.00000000000003): 56, (926.0, 343.5): 79, (694.0, 403.75): 58, (223.5, 938.5): 29, (464.6666666666667, 781.6666666666667): 39, (156.0, 329.5): 13, (936.0, 607.0): 81, (533.6666666666666, 523.6666666666666): 48, (814.6666666666666, 714.0): 71, (640.0, 972.0): 62, (247.5, 233.5): 24, (60.0, 722.0): 5, (45.0, 146.0): 1, (868.0, 125.0): 67}\n",
      "{(755.5, 824.0): 61, (582.5, 246.0): 46, (206.0, 655.0): 16, (258.0, 87.00000000000006): 23, (741.3333333333333, 210.00000000000003): 56, (926.0, 343.5): 79, (694.0, 403.75): 58, (223.5, 938.5): 29, (464.6666666666667, 781.6666666666667): 39, (156.0, 329.5): 13, (936.0, 607.0): 81, (533.6666666666666, 523.6666666666666): 48, (814.6666666666666, 714.0): 71, (640.0, 972.0): 62, (247.5, 233.5): 24, (60.0, 722.0): 5, (45.0, 146.0): 1, (868.0, 125.0): 67, (447.0, 145.0): 34}\n",
      "{(755.5, 824.0): 61, (582.5, 246.0): 46, (206.0, 655.0): 16, (258.0, 87.00000000000006): 23, (741.3333333333333, 210.00000000000003): 56, (926.0, 343.5): 79, (694.0, 403.75): 58, (223.5, 938.5): 29, (464.6666666666667, 781.6666666666667): 39, (156.0, 329.5): 13, (936.0, 607.0): 81, (468.0, 552.0): 37, (814.6666666666666, 714.0): 71, (640.0, 972.0): 62, (247.5, 233.5): 24, (60.0, 722.0): 5, (45.0, 146.0): 1, (868.0, 125.0): 67, (447.0, 145.0): 34, (566.5, 509.5): 48}\n",
      "{(247.5, 233.5): 24, (936.0, 607.0): 81, (206.0, 655.0): 16, (694.0, 403.75): 58, (755.5, 824.0): 61, (741.3333333333333, 210.00000000000003): 56, (988.0, 280.0): 79, (464.6666666666667, 781.6666666666667): 39, (223.5, 938.5): 29, (582.5, 246.0): 46, (156.0, 329.5): 13, (610.0, 550.0): 48, (640.0, 972.0): 62, (905.3333333333333, 364.6666666666667): 69, (814.6666666666666, 714.0): 71, (258.0, 87.00000000000006): 23, (45.0, 146.0): 1, (60.0, 722.0): 5, (495.5, 510.5): 48, (868.0, 125.0): 67, (447.0, 145.0): 34}\n",
      "i am here\n",
      "{24: 2.5, 81: 2.5, 16: 5.0, 58: 10.0, 61: 5.0, 56: 10.0, 79: 2.5, 39: 10.0, 29: 7.5, 46: 5.0, 13: 5.0, 48: 10.0, 62: 2.5, 69: 10.0, 71: 7.5, 23: 12.5, 1: 2.5, 5: 2.5, 67: 2.5, 34: 2.5}\n",
      "Wall time: 1.56 s\n"
     ]
    }
   ],
   "source": [
    "%%time\n",
    "n,m,o=calc_cluster_number(sensor)"
   ]
  },
  {
   "cell_type": "code",
   "execution_count": 127,
   "metadata": {},
   "outputs": [],
   "source": [
    "coordinates=[]\n",
    "for key,values in o.items():\n",
    "    for k,v in pdp_positions.items():\n",
    "        if key==k:\n",
    "            l=list(v)\n",
    "            coordinates.append(l)\n",
    "    "
   ]
  },
  {
   "cell_type": "code",
   "execution_count": 128,
   "metadata": {},
   "outputs": [
    {
     "data": {
      "text/plain": [
       "[[282.842712474619, 282.842712474619],\n",
       " [989.9494936611666, 565.685424949238],\n",
       " [141.4213562373095, 707.1067811865476],\n",
       " [707.1067811865476, 424.26406871192853],\n",
       " [707.1067811865476, 848.5281374238571],\n",
       " [707.1067811865476, 141.4213562373095],\n",
       " [989.9494936611666, 282.842712474619],\n",
       " [424.26406871192853, 848.5281374238571],\n",
       " [282.842712474619, 989.9494936611666],\n",
       " [565.685424949238, 282.842712474619],\n",
       " [141.4213562373095, 282.842712474619],\n",
       " [565.685424949238, 565.685424949238],\n",
       " [707.1067811865476, 989.9494936611666],\n",
       " [848.5281374238571, 424.26406871192853],\n",
       " [848.5281374238571, 707.1067811865476],\n",
       " [282.842712474619, 141.4213562373095],\n",
       " [0.0, 141.4213562373095],\n",
       " [0.0, 707.1067811865476],\n",
       " [848.5281374238571, 141.4213562373095],\n",
       " [424.26406871192853, 141.4213562373095]]"
      ]
     },
     "execution_count": 128,
     "metadata": {},
     "output_type": "execute_result"
    }
   ],
   "source": [
    "coordinates"
   ]
  },
  {
   "cell_type": "code",
   "execution_count": 129,
   "metadata": {},
   "outputs": [],
   "source": [
    "coordinates=[[0,0]]+coordinates"
   ]
  },
  {
   "cell_type": "code",
   "execution_count": 130,
   "metadata": {},
   "outputs": [],
   "source": [
    "import pandas as pd\n",
    "import numpy as np\n",
    "from matplotlib import pyplot as plt\n",
    "from gurobipy import *"
   ]
  },
  {
   "cell_type": "code",
   "execution_count": 131,
   "metadata": {},
   "outputs": [],
   "source": [
    "M=1000*1000"
   ]
  },
  {
   "cell_type": "code",
   "execution_count": 132,
   "metadata": {},
   "outputs": [],
   "source": [
    "n = len(coordinates)"
   ]
  },
  {
   "cell_type": "code",
   "execution_count": 133,
   "metadata": {},
   "outputs": [
    {
     "data": {
      "text/plain": [
       "21"
      ]
     },
     "execution_count": 133,
     "metadata": {},
     "output_type": "execute_result"
    }
   ],
   "source": [
    "n"
   ]
  },
  {
   "cell_type": "code",
   "execution_count": 134,
   "metadata": {},
   "outputs": [],
   "source": [
    "L=15"
   ]
  },
  {
   "cell_type": "code",
   "execution_count": 135,
   "metadata": {},
   "outputs": [],
   "source": [
    "coordinates=np.array(coordinates)"
   ]
  },
  {
   "cell_type": "code",
   "execution_count": 136,
   "metadata": {},
   "outputs": [],
   "source": [
    "depot, customers = coordinates[0, :], coordinates[1:, :]"
   ]
  },
  {
   "cell_type": "code",
   "execution_count": 137,
   "metadata": {},
   "outputs": [],
   "source": [
    "no_of_vehicles=3"
   ]
  },
  {
   "cell_type": "markdown",
   "metadata": {},
   "source": [
    "set minimum number of customers to be visited by each drone"
   ]
  },
  {
   "cell_type": "code",
   "execution_count": 138,
   "metadata": {},
   "outputs": [],
   "source": [
    "K=6"
   ]
  },
  {
   "cell_type": "code",
   "execution_count": 139,
   "metadata": {},
   "outputs": [
    {
     "data": {
      "text/plain": [
       "6"
      ]
     },
     "execution_count": 139,
     "metadata": {},
     "output_type": "execute_result"
    }
   ],
   "source": [
    "K"
   ]
  },
  {
   "cell_type": "code",
   "execution_count": 140,
   "metadata": {},
   "outputs": [],
   "source": [
    "dist_matrix = np.empty([n, n])"
   ]
  },
  {
   "cell_type": "code",
   "execution_count": 141,
   "metadata": {},
   "outputs": [],
   "source": [
    "m = Model(\"MVRP\")"
   ]
  },
  {
   "cell_type": "code",
   "execution_count": 142,
   "metadata": {},
   "outputs": [],
   "source": [
    "for i in range(n):\n",
    "    for j in range(n):\n",
    "        dist_matrix[i, j] = np.sqrt((coordinates[i][0] - coordinates[j][0]) ** 2 + (coordinates[i][1] - coordinates[j][1]) ** 2)\n",
    "        if i==j:\n",
    "            dist_matrix[i,j]=M\n",
    "        continue"
   ]
  },
  {
   "cell_type": "code",
   "execution_count": 143,
   "metadata": {},
   "outputs": [],
   "source": [
    "x={}"
   ]
  },
  {
   "cell_type": "code",
   "execution_count": 144,
   "metadata": {},
   "outputs": [],
   "source": [
    "for i in range(n):\n",
    "    for j in range(n):\n",
    "        x[i, j] = m.addVar(vtype=GRB.BINARY, name=\"x%d,%d\" % (i, j))\n",
    "m.update()"
   ]
  },
  {
   "cell_type": "code",
   "execution_count": 145,
   "metadata": {},
   "outputs": [],
   "source": [
    "for i in range(n):\n",
    "    x[i, i].ub = 0"
   ]
  },
  {
   "cell_type": "code",
   "execution_count": 146,
   "metadata": {},
   "outputs": [],
   "source": [
    "u_vars = {}\n",
    "for i in range(n):\n",
    "    u_vars[i] = m.addVar(lb=0, ub=L, vtype=gurobipy.GRB.INTEGER, name='u' + str(i))\n",
    "m.update()"
   ]
  },
  {
   "cell_type": "code",
   "execution_count": 147,
   "metadata": {},
   "outputs": [
    {
     "data": {
      "text/plain": [
       "<gurobi.Constr *Awaiting Model Update*>"
      ]
     },
     "execution_count": 147,
     "metadata": {},
     "output_type": "execute_result"
    }
   ],
   "source": [
    "m.addConstr(gurobipy.quicksum(x[0, i] for i in range(1, n)) == no_of_vehicles)\n",
    "m.addConstr(gurobipy.quicksum(x[i, 0] for i in range(1, n)) == no_of_vehicles)"
   ]
  },
  {
   "cell_type": "code",
   "execution_count": 148,
   "metadata": {},
   "outputs": [],
   "source": [
    "for i in range(1, n):\n",
    "    m.addConstr(gurobipy.quicksum(x[i, j] for j in range(n) if i != j) == 1)"
   ]
  },
  {
   "cell_type": "code",
   "execution_count": 149,
   "metadata": {},
   "outputs": [],
   "source": [
    "for j in range(1, n):\n",
    "    m.addConstr(gurobipy.quicksum(x[i, j] for i in range(n) if i != j) == 1)"
   ]
  },
  {
   "cell_type": "code",
   "execution_count": 150,
   "metadata": {},
   "outputs": [],
   "source": [
    "for i in range(1, n):\n",
    "    m.addConstr(u_vars[i] + (L - 2) * x[0, i] - x[i, 0] <= L - 1)"
   ]
  },
  {
   "cell_type": "code",
   "execution_count": 151,
   "metadata": {},
   "outputs": [],
   "source": [
    "for i in range(1, n):\n",
    "    m.addConstr(u_vars[i] + x[0, i] + (2 - K) * x[i, 0] >= 2)"
   ]
  },
  {
   "cell_type": "code",
   "execution_count": 152,
   "metadata": {},
   "outputs": [],
   "source": [
    "for i in range(1, n):\n",
    "    m.addConstr(x[0, i] + x[i, 0] <= 1)"
   ]
  },
  {
   "cell_type": "code",
   "execution_count": 153,
   "metadata": {},
   "outputs": [],
   "source": [
    "for i in range(1, n):\n",
    "    for j in range(1, n):\n",
    "        if i != j:\n",
    "            m.addConstr(u_vars[i] - u_vars[j] + L * x[i, j] + (L - 2) * x[j, i] <= L - 1)\n",
    "m.update()"
   ]
  },
  {
   "cell_type": "code",
   "execution_count": 154,
   "metadata": {},
   "outputs": [
    {
     "name": "stdout",
     "output_type": "stream",
     "text": [
      "Gurobi Optimizer version 9.5.0 build v9.5.0rc5 (win64)\n",
      "Thread count: 4 physical cores, 8 logical processors, using up to 8 threads\n",
      "Optimize a model with 482 rows, 462 columns and 2520 nonzeros\n",
      "Model fingerprint: 0xf4ada5d6\n",
      "Variable types: 0 continuous, 462 integer (441 binary)\n",
      "Coefficient statistics:\n",
      "  Matrix range     [1e+00, 2e+01]\n",
      "  Objective range  [1e+02, 1e+06]\n",
      "  Bounds range     [1e+00, 2e+01]\n",
      "  RHS range        [1e+00, 1e+01]\n",
      "Found heuristic solution: objective 13651.756376\n",
      "Presolve removed 0 rows and 22 columns\n",
      "Presolve time: 0.01s\n",
      "Presolved: 482 rows, 440 columns, 2520 nonzeros\n",
      "Variable types: 0 continuous, 440 integer (420 binary)\n",
      "\n",
      "Root relaxation: objective 5.792024e+03, 131 iterations, 0.00 seconds (0.00 work units)\n",
      "\n",
      "    Nodes    |    Current Node    |     Objective Bounds      |     Work\n",
      " Expl Unexpl |  Obj  Depth IntInf | Incumbent    BestBd   Gap | It/Node Time\n",
      "\n",
      "     0     0 5792.02365    0   53 13651.7564 5792.02365  57.6%     -    0s\n",
      "H    0     0                    11393.443701 5792.02365  49.2%     -    0s\n",
      "H    0     0                    11298.398727 5792.02365  48.7%     -    0s\n",
      "     0     0 5873.88050    0   22 11298.3987 5873.88050  48.0%     -    0s\n",
      "H    0     0                    9261.3222800 5873.88050  36.6%     -    0s\n",
      "     0     0 5949.67277    0   23 9261.32228 5949.67277  35.8%     -    0s\n",
      "H    0     0                    9214.1086845 5949.67277  35.4%     -    0s\n",
      "H    0     0                    8419.7391490 5949.67277  29.3%     -    0s\n",
      "     0     0 5962.62139    0   25 8419.73915 5962.62139  29.2%     -    0s\n",
      "H    0     0                    8369.3519686 5962.62139  28.8%     -    0s\n",
      "     0     0 5980.32733    0   23 8369.35197 5980.32733  28.5%     -    0s\n",
      "H    0     0                    8363.0261539 5980.32733  28.5%     -    0s\n",
      "     0     0 5995.65462    0   22 8363.02615 5995.65462  28.3%     -    0s\n",
      "     0     0 5995.65462    0   22 8363.02615 5995.65462  28.3%     -    0s\n",
      "     0     2 6020.84821    0   22 8363.02615 6020.84821  28.0%     -    0s\n",
      "H   42    48                    8040.5501973 6081.15258  24.4%   9.6    0s\n",
      "H   75    88                    7967.9680796 6081.15258  23.7%   8.6    0s\n",
      "H  124   126                    7820.6285495 6081.15258  22.2%   9.4    0s\n",
      "H  125   154                    7636.8760868 6081.15258  20.4%   9.4    0s\n",
      "H 1300  1014                    7586.0812687 6198.04940  18.3%   9.5    1s\n",
      "H 2014  1245                    7568.9484965 6198.04940  18.1%  10.4    1s\n",
      "H 2382  1212                    7237.0713547 6248.15309  13.7%  10.3    2s\n",
      "* 8402  2340              45    7073.3841441 6620.39584  6.40%  11.9    2s\n",
      " 21687  1410 7029.13275   43    9 7073.38414 6944.40400  1.82%  11.9    5s\n",
      "\n",
      "Cutting planes:\n",
      "  Gomory: 17\n",
      "  Lift-and-project: 5\n",
      "  Cover: 25\n",
      "  Projected implied bound: 9\n",
      "  MIR: 10\n",
      "  StrongCG: 1\n",
      "  Flow cover: 28\n",
      "  Inf proof: 2\n",
      "  Zero half: 10\n",
      "  RLT: 1\n",
      "  Relax-and-lift: 1\n",
      "\n",
      "Explored 24470 nodes (293709 simplex iterations) in 5.28 seconds (3.66 work units)\n",
      "Thread count was 8 (of 8 available processors)\n",
      "\n",
      "Solution count 10: 7073.38 7237.07 7568.95 ... 8369.35\n",
      "\n",
      "Optimal solution found (tolerance 1.00e-04)\n",
      "Best objective 7.073384144081e+03, best bound 7.073384144081e+03, gap 0.0000%\n",
      "Wall time: 5.29 s\n"
     ]
    }
   ],
   "source": [
    "%%time\n",
    "m._vars = x\n",
    "m._uvars = u_vars\n",
    "# m.params.OutputFlag = int(kwargs.get('output_flag', 0))\n",
    "# m.params.TimeLimit = float(kwargs.get('time_limit', 60.0))\n",
    "m.setObjective(quicksum(quicksum(x[(i, j)]*dist_matrix[(i, j)] for j in range(n)) for i in range(n)),GRB.MINIMIZE)\n",
    "m.optimize()"
   ]
  },
  {
   "cell_type": "code",
   "execution_count": 155,
   "metadata": {},
   "outputs": [
    {
     "name": "stdout",
     "output_type": "stream",
     "text": [
      "\n",
      " minimum distance: 7073.38\n"
     ]
    }
   ],
   "source": [
    "print('\\n minimum distance: %g' % m.objVal)"
   ]
  },
  {
   "cell_type": "code",
   "execution_count": 156,
   "metadata": {},
   "outputs": [
    {
     "name": "stdout",
     "output_type": "stream",
     "text": [
      "\n",
      "    Variable            x \n",
      "-------------------------\n",
      "        x0,4            1 \n",
      "       x0,12            1 \n",
      "       x0,17            1 \n",
      "       x1,10            1 \n",
      "        x2,7            1 \n",
      "       x3,18            1 \n",
      "       x4,14            1 \n",
      "       x5,13            1 \n",
      "        x6,0            1 \n",
      "       x7,19            1 \n",
      "        x8,9            1 \n",
      "        x9,3            1 \n",
      "      x10,20            1 \n",
      "       x11,1            1 \n",
      "      x12,15            1 \n",
      "       x13,8            1 \n",
      "       x14,2            1 \n",
      "       x15,5            1 \n",
      "       x16,0            1 \n",
      "      x17,11            1 \n",
      "       x18,0            1 \n",
      "       x19,6            1 \n",
      "      x20,16            1 \n",
      "          u1            3 \n",
      "          u2            3 \n",
      "          u3            7 \n",
      "          u4            1 \n",
      "          u5            3 \n",
      "          u6            6 \n",
      "          u7            4 \n",
      "          u8            5 \n",
      "          u9            6 \n",
      "         u10            4 \n",
      "         u11            2 \n",
      "         u12            1 \n",
      "         u13            4 \n",
      "         u14            2 \n",
      "         u15            2 \n",
      "         u16            6 \n",
      "         u17            1 \n",
      "         u18            8 \n",
      "         u19            5 \n",
      "         u20            5 \n"
     ]
    }
   ],
   "source": [
    "m.printAttr('x')"
   ]
  },
  {
   "cell_type": "code",
   "execution_count": 157,
   "metadata": {},
   "outputs": [],
   "source": [
    "from_node = []\n",
    "to_node = np.empty([n, n])"
   ]
  },
  {
   "cell_type": "code",
   "execution_count": 158,
   "metadata": {},
   "outputs": [],
   "source": [
    "for v in m.getVars():\n",
    "    from_node.append(v.x)"
   ]
  },
  {
   "cell_type": "code",
   "execution_count": 159,
   "metadata": {},
   "outputs": [],
   "source": [
    "for i in range(n):\n",
    "    for j in range(n):\n",
    "        to_node[i, j] = from_node[n * i + j]"
   ]
  },
  {
   "cell_type": "code",
   "execution_count": 160,
   "metadata": {},
   "outputs": [
    {
     "name": "stdout",
     "output_type": "stream",
     "text": [
      "\n",
      "Distance Matrix (dij):\n",
      "          0        1        2        3        4        5        6        7   \\\n",
      "0   1000000      400     1140      721      824     1104      721     1029   \n",
      "1       400  1000000      761      447      447      707      447      707   \n",
      "2      1140      761  1000000      860      316      400      509      282   \n",
      "3       721      447      860  1000000      632      583      800      948   \n",
      "4       824      447      316      632  1000000      424      282      316   \n",
      "5      1104      707      400      583      424  1000000      707      632   \n",
      "6       721      447      509      800      282      707  1000000      316   \n",
      "7      1029      707      282      948      316      632      316  1000000   \n",
      "8       948      583      632      316      509      282      761      800   \n",
      "9      1029      707      824      316      707      447      948     1000   \n",
      "10      632      282      509      600      200      583      200      424   \n",
      "11      316      141      894      424      583      800      583      848   \n",
      "12      800      400      424      447      200      316      447      509   \n",
      "13     1216      824      509      632      565      141      848      761   \n",
      "14      948      583      200      761      141      447      316      200   \n",
      "15     1104      707      200      707      316      200      583      447   \n",
      "16      316      141      824      583      509      824      424      721   \n",
      "17      141      316     1077      583      761     1000      707     1000   \n",
      "18      707      509     1000      141      761      721      905     1077   \n",
      "19      860      583      447      905      316      721      141      200   \n",
      "20      447      200      707      632      400      761      282      583   \n",
      "\n",
      "         8        9   ...       11       12       13       14       15  \\\n",
      "0       948     1029  ...      316      800     1216      948     1104   \n",
      "1       583      707  ...      141      400      824      583      707   \n",
      "2       632      824  ...      894      424      509      200      200   \n",
      "3       316      316  ...      424      447      632      761      707   \n",
      "4       509      707  ...      583      200      565      141      316   \n",
      "5       282      447  ...      800      316      141      447      200   \n",
      "6       761      948  ...      583      447      848      316      583   \n",
      "7       800     1000  ...      848      509      761      200      447   \n",
      "8   1000000      200  ...      632      316      316      600      447   \n",
      "9       200  1000000  ...      721      509      424      800      632   \n",
      "10      583      761  ...      424      282      721      316      509   \n",
      "11      632      721  ...  1000000      509      905      721      824   \n",
      "12      316      509  ...      509  1000000      447      316      316   \n",
      "13      316      424  ...      905      447  1000000      583      316   \n",
      "14      600      800  ...      721      316      583  1000000      282   \n",
      "15      447      632  ...      824      316      316      282  1000000   \n",
      "16      721      848  ...      200      509      948      632      800   \n",
      "17      824      894  ...      200      707     1104      894     1019   \n",
      "18      447      400  ...      447      583      761      894      848   \n",
      "19      824     1019  ...      721      509      860      282      565   \n",
      "20      707      860  ...      316      447      894      509      707   \n",
      "\n",
      "         16       17       18       19       20  \n",
      "0       316      141      707      860      447  \n",
      "1       141      316      509      583      200  \n",
      "2       824     1077     1000      447      707  \n",
      "3       583      583      141      905      632  \n",
      "4       509      761      761      316      400  \n",
      "5       824     1000      721      721      761  \n",
      "6       424      707      905      141      282  \n",
      "7       721     1000     1077      200      583  \n",
      "8       721      824      447      824      707  \n",
      "9       848      894      400     1019      860  \n",
      "10      316      583      707      316      200  \n",
      "11      200      200      447      721      316  \n",
      "12      509      707      583      509      447  \n",
      "13      948     1104      761      860      894  \n",
      "14      632      894      894      282      509  \n",
      "15      800     1019      848      565      707  \n",
      "16  1000000      282      632      565      141  \n",
      "17      282  1000000      565      848      424  \n",
      "18      632      565  1000000     1019      707  \n",
      "19      565      848     1019  1000000      424  \n",
      "20      141      424      707      424  1000000  \n",
      "\n",
      "[21 rows x 21 columns]\n",
      "\n",
      "Decision (Xij):\n",
      "     0   1   2   3   4   5   6   7   8   9   ...  11  12  13  14  15  16  17  \\\n",
      "0    0   0   0   0   1   0   0   0   0   0  ...   0   1   0   0   0   0   1   \n",
      "1    0   0   0   0   0   0   0   0   0   0  ...   0   0   0   0   0   0   0   \n",
      "2    0   0   0   0   0   0   0   1   0   0  ...   0   0   0   0   0   0   0   \n",
      "3    0   0   0   0   0   0   0   0   0   0  ...   0   0   0   0   0   0   0   \n",
      "4    0   0   0   0   0   0   0   0   0   0  ...   0   0   0   1   0   0   0   \n",
      "5    0   0   0   0   0   0   0   0   0   0  ...   0   0   1   0   0   0   0   \n",
      "6    1   0   0   0   0   0   0   0   0   0  ...   0   0   0   0   0   0   0   \n",
      "7    0   0   0   0   0   0   0   0   0   0  ...   0   0   0   0   0   0   0   \n",
      "8    0   0   0   0   0   0   0   0   0   1  ...   0   0   0   0   0   0   0   \n",
      "9    0   0   0   1   0   0   0   0   0   0  ...   0   0   0   0   0   0   0   \n",
      "10   0   0   0   0   0   0   0   0   0   0  ...   0   0   0   0   0   0   0   \n",
      "11   0   1   0   0   0   0   0   0   0   0  ...   0   0   0   0   0   0   0   \n",
      "12   0   0   0   0   0   0   0   0   0   0  ...   0   0   0   0   1   0   0   \n",
      "13   0   0   0   0   0   0   0   0   1   0  ...   0   0   0   0   0   0   0   \n",
      "14   0   0   1   0   0   0   0   0   0   0  ...   0   0   0   0   0   0   0   \n",
      "15   0   0   0   0   0   1   0   0   0   0  ...   0   0   0   0   0   0   0   \n",
      "16   1   0   0   0   0   0   0   0   0   0  ...   0   0   0   0   0   0   0   \n",
      "17   0   0   0   0   0   0   0   0   0   0  ...   1   0   0   0   0   0   0   \n",
      "18   1   0   0   0   0   0   0   0   0   0  ...   0   0   0   0   0   0   0   \n",
      "19   0   0   0   0   0   0   1   0   0   0  ...   0   0   0   0   0   0   0   \n",
      "20   0   0   0   0   0   0   0   0   0   0  ...   0   0   0   0   0   1   0   \n",
      "\n",
      "    18  19  20  \n",
      "0    0   0   0  \n",
      "1    0   0   0  \n",
      "2    0   0   0  \n",
      "3    1   0   0  \n",
      "4    0   0   0  \n",
      "5    0   0   0  \n",
      "6    0   0   0  \n",
      "7    0   1   0  \n",
      "8    0   0   0  \n",
      "9    0   0   0  \n",
      "10   0   0   1  \n",
      "11   0   0   0  \n",
      "12   0   0   0  \n",
      "13   0   0   0  \n",
      "14   0   0   0  \n",
      "15   0   0   0  \n",
      "16   0   0   0  \n",
      "17   0   0   0  \n",
      "18   0   0   0  \n",
      "19   0   0   0  \n",
      "20   0   0   0  \n",
      "\n",
      "[21 rows x 21 columns]\n"
     ]
    }
   ],
   "source": [
    "print('\\nDistance Matrix (dij):\\n', pd.DataFrame(dist_matrix).astype('int64'))\n",
    "print('\\nDecision (Xij):\\n', pd.DataFrame(to_node).astype('int64'))"
   ]
  },
  {
   "cell_type": "code",
   "execution_count": 161,
   "metadata": {},
   "outputs": [],
   "source": [
    "# to node:Decision matrix\n",
    "I = []  #Row of decision matrix\n",
    "J = [] \n",
    "for i in range(n):\n",
    "    for j in range(n):\n",
    "        if to_node[i, j] > 0.5:\n",
    "            I.append(i)\n",
    "            J.append(j)"
   ]
  },
  {
   "cell_type": "code",
   "execution_count": 162,
   "metadata": {},
   "outputs": [
    {
     "name": "stdout",
     "output_type": "stream",
     "text": [
      "[ 0  0  0  1  2  3  4  5  6  7  8  9 10 11 12 13 14 15 16 17 18 19 20]\n",
      "[ 4 12 17 10  7 18 14 13  0 19  9  3 20  1 15  8  2  5  0 11  0  6 16]\n"
     ]
    }
   ],
   "source": [
    "print(np.array(I))\n",
    "print(np.array(J))"
   ]
  },
  {
   "cell_type": "code",
   "execution_count": 163,
   "metadata": {},
   "outputs": [],
   "source": [
    "all_routes = {}\n",
    "cnt = 0"
   ]
  },
  {
   "cell_type": "code",
   "execution_count": 164,
   "metadata": {},
   "outputs": [
    {
     "name": "stdout",
     "output_type": "stream",
     "text": [
      "all sub route trace:\n",
      "{'0': [0, 4, 14, 2, 7, 19, 6, 0], '1': [0, 12, 15, 5, 13, 8, 9, 3, 18, 0], '2': [0, 17, 11, 1, 10, 20, 16, 0]}\n"
     ]
    }
   ],
   "source": [
    "for i in range(no_of_vehicles):\n",
    "    end = J[i]  # Take out the J[0] of (0,J[0])\n",
    "    route = [0, end]  # Initial route=[0,J[0]]\n",
    "    while end != 0:\n",
    "        start_index = I.index(end)  # (# Find the index corresponding to J[0] in I[], which is the start_index of the next value)\n",
    "        end = J[start_index]  # (# Put this index, to J[] to find the corresponding value,)\n",
    "        route.append(end)  #  (Add the value to the sub-route list route)\n",
    "    all_routes[str(i)] = route  # (Multiple sub-paths constitute the total path expression)\n",
    "    # Output all_routes, including each sub-route\n",
    "print('all sub route trace:')\n",
    "print(all_routes)"
   ]
  },
  {
   "cell_type": "code",
   "execution_count": 165,
   "metadata": {},
   "outputs": [],
   "source": [
    "# sub_route_total_distance = {}\n",
    "\n",
    "# for i in range(no_of_vehicles):\n",
    "#     prev_index = 0\n",
    "#     # print('\\n')\n",
    "#     sub_route_total_distance[i] = 0\n",
    "#     for j in range(len(all_routes[str(i)])):\n",
    "#         cur_index = all_routes[str(i)][j]\n",
    "#         # print('dist[%d,%d]=%d' % (prev_index, cur_index, dist_matrix[prev_index][cur_index]))\n",
    "#         sub_route_total_distance[i] += dist_matrix[prev_index][cur_index]\n",
    "#         prev_index = cur_index\n",
    "# print('all sub route total distance sum:')\n",
    "# print(sub_route_total_distance)\n"
   ]
  },
  {
   "cell_type": "code",
   "execution_count": 166,
   "metadata": {},
   "outputs": [],
   "source": [
    "X=[]\n",
    "Y=[]\n",
    "for i,value in enumerate (coordinates):\n",
    "    X.append(coordinates[i][0])\n",
    "    Y.append(coordinates[i][1])"
   ]
  },
  {
   "cell_type": "code",
   "execution_count": 167,
   "metadata": {},
   "outputs": [
    {
     "data": {
      "text/plain": [
       "Text(0.5, 1.0, 'Original sensors and chargers positions')"
      ]
     },
     "execution_count": 167,
     "metadata": {},
     "output_type": "execute_result"
    },
    {
     "data": {
      "image/png": "[encoded data removed]",
      "text/plain": [
       "<Figure size 432x288 with 1 Axes>"
      ]
     },
     "metadata": {
      "needs_background": "light"
     },
     "output_type": "display_data"
    }
   ],
   "source": [
    "# Figure 1 Original WRSN sensor node and charger Wireless radar sensor network\n",
    "plt.figure()\n",
    "plt.scatter(X[1:], Y[1:], marker='o', color='blue')\n",
    "plt.scatter(X[0], Y[0], marker='^', color='blue')\n",
    "plt.xlabel('x-coordinate(m)')\n",
    "plt.ylabel('y-coordinate(m)')\n",
    "for i in range(no_of_vehicles):\n",
    "    plt.scatter(X[0] - 2 + i, Y[0] - 1, marker='^', color='red')\n",
    "plt.title('Original sensors and chargers positions')\n"
   ]
  },
  {
   "cell_type": "code",
   "execution_count": 168,
   "metadata": {},
   "outputs": [
    {
     "data": {
      "image/png": "[encoded data removed]",
      "text/plain": [
       "<Figure size 432x288 with 1 Axes>"
      ]
     },
     "metadata": {
      "needs_background": "light"
     },
     "output_type": "display_data"
    }
   ],
   "source": [
    "# Figure 2 Trajectory after MTSP solution\n",
    "plt.figure()\n",
    "plt.scatter(X[1:], Y[1:], marker='o', color='blue')\n",
    "plt.scatter(X[0], Y[0], marker='^', color='blue')\n",
    "plt.xlabel('x-coordinate(m)')\n",
    "plt.ylabel('y-coordinate(m)')\n",
    "plt.title('Total min distance %g (m)' % m.objVal)\n",
    "# plt.plot([XX1, XX2], [YY1, YY2])\n",
    "for index in all_routes:\n",
    "    route_list = all_routes[index]\n",
    "    x = []\n",
    "    y = []\n",
    "    for i in route_list:\n",
    "        x.append(X[i])\n",
    "        y.append(Y[i])\n",
    "    plt.plot(x, y)\n",
    "plt.show()"
   ]
  },
  {
   "cell_type": "code",
   "execution_count": 169,
   "metadata": {},
   "outputs": [],
   "source": [
    "def calculate_collecting_time_each(lis):\n",
    "    \"\"\"function will get the list of index of customer in each subtour\n",
    "    -then we compare the values of total instance. This total has the coordinates of depot and the pdps near to the clustr\n",
    "        center\n",
    "    -we then append the keys of the pdp_position instance so we get the index of pdps where the sensors are connected and collection time should be calculated\n",
    "    \"\"\"\n",
    "    new_list=[]\n",
    "    subset={}\n",
    "    for val in lis:\n",
    "        for keys,v in pdp_positions.items():\n",
    "            if v == tuple(coordinates[val]):\n",
    "                new_list.append(keys)\n",
    "    print(\"#####\")            \n",
    "    print(new_list)\n",
    "    for values in new_list:\n",
    "        subset[values]=spanning_tree_collecting_time(values)\n",
    "    checked=to_check_the_minimum_hops_between_the_pdp_and_sensor(subset)\n",
    "    collect_time=calculate_collecting_time(checked)\n",
    "    \n",
    "    return collect_time\n"
   ]
  },
  {
   "cell_type": "code",
   "execution_count": 170,
   "metadata": {},
   "outputs": [],
   "source": [
    "def calculate_total_collecting_time(subtour): \n",
    "    \"\"\"\n",
    "    This function is used to calculate the total collecting time\n",
    "    \"\"\"\n",
    "    total_col={}\n",
    "    for key , values in subtour.items():\n",
    "        xx=values[1:len(values)-1]\n",
    "        print(values[1:len(values)-1])\n",
    "        total_col[key]=calculate_collecting_time_each(xx)\n",
    "    totally=0\n",
    "    each_total={}\n",
    "    for key,val in total_col.items():\n",
    "        temp=0\n",
    "        for v,k in val.items():\n",
    "            temp=temp+k\n",
    "            totally=totally+k\n",
    "        each_total[key]=temp \n",
    "    return totally,each_total\n",
    "\n"
   ]
  },
  {
   "cell_type": "code",
   "execution_count": 171,
   "metadata": {},
   "outputs": [
    {
     "name": "stdout",
     "output_type": "stream",
     "text": [
      "[4, 14, 2, 7, 19, 6]\n",
      "#####\n",
      "[58, 69, 81, 79, 67, 56]\n",
      "[12, 15, 5, 13, 8, 9, 3, 18]\n",
      "#####\n",
      "[48, 71, 61, 62, 39, 29, 16, 5]\n",
      "[17, 11, 1, 10, 20, 16]\n",
      "#####\n",
      "[1, 13, 24, 46, 34, 23]\n"
     ]
    }
   ],
   "source": [
    "total_collect_time,each_total=calculate_total_collecting_time(all_routes)"
   ]
  },
  {
   "cell_type": "code",
   "execution_count": 172,
   "metadata": {},
   "outputs": [
    {
     "data": {
      "text/plain": [
       "{'0': 50.0, '1': 52.5, '2': 50.0}"
      ]
     },
     "execution_count": 172,
     "metadata": {},
     "output_type": "execute_result"
    }
   ],
   "source": [
    "each_total"
   ]
  },
  {
   "cell_type": "code",
   "execution_count": 173,
   "metadata": {},
   "outputs": [
    {
     "data": {
      "text/plain": [
       "152.5"
      ]
     },
     "execution_count": 173,
     "metadata": {},
     "output_type": "execute_result"
    }
   ],
   "source": [
    "total_collect_time"
   ]
  },
  {
   "cell_type": "code",
   "execution_count": 174,
   "metadata": {},
   "outputs": [
    {
     "data": {
      "text/plain": [
       "{'0': [0, 4, 14, 2, 7, 19, 6, 0],\n",
       " '1': [0, 12, 15, 5, 13, 8, 9, 3, 18, 0],\n",
       " '2': [0, 17, 11, 1, 10, 20, 16, 0]}"
      ]
     },
     "execution_count": 174,
     "metadata": {},
     "output_type": "execute_result"
    }
   ],
   "source": [
    "all_routes"
   ]
  },
  {
   "cell_type": "code",
   "execution_count": 186,
   "metadata": {},
   "outputs": [],
   "source": [
    "def calc_trip_time(allroute):\n",
    "    \"\"\"\n",
    "    This function is used to calculate the trip time of each drone . The all_routes dictionary has tour for each \n",
    "    drone.\n",
    "    \"\"\"\n",
    "    new_dict={}\n",
    "    for key,values in allroute.items():\n",
    "        total=0\n",
    "        for i in range(len(values)):\n",
    "            if i<len(values)-1:\n",
    "                total=total+dist_matrix[values[i],values[i+1]]\n",
    "        new_dict[key]=total\n",
    "    temp={}\n",
    "    for k,v in new_dict.items():\n",
    "        temp[k]=v/drone_speed\n",
    "    \n",
    "    return temp\n",
    "            \n",
    "        \n",
    "    "
   ]
  },
  {
   "cell_type": "code",
   "execution_count": 187,
   "metadata": {},
   "outputs": [],
   "source": [
    "trip_length=calc_trip_time(all_routes)"
   ]
  },
  {
   "cell_type": "code",
   "execution_count": 188,
   "metadata": {},
   "outputs": [
    {
     "data": {
      "text/plain": [
       "{'0': 837.1389350551893, '1': 1046.21093057056, '2': 474.44484906779513}"
      ]
     },
     "execution_count": 188,
     "metadata": {},
     "output_type": "execute_result"
    }
   ],
   "source": [
    "trip_length"
   ]
  },
  {
   "cell_type": "code",
   "execution_count": 189,
   "metadata": {},
   "outputs": [],
   "source": [
    "from collections import Counter"
   ]
  },
  {
   "cell_type": "code",
   "execution_count": 190,
   "metadata": {},
   "outputs": [],
   "source": [
    "total_time_dict=dict(Counter(each_total)+Counter(trip_length))"
   ]
  },
  {
   "cell_type": "code",
   "execution_count": 191,
   "metadata": {},
   "outputs": [
    {
     "data": {
      "text/plain": [
       "{'0': 887.1389350551893, '1': 1098.71093057056, '2': 524.4448490677951}"
      ]
     },
     "execution_count": 191,
     "metadata": {},
     "output_type": "execute_result"
    }
   ],
   "source": [
    "total_time_dict"
   ]
  },
  {
   "cell_type": "markdown",
   "metadata": {},
   "source": [
    "so the makespan will be 1098.71 seconds"
   ]
  },
  {
   "cell_type": "markdown",
   "metadata": {},
   "source": [
    "this will be the total time required to collect by the 3 drones in the grid"
   ]
  },
  {
   "cell_type": "code",
   "execution_count": null,
   "metadata": {},
   "outputs": [],
   "source": []
  }
 ],
 "metadata": {
  "kernelspec": {
   "display_name": "Python 3",
   "language": "python",
   "name": "python3"
  },
  "language_info": {
   "codemirror_mode": {
    "name": "ipython",
    "version": 3
   },
   "file_extension": ".py",
   "mimetype": "text/x-python",
   "name": "python",
   "nbconvert_exporter": "python",
   "pygments_lexer": "ipython3",
   "version": "3.8.5"
  }
 },
 "nbformat": 4,
 "nbformat_minor": 4
}
