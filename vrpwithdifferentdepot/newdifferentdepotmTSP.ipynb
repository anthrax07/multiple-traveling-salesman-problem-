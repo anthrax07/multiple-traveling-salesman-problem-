{
 "cells": [
  {
   "cell_type": "code",
   "execution_count": 1,
   "metadata": {},
   "outputs": [],
   "source": [
    "from global_variable import *"
   ]
  },
  {
   "cell_type": "code",
   "execution_count": 2,
   "metadata": {},
   "outputs": [],
   "source": [
    "import random\n",
    "import networkx as nx\n",
    "import math\n",
    "import itertools    \n",
    "import matplotlib.pyplot as plt\n",
    "import ast\n",
    "import numpy as np\n",
    "import operator\n",
    "from sklearn.cluster import KMeans\n",
    "from collections import defaultdict\n"
   ]
  },
  {
   "cell_type": "code",
   "execution_count": 3,
   "metadata": {},
   "outputs": [],
   "source": [
    "with open('sensor_for_large_Grid1000_30sensorlistonly.txt', 'r') as f:\n",
    "    sensor = ast.literal_eval(f.read())"
   ]
  },
  {
   "cell_type": "code",
   "execution_count": 4,
   "metadata": {},
   "outputs": [
    {
     "data": {
      "text/plain": [
       "1000"
      ]
     },
     "execution_count": 4,
     "metadata": {},
     "output_type": "execute_result"
    }
   ],
   "source": [
    "length_of_grid"
   ]
  },
  {
   "cell_type": "code",
   "execution_count": 5,
   "metadata": {},
   "outputs": [],
   "source": [
    " sensor=sorted(sensor)"
   ]
  },
  {
   "cell_type": "code",
   "execution_count": 6,
   "metadata": {},
   "outputs": [
    {
     "data": {
      "text/plain": [
       "[(108, 452),\n",
       " (130, 409),\n",
       " (145, 826),\n",
       " (179, 404),\n",
       " (199, 230),\n",
       " (204, 628),\n",
       " (263, 665),\n",
       " (323, 319),\n",
       " (324, 456),\n",
       " (347, 837),\n",
       " (367, 899),\n",
       " (371, 717),\n",
       " (470, 770),\n",
       " (492, 310),\n",
       " (536, 624),\n",
       " (539, 557),\n",
       " (578, 311),\n",
       " (602, 38),\n",
       " (624, 567),\n",
       " (642, 530),\n",
       " (647, 745),\n",
       " (650, 381),\n",
       " (667, 360),\n",
       " (702, 829),\n",
       " (759, 148),\n",
       " (845, 401),\n",
       " (849, 691),\n",
       " (905, 608),\n",
       " (958, 562),\n",
       " (988, 418)]"
      ]
     },
     "execution_count": 6,
     "metadata": {},
     "output_type": "execute_result"
    }
   ],
   "source": [
    "sensor"
   ]
  },
  {
   "cell_type": "code",
   "execution_count": 7,
   "metadata": {},
   "outputs": [],
   "source": [
    "s=[list(i) for i in sensor]"
   ]
  },
  {
   "cell_type": "code",
   "execution_count": 8,
   "metadata": {
    "jupyter": {
     "source_hidden": true
    }
   },
   "outputs": [],
   "source": [
    "X=np.array(s)"
   ]
  },
  {
   "cell_type": "markdown",
   "metadata": {},
   "source": [
    "## function just to calculate distance between two pdp points"
   ]
  },
  {
   "cell_type": "code",
   "execution_count": 9,
   "metadata": {},
   "outputs": [],
   "source": [
    "def distance(points,i,j):\n",
    "    x=points[i][0]-points[j][0]\n",
    "    y=points[i][1]-points[j][1]\n",
    "    return math.sqrt(x*x+y*y)"
   ]
  },
  {
   "cell_type": "markdown",
   "metadata": {},
   "source": [
    "## Function to determine the pdp position in the grid"
   ]
  },
  {
   "cell_type": "code",
   "execution_count": 10,
   "metadata": {},
   "outputs": [],
   "source": [
    "def calculate_Pdp_positions(length_of_grid,transmission_range):\n",
    "    pdp_positions={}\n",
    "    k=0\n",
    "    for c_1 in np.arange(length_of_grid/(transmission_range*math.sqrt(2))):\n",
    "        for c_2 in np.arange(length_of_grid/(transmission_range*math.sqrt(2))):\n",
    "            pdp_positions[k]=(c_1*transmission_range*math.sqrt(2),c_2*transmission_range*math.sqrt(2))\n",
    "            k=k+1\n",
    "    threshold_grid_size=c_1*transmission_range*math.sqrt(2)\n",
    "    return pdp_positions,threshold_grid_size"
   ]
  },
  {
   "cell_type": "code",
   "execution_count": 11,
   "metadata": {},
   "outputs": [],
   "source": [
    "pdp_positions,threshold=calculate_Pdp_positions(length_of_grid,transmission_range)"
   ]
  },
  {
   "cell_type": "markdown",
   "metadata": {},
   "source": [
    "## Function to create the trip graph"
   ]
  },
  {
   "cell_type": "code",
   "execution_count": 12,
   "metadata": {},
   "outputs": [
    {
     "data": {
      "text/plain": [
       "989.9494936611666"
      ]
     },
     "execution_count": 12,
     "metadata": {},
     "output_type": "execute_result"
    }
   ],
   "source": [
    "threshold"
   ]
  },
  {
   "cell_type": "code",
   "execution_count": 13,
   "metadata": {},
   "outputs": [],
   "source": [
    "def create_trip_graph():\n",
    "    G=nx.Graph()\n",
    "    distance_between_pdp={}\n",
    "    for i in range(len(pdp_positions)):\n",
    "        G.add_node('pdp{}'.format(i),pos=pdp_positions[i])\n",
    "    for u in range(len(pdp_positions)):\n",
    "        for v in range(len(pdp_positions)):\n",
    "            wt=distance(pdp_positions,u,v)\n",
    "            G.add_edge('pdp{}'.format(u),'pdp{}'.format(v),weight=wt)\n",
    "            distance_between_pdp[(u,v)]=wt\n",
    "    return G,distance_between_pdp"
   ]
  },
  {
   "cell_type": "code",
   "execution_count": 14,
   "metadata": {},
   "outputs": [],
   "source": [
    "trip_graph,distance_between_pdp=create_trip_graph()"
   ]
  },
  {
   "cell_type": "markdown",
   "metadata": {},
   "source": [
    "## This function calculates the pdp with the minimum distance betweeen the cluster center"
   ]
  },
  {
   "cell_type": "code",
   "execution_count": 15,
   "metadata": {},
   "outputs": [],
   "source": [
    "def calculate_min_pdp_distance_with_cluster_center(c_centers,pdp_positions):\n",
    "    \"\"\"\n",
    "    Function to calculate the nearest pdp_position to the cluster center \n",
    "    \"\"\"\n",
    "    new_dict={}\n",
    "    for i in c_centers:\n",
    "        temp={}\n",
    "        for p,value in pdp_positions.items():\n",
    "            arr=np.array(value)\n",
    "            #print(arr)\n",
    "            dist=np.linalg.norm(i-arr)\n",
    "            temp[p]=dist\n",
    "        #print(temp)\n",
    "        print(min(temp.items(),key=operator.itemgetter(1))[0])\n",
    "        print(min(temp.items(),key=operator.itemgetter(1))[1])\n",
    "        print(\"******\")\n",
    "        new_dict[tuple(i)]=min(temp.items(),key=operator.itemgetter(1))[0]\n",
    "\n",
    "    return new_dict"
   ]
  },
  {
   "cell_type": "code",
   "execution_count": 16,
   "metadata": {},
   "outputs": [],
   "source": [
    "K=nx.DiGraph()"
   ]
  },
  {
   "cell_type": "code",
   "execution_count": 17,
   "metadata": {
    "jupyter": {
     "source_hidden": true
    }
   },
   "outputs": [],
   "source": [
    "for i in range(len(sensor)):\n",
    "    K.add_node('sensor{}'.format(i),pos=sensor[i])"
   ]
  },
  {
   "cell_type": "code",
   "execution_count": 18,
   "metadata": {},
   "outputs": [],
   "source": [
    "def calulate_distance_between_each_sensors_and_assign_weight(points,K):\n",
    "    distance_sensors={}\n",
    "    M=K\n",
    "    k=0\n",
    "    edge_weight=1\n",
    "    for i in range(len(points)):\n",
    "        for j in range(len(points)):\n",
    "            euclidean_distance=distance(points,i,j)\n",
    "            if i!=j:\n",
    "                #M.add_edge(\"sensor{}\".format(i),\"sensor{}\".format(j))\n",
    "\n",
    "                \n",
    "                if euclidean_distance<=transmission_range:\n",
    "                    #if M.has_edge('sensor{}'.format(i),'sensor{}'.format(j))!=True:\n",
    "                    M.add_edge(\"sensor{}\".format(i),\"sensor{}\".format(j))\n",
    "\n",
    "                    M[\"sensor{}\".format(i)][\"sensor{}\".format(j)]['weight']=1\n",
    "\n",
    "                    distance_sensors[i,j]=(euclidean_distance,edge_weight)\n",
    "#                 else:\n",
    "#                     M[\"sensor{}\".format(i)][\"sensor{}\".format(j)]['weight']=100\n",
    "#                     distance_sensors[i,j]=(euclidean_distance,100)\n",
    "#             k=k+1\n",
    "    return distance_sensors,M"
   ]
  },
  {
   "cell_type": "code",
   "execution_count": 19,
   "metadata": {},
   "outputs": [],
   "source": [
    "euclidean_distance_between_sensor,L=calulate_distance_between_each_sensors_and_assign_weight(sensor,K)"
   ]
  },
  {
   "cell_type": "code",
   "execution_count": 20,
   "metadata": {},
   "outputs": [
    {
     "data": {
      "image/png": "[encoded data removed]",
      "text/plain": [
       "<Figure size 432x288 with 1 Axes>"
      ]
     },
     "metadata": {},
     "output_type": "display_data"
    }
   ],
   "source": [
    "nx.draw(L,nx.get_node_attributes(L,'pos'),with_labels=True)"
   ]
  },
  {
   "cell_type": "code",
   "execution_count": 21,
   "metadata": {},
   "outputs": [],
   "source": [
    "def distance_pdp_sensors(pdp_positions,sensor,u,v):\n",
    "    x=pdp_positions[u][0]-sensor[v][0]\n",
    "    y=pdp_positions[u][1]-sensor[v][1]\n",
    "    return math.sqrt(x*x+y*y)"
   ]
  },
  {
   "cell_type": "markdown",
   "metadata": {},
   "source": [
    "## Function that is used for creating the conncectivity graph"
   ]
  },
  {
   "cell_type": "code",
   "execution_count": 22,
   "metadata": {},
   "outputs": [],
   "source": [
    "def connectivity_graph(pdp_positions,sensor,K):\n",
    "    J=K\n",
    "    distance_pdp_each_sensor={}\n",
    "    k=0\n",
    "    weight=1\n",
    "    for i in range(len(pdp_positions)):\n",
    "        J.add_node('pdp{}'.format(i),pos=pdp_positions[i])\n",
    "    for u in range(len(pdp_positions)):\n",
    "        for v in range(len(sensor)):\n",
    "            euclidean_distance_between_pdp_sensor=distance_pdp_sensors(pdp_positions,sensor,u,v)\n",
    "            J.add_edge(\"pdp{}\".format(u),\"sensor{}\".format(v))\n",
    "            \n",
    "            if euclidean_distance_between_pdp_sensor<=transmission_range:\n",
    "                #J.add_edge(\"pdp{}\".format(u),\"sensor{}\".format(v))\n",
    "                #if J.has_edge('pdp{}'.format(i),'sensor{}'.format(j))!=True:\n",
    "                    #J.add_edge(\"pdp{}\".format(u),\"sensor{}\".format(v))\n",
    "               \n",
    "                \n",
    "                J[\"pdp{}\".format(u)][\"sensor{}\".format(v)]['weight']=1\n",
    "                distance_pdp_each_sensor[u,v]=euclidean_distance_between_pdp_sensor,weight\n",
    "            else:\n",
    "                J[\"pdp{}\".format(u)][\"sensor{}\".format(v)]['weight']=100\n",
    "                distance_pdp_each_sensor[u,v]=euclidean_distance_between_pdp_sensor,100\n",
    "#            k=k+1\n",
    "    return distance_pdp_each_sensor,J"
   ]
  },
  {
   "cell_type": "code",
   "execution_count": 23,
   "metadata": {},
   "outputs": [],
   "source": [
    "distance_between_pdp_to_each_sensor,N=connectivity_graph(pdp_positions,sensor,L)"
   ]
  },
  {
   "cell_type": "markdown",
   "metadata": {},
   "source": [
    "# Here it finds the shortest distance between each pdp and "
   ]
  },
  {
   "cell_type": "code",
   "execution_count": 24,
   "metadata": {},
   "outputs": [],
   "source": [
    "k=0\n",
    "arc_length={}\n",
    "shortest_path={}\n",
    "for i in range(len(pdp_positions)):\n",
    "    for j in range(len(sensor)):\n",
    "        if N.has_edge('pdp{}'.format(i),'sensor{}'.format(j)):\n",
    "            shortest_path[i,j]=nx.shortest_path(N,source='pdp{}'.format(i),target='sensor{}'.format(j),\n",
    "                                              weight='weight',method='dijkstra')\n",
    "            arc_length[i,j]=nx.dijkstra_path_length(N,'pdp{}'.format(i),'sensor{}'.format(j))\n",
    "            \n",
    "           \n",
    "        else:\n",
    "            shortest_path[i,j]=0"
   ]
  },
  {
   "cell_type": "code",
   "execution_count": 25,
   "metadata": {},
   "outputs": [],
   "source": [
    "new_zipped=dict(zip(arc_length.items(),shortest_path.values()))"
   ]
  },
  {
   "cell_type": "code",
   "execution_count": 26,
   "metadata": {},
   "outputs": [],
   "source": [
    "def spanning_tree_collecting_time(pdp):\n",
    "    \"\"\"This function defines which sensors are connected with the desired pdp\"\"\"\n",
    "    \"\"\"\n",
    "    return list\n",
    "    \"\"\"\n",
    "    sensor_subset=[]\n",
    "    for key,value in new_zipped.items():\n",
    "        if key[0][0]==pdp:\n",
    "            if key[1]!=100:\n",
    "                #print(i)\n",
    "                sensor_subset.append(key[0][1])\n",
    "    return sensor_subset"
   ]
  },
  {
   "cell_type": "code",
   "execution_count": 27,
   "metadata": {},
   "outputs": [],
   "source": [
    "def to_check_the_minimum_hops_between_the_pdp_and_sensor(spanning_tree):\n",
    "    \"\"\"In this function we check which sensor can send data to the pdp with minimum hops\n",
    "    for example if sensor2 is connected with pdp10 with  hop distance with 2 and same sensor2 is connected with \n",
    "    pdp11 with hop distance 4 then we assume that sensor2 will send data to the drone when drone is at pdp10 since \n",
    "    it has minimum hop distance\"\"\"\n",
    "    subset2=spanning_tree\n",
    "    for key,value in subset2.items():\n",
    "        for key1,value1 in subset2.items():\n",
    "            if key!=key1:\n",
    "                for i in value:\n",
    "                    for j in value1:\n",
    "                        if i==j:\n",
    "                            #print(i)\n",
    "                            #s=get_number(i)\n",
    "                            if nx.dijkstra_path_length(N,'pdp{}'.format(key),'sensor{}'.format(i))>nx.dijkstra_path_length(N,'pdp{}'.format(key1),'sensor{}'.format(i)):\n",
    "                                subset2[key].remove(i)\n",
    "                            else:\n",
    "                                subset2[key1].remove(j)\n",
    "    return subset2"
   ]
  },
  {
   "cell_type": "code",
   "execution_count": 28,
   "metadata": {},
   "outputs": [],
   "source": [
    "def create_spanning_tree_for_tour(tour):\n",
    "    sensor_subset={}\n",
    "    for i in tour:\n",
    "        sensor_subset[i]=spanning_tree_collecting_time(i)\n",
    "    correct_sensor_subset=to_check_the_minimum_hops_between_the_pdp_and_sensor(sensor_subset)\n",
    "    return correct_sensor_subset"
   ]
  },
  {
   "cell_type": "code",
   "execution_count": 29,
   "metadata": {},
   "outputs": [],
   "source": [
    "def check_all_sensor_can_send_data(checked_sensor_arc):\n",
    "    \"\"\"The main aim of creating this function was to check whether all the sensors are connected to the pdps in the route\n",
    "    of drone tour.For example we have pdp10 and pdp7 in our route.ie Route=[10 7].We create spanning tree for the both \n",
    "    the pdps and check whether all the sensors are connected or not.If all the sensors are not connected in the combined\n",
    "    spanning tree calculated with the pdps of the Route\"\"\"\n",
    "    s=[]\n",
    "    for key,values in checked_sensor_arc.items():\n",
    "        s=list(set().union(s,values))\n",
    "    if len(s)==len(sensor): # before there was only s==sensor but it was wrong as s is list and sensor is a list of tuple\n",
    "        return 1\n",
    "    else:\n",
    "        return 0\n",
    "    "
   ]
  },
  {
   "cell_type": "code",
   "execution_count": 30,
   "metadata": {},
   "outputs": [],
   "source": [
    "def determine_collecting_time(checked_sensor_arc):\n",
    "    \"\"\"After checking whether all the sensor can send data while the drone makes a trip in the way as\n",
    "    described in the Route.We assign collecting time as infinite or call the collecting time function\"\"\"\n",
    "    value=check_all_sensor_can_send_data(checked_sensor_arc)\n",
    "    if value==1:\n",
    "        t_collecting=calculate_collecting_time(checked_sensor_arc)\n",
    "    if value==0:\n",
    "        t_collecting=math.inf\n",
    "    return t_collecting"
   ]
  },
  {
   "cell_type": "code",
   "execution_count": 31,
   "metadata": {},
   "outputs": [],
   "source": [
    "def check_all_sensor_can_send_data(checked_sensor_arc):\n",
    "    \"\"\"The main aim of creating this function was to check whether all the sensors are connected to the pdps in the route\n",
    "    of drone tour.For example we have pdp10 and pdp7 in our route.ie Route=[10 7].We create spanning tree for the both \n",
    "    the pdps and check whether all the sensors are connected or not.If all the sensors are not connected in the combined\n",
    "    spanning tree calculated with the pdps of the Route\"\"\"\n",
    "    s=[]\n",
    "    for key,values in checked_sensor_arc.items():\n",
    "        s=list(set().union(s,values))\n",
    "    if len(s)==len(sensor): # before there was only s==sensor but it was wrong as s is list and sensor is a list of tuple\n",
    "        return 1\n",
    "    else:\n",
    "        return 0\n",
    "    "
   ]
  },
  {
   "cell_type": "code",
   "execution_count": 32,
   "metadata": {},
   "outputs": [],
   "source": [
    "def calculate_collecting_time(checked_sensor_arc):\n",
    "    \n",
    "    dict_={}\n",
    "    for key,values in checked_sensor_arc.items():\n",
    "        weight=0\n",
    "        if values!=[]:\n",
    "            for j in values:\n",
    "                for key1,values1 in new_zipped.items():\n",
    "                    if key1[0]==(key,j):\n",
    "                        #print(key1[1])\n",
    "                        weight=weight+key1[1]\n",
    "                        t_collecting=(data_rate/bandwidth)*weight\n",
    "        dict_[key]=t_collecting\n",
    "    return dict_\n",
    "    "
   ]
  },
  {
   "cell_type": "code",
   "execution_count": 33,
   "metadata": {},
   "outputs": [],
   "source": [
    "def calc_cluster_number(sensor):\n",
    "    \n",
    "    for i in range(1,len(sensor)):\n",
    "        new_dict={}\n",
    "        kmeans=KMeans(n_clusters=i)\n",
    "        kmeans.fit(X)\n",
    "        c_centers=tuple(kmeans.cluster_centers_)\n",
    "        for j in c_centers:\n",
    "            temp={}\n",
    "            for p,value in pdp_positions.items():\n",
    "                arr=np.array(value)\n",
    "                dist=np.linalg.norm(j-arr)\n",
    "                temp[p]=dist\n",
    "#           print(temp)\n",
    "            new_dict[tuple(j)]=min(temp.items(),key=operator.itemgetter(1))[0]\n",
    "        subset={}\n",
    "        print(new_dict)\n",
    "        for key,values in new_dict.items():\n",
    "            subset[values]=spanning_tree_collecting_time(values)\n",
    "        checked=to_check_the_minimum_hops_between_the_pdp_and_sensor(subset)\n",
    "        check=check_all_sensor_can_send_data(checked)\n",
    "        if check==1:\n",
    "            print(\"i am here\")\n",
    "            df_=calculate_collecting_time(checked)\n",
    "            print(df_)\n",
    "            break\n",
    "    return i,new_dict,df_\n",
    "        \n",
    "        \n",
    "            "
   ]
  },
  {
   "cell_type": "code",
   "execution_count": 34,
   "metadata": {},
   "outputs": [
    {
     "name": "stderr",
     "output_type": "stream",
     "text": [
      "C:\\Users\\dilip\\Anaconda3\\lib\\site-packages\\sklearn\\cluster\\_kmeans.py:882: UserWarning: KMeans is known to have a memory leak on Windows with MKL, when there are less chunks than available threads. You can avoid it by setting the environment variable OMP_NUM_THREADS=1.\n",
      "  f\"KMeans is known to have a memory leak on Windows \"\n"
     ]
    },
    {
     "name": "stdout",
     "output_type": "stream",
     "text": [
      "{(513.7666666666668, 523.0666666666667): 36}\n",
      "{(263.8461538461539, 585.5384615384615): 20, (704.8823529411765, 475.29411764705884): 43}\n",
      "{(417.3636363636364, 736.0909090909092): 29, (755.5833333333333, 417.91666666666674): 43, (250.71428571428572, 368.57142857142856): 19}\n",
      "{(711.3333333333333, 634.7777777777778): 44, (210.5, 378.33333333333337): 11, (309.57142857142856, 763.1428571428571): 21, (697.625, 295.87500000000006): 42}\n",
      "{(615.0, 642.0): 37, (309.57142857142856, 763.1428571428571): 21, (909.0, 536.0): 52, (624.6666666666666, 258.00000000000006): 34, (210.5, 378.33333333333337): 11}\n",
      "{(596.75, 340.5): 34, (210.5, 378.33333333333337): 11, (309.57142857142856, 763.1428571428571): 21, (909.0, 536.0): 52, (615.0, 642.0): 37, (680.5, 93.0): 41}\n",
      "{(309.57142857142856, 763.1428571428571): 21, (596.75, 340.5): 34, (210.5, 378.33333333333337): 11, (924.0, 497.25): 60, (732.6666666666666, 755.0): 45, (680.5, 93.0): 41, (585.25, 569.5): 36}\n",
      "{(680.5, 93.0): 41, (732.6666666666666, 755.0): 45, (204.0, 706.3333333333333): 13, (596.75, 340.5): 34, (388.75, 805.75): 30, (210.5, 378.33333333333337): 11, (924.0, 497.25): 60, (585.25, 569.5): 36}\n",
      "{(680.5, 93.0): 41, (388.75, 805.75): 30, (904.0, 620.3333333333334): 52, (210.5, 378.33333333333337): 11, (596.75, 340.5): 34, (674.5, 787.0): 46, (585.25, 569.5): 36, (916.5, 409.5): 51, (204.0, 706.3333333333333): 13}\n",
      "{(139.0, 421.6666666666667): 11, (585.25, 569.5): 36, (204.0, 706.3333333333333): 13, (680.5, 93.0): 41, (904.0, 620.3333333333334): 52, (388.75, 805.75): 30, (596.75, 340.5): 34, (674.5, 787.0): 46, (282.0, 335.0): 18, (916.5, 409.5): 51}\n",
      "{(204.0, 706.3333333333333): 13, (596.75, 340.5): 34, (877.0, 649.5): 53, (199.0, 230.0): 10, (585.25, 569.5): 36, (388.75, 805.75): 30, (930.3333333333333, 460.3333333333333): 59, (139.0, 421.6666666666667): 11, (680.5, 93.0): 41, (674.5, 787.0): 46, (323.5, 387.5): 19}\n",
      "{(674.5, 787.0): 46, (631.6666666666666, 350.6666666666667): 34, (233.5, 646.5): 21, (388.75, 805.75): 30, (904.0, 620.3333333333334): 52, (139.0, 421.6666666666667): 11, (680.5, 93.0): 41, (585.25, 569.5): 36, (916.5, 409.5): 51, (379.6666666666667, 361.6666666666667): 27, (145.0, 826.0): 14, (199.0, 230.0): 10}\n",
      "{(602.0, 38.0): 32, (388.75, 805.75): 30, (585.25, 569.5): 36, (139.0, 421.6666666666667): 11, (916.5, 409.5): 51, (145.0, 826.0): 14, (596.75, 340.5): 34, (674.5, 787.0): 46, (323.5, 387.5): 19, (233.5, 646.5): 21, (904.0, 620.3333333333334): 52, (199.0, 230.0): 10, (759.0, 148.0): 41}\n",
      "{(585.25, 569.5): 36, (233.5, 646.5): 21, (759.0, 148.0): 41, (916.5, 409.5): 51, (199.0, 230.0): 10, (658.5, 370.5): 43, (904.0, 620.3333333333334): 52, (388.75, 805.75): 30, (323.5, 387.5): 19, (139.0, 421.6666666666667): 11, (674.5, 787.0): 46, (535.0, 310.5): 34, (145.0, 826.0): 14, (602.0, 38.0): 32}\n",
      "{(323.5, 387.5): 19, (658.5, 370.5): 43, (585.25, 569.5): 36, (420.5, 743.5): 29, (904.0, 620.3333333333334): 52, (145.0, 826.0): 14, (759.0, 148.0): 41, (916.5, 409.5): 51, (139.0, 421.6666666666667): 11, (233.5, 646.5): 21, (199.0, 230.0): 10, (674.5, 787.0): 46, (357.0, 868.0): 30, (602.0, 38.0): 32, (535.0, 310.5): 34}\n",
      "{(585.25, 569.5): 36, (139.0, 421.6666666666667): 11, (420.5, 743.5): 29, (602.0, 38.0): 32, (916.5, 409.5): 51, (849.0, 691.0): 53, (535.0, 310.5): 34, (233.5, 646.5): 21, (323.5, 387.5): 19, (674.5, 787.0): 46, (145.0, 826.0): 14, (357.0, 868.0): 30, (199.0, 230.0): 10, (759.0, 148.0): 41, (931.5, 585.0): 60, (658.5, 370.5): 43}\n",
      "{(633.0, 548.5): 36, (145.0, 826.0): 14, (323.5, 387.5): 19, (916.5, 409.5): 51, (420.5, 743.5): 29, (759.0, 148.0): 41, (849.0, 691.0): 53, (535.0, 310.5): 34, (139.0, 421.6666666666667): 11, (602.0, 38.0): 32, (233.5, 646.5): 21, (674.5, 787.0): 46, (931.5, 585.0): 60, (357.0, 868.0): 30, (537.5, 590.5): 36, (199.0, 230.0): 10, (658.5, 370.5): 43}\n",
      "{(849.0, 691.0): 53, (233.5, 646.5): 21, (323.5, 387.5): 19, (845.0, 401.0): 51, (633.0, 548.5): 36, (602.0, 38.0): 32, (357.0, 868.0): 30, (535.0, 310.5): 34, (139.0, 421.6666666666667): 11, (674.5, 787.0): 46, (145.0, 826.0): 14, (988.0, 418.0): 59, (759.0, 148.0): 41, (931.5, 585.0): 60, (420.5, 743.5): 29, (537.5, 590.5): 36, (199.0, 230.0): 10, (658.5, 370.5): 43}\n",
      "{(535.0, 310.5): 34, (357.0, 868.0): 30, (139.0, 421.6666666666667): 11, (674.5, 787.0): 46, (849.0, 691.0): 53, (845.0, 401.0): 51, (537.5, 590.5): 36, (602.0, 38.0): 32, (233.5, 646.5): 21, (759.0, 148.0): 41, (199.0, 230.0): 10, (145.0, 826.0): 14, (633.0, 548.5): 36, (988.0, 418.0): 59, (931.5, 585.0): 60, (324.0, 456.0): 19, (323.0, 319.0): 18, (420.5, 743.5): 29, (658.5, 370.5): 43}\n",
      "{(371.0, 717.0): 29, (845.0, 401.0): 51, (139.0, 421.6666666666667): 11, (658.5, 370.5): 43, (674.5, 787.0): 46, (602.0, 38.0): 32, (537.5, 590.5): 36, (324.0, 456.0): 19, (849.0, 691.0): 53, (145.0, 826.0): 14, (233.5, 646.5): 21, (199.0, 230.0): 10, (535.0, 310.5): 34, (357.0, 868.0): 30, (759.0, 148.0): 41, (633.0, 548.5): 36, (931.5, 585.0): 60, (988.0, 418.0): 59, (323.0, 319.0): 18, (470.0, 770.0): 29}\n",
      "{(931.5, 585.0): 60, (537.5, 590.5): 36, (139.0, 421.6666666666667): 11, (602.0, 38.0): 32, (371.0, 717.0): 29, (535.0, 310.5): 34, (323.0, 319.0): 18, (702.0, 829.0): 46, (233.5, 646.5): 21, (357.0, 868.0): 30, (845.0, 401.0): 51, (145.0, 826.0): 14, (759.0, 148.0): 41, (988.0, 418.0): 59, (849.0, 691.0): 53, (633.0, 548.5): 36, (199.0, 230.0): 10, (658.5, 370.5): 43, (324.0, 456.0): 19, (647.0, 745.0): 45, (470.0, 770.0): 29}\n",
      "i am here\n",
      "{60: 5.0, 36: 10.0, 11: 7.5, 32: 2.5, 29: 5.0, 34: 5.0, 18: 5.0, 46: 2.5, 21: 7.5, 30: 5.0, 51: 2.5, 14: 2.5, 41: 2.5, 59: 2.5, 53: 2.5, 10: 2.5, 43: 5.0, 19: 2.5, 45: 2.5}\n"
     ]
    }
   ],
   "source": [
    "n,m,o=calc_cluster_number(sensor)"
   ]
  },
  {
   "cell_type": "code",
   "execution_count": 35,
   "metadata": {},
   "outputs": [],
   "source": [
    "coordinates=[]\n",
    "for key,values in o.items():\n",
    "    for k,v in pdp_positions.items():\n",
    "        if key==k:\n",
    "            l=list(v)\n",
    "            coordinates.append(l)\n",
    "    "
   ]
  },
  {
   "cell_type": "markdown",
   "metadata": {},
   "source": [
    "## From here the multiple TSP starts"
   ]
  },
  {
   "cell_type": "code",
   "execution_count": 36,
   "metadata": {},
   "outputs": [
    {
     "data": {
      "text/plain": [
       "[[989.9494936611666, 565.685424949238],\n",
       " [565.685424949238, 565.685424949238],\n",
       " [141.4213562373095, 424.26406871192853],\n",
       " [565.685424949238, 0.0],\n",
       " [424.26406871192853, 707.1067811865476],\n",
       " [565.685424949238, 282.842712474619],\n",
       " [282.842712474619, 282.842712474619],\n",
       " [707.1067811865476, 848.5281374238571],\n",
       " [282.842712474619, 707.1067811865476],\n",
       " [424.26406871192853, 848.5281374238571],\n",
       " [848.5281374238571, 424.26406871192853],\n",
       " [141.4213562373095, 848.5281374238571],\n",
       " [707.1067811865476, 141.4213562373095],\n",
       " [989.9494936611666, 424.26406871192853],\n",
       " [848.5281374238571, 707.1067811865476],\n",
       " [141.4213562373095, 282.842712474619],\n",
       " [707.1067811865476, 424.26406871192853],\n",
       " [282.842712474619, 424.26406871192853],\n",
       " [707.1067811865476, 707.1067811865476]]"
      ]
     },
     "execution_count": 36,
     "metadata": {},
     "output_type": "execute_result"
    }
   ],
   "source": [
    "coordinates"
   ]
  },
  {
   "cell_type": "markdown",
   "metadata": {},
   "source": [
    "taking just two points as depot at the moment so there will be only two drones"
   ]
  },
  {
   "cell_type": "code",
   "execution_count": 37,
   "metadata": {},
   "outputs": [],
   "source": [
    "depot=[(0,0),(989.9494936611666\n",
    ",0)]"
   ]
  },
  {
   "cell_type": "markdown",
   "metadata": {},
   "source": [
    "Just assigning large value in M"
   ]
  },
  {
   "cell_type": "code",
   "execution_count": 38,
   "metadata": {},
   "outputs": [],
   "source": [
    "M=1000*1000"
   ]
  },
  {
   "cell_type": "markdown",
   "metadata": {},
   "source": [
    "Here the distance between each depot and customer is calculated and stored "
   ]
  },
  {
   "cell_type": "code",
   "execution_count": 39,
   "metadata": {},
   "outputs": [],
   "source": [
    "dist_dep_cus={}\n",
    "for i in range(len(depot)):\n",
    "    for j in range(len(coordinates)):\n",
    "        dist_dep_cus[i,j]=np.linalg.norm(np.array(depot[i])-np.array(coordinates[j]))"
   ]
  },
  {
   "cell_type": "markdown",
   "metadata": {},
   "source": [
    "total will have the list of all the depot and coordinates of the customers to be visited"
   ]
  },
  {
   "cell_type": "code",
   "execution_count": 40,
   "metadata": {},
   "outputs": [],
   "source": [
    "total=depot+coordinates"
   ]
  },
  {
   "cell_type": "code",
   "execution_count": 41,
   "metadata": {},
   "outputs": [
    {
     "data": {
      "text/plain": [
       "21"
      ]
     },
     "execution_count": 41,
     "metadata": {},
     "output_type": "execute_result"
    }
   ],
   "source": [
    "len(total)"
   ]
  },
  {
   "cell_type": "code",
   "execution_count": 42,
   "metadata": {},
   "outputs": [
    {
     "data": {
      "text/plain": [
       "{(0, 0): 1140.175425099138,\n",
       " (0, 1): 800.0,\n",
       " (0, 2): 447.21359549995793,\n",
       " (0, 3): 565.685424949238,\n",
       " (0, 4): 824.6211251235321,\n",
       " (0, 5): 632.4555320336759,\n",
       " (0, 6): 400.0,\n",
       " (0, 7): 1104.536101718726,\n",
       " (0, 8): 761.5773105863908,\n",
       " (0, 9): 948.6832980505138,\n",
       " (0, 10): 948.6832980505138,\n",
       " (0, 11): 860.2325267042627,\n",
       " (0, 12): 721.1102550927978,\n",
       " (0, 13): 1077.032961426901,\n",
       " (0, 14): 1104.536101718726,\n",
       " (0, 15): 316.22776601683796,\n",
       " (0, 16): 824.6211251235321,\n",
       " (0, 17): 509.9019513592785,\n",
       " (0, 18): 1000.0000000000001,\n",
       " (1, 0): 565.685424949238,\n",
       " (1, 1): 707.1067811865476,\n",
       " (1, 2): 948.6832980505138,\n",
       " (1, 3): 424.26406871192853,\n",
       " (1, 4): 905.5385138137417,\n",
       " (1, 5): 509.9019513592785,\n",
       " (1, 6): 761.5773105863909,\n",
       " (1, 7): 894.4271909999159,\n",
       " (1, 8): 1000.0000000000001,\n",
       " (1, 9): 1019.803902718557,\n",
       " (1, 10): 447.21359549995793,\n",
       " (1, 11): 1200.0,\n",
       " (1, 12): 316.22776601683796,\n",
       " (1, 13): 424.26406871192853,\n",
       " (1, 14): 721.1102550927978,\n",
       " (1, 15): 894.4271909999159,\n",
       " (1, 16): 509.9019513592785,\n",
       " (1, 17): 824.6211251235321,\n",
       " (1, 18): 761.5773105863908}"
      ]
     },
     "execution_count": 42,
     "metadata": {},
     "output_type": "execute_result"
    }
   ],
   "source": [
    "dist_dep_cus"
   ]
  },
  {
   "cell_type": "markdown",
   "metadata": {},
   "source": [
    "Here the distance between each of the customer is calculated"
   ]
  },
  {
   "cell_type": "code",
   "execution_count": 43,
   "metadata": {},
   "outputs": [],
   "source": [
    "dist_cus_cus={}\n",
    "for i in range(len(coordinates)):\n",
    "    for j in range(len(coordinates)):\n",
    "        dist_cus_cus[i,j]=np.linalg.norm(np.array(coordinates[i])-np.array(coordinates[j]))\n",
    "        if i==j:\n",
    "            dist_cus_cus[i,j]=M\n",
    "        continue"
   ]
  },
  {
   "cell_type": "code",
   "execution_count": 44,
   "metadata": {},
   "outputs": [],
   "source": [
    "import pandas as pd\n",
    "import numpy as np\n",
    "from matplotlib import pyplot as plt\n",
    "from gurobipy import *\n",
    "import gurobipy as gp\n"
   ]
  },
  {
   "cell_type": "code",
   "execution_count": 45,
   "metadata": {},
   "outputs": [
    {
     "name": "stdout",
     "output_type": "stream",
     "text": [
      "Academic license - for non-commercial use only - expires 2022-03-14\n",
      "Using license file C:\\Users\\dilip\\gurobi.lic\n"
     ]
    }
   ],
   "source": [
    "m = Model(\"MVRP\")"
   ]
  },
  {
   "cell_type": "markdown",
   "metadata": {},
   "source": [
    "Defining the decision variable 'x'"
   ]
  },
  {
   "cell_type": "code",
   "execution_count": 46,
   "metadata": {},
   "outputs": [],
   "source": [
    "x={}"
   ]
  },
  {
   "cell_type": "code",
   "execution_count": 47,
   "metadata": {},
   "outputs": [],
   "source": [
    "for k in range(len(depot)):\n",
    "    for i in range(len(total)):\n",
    "        for j in range(len(total)):\n",
    "            x[i,j,k]=m.addVar(vtype=gurobipy.GRB.BINARY,name=\"x%d,%d,%d\" %(i,j,k))"
   ]
  },
  {
   "cell_type": "markdown",
   "metadata": {},
   "source": [
    "Creating list of depots"
   ]
  },
  {
   "cell_type": "code",
   "execution_count": 48,
   "metadata": {},
   "outputs": [],
   "source": [
    "Depot=[x for x in range(len(depot))]"
   ]
  },
  {
   "cell_type": "code",
   "execution_count": 49,
   "metadata": {},
   "outputs": [
    {
     "data": {
      "text/plain": [
       "[0, 1]"
      ]
     },
     "execution_count": 49,
     "metadata": {},
     "output_type": "execute_result"
    }
   ],
   "source": [
    "Depot"
   ]
  },
  {
   "cell_type": "markdown",
   "metadata": {},
   "source": [
    "creating list of customers"
   ]
  },
  {
   "cell_type": "code",
   "execution_count": 50,
   "metadata": {},
   "outputs": [],
   "source": [
    "customers=[x for x in range(len(coordinates))]"
   ]
  },
  {
   "cell_type": "markdown",
   "metadata": {},
   "source": [
    "### Defining the maximum number of cities that can be visited"
   ]
  },
  {
   "cell_type": "code",
   "execution_count": 51,
   "metadata": {},
   "outputs": [],
   "source": [
    "L=len(customers)"
   ]
  },
  {
   "cell_type": "markdown",
   "metadata": {},
   "source": [
    "$$"
   ]
  },
  {
   "cell_type": "code",
   "execution_count": 52,
   "metadata": {},
   "outputs": [],
   "source": [
    "K=0"
   ]
  },
  {
   "cell_type": "code",
   "execution_count": 53,
   "metadata": {},
   "outputs": [],
   "source": [
    "u={}"
   ]
  },
  {
   "cell_type": "markdown",
   "metadata": {},
   "source": [
    "variable needed to define for eliminating subtouer"
   ]
  },
  {
   "cell_type": "code",
   "execution_count": 54,
   "metadata": {},
   "outputs": [],
   "source": [
    "for i in customers:\n",
    "    u[i]=m.addVar(vtype=gurobipy.GRB.INTEGER, name='u_' + str(i))"
   ]
  },
  {
   "cell_type": "code",
   "execution_count": 55,
   "metadata": {},
   "outputs": [
    {
     "data": {
      "text/plain": [
       "{0: <gurobi.Var *Awaiting Model Update*>,\n",
       " 1: <gurobi.Var *Awaiting Model Update*>,\n",
       " 2: <gurobi.Var *Awaiting Model Update*>,\n",
       " 3: <gurobi.Var *Awaiting Model Update*>,\n",
       " 4: <gurobi.Var *Awaiting Model Update*>,\n",
       " 5: <gurobi.Var *Awaiting Model Update*>,\n",
       " 6: <gurobi.Var *Awaiting Model Update*>,\n",
       " 7: <gurobi.Var *Awaiting Model Update*>,\n",
       " 8: <gurobi.Var *Awaiting Model Update*>,\n",
       " 9: <gurobi.Var *Awaiting Model Update*>,\n",
       " 10: <gurobi.Var *Awaiting Model Update*>,\n",
       " 11: <gurobi.Var *Awaiting Model Update*>,\n",
       " 12: <gurobi.Var *Awaiting Model Update*>,\n",
       " 13: <gurobi.Var *Awaiting Model Update*>,\n",
       " 14: <gurobi.Var *Awaiting Model Update*>,\n",
       " 15: <gurobi.Var *Awaiting Model Update*>,\n",
       " 16: <gurobi.Var *Awaiting Model Update*>,\n",
       " 17: <gurobi.Var *Awaiting Model Update*>,\n",
       " 18: <gurobi.Var *Awaiting Model Update*>}"
      ]
     },
     "execution_count": 55,
     "metadata": {},
     "output_type": "execute_result"
    }
   ],
   "source": [
    "u"
   ]
  },
  {
   "cell_type": "markdown",
   "metadata": {},
   "source": [
    "#### decision variable that indicates if the drone belonging to to Depot is used to collect data"
   ]
  },
  {
   "cell_type": "code",
   "execution_count": 56,
   "metadata": {},
   "outputs": [],
   "source": [
    "d={}"
   ]
  },
  {
   "cell_type": "code",
   "execution_count": 57,
   "metadata": {},
   "outputs": [],
   "source": [
    "for k in range(len(depot)):\n",
    "    d[k]=m.addVar(vtype=gurobipy.GRB.BINARY,name=\"d%d\"%(k))"
   ]
  },
  {
   "cell_type": "code",
   "execution_count": 58,
   "metadata": {},
   "outputs": [
    {
     "data": {
      "text/plain": [
       "{0: <gurobi.Var *Awaiting Model Update*>,\n",
       " 1: <gurobi.Var *Awaiting Model Update*>}"
      ]
     },
     "execution_count": 58,
     "metadata": {},
     "output_type": "execute_result"
    }
   ],
   "source": [
    "d"
   ]
  },
  {
   "cell_type": "code",
   "execution_count": 59,
   "metadata": {},
   "outputs": [
    {
     "data": {
      "text/plain": [
       "dict"
      ]
     },
     "execution_count": 59,
     "metadata": {},
     "output_type": "execute_result"
    }
   ],
   "source": [
    "type(x)"
   ]
  },
  {
   "cell_type": "markdown",
   "metadata": {},
   "source": [
    "#### constraint 23\n",
    "$\\sum_{j \\in customer}x_{kjk}=d_k , k \\in Depot$"
   ]
  },
  {
   "cell_type": "code",
   "execution_count": 60,
   "metadata": {},
   "outputs": [],
   "source": [
    "for k in Depot:\n",
    "    m.addConstr(gp.quicksum(x[(k,j,k)]for j in customers)==d[k])"
   ]
  },
  {
   "cell_type": "markdown",
   "metadata": {},
   "source": [
    "#### constraint 24\n",
    "$\\sum_{k \\in Depot}x_{kjk}+\\sum_{k \\in Depot}\\sum_{i \\in customers}x_{ijk}=1   ,   j \\in customers$  "
   ]
  },
  {
   "cell_type": "code",
   "execution_count": 61,
   "metadata": {},
   "outputs": [],
   "source": [
    "for j in customers:\n",
    "    m.addConstr(gp.quicksum(x[(k,j,k)] for k in Depot)+ gp.quicksum(gp.quicksum(x[(i,j,k)] for i in customers) for k in Depot)==1)"
   ]
  },
  {
   "cell_type": "markdown",
   "metadata": {},
   "source": [
    "#### constraint 25\n",
    "$x_{kjk}+\\sum_{i \\in customers}x_{ijk}-x_{jkk}-\\sum_{i \\in customers}x_{jik}=0 , k \\in Depot, j \\in customers$"
   ]
  },
  {
   "cell_type": "code",
   "execution_count": 62,
   "metadata": {},
   "outputs": [],
   "source": [
    "for j in customers:\n",
    "    for k in Depot:\n",
    "        m.addConstr(x[k,j,k]+gp.quicksum(x[(i,j,k)] for i in customers)-x[(i,j,k)]-gp.quicksum(x[(j,i,k)] for i in customers)==1)"
   ]
  },
  {
   "cell_type": "markdown",
   "metadata": {},
   "source": [
    "#### constraint 26\n",
    "$\\sum_{j \\in customers}x_{kjk}-\\sum_{j \\in customers}x_{jkk}=0, k \\in Depot$"
   ]
  },
  {
   "cell_type": "code",
   "execution_count": 63,
   "metadata": {},
   "outputs": [],
   "source": [
    "for k in Depot:\n",
    "    m.addConstr(gp.quicksum(x[(k,j,k)] for j in customers)-gp.quicksum(x[(j,k,k)] for j in customers)==0)"
   ]
  },
  {
   "cell_type": "markdown",
   "metadata": {},
   "source": [
    "#### constraint 27\n",
    "$u_i+(L-2)*\\sum_{k \\in Depot}x_{kik}-\\sum_{k \\in Depot}x_{ikk}<=L-1   ,i \\in customers$"
   ]
  },
  {
   "cell_type": "code",
   "execution_count": 64,
   "metadata": {},
   "outputs": [],
   "source": [
    "for i in customers:\n",
    "    m.addConstr(u[i]+(L-2)*gp.quicksum(x[(k,i,k)] for k in Depot)-gp.quicksum(x[(i,k,k)] for k in Depot) <= L-1)"
   ]
  },
  {
   "cell_type": "markdown",
   "metadata": {},
   "source": [
    "#### constraint 28\n",
    "$u_i+ \\sum_{k \\in Depot}x_{kik}+(2-K)\\sum_{k \\in Depot}x_{ikk}>=2, i \\in customers$"
   ]
  },
  {
   "cell_type": "code",
   "execution_count": 65,
   "metadata": {},
   "outputs": [],
   "source": [
    "for i in customers:\n",
    "    m.addConstr(u[i]+gp.quicksum(x[(k,i,k)]for k in Depot)+(2-K)*gp.quicksum(x[(i,k,k)] for k in Depot)>=2)"
   ]
  },
  {
   "cell_type": "markdown",
   "metadata": {},
   "source": [
    "#### constraint 29\n",
    "$\\sum_{k \\in Depot}x_{kik}+ \\sum_{k in Depot}x_{ikk}<=1 , i \\in customers$"
   ]
  },
  {
   "cell_type": "code",
   "execution_count": 66,
   "metadata": {},
   "outputs": [],
   "source": [
    "for i in customers:\n",
    "    m.addConstr(gp.quicksum(x[(k,i,k)] for k in Depot)+gp.quicksum(x[(i,k,k)] for k in Depot)<=1)"
   ]
  },
  {
   "cell_type": "markdown",
   "metadata": {},
   "source": [
    "#### constraint 30\n",
    "$u_i-u_j+L*\\sum_{k \\in Depot}x_{ijk}+(L-2)*\\sum_{k \\in Depot}x_{jik}<=L-1 ,i \\neq j,i,j \\in customers$"
   ]
  },
  {
   "cell_type": "code",
   "execution_count": 67,
   "metadata": {},
   "outputs": [],
   "source": [
    "for i in customers:\n",
    "    for j in customers:\n",
    "        if i!=j:\n",
    "            m.addConstr(u[i]-u[j]+L*gp.quicksum(x[(i,j,k)] for k in Depot)+(L-2)*gp.quicksum(x[(j,i,k)] for k in Depot)<=L-1)"
   ]
  },
  {
   "cell_type": "markdown",
   "metadata": {},
   "source": [
    "#### objective function\n",
    "\n",
    "Minimize$\\sum_{k \\in Depot} \\sum_{j \\in customers}(c_{kj}x_{kjk}+c_{jk}x_{jkk})+\\sum_{k \\in Depot}\\sum_{i \\in customers}\\sum_{j \\in customers}c_{ij}x_{ijk}$\n",
    "\n",
    "#### so $c_{kj}$= distance between each depot and customer\n",
    "#### $c_{ij}$= distance between each customer"
   ]
  },
  {
   "cell_type": "code",
   "execution_count": 68,
   "metadata": {},
   "outputs": [],
   "source": [
    "m.setObjective(gp.quicksum(gp.quicksum(dist_dep_cus[k,j]*x[(k,j,k)]+dist_dep_cus[k,j]*x[(j,k,k)] for j in customers)for k in Depot )+gp.quicksum(gp.quicksum(gp.quicksum(dist_cus_cus[i,j]*x[i,j,k] for i in customers)for j in customers) for k in Depot),GRB.MINIMIZE)"
   ]
  },
  {
   "cell_type": "code",
   "execution_count": 69,
   "metadata": {},
   "outputs": [],
   "source": [
    "m.update()"
   ]
  },
  {
   "cell_type": "code",
   "execution_count": 70,
   "metadata": {},
   "outputs": [
    {
     "name": "stdout",
     "output_type": "stream",
     "text": [
      "Gurobi Optimizer version 9.1.2 build v9.1.2rc0 (win64)\n",
      "Thread count: 2 physical cores, 4 logical processors, using up to 4 threads\n",
      "Optimize a model with 460 rows, 903 columns and 4482 nonzeros\n",
      "Model fingerprint: 0xa78109f6\n",
      "Variable types: 0 continuous, 903 integer (884 binary)\n",
      "Coefficient statistics:\n",
      "  Matrix range     [1e+00, 2e+01]\n",
      "  Objective range  [1e+02, 1e+06]\n",
      "  Bounds range     [1e+00, 1e+00]\n",
      "  RHS range        [1e+00, 2e+01]\n",
      "Presolve removed 0 rows and 252 columns\n",
      "Presolve time: 0.01s\n",
      "\n",
      "Explored 0 nodes (0 simplex iterations) in 0.03 seconds\n",
      "Thread count was 1 (of 4 available processors)\n",
      "\n",
      "Solution count 0\n",
      "\n",
      "Model is infeasible\n",
      "Best objective -, best bound -, gap -\n"
     ]
    }
   ],
   "source": [
    "m.optimize()"
   ]
  },
  {
   "cell_type": "code",
   "execution_count": 71,
   "metadata": {},
   "outputs": [
    {
     "name": "stdout",
     "output_type": "stream",
     "text": [
      "\n",
      "Computing Irreducible Inconsistent Subsystem (IIS)...\n",
      "\n",
      "           Constraints          |            Bounds           |  Runtime\n",
      "      Min       Max     Guess   |   Min       Max     Guess   |\n",
      "--------------------------------------------------------------------------\n",
      "        0       460         -         0        19         -           0s\n",
      "       19        19         -         0         0         -           0s\n",
      "\n",
      "IIS computed: 19 constraints, 0 bounds\n",
      "IIS runtime: 0.08 seconds\n"
     ]
    }
   ],
   "source": [
    "m.computeIIS()"
   ]
  },
  {
   "cell_type": "code",
   "execution_count": null,
   "metadata": {},
   "outputs": [],
   "source": []
  }
 ],
 "metadata": {
  "kernelspec": {
   "display_name": "Python 3",
   "language": "python",
   "name": "python3"
  },
  "language_info": {
   "codemirror_mode": {
    "name": "ipython",
    "version": 3
   },
   "file_extension": ".py",
   "mimetype": "text/x-python",
   "name": "python",
   "nbconvert_exporter": "python",
   "pygments_lexer": "ipython3",
   "version": "3.7.4"
  }
 },
 "nbformat": 4,
 "nbformat_minor": 4
}
