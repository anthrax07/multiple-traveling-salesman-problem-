{
 "cells": [
  {
   "cell_type": "code",
   "execution_count": 1,
   "metadata": {},
   "outputs": [],
   "source": [
    "from global_variable import *"
   ]
  },
  {
   "cell_type": "code",
   "execution_count": 2,
   "metadata": {},
   "outputs": [],
   "source": [
    "import random\n",
    "import networkx as nx\n",
    "import math\n",
    "import itertools    \n",
    "import matplotlib.pyplot as plt\n",
    "import ast\n",
    "import numpy as np\n",
    "import operator\n",
    "from sklearn.cluster import KMeans\n",
    "from collections import defaultdict\n"
   ]
  },
  {
   "cell_type": "code",
   "execution_count": 3,
   "metadata": {},
   "outputs": [],
   "source": [
    "with open('sensor_for_large_Grid1000_30sensorlistonly.txt', 'r') as f:\n",
    "    sensor = ast.literal_eval(f.read())"
   ]
  },
  {
   "cell_type": "code",
   "execution_count": 4,
   "metadata": {},
   "outputs": [
    {
     "data": {
      "text/plain": [
       "1000"
      ]
     },
     "execution_count": 4,
     "metadata": {},
     "output_type": "execute_result"
    }
   ],
   "source": [
    "length_of_grid"
   ]
  },
  {
   "cell_type": "code",
   "execution_count": 5,
   "metadata": {},
   "outputs": [],
   "source": [
    " sensor=sorted(sensor)"
   ]
  },
  {
   "cell_type": "code",
   "execution_count": 6,
   "metadata": {},
   "outputs": [
    {
     "data": {
      "text/plain": [
       "[(108, 452),\n",
       " (130, 409),\n",
       " (145, 826),\n",
       " (179, 404),\n",
       " (199, 230),\n",
       " (204, 628),\n",
       " (263, 665),\n",
       " (323, 319),\n",
       " (324, 456),\n",
       " (347, 837),\n",
       " (367, 899),\n",
       " (371, 717),\n",
       " (470, 770),\n",
       " (492, 310),\n",
       " (536, 624),\n",
       " (539, 557),\n",
       " (578, 311),\n",
       " (602, 38),\n",
       " (624, 567),\n",
       " (642, 530),\n",
       " (647, 745),\n",
       " (650, 381),\n",
       " (667, 360),\n",
       " (702, 829),\n",
       " (759, 148),\n",
       " (845, 401),\n",
       " (849, 691),\n",
       " (905, 608),\n",
       " (958, 562),\n",
       " (988, 418)]"
      ]
     },
     "execution_count": 6,
     "metadata": {},
     "output_type": "execute_result"
    }
   ],
   "source": [
    "sensor"
   ]
  },
  {
   "cell_type": "code",
   "execution_count": 7,
   "metadata": {},
   "outputs": [],
   "source": [
    "s=[list(i) for i in sensor]"
   ]
  },
  {
   "cell_type": "code",
   "execution_count": 8,
   "metadata": {
    "jupyter": {
     "source_hidden": true
    }
   },
   "outputs": [],
   "source": [
    "X=np.array(s)"
   ]
  },
  {
   "cell_type": "markdown",
   "metadata": {},
   "source": [
    "## function just to calculate distance between two pdp points"
   ]
  },
  {
   "cell_type": "code",
   "execution_count": 9,
   "metadata": {},
   "outputs": [],
   "source": [
    "def distance(points,i,j):\n",
    "    x=points[i][0]-points[j][0]\n",
    "    y=points[i][1]-points[j][1]\n",
    "    return math.sqrt(x*x+y*y)"
   ]
  },
  {
   "cell_type": "markdown",
   "metadata": {},
   "source": [
    "## Function to determine the pdp position in the grid"
   ]
  },
  {
   "cell_type": "code",
   "execution_count": 10,
   "metadata": {},
   "outputs": [],
   "source": [
    "def calculate_Pdp_positions(length_of_grid,transmission_range):\n",
    "    pdp_positions={}\n",
    "    k=0\n",
    "    for c_1 in np.arange(length_of_grid/(transmission_range*math.sqrt(2))):\n",
    "        for c_2 in np.arange(length_of_grid/(transmission_range*math.sqrt(2))):\n",
    "            pdp_positions[k]=(c_1*transmission_range*math.sqrt(2),c_2*transmission_range*math.sqrt(2))\n",
    "            k=k+1\n",
    "    threshold_grid_size=c_1*transmission_range*math.sqrt(2)\n",
    "    return pdp_positions,threshold_grid_size"
   ]
  },
  {
   "cell_type": "code",
   "execution_count": 11,
   "metadata": {},
   "outputs": [],
   "source": [
    "pdp_positions,threshold=calculate_Pdp_positions(length_of_grid,transmission_range)"
   ]
  },
  {
   "cell_type": "markdown",
   "metadata": {},
   "source": [
    "## Function to create the trip graph"
   ]
  },
  {
   "cell_type": "code",
   "execution_count": 12,
   "metadata": {},
   "outputs": [
    {
     "data": {
      "text/plain": [
       "989.9494936611666"
      ]
     },
     "execution_count": 12,
     "metadata": {},
     "output_type": "execute_result"
    }
   ],
   "source": [
    "threshold"
   ]
  },
  {
   "cell_type": "code",
   "execution_count": 13,
   "metadata": {},
   "outputs": [],
   "source": [
    "def create_trip_graph():\n",
    "    G=nx.Graph()\n",
    "    distance_between_pdp={}\n",
    "    for i in range(len(pdp_positions)):\n",
    "        G.add_node('pdp{}'.format(i),pos=pdp_positions[i])\n",
    "    for u in range(len(pdp_positions)):\n",
    "        for v in range(len(pdp_positions)):\n",
    "            wt=distance(pdp_positions,u,v)\n",
    "            G.add_edge('pdp{}'.format(u),'pdp{}'.format(v),weight=wt)\n",
    "            distance_between_pdp[(u,v)]=wt\n",
    "    return G,distance_between_pdp"
   ]
  },
  {
   "cell_type": "code",
   "execution_count": 14,
   "metadata": {},
   "outputs": [],
   "source": [
    "trip_graph,distance_between_pdp=create_trip_graph()"
   ]
  },
  {
   "cell_type": "markdown",
   "metadata": {},
   "source": [
    "## This function calculates the pdp with the minimum distance betweeen the cluster center"
   ]
  },
  {
   "cell_type": "code",
   "execution_count": 15,
   "metadata": {},
   "outputs": [],
   "source": [
    "def calculate_min_pdp_distance_with_cluster_center(c_centers,pdp_positions):\n",
    "    \"\"\"\n",
    "    Function to calculate the nearest pdp_position to the cluster center \n",
    "    \"\"\"\n",
    "    new_dict={}\n",
    "    for i in c_centers:\n",
    "        temp={}\n",
    "        for p,value in pdp_positions.items():\n",
    "            arr=np.array(value)\n",
    "            #print(arr)\n",
    "            dist=np.linalg.norm(i-arr)\n",
    "            temp[p]=dist\n",
    "        #print(temp)\n",
    "        print(min(temp.items(),key=operator.itemgetter(1))[0])\n",
    "        print(min(temp.items(),key=operator.itemgetter(1))[1])\n",
    "        print(\"******\")\n",
    "        new_dict[tuple(i)]=min(temp.items(),key=operator.itemgetter(1))[0]\n",
    "\n",
    "    return new_dict"
   ]
  },
  {
   "cell_type": "code",
   "execution_count": 16,
   "metadata": {},
   "outputs": [],
   "source": [
    "K=nx.DiGraph()"
   ]
  },
  {
   "cell_type": "code",
   "execution_count": 17,
   "metadata": {
    "jupyter": {
     "source_hidden": true
    }
   },
   "outputs": [],
   "source": [
    "for i in range(len(sensor)):\n",
    "    K.add_node('sensor{}'.format(i),pos=sensor[i])"
   ]
  },
  {
   "cell_type": "code",
   "execution_count": 18,
   "metadata": {},
   "outputs": [],
   "source": [
    "def calulate_distance_between_each_sensors_and_assign_weight(points,K):\n",
    "    distance_sensors={}\n",
    "    M=K\n",
    "    k=0\n",
    "    edge_weight=1\n",
    "    for i in range(len(points)):\n",
    "        for j in range(len(points)):\n",
    "            euclidean_distance=distance(points,i,j)\n",
    "            if i!=j:\n",
    "                #M.add_edge(\"sensor{}\".format(i),\"sensor{}\".format(j))\n",
    "\n",
    "                \n",
    "                if euclidean_distance<=transmission_range:\n",
    "                    #if M.has_edge('sensor{}'.format(i),'sensor{}'.format(j))!=True:\n",
    "                    M.add_edge(\"sensor{}\".format(i),\"sensor{}\".format(j))\n",
    "\n",
    "                    M[\"sensor{}\".format(i)][\"sensor{}\".format(j)]['weight']=1\n",
    "\n",
    "                    distance_sensors[i,j]=(euclidean_distance,edge_weight)\n",
    "#                 else:\n",
    "#                     M[\"sensor{}\".format(i)][\"sensor{}\".format(j)]['weight']=100\n",
    "#                     distance_sensors[i,j]=(euclidean_distance,100)\n",
    "#             k=k+1\n",
    "    return distance_sensors,M"
   ]
  },
  {
   "cell_type": "code",
   "execution_count": 19,
   "metadata": {},
   "outputs": [],
   "source": [
    "euclidean_distance_between_sensor,L=calulate_distance_between_each_sensors_and_assign_weight(sensor,K)"
   ]
  },
  {
   "cell_type": "code",
   "execution_count": 20,
   "metadata": {},
   "outputs": [
    {
     "data": {
      "image/png": "[encoded data removed]",
      "text/plain": [
       "<Figure size 432x288 with 1 Axes>"
      ]
     },
     "metadata": {},
     "output_type": "display_data"
    }
   ],
   "source": [
    "nx.draw(L,nx.get_node_attributes(L,'pos'),with_labels=True)"
   ]
  },
  {
   "cell_type": "code",
   "execution_count": 21,
   "metadata": {},
   "outputs": [],
   "source": [
    "def distance_pdp_sensors(pdp_positions,sensor,u,v):\n",
    "    x=pdp_positions[u][0]-sensor[v][0]\n",
    "    y=pdp_positions[u][1]-sensor[v][1]\n",
    "    return math.sqrt(x*x+y*y)"
   ]
  },
  {
   "cell_type": "markdown",
   "metadata": {},
   "source": [
    "## Function that is used for creating the conncectivity graph"
   ]
  },
  {
   "cell_type": "code",
   "execution_count": 22,
   "metadata": {},
   "outputs": [],
   "source": [
    "def connectivity_graph(pdp_positions,sensor,K):\n",
    "    J=K\n",
    "    distance_pdp_each_sensor={}\n",
    "    k=0\n",
    "    weight=1\n",
    "    for i in range(len(pdp_positions)):\n",
    "        J.add_node('pdp{}'.format(i),pos=pdp_positions[i])\n",
    "    for u in range(len(pdp_positions)):\n",
    "        for v in range(len(sensor)):\n",
    "            euclidean_distance_between_pdp_sensor=distance_pdp_sensors(pdp_positions,sensor,u,v)\n",
    "            J.add_edge(\"pdp{}\".format(u),\"sensor{}\".format(v))\n",
    "            \n",
    "            if euclidean_distance_between_pdp_sensor<=transmission_range:\n",
    "                #J.add_edge(\"pdp{}\".format(u),\"sensor{}\".format(v))\n",
    "                #if J.has_edge('pdp{}'.format(i),'sensor{}'.format(j))!=True:\n",
    "                    #J.add_edge(\"pdp{}\".format(u),\"sensor{}\".format(v))\n",
    "               \n",
    "                \n",
    "                J[\"pdp{}\".format(u)][\"sensor{}\".format(v)]['weight']=1\n",
    "                distance_pdp_each_sensor[u,v]=euclidean_distance_between_pdp_sensor,weight\n",
    "            else:\n",
    "                J[\"pdp{}\".format(u)][\"sensor{}\".format(v)]['weight']=100\n",
    "                distance_pdp_each_sensor[u,v]=euclidean_distance_between_pdp_sensor,100\n",
    "#            k=k+1\n",
    "    return distance_pdp_each_sensor,J"
   ]
  },
  {
   "cell_type": "code",
   "execution_count": 23,
   "metadata": {},
   "outputs": [],
   "source": [
    "distance_between_pdp_to_each_sensor,N=connectivity_graph(pdp_positions,sensor,L)"
   ]
  },
  {
   "cell_type": "markdown",
   "metadata": {},
   "source": [
    "# Here it finds the shortest distance between each pdp and "
   ]
  },
  {
   "cell_type": "code",
   "execution_count": 24,
   "metadata": {},
   "outputs": [],
   "source": [
    "k=0\n",
    "arc_length={}\n",
    "shortest_path={}\n",
    "for i in range(len(pdp_positions)):\n",
    "    for j in range(len(sensor)):\n",
    "        if N.has_edge('pdp{}'.format(i),'sensor{}'.format(j)):\n",
    "            shortest_path[i,j]=nx.shortest_path(N,source='pdp{}'.format(i),target='sensor{}'.format(j),\n",
    "                                              weight='weight',method='dijkstra')\n",
    "            arc_length[i,j]=nx.dijkstra_path_length(N,'pdp{}'.format(i),'sensor{}'.format(j))\n",
    "            \n",
    "           \n",
    "        else:\n",
    "            shortest_path[i,j]=0"
   ]
  },
  {
   "cell_type": "code",
   "execution_count": 25,
   "metadata": {},
   "outputs": [],
   "source": [
    "new_zipped=dict(zip(arc_length.items(),shortest_path.values()))"
   ]
  },
  {
   "cell_type": "code",
   "execution_count": 26,
   "metadata": {},
   "outputs": [
    {
     "data": {
      "text/plain": [
       "{((0, 0), 100): ['pdp0', 'sensor0'],\n",
       " ((0, 1), 100): ['pdp0', 'sensor1'],\n",
       " ((0, 2), 100): ['pdp0', 'sensor2'],\n",
       " ((0, 3), 100): ['pdp0', 'sensor3'],\n",
       " ((0, 4), 100): ['pdp0', 'sensor4'],\n",
       " ((0, 5), 100): ['pdp0', 'sensor5'],\n",
       " ((0, 6), 100): ['pdp0', 'sensor6'],\n",
       " ((0, 7), 100): ['pdp0', 'sensor7'],\n",
       " ((0, 8), 100): ['pdp0', 'sensor8'],\n",
       " ((0, 9), 100): ['pdp0', 'sensor9'],\n",
       " ((0, 10), 100): ['pdp0', 'sensor10'],\n",
       " ((0, 11), 100): ['pdp0', 'sensor11'],\n",
       " ((0, 12), 100): ['pdp0', 'sensor12'],\n",
       " ((0, 13), 100): ['pdp0', 'sensor13'],\n",
       " ((0, 14), 100): ['pdp0', 'sensor14'],\n",
       " ((0, 15), 100): ['pdp0', 'sensor15'],\n",
       " ((0, 16), 100): ['pdp0', 'sensor16'],\n",
       " ((0, 17), 100): ['pdp0', 'sensor17'],\n",
       " ((0, 18), 100): ['pdp0', 'sensor18'],\n",
       " ((0, 19), 100): ['pdp0', 'sensor19'],\n",
       " ((0, 20), 100): ['pdp0', 'sensor20'],\n",
       " ((0, 21), 100): ['pdp0', 'sensor21'],\n",
       " ((0, 22), 100): ['pdp0', 'sensor22'],\n",
       " ((0, 23), 100): ['pdp0', 'sensor23'],\n",
       " ((0, 24), 100): ['pdp0', 'sensor24'],\n",
       " ((0, 25), 100): ['pdp0', 'sensor25'],\n",
       " ((0, 26), 100): ['pdp0', 'sensor26'],\n",
       " ((0, 27), 100): ['pdp0', 'sensor27'],\n",
       " ((0, 28), 100): ['pdp0', 'sensor28'],\n",
       " ((0, 29), 100): ['pdp0', 'sensor29'],\n",
       " ((1, 0), 100): ['pdp1', 'sensor0'],\n",
       " ((1, 1), 100): ['pdp1', 'sensor1'],\n",
       " ((1, 2), 100): ['pdp1', 'sensor2'],\n",
       " ((1, 3), 100): ['pdp1', 'sensor3'],\n",
       " ((1, 4), 100): ['pdp1', 'sensor4'],\n",
       " ((1, 5), 100): ['pdp1', 'sensor5'],\n",
       " ((1, 6), 100): ['pdp1', 'sensor6'],\n",
       " ((1, 7), 100): ['pdp1', 'sensor7'],\n",
       " ((1, 8), 100): ['pdp1', 'sensor8'],\n",
       " ((1, 9), 100): ['pdp1', 'sensor9'],\n",
       " ((1, 10), 100): ['pdp1', 'sensor10'],\n",
       " ((1, 11), 100): ['pdp1', 'sensor11'],\n",
       " ((1, 12), 100): ['pdp1', 'sensor12'],\n",
       " ((1, 13), 100): ['pdp1', 'sensor13'],\n",
       " ((1, 14), 100): ['pdp1', 'sensor14'],\n",
       " ((1, 15), 100): ['pdp1', 'sensor15'],\n",
       " ((1, 16), 100): ['pdp1', 'sensor16'],\n",
       " ((1, 17), 100): ['pdp1', 'sensor17'],\n",
       " ((1, 18), 100): ['pdp1', 'sensor18'],\n",
       " ((1, 19), 100): ['pdp1', 'sensor19'],\n",
       " ((1, 20), 100): ['pdp1', 'sensor20'],\n",
       " ((1, 21), 100): ['pdp1', 'sensor21'],\n",
       " ((1, 22), 100): ['pdp1', 'sensor22'],\n",
       " ((1, 23), 100): ['pdp1', 'sensor23'],\n",
       " ((1, 24), 100): ['pdp1', 'sensor24'],\n",
       " ((1, 25), 100): ['pdp1', 'sensor25'],\n",
       " ((1, 26), 100): ['pdp1', 'sensor26'],\n",
       " ((1, 27), 100): ['pdp1', 'sensor27'],\n",
       " ((1, 28), 100): ['pdp1', 'sensor28'],\n",
       " ((1, 29), 100): ['pdp1', 'sensor29'],\n",
       " ((2, 0), 100): ['pdp2', 'sensor0'],\n",
       " ((2, 1), 100): ['pdp2', 'sensor1'],\n",
       " ((2, 2), 100): ['pdp2', 'sensor2'],\n",
       " ((2, 3), 100): ['pdp2', 'sensor3'],\n",
       " ((2, 4), 100): ['pdp2', 'sensor4'],\n",
       " ((2, 5), 100): ['pdp2', 'sensor5'],\n",
       " ((2, 6), 100): ['pdp2', 'sensor6'],\n",
       " ((2, 7), 100): ['pdp2', 'sensor7'],\n",
       " ((2, 8), 100): ['pdp2', 'sensor8'],\n",
       " ((2, 9), 100): ['pdp2', 'sensor9'],\n",
       " ((2, 10), 100): ['pdp2', 'sensor10'],\n",
       " ((2, 11), 100): ['pdp2', 'sensor11'],\n",
       " ((2, 12), 100): ['pdp2', 'sensor12'],\n",
       " ((2, 13), 100): ['pdp2', 'sensor13'],\n",
       " ((2, 14), 100): ['pdp2', 'sensor14'],\n",
       " ((2, 15), 100): ['pdp2', 'sensor15'],\n",
       " ((2, 16), 100): ['pdp2', 'sensor16'],\n",
       " ((2, 17), 100): ['pdp2', 'sensor17'],\n",
       " ((2, 18), 100): ['pdp2', 'sensor18'],\n",
       " ((2, 19), 100): ['pdp2', 'sensor19'],\n",
       " ((2, 20), 100): ['pdp2', 'sensor20'],\n",
       " ((2, 21), 100): ['pdp2', 'sensor21'],\n",
       " ((2, 22), 100): ['pdp2', 'sensor22'],\n",
       " ((2, 23), 100): ['pdp2', 'sensor23'],\n",
       " ((2, 24), 100): ['pdp2', 'sensor24'],\n",
       " ((2, 25), 100): ['pdp2', 'sensor25'],\n",
       " ((2, 26), 100): ['pdp2', 'sensor26'],\n",
       " ((2, 27), 100): ['pdp2', 'sensor27'],\n",
       " ((2, 28), 100): ['pdp2', 'sensor28'],\n",
       " ((2, 29), 100): ['pdp2', 'sensor29'],\n",
       " ((3, 0), 100): ['pdp3', 'sensor0'],\n",
       " ((3, 1), 100): ['pdp3', 'sensor1'],\n",
       " ((3, 2), 100): ['pdp3', 'sensor2'],\n",
       " ((3, 3), 100): ['pdp3', 'sensor3'],\n",
       " ((3, 4), 100): ['pdp3', 'sensor4'],\n",
       " ((3, 5), 100): ['pdp3', 'sensor5'],\n",
       " ((3, 6), 100): ['pdp3', 'sensor6'],\n",
       " ((3, 7), 100): ['pdp3', 'sensor7'],\n",
       " ((3, 8), 100): ['pdp3', 'sensor8'],\n",
       " ((3, 9), 100): ['pdp3', 'sensor9'],\n",
       " ((3, 10), 100): ['pdp3', 'sensor10'],\n",
       " ((3, 11), 100): ['pdp3', 'sensor11'],\n",
       " ((3, 12), 100): ['pdp3', 'sensor12'],\n",
       " ((3, 13), 100): ['pdp3', 'sensor13'],\n",
       " ((3, 14), 100): ['pdp3', 'sensor14'],\n",
       " ((3, 15), 100): ['pdp3', 'sensor15'],\n",
       " ((3, 16), 100): ['pdp3', 'sensor16'],\n",
       " ((3, 17), 100): ['pdp3', 'sensor17'],\n",
       " ((3, 18), 100): ['pdp3', 'sensor18'],\n",
       " ((3, 19), 100): ['pdp3', 'sensor19'],\n",
       " ((3, 20), 100): ['pdp3', 'sensor20'],\n",
       " ((3, 21), 100): ['pdp3', 'sensor21'],\n",
       " ((3, 22), 100): ['pdp3', 'sensor22'],\n",
       " ((3, 23), 100): ['pdp3', 'sensor23'],\n",
       " ((3, 24), 100): ['pdp3', 'sensor24'],\n",
       " ((3, 25), 100): ['pdp3', 'sensor25'],\n",
       " ((3, 26), 100): ['pdp3', 'sensor26'],\n",
       " ((3, 27), 100): ['pdp3', 'sensor27'],\n",
       " ((3, 28), 100): ['pdp3', 'sensor28'],\n",
       " ((3, 29), 100): ['pdp3', 'sensor29'],\n",
       " ((4, 0), 100): ['pdp4', 'sensor0'],\n",
       " ((4, 1), 100): ['pdp4', 'sensor1'],\n",
       " ((4, 2), 100): ['pdp4', 'sensor2'],\n",
       " ((4, 3), 100): ['pdp4', 'sensor3'],\n",
       " ((4, 4), 100): ['pdp4', 'sensor4'],\n",
       " ((4, 5), 100): ['pdp4', 'sensor5'],\n",
       " ((4, 6), 100): ['pdp4', 'sensor6'],\n",
       " ((4, 7), 100): ['pdp4', 'sensor7'],\n",
       " ((4, 8), 100): ['pdp4', 'sensor8'],\n",
       " ((4, 9), 100): ['pdp4', 'sensor9'],\n",
       " ((4, 10), 100): ['pdp4', 'sensor10'],\n",
       " ((4, 11), 100): ['pdp4', 'sensor11'],\n",
       " ((4, 12), 100): ['pdp4', 'sensor12'],\n",
       " ((4, 13), 100): ['pdp4', 'sensor13'],\n",
       " ((4, 14), 100): ['pdp4', 'sensor14'],\n",
       " ((4, 15), 100): ['pdp4', 'sensor15'],\n",
       " ((4, 16), 100): ['pdp4', 'sensor16'],\n",
       " ((4, 17), 100): ['pdp4', 'sensor17'],\n",
       " ((4, 18), 100): ['pdp4', 'sensor18'],\n",
       " ((4, 19), 100): ['pdp4', 'sensor19'],\n",
       " ((4, 20), 100): ['pdp4', 'sensor20'],\n",
       " ((4, 21), 100): ['pdp4', 'sensor21'],\n",
       " ((4, 22), 100): ['pdp4', 'sensor22'],\n",
       " ((4, 23), 100): ['pdp4', 'sensor23'],\n",
       " ((4, 24), 100): ['pdp4', 'sensor24'],\n",
       " ((4, 25), 100): ['pdp4', 'sensor25'],\n",
       " ((4, 26), 100): ['pdp4', 'sensor26'],\n",
       " ((4, 27), 100): ['pdp4', 'sensor27'],\n",
       " ((4, 28), 100): ['pdp4', 'sensor28'],\n",
       " ((4, 29), 100): ['pdp4', 'sensor29'],\n",
       " ((5, 0), 100): ['pdp5', 'sensor0'],\n",
       " ((5, 1), 100): ['pdp5', 'sensor1'],\n",
       " ((5, 2), 100): ['pdp5', 'sensor2'],\n",
       " ((5, 3), 100): ['pdp5', 'sensor3'],\n",
       " ((5, 4), 100): ['pdp5', 'sensor4'],\n",
       " ((5, 5), 100): ['pdp5', 'sensor5'],\n",
       " ((5, 6), 100): ['pdp5', 'sensor6'],\n",
       " ((5, 7), 100): ['pdp5', 'sensor7'],\n",
       " ((5, 8), 100): ['pdp5', 'sensor8'],\n",
       " ((5, 9), 100): ['pdp5', 'sensor9'],\n",
       " ((5, 10), 100): ['pdp5', 'sensor10'],\n",
       " ((5, 11), 100): ['pdp5', 'sensor11'],\n",
       " ((5, 12), 100): ['pdp5', 'sensor12'],\n",
       " ((5, 13), 100): ['pdp5', 'sensor13'],\n",
       " ((5, 14), 100): ['pdp5', 'sensor14'],\n",
       " ((5, 15), 100): ['pdp5', 'sensor15'],\n",
       " ((5, 16), 100): ['pdp5', 'sensor16'],\n",
       " ((5, 17), 100): ['pdp5', 'sensor17'],\n",
       " ((5, 18), 100): ['pdp5', 'sensor18'],\n",
       " ((5, 19), 100): ['pdp5', 'sensor19'],\n",
       " ((5, 20), 100): ['pdp5', 'sensor20'],\n",
       " ((5, 21), 100): ['pdp5', 'sensor21'],\n",
       " ((5, 22), 100): ['pdp5', 'sensor22'],\n",
       " ((5, 23), 100): ['pdp5', 'sensor23'],\n",
       " ((5, 24), 100): ['pdp5', 'sensor24'],\n",
       " ((5, 25), 100): ['pdp5', 'sensor25'],\n",
       " ((5, 26), 100): ['pdp5', 'sensor26'],\n",
       " ((5, 27), 100): ['pdp5', 'sensor27'],\n",
       " ((5, 28), 100): ['pdp5', 'sensor28'],\n",
       " ((5, 29), 100): ['pdp5', 'sensor29'],\n",
       " ((6, 0), 100): ['pdp6', 'sensor0'],\n",
       " ((6, 1), 100): ['pdp6', 'sensor1'],\n",
       " ((6, 2), 100): ['pdp6', 'sensor2'],\n",
       " ((6, 3), 100): ['pdp6', 'sensor3'],\n",
       " ((6, 4), 100): ['pdp6', 'sensor4'],\n",
       " ((6, 5), 100): ['pdp6', 'sensor5'],\n",
       " ((6, 6), 100): ['pdp6', 'sensor6'],\n",
       " ((6, 7), 100): ['pdp6', 'sensor7'],\n",
       " ((6, 8), 100): ['pdp6', 'sensor8'],\n",
       " ((6, 9), 100): ['pdp6', 'sensor9'],\n",
       " ((6, 10), 100): ['pdp6', 'sensor10'],\n",
       " ((6, 11), 100): ['pdp6', 'sensor11'],\n",
       " ((6, 12), 100): ['pdp6', 'sensor12'],\n",
       " ((6, 13), 100): ['pdp6', 'sensor13'],\n",
       " ((6, 14), 100): ['pdp6', 'sensor14'],\n",
       " ((6, 15), 100): ['pdp6', 'sensor15'],\n",
       " ((6, 16), 100): ['pdp6', 'sensor16'],\n",
       " ((6, 17), 100): ['pdp6', 'sensor17'],\n",
       " ((6, 18), 100): ['pdp6', 'sensor18'],\n",
       " ((6, 19), 100): ['pdp6', 'sensor19'],\n",
       " ((6, 20), 100): ['pdp6', 'sensor20'],\n",
       " ((6, 21), 100): ['pdp6', 'sensor21'],\n",
       " ((6, 22), 100): ['pdp6', 'sensor22'],\n",
       " ((6, 23), 100): ['pdp6', 'sensor23'],\n",
       " ((6, 24), 100): ['pdp6', 'sensor24'],\n",
       " ((6, 25), 100): ['pdp6', 'sensor25'],\n",
       " ((6, 26), 100): ['pdp6', 'sensor26'],\n",
       " ((6, 27), 100): ['pdp6', 'sensor27'],\n",
       " ((6, 28), 100): ['pdp6', 'sensor28'],\n",
       " ((6, 29), 100): ['pdp6', 'sensor29'],\n",
       " ((7, 0), 100): ['pdp7', 'sensor0'],\n",
       " ((7, 1), 100): ['pdp7', 'sensor1'],\n",
       " ((7, 2), 100): ['pdp7', 'sensor2'],\n",
       " ((7, 3), 100): ['pdp7', 'sensor3'],\n",
       " ((7, 4), 100): ['pdp7', 'sensor4'],\n",
       " ((7, 5), 100): ['pdp7', 'sensor5'],\n",
       " ((7, 6), 100): ['pdp7', 'sensor6'],\n",
       " ((7, 7), 100): ['pdp7', 'sensor7'],\n",
       " ((7, 8), 100): ['pdp7', 'sensor8'],\n",
       " ((7, 9), 100): ['pdp7', 'sensor9'],\n",
       " ((7, 10), 100): ['pdp7', 'sensor10'],\n",
       " ((7, 11), 100): ['pdp7', 'sensor11'],\n",
       " ((7, 12), 100): ['pdp7', 'sensor12'],\n",
       " ((7, 13), 100): ['pdp7', 'sensor13'],\n",
       " ((7, 14), 100): ['pdp7', 'sensor14'],\n",
       " ((7, 15), 100): ['pdp7', 'sensor15'],\n",
       " ((7, 16), 100): ['pdp7', 'sensor16'],\n",
       " ((7, 17), 100): ['pdp7', 'sensor17'],\n",
       " ((7, 18), 100): ['pdp7', 'sensor18'],\n",
       " ((7, 19), 100): ['pdp7', 'sensor19'],\n",
       " ((7, 20), 100): ['pdp7', 'sensor20'],\n",
       " ((7, 21), 100): ['pdp7', 'sensor21'],\n",
       " ((7, 22), 100): ['pdp7', 'sensor22'],\n",
       " ((7, 23), 100): ['pdp7', 'sensor23'],\n",
       " ((7, 24), 100): ['pdp7', 'sensor24'],\n",
       " ((7, 25), 100): ['pdp7', 'sensor25'],\n",
       " ((7, 26), 100): ['pdp7', 'sensor26'],\n",
       " ((7, 27), 100): ['pdp7', 'sensor27'],\n",
       " ((7, 28), 100): ['pdp7', 'sensor28'],\n",
       " ((7, 29), 100): ['pdp7', 'sensor29'],\n",
       " ((8, 0), 100): ['pdp8', 'sensor0'],\n",
       " ((8, 1), 100): ['pdp8', 'sensor1'],\n",
       " ((8, 2), 100): ['pdp8', 'sensor2'],\n",
       " ((8, 3), 100): ['pdp8', 'sensor3'],\n",
       " ((8, 4), 100): ['pdp8', 'sensor4'],\n",
       " ((8, 5), 100): ['pdp8', 'sensor5'],\n",
       " ((8, 6), 100): ['pdp8', 'sensor6'],\n",
       " ((8, 7), 100): ['pdp8', 'sensor7'],\n",
       " ((8, 8), 100): ['pdp8', 'sensor8'],\n",
       " ((8, 9), 100): ['pdp8', 'sensor9'],\n",
       " ((8, 10), 100): ['pdp8', 'sensor10'],\n",
       " ((8, 11), 100): ['pdp8', 'sensor11'],\n",
       " ((8, 12), 100): ['pdp8', 'sensor12'],\n",
       " ((8, 13), 100): ['pdp8', 'sensor13'],\n",
       " ((8, 14), 100): ['pdp8', 'sensor14'],\n",
       " ((8, 15), 100): ['pdp8', 'sensor15'],\n",
       " ((8, 16), 100): ['pdp8', 'sensor16'],\n",
       " ((8, 17), 100): ['pdp8', 'sensor17'],\n",
       " ((8, 18), 100): ['pdp8', 'sensor18'],\n",
       " ((8, 19), 100): ['pdp8', 'sensor19'],\n",
       " ((8, 20), 100): ['pdp8', 'sensor20'],\n",
       " ((8, 21), 100): ['pdp8', 'sensor21'],\n",
       " ((8, 22), 100): ['pdp8', 'sensor22'],\n",
       " ((8, 23), 100): ['pdp8', 'sensor23'],\n",
       " ((8, 24), 100): ['pdp8', 'sensor24'],\n",
       " ((8, 25), 100): ['pdp8', 'sensor25'],\n",
       " ((8, 26), 100): ['pdp8', 'sensor26'],\n",
       " ((8, 27), 100): ['pdp8', 'sensor27'],\n",
       " ((8, 28), 100): ['pdp8', 'sensor28'],\n",
       " ((8, 29), 100): ['pdp8', 'sensor29'],\n",
       " ((9, 0), 100): ['pdp9', 'sensor0'],\n",
       " ((9, 1), 100): ['pdp9', 'sensor1'],\n",
       " ((9, 2), 100): ['pdp9', 'sensor2'],\n",
       " ((9, 3), 100): ['pdp9', 'sensor3'],\n",
       " ((9, 4), 100): ['pdp9', 'sensor4'],\n",
       " ((9, 5), 100): ['pdp9', 'sensor5'],\n",
       " ((9, 6), 100): ['pdp9', 'sensor6'],\n",
       " ((9, 7), 100): ['pdp9', 'sensor7'],\n",
       " ((9, 8), 100): ['pdp9', 'sensor8'],\n",
       " ((9, 9), 100): ['pdp9', 'sensor9'],\n",
       " ((9, 10), 100): ['pdp9', 'sensor10'],\n",
       " ((9, 11), 100): ['pdp9', 'sensor11'],\n",
       " ((9, 12), 100): ['pdp9', 'sensor12'],\n",
       " ((9, 13), 100): ['pdp9', 'sensor13'],\n",
       " ((9, 14), 100): ['pdp9', 'sensor14'],\n",
       " ((9, 15), 100): ['pdp9', 'sensor15'],\n",
       " ((9, 16), 100): ['pdp9', 'sensor16'],\n",
       " ((9, 17), 100): ['pdp9', 'sensor17'],\n",
       " ((9, 18), 100): ['pdp9', 'sensor18'],\n",
       " ((9, 19), 100): ['pdp9', 'sensor19'],\n",
       " ((9, 20), 100): ['pdp9', 'sensor20'],\n",
       " ((9, 21), 100): ['pdp9', 'sensor21'],\n",
       " ((9, 22), 100): ['pdp9', 'sensor22'],\n",
       " ((9, 23), 100): ['pdp9', 'sensor23'],\n",
       " ((9, 24), 100): ['pdp9', 'sensor24'],\n",
       " ((9, 25), 100): ['pdp9', 'sensor25'],\n",
       " ((9, 26), 100): ['pdp9', 'sensor26'],\n",
       " ((9, 27), 100): ['pdp9', 'sensor27'],\n",
       " ((9, 28), 100): ['pdp9', 'sensor28'],\n",
       " ((9, 29), 100): ['pdp9', 'sensor29'],\n",
       " ((10, 0), 100): ['pdp10', 'sensor0'],\n",
       " ((10, 1), 100): ['pdp10', 'sensor1'],\n",
       " ((10, 2), 100): ['pdp10', 'sensor2'],\n",
       " ((10, 3), 100): ['pdp10', 'sensor3'],\n",
       " ((10, 4), 1): ['pdp10', 'sensor4'],\n",
       " ((10, 5), 100): ['pdp10', 'sensor5'],\n",
       " ((10, 6), 100): ['pdp10', 'sensor6'],\n",
       " ((10, 7), 100): ['pdp10', 'sensor7'],\n",
       " ((10, 8), 100): ['pdp10', 'sensor8'],\n",
       " ((10, 9), 100): ['pdp10', 'sensor9'],\n",
       " ((10, 10), 100): ['pdp10', 'sensor10'],\n",
       " ((10, 11), 100): ['pdp10', 'sensor11'],\n",
       " ((10, 12), 100): ['pdp10', 'sensor12'],\n",
       " ((10, 13), 100): ['pdp10', 'sensor13'],\n",
       " ((10, 14), 100): ['pdp10', 'sensor14'],\n",
       " ((10, 15), 100): ['pdp10', 'sensor15'],\n",
       " ((10, 16), 100): ['pdp10', 'sensor16'],\n",
       " ((10, 17), 100): ['pdp10', 'sensor17'],\n",
       " ((10, 18), 100): ['pdp10', 'sensor18'],\n",
       " ((10, 19), 100): ['pdp10', 'sensor19'],\n",
       " ((10, 20), 100): ['pdp10', 'sensor20'],\n",
       " ((10, 21), 100): ['pdp10', 'sensor21'],\n",
       " ((10, 22), 100): ['pdp10', 'sensor22'],\n",
       " ((10, 23), 100): ['pdp10', 'sensor23'],\n",
       " ((10, 24), 100): ['pdp10', 'sensor24'],\n",
       " ((10, 25), 100): ['pdp10', 'sensor25'],\n",
       " ((10, 26), 100): ['pdp10', 'sensor26'],\n",
       " ((10, 27), 100): ['pdp10', 'sensor27'],\n",
       " ((10, 28), 100): ['pdp10', 'sensor28'],\n",
       " ((10, 29), 100): ['pdp10', 'sensor29'],\n",
       " ((11, 0), 1): ['pdp11', 'sensor0'],\n",
       " ((11, 1), 1): ['pdp11', 'sensor1'],\n",
       " ((11, 2), 100): ['pdp11', 'sensor2'],\n",
       " ((11, 3), 1): ['pdp11', 'sensor3'],\n",
       " ((11, 4), 100): ['pdp11', 'sensor4'],\n",
       " ((11, 5), 100): ['pdp11', 'sensor5'],\n",
       " ((11, 6), 100): ['pdp11', 'sensor6'],\n",
       " ((11, 7), 100): ['pdp11', 'sensor7'],\n",
       " ((11, 8), 100): ['pdp11', 'sensor8'],\n",
       " ((11, 9), 100): ['pdp11', 'sensor9'],\n",
       " ((11, 10), 100): ['pdp11', 'sensor10'],\n",
       " ((11, 11), 100): ['pdp11', 'sensor11'],\n",
       " ((11, 12), 100): ['pdp11', 'sensor12'],\n",
       " ((11, 13), 100): ['pdp11', 'sensor13'],\n",
       " ((11, 14), 100): ['pdp11', 'sensor14'],\n",
       " ((11, 15), 100): ['pdp11', 'sensor15'],\n",
       " ((11, 16), 100): ['pdp11', 'sensor16'],\n",
       " ((11, 17), 100): ['pdp11', 'sensor17'],\n",
       " ((11, 18), 100): ['pdp11', 'sensor18'],\n",
       " ((11, 19), 100): ['pdp11', 'sensor19'],\n",
       " ((11, 20), 100): ['pdp11', 'sensor20'],\n",
       " ((11, 21), 100): ['pdp11', 'sensor21'],\n",
       " ((11, 22), 100): ['pdp11', 'sensor22'],\n",
       " ((11, 23), 100): ['pdp11', 'sensor23'],\n",
       " ((11, 24), 100): ['pdp11', 'sensor24'],\n",
       " ((11, 25), 100): ['pdp11', 'sensor25'],\n",
       " ((11, 26), 100): ['pdp11', 'sensor26'],\n",
       " ((11, 27), 100): ['pdp11', 'sensor27'],\n",
       " ((11, 28), 100): ['pdp11', 'sensor28'],\n",
       " ((11, 29), 100): ['pdp11', 'sensor29'],\n",
       " ((12, 0), 100): ['pdp12', 'sensor0'],\n",
       " ((12, 1), 100): ['pdp12', 'sensor1'],\n",
       " ((12, 2), 100): ['pdp12', 'sensor2'],\n",
       " ((12, 3), 100): ['pdp12', 'sensor3'],\n",
       " ((12, 4), 100): ['pdp12', 'sensor4'],\n",
       " ((12, 5), 1): ['pdp12', 'sensor5'],\n",
       " ((12, 6), 2): ['pdp12', 'sensor5', 'sensor6'],\n",
       " ((12, 7), 100): ['pdp12', 'sensor7'],\n",
       " ((12, 8), 100): ['pdp12', 'sensor8'],\n",
       " ((12, 9), 100): ['pdp12', 'sensor9'],\n",
       " ((12, 10), 100): ['pdp12', 'sensor10'],\n",
       " ((12, 11), 100): ['pdp12', 'sensor11'],\n",
       " ((12, 12), 100): ['pdp12', 'sensor12'],\n",
       " ((12, 13), 100): ['pdp12', 'sensor13'],\n",
       " ((12, 14), 100): ['pdp12', 'sensor14'],\n",
       " ((12, 15), 100): ['pdp12', 'sensor15'],\n",
       " ((12, 16), 100): ['pdp12', 'sensor16'],\n",
       " ((12, 17), 100): ['pdp12', 'sensor17'],\n",
       " ((12, 18), 100): ['pdp12', 'sensor18'],\n",
       " ((12, 19), 100): ['pdp12', 'sensor19'],\n",
       " ((12, 20), 100): ['pdp12', 'sensor20'],\n",
       " ((12, 21), 100): ['pdp12', 'sensor21'],\n",
       " ((12, 22), 100): ['pdp12', 'sensor22'],\n",
       " ((12, 23), 100): ['pdp12', 'sensor23'],\n",
       " ((12, 24), 100): ['pdp12', 'sensor24'],\n",
       " ((12, 25), 100): ['pdp12', 'sensor25'],\n",
       " ((12, 26), 100): ['pdp12', 'sensor26'],\n",
       " ((12, 27), 100): ['pdp12', 'sensor27'],\n",
       " ((12, 28), 100): ['pdp12', 'sensor28'],\n",
       " ((12, 29), 100): ['pdp12', 'sensor29'],\n",
       " ((13, 0), 100): ['pdp13', 'sensor0'],\n",
       " ((13, 1), 100): ['pdp13', 'sensor1'],\n",
       " ((13, 2), 100): ['pdp13', 'sensor2'],\n",
       " ((13, 3), 100): ['pdp13', 'sensor3'],\n",
       " ((13, 4), 100): ['pdp13', 'sensor4'],\n",
       " ((13, 5), 100): ['pdp13', 'sensor5'],\n",
       " ((13, 6), 100): ['pdp13', 'sensor6'],\n",
       " ((13, 7), 100): ['pdp13', 'sensor7'],\n",
       " ((13, 8), 100): ['pdp13', 'sensor8'],\n",
       " ((13, 9), 100): ['pdp13', 'sensor9'],\n",
       " ((13, 10), 100): ['pdp13', 'sensor10'],\n",
       " ((13, 11), 100): ['pdp13', 'sensor11'],\n",
       " ((13, 12), 100): ['pdp13', 'sensor12'],\n",
       " ((13, 13), 100): ['pdp13', 'sensor13'],\n",
       " ((13, 14), 100): ['pdp13', 'sensor14'],\n",
       " ((13, 15), 100): ['pdp13', 'sensor15'],\n",
       " ((13, 16), 100): ['pdp13', 'sensor16'],\n",
       " ((13, 17), 100): ['pdp13', 'sensor17'],\n",
       " ((13, 18), 100): ['pdp13', 'sensor18'],\n",
       " ((13, 19), 100): ['pdp13', 'sensor19'],\n",
       " ((13, 20), 100): ['pdp13', 'sensor20'],\n",
       " ((13, 21), 100): ['pdp13', 'sensor21'],\n",
       " ((13, 22), 100): ['pdp13', 'sensor22'],\n",
       " ((13, 23), 100): ['pdp13', 'sensor23'],\n",
       " ((13, 24), 100): ['pdp13', 'sensor24'],\n",
       " ((13, 25), 100): ['pdp13', 'sensor25'],\n",
       " ((13, 26), 100): ['pdp13', 'sensor26'],\n",
       " ((13, 27), 100): ['pdp13', 'sensor27'],\n",
       " ((13, 28), 100): ['pdp13', 'sensor28'],\n",
       " ((13, 29), 100): ['pdp13', 'sensor29'],\n",
       " ((14, 0), 100): ['pdp14', 'sensor0'],\n",
       " ((14, 1), 100): ['pdp14', 'sensor1'],\n",
       " ((14, 2), 1): ['pdp14', 'sensor2'],\n",
       " ((14, 3), 100): ['pdp14', 'sensor3'],\n",
       " ((14, 4), 100): ['pdp14', 'sensor4'],\n",
       " ((14, 5), 100): ['pdp14', 'sensor5'],\n",
       " ((14, 6), 100): ['pdp14', 'sensor6'],\n",
       " ((14, 7), 100): ['pdp14', 'sensor7'],\n",
       " ((14, 8), 100): ['pdp14', 'sensor8'],\n",
       " ((14, 9), 100): ['pdp14', 'sensor9'],\n",
       " ((14, 10), 100): ['pdp14', 'sensor10'],\n",
       " ((14, 11), 100): ['pdp14', 'sensor11'],\n",
       " ((14, 12), 100): ['pdp14', 'sensor12'],\n",
       " ((14, 13), 100): ['pdp14', 'sensor13'],\n",
       " ((14, 14), 100): ['pdp14', 'sensor14'],\n",
       " ((14, 15), 100): ['pdp14', 'sensor15'],\n",
       " ((14, 16), 100): ['pdp14', 'sensor16'],\n",
       " ((14, 17), 100): ['pdp14', 'sensor17'],\n",
       " ((14, 18), 100): ['pdp14', 'sensor18'],\n",
       " ((14, 19), 100): ['pdp14', 'sensor19'],\n",
       " ((14, 20), 100): ['pdp14', 'sensor20'],\n",
       " ((14, 21), 100): ['pdp14', 'sensor21'],\n",
       " ((14, 22), 100): ['pdp14', 'sensor22'],\n",
       " ((14, 23), 100): ['pdp14', 'sensor23'],\n",
       " ((14, 24), 100): ['pdp14', 'sensor24'],\n",
       " ((14, 25), 100): ['pdp14', 'sensor25'],\n",
       " ((14, 26), 100): ['pdp14', 'sensor26'],\n",
       " ((14, 27), 100): ['pdp14', 'sensor27'],\n",
       " ((14, 28), 100): ['pdp14', 'sensor28'],\n",
       " ((14, 29), 100): ['pdp14', 'sensor29'],\n",
       " ((15, 0), 100): ['pdp15', 'sensor0'],\n",
       " ((15, 1), 100): ['pdp15', 'sensor1'],\n",
       " ((15, 2), 100): ['pdp15', 'sensor2'],\n",
       " ((15, 3), 100): ['pdp15', 'sensor3'],\n",
       " ((15, 4), 100): ['pdp15', 'sensor4'],\n",
       " ((15, 5), 100): ['pdp15', 'sensor5'],\n",
       " ((15, 6), 100): ['pdp15', 'sensor6'],\n",
       " ((15, 7), 100): ['pdp15', 'sensor7'],\n",
       " ((15, 8), 100): ['pdp15', 'sensor8'],\n",
       " ((15, 9), 100): ['pdp15', 'sensor9'],\n",
       " ((15, 10), 100): ['pdp15', 'sensor10'],\n",
       " ((15, 11), 100): ['pdp15', 'sensor11'],\n",
       " ((15, 12), 100): ['pdp15', 'sensor12'],\n",
       " ((15, 13), 100): ['pdp15', 'sensor13'],\n",
       " ((15, 14), 100): ['pdp15', 'sensor14'],\n",
       " ((15, 15), 100): ['pdp15', 'sensor15'],\n",
       " ((15, 16), 100): ['pdp15', 'sensor16'],\n",
       " ((15, 17), 100): ['pdp15', 'sensor17'],\n",
       " ((15, 18), 100): ['pdp15', 'sensor18'],\n",
       " ((15, 19), 100): ['pdp15', 'sensor19'],\n",
       " ((15, 20), 100): ['pdp15', 'sensor20'],\n",
       " ((15, 21), 100): ['pdp15', 'sensor21'],\n",
       " ((15, 22), 100): ['pdp15', 'sensor22'],\n",
       " ((15, 23), 100): ['pdp15', 'sensor23'],\n",
       " ((15, 24), 100): ['pdp15', 'sensor24'],\n",
       " ((15, 25), 100): ['pdp15', 'sensor25'],\n",
       " ((15, 26), 100): ['pdp15', 'sensor26'],\n",
       " ((15, 27), 100): ['pdp15', 'sensor27'],\n",
       " ((15, 28), 100): ['pdp15', 'sensor28'],\n",
       " ((15, 29), 100): ['pdp15', 'sensor29'],\n",
       " ((16, 0), 100): ['pdp16', 'sensor0'],\n",
       " ((16, 1), 100): ['pdp16', 'sensor1'],\n",
       " ((16, 2), 100): ['pdp16', 'sensor2'],\n",
       " ((16, 3), 100): ['pdp16', 'sensor3'],\n",
       " ((16, 4), 100): ['pdp16', 'sensor4'],\n",
       " ((16, 5), 100): ['pdp16', 'sensor5'],\n",
       " ((16, 6), 100): ['pdp16', 'sensor6'],\n",
       " ((16, 7), 100): ['pdp16', 'sensor7'],\n",
       " ((16, 8), 100): ['pdp16', 'sensor8'],\n",
       " ((16, 9), 100): ['pdp16', 'sensor9'],\n",
       " ((16, 10), 100): ['pdp16', 'sensor10'],\n",
       " ((16, 11), 100): ['pdp16', 'sensor11'],\n",
       " ((16, 12), 100): ['pdp16', 'sensor12'],\n",
       " ((16, 13), 100): ['pdp16', 'sensor13'],\n",
       " ((16, 14), 100): ['pdp16', 'sensor14'],\n",
       " ((16, 15), 100): ['pdp16', 'sensor15'],\n",
       " ((16, 16), 100): ['pdp16', 'sensor16'],\n",
       " ((16, 17), 100): ['pdp16', 'sensor17'],\n",
       " ((16, 18), 100): ['pdp16', 'sensor18'],\n",
       " ((16, 19), 100): ['pdp16', 'sensor19'],\n",
       " ((16, 20), 100): ['pdp16', 'sensor20'],\n",
       " ((16, 21), 100): ['pdp16', 'sensor21'],\n",
       " ((16, 22), 100): ['pdp16', 'sensor22'],\n",
       " ((16, 23), 100): ['pdp16', 'sensor23'],\n",
       " ((16, 24), 100): ['pdp16', 'sensor24'],\n",
       " ((16, 25), 100): ['pdp16', 'sensor25'],\n",
       " ((16, 26), 100): ['pdp16', 'sensor26'],\n",
       " ((16, 27), 100): ['pdp16', 'sensor27'],\n",
       " ((16, 28), 100): ['pdp16', 'sensor28'],\n",
       " ((16, 29), 100): ['pdp16', 'sensor29'],\n",
       " ((17, 0), 100): ['pdp17', 'sensor0'],\n",
       " ((17, 1), 100): ['pdp17', 'sensor1'],\n",
       " ((17, 2), 100): ['pdp17', 'sensor2'],\n",
       " ((17, 3), 100): ['pdp17', 'sensor3'],\n",
       " ((17, 4), 100): ['pdp17', 'sensor4'],\n",
       " ((17, 5), 100): ['pdp17', 'sensor5'],\n",
       " ((17, 6), 100): ['pdp17', 'sensor6'],\n",
       " ((17, 7), 100): ['pdp17', 'sensor7'],\n",
       " ((17, 8), 100): ['pdp17', 'sensor8'],\n",
       " ((17, 9), 100): ['pdp17', 'sensor9'],\n",
       " ((17, 10), 100): ['pdp17', 'sensor10'],\n",
       " ((17, 11), 100): ['pdp17', 'sensor11'],\n",
       " ((17, 12), 100): ['pdp17', 'sensor12'],\n",
       " ((17, 13), 100): ['pdp17', 'sensor13'],\n",
       " ((17, 14), 100): ['pdp17', 'sensor14'],\n",
       " ((17, 15), 100): ['pdp17', 'sensor15'],\n",
       " ((17, 16), 100): ['pdp17', 'sensor16'],\n",
       " ((17, 17), 100): ['pdp17', 'sensor17'],\n",
       " ((17, 18), 100): ['pdp17', 'sensor18'],\n",
       " ((17, 19), 100): ['pdp17', 'sensor19'],\n",
       " ((17, 20), 100): ['pdp17', 'sensor20'],\n",
       " ((17, 21), 100): ['pdp17', 'sensor21'],\n",
       " ((17, 22), 100): ['pdp17', 'sensor22'],\n",
       " ((17, 23), 100): ['pdp17', 'sensor23'],\n",
       " ((17, 24), 100): ['pdp17', 'sensor24'],\n",
       " ((17, 25), 100): ['pdp17', 'sensor25'],\n",
       " ((17, 26), 100): ['pdp17', 'sensor26'],\n",
       " ((17, 27), 100): ['pdp17', 'sensor27'],\n",
       " ((17, 28), 100): ['pdp17', 'sensor28'],\n",
       " ((17, 29), 100): ['pdp17', 'sensor29'],\n",
       " ((18, 0), 100): ['pdp18', 'sensor0'],\n",
       " ((18, 1), 100): ['pdp18', 'sensor1'],\n",
       " ((18, 2), 100): ['pdp18', 'sensor2'],\n",
       " ((18, 3), 100): ['pdp18', 'sensor3'],\n",
       " ((18, 4), 1): ['pdp18', 'sensor4'],\n",
       " ((18, 5), 100): ['pdp18', 'sensor5'],\n",
       " ((18, 6), 100): ['pdp18', 'sensor6'],\n",
       " ((18, 7), 1): ['pdp18', 'sensor7'],\n",
       " ((18, 8), 100): ['pdp18', 'sensor8'],\n",
       " ((18, 9), 100): ['pdp18', 'sensor9'],\n",
       " ((18, 10), 100): ['pdp18', 'sensor10'],\n",
       " ((18, 11), 100): ['pdp18', 'sensor11'],\n",
       " ((18, 12), 100): ['pdp18', 'sensor12'],\n",
       " ((18, 13), 100): ['pdp18', 'sensor13'],\n",
       " ((18, 14), 100): ['pdp18', 'sensor14'],\n",
       " ((18, 15), 100): ['pdp18', 'sensor15'],\n",
       " ((18, 16), 100): ['pdp18', 'sensor16'],\n",
       " ((18, 17), 100): ['pdp18', 'sensor17'],\n",
       " ((18, 18), 100): ['pdp18', 'sensor18'],\n",
       " ((18, 19), 100): ['pdp18', 'sensor19'],\n",
       " ((18, 20), 100): ['pdp18', 'sensor20'],\n",
       " ((18, 21), 100): ['pdp18', 'sensor21'],\n",
       " ((18, 22), 100): ['pdp18', 'sensor22'],\n",
       " ((18, 23), 100): ['pdp18', 'sensor23'],\n",
       " ((18, 24), 100): ['pdp18', 'sensor24'],\n",
       " ((18, 25), 100): ['pdp18', 'sensor25'],\n",
       " ((18, 26), 100): ['pdp18', 'sensor26'],\n",
       " ((18, 27), 100): ['pdp18', 'sensor27'],\n",
       " ((18, 28), 100): ['pdp18', 'sensor28'],\n",
       " ((18, 29), 100): ['pdp18', 'sensor29'],\n",
       " ((19, 0), 100): ['pdp19', 'sensor0'],\n",
       " ((19, 1), 100): ['pdp19', 'sensor1'],\n",
       " ((19, 2), 100): ['pdp19', 'sensor2'],\n",
       " ((19, 3), 100): ['pdp19', 'sensor3'],\n",
       " ((19, 4), 100): ['pdp19', 'sensor4'],\n",
       " ((19, 5), 100): ['pdp19', 'sensor5'],\n",
       " ((19, 6), 100): ['pdp19', 'sensor6'],\n",
       " ((19, 7), 100): ['pdp19', 'sensor7'],\n",
       " ((19, 8), 1): ['pdp19', 'sensor8'],\n",
       " ((19, 9), 100): ['pdp19', 'sensor9'],\n",
       " ((19, 10), 100): ['pdp19', 'sensor10'],\n",
       " ((19, 11), 100): ['pdp19', 'sensor11'],\n",
       " ((19, 12), 100): ['pdp19', 'sensor12'],\n",
       " ((19, 13), 100): ['pdp19', 'sensor13'],\n",
       " ((19, 14), 100): ['pdp19', 'sensor14'],\n",
       " ((19, 15), 100): ['pdp19', 'sensor15'],\n",
       " ((19, 16), 100): ['pdp19', 'sensor16'],\n",
       " ((19, 17), 100): ['pdp19', 'sensor17'],\n",
       " ((19, 18), 100): ['pdp19', 'sensor18'],\n",
       " ((19, 19), 100): ['pdp19', 'sensor19'],\n",
       " ((19, 20), 100): ['pdp19', 'sensor20'],\n",
       " ((19, 21), 100): ['pdp19', 'sensor21'],\n",
       " ((19, 22), 100): ['pdp19', 'sensor22'],\n",
       " ((19, 23), 100): ['pdp19', 'sensor23'],\n",
       " ((19, 24), 100): ['pdp19', 'sensor24'],\n",
       " ((19, 25), 100): ['pdp19', 'sensor25'],\n",
       " ((19, 26), 100): ['pdp19', 'sensor26'],\n",
       " ((19, 27), 100): ['pdp19', 'sensor27'],\n",
       " ((19, 28), 100): ['pdp19', 'sensor28'],\n",
       " ((19, 29), 100): ['pdp19', 'sensor29'],\n",
       " ((20, 0), 100): ['pdp20', 'sensor0'],\n",
       " ((20, 1), 100): ['pdp20', 'sensor1'],\n",
       " ((20, 2), 100): ['pdp20', 'sensor2'],\n",
       " ((20, 3), 100): ['pdp20', 'sensor3'],\n",
       " ((20, 4), 100): ['pdp20', 'sensor4'],\n",
       " ((20, 5), 100): ['pdp20', 'sensor5'],\n",
       " ((20, 6), 100): ['pdp20', 'sensor6'],\n",
       " ((20, 7), 100): ['pdp20', 'sensor7'],\n",
       " ((20, 8), 100): ['pdp20', 'sensor8'],\n",
       " ((20, 9), 100): ['pdp20', 'sensor9'],\n",
       " ((20, 10), 100): ['pdp20', 'sensor10'],\n",
       " ((20, 11), 100): ['pdp20', 'sensor11'],\n",
       " ((20, 12), 100): ['pdp20', 'sensor12'],\n",
       " ((20, 13), 100): ['pdp20', 'sensor13'],\n",
       " ((20, 14), 100): ['pdp20', 'sensor14'],\n",
       " ((20, 15), 100): ['pdp20', 'sensor15'],\n",
       " ((20, 16), 100): ['pdp20', 'sensor16'],\n",
       " ((20, 17), 100): ['pdp20', 'sensor17'],\n",
       " ((20, 18), 100): ['pdp20', 'sensor18'],\n",
       " ((20, 19), 100): ['pdp20', 'sensor19'],\n",
       " ((20, 20), 100): ['pdp20', 'sensor20'],\n",
       " ((20, 21), 100): ['pdp20', 'sensor21'],\n",
       " ((20, 22), 100): ['pdp20', 'sensor22'],\n",
       " ((20, 23), 100): ['pdp20', 'sensor23'],\n",
       " ((20, 24), 100): ['pdp20', 'sensor24'],\n",
       " ((20, 25), 100): ['pdp20', 'sensor25'],\n",
       " ((20, 26), 100): ['pdp20', 'sensor26'],\n",
       " ((20, 27), 100): ['pdp20', 'sensor27'],\n",
       " ((20, 28), 100): ['pdp20', 'sensor28'],\n",
       " ((20, 29), 100): ['pdp20', 'sensor29'],\n",
       " ((21, 0), 100): ['pdp21', 'sensor0'],\n",
       " ((21, 1), 100): ['pdp21', 'sensor1'],\n",
       " ((21, 2), 100): ['pdp21', 'sensor2'],\n",
       " ((21, 3), 100): ['pdp21', 'sensor3'],\n",
       " ((21, 4), 100): ['pdp21', 'sensor4'],\n",
       " ((21, 5), 2): ['pdp21', 'sensor6', 'sensor5'],\n",
       " ((21, 6), 1): ['pdp21', 'sensor6'],\n",
       " ((21, 7), 100): ['pdp21', 'sensor7'],\n",
       " ((21, 8), 100): ['pdp21', 'sensor8'],\n",
       " ((21, 9), 100): ['pdp21', 'sensor9'],\n",
       " ((21, 10), 100): ['pdp21', 'sensor10'],\n",
       " ((21, 11), 1): ['pdp21', 'sensor11'],\n",
       " ((21, 12), 100): ['pdp21', 'sensor12'],\n",
       " ((21, 13), 100): ['pdp21', 'sensor13'],\n",
       " ((21, 14), 100): ['pdp21', 'sensor14'],\n",
       " ((21, 15), 100): ['pdp21', 'sensor15'],\n",
       " ((21, 16), 100): ['pdp21', 'sensor16'],\n",
       " ((21, 17), 100): ['pdp21', 'sensor17'],\n",
       " ((21, 18), 100): ['pdp21', 'sensor18'],\n",
       " ((21, 19), 100): ['pdp21', 'sensor19'],\n",
       " ((21, 20), 100): ['pdp21', 'sensor20'],\n",
       " ((21, 21), 100): ['pdp21', 'sensor21'],\n",
       " ((21, 22), 100): ['pdp21', 'sensor22'],\n",
       " ((21, 23), 100): ['pdp21', 'sensor23'],\n",
       " ((21, 24), 100): ['pdp21', 'sensor24'],\n",
       " ((21, 25), 100): ['pdp21', 'sensor25'],\n",
       " ((21, 26), 100): ['pdp21', 'sensor26'],\n",
       " ((21, 27), 100): ['pdp21', 'sensor27'],\n",
       " ((21, 28), 100): ['pdp21', 'sensor28'],\n",
       " ((21, 29), 100): ['pdp21', 'sensor29'],\n",
       " ((22, 0), 100): ['pdp22', 'sensor0'],\n",
       " ((22, 1), 100): ['pdp22', 'sensor1'],\n",
       " ((22, 2), 100): ['pdp22', 'sensor2'],\n",
       " ((22, 3), 100): ['pdp22', 'sensor3'],\n",
       " ((22, 4), 100): ['pdp22', 'sensor4'],\n",
       " ((22, 5), 100): ['pdp22', 'sensor5'],\n",
       " ((22, 6), 100): ['pdp22', 'sensor6'],\n",
       " ((22, 7), 100): ['pdp22', 'sensor7'],\n",
       " ((22, 8), 100): ['pdp22', 'sensor8'],\n",
       " ((22, 9), 1): ['pdp22', 'sensor9'],\n",
       " ((22, 10), 1): ['pdp22', 'sensor10'],\n",
       " ((22, 11), 100): ['pdp22', 'sensor11'],\n",
       " ((22, 12), 100): ['pdp22', 'sensor12'],\n",
       " ((22, 13), 100): ['pdp22', 'sensor13'],\n",
       " ((22, 14), 100): ['pdp22', 'sensor14'],\n",
       " ((22, 15), 100): ['pdp22', 'sensor15'],\n",
       " ((22, 16), 100): ['pdp22', 'sensor16'],\n",
       " ((22, 17), 100): ['pdp22', 'sensor17'],\n",
       " ((22, 18), 100): ['pdp22', 'sensor18'],\n",
       " ((22, 19), 100): ['pdp22', 'sensor19'],\n",
       " ((22, 20), 100): ['pdp22', 'sensor20'],\n",
       " ((22, 21), 100): ['pdp22', 'sensor21'],\n",
       " ((22, 22), 100): ['pdp22', 'sensor22'],\n",
       " ((22, 23), 100): ['pdp22', 'sensor23'],\n",
       " ((22, 24), 100): ['pdp22', 'sensor24'],\n",
       " ((22, 25), 100): ['pdp22', 'sensor25'],\n",
       " ((22, 26), 100): ['pdp22', 'sensor26'],\n",
       " ((22, 27), 100): ['pdp22', 'sensor27'],\n",
       " ((22, 28), 100): ['pdp22', 'sensor28'],\n",
       " ((22, 29), 100): ['pdp22', 'sensor29'],\n",
       " ((23, 0), 100): ['pdp23', 'sensor0'],\n",
       " ((23, 1), 100): ['pdp23', 'sensor1'],\n",
       " ((23, 2), 100): ['pdp23', 'sensor2'],\n",
       " ((23, 3), 100): ['pdp23', 'sensor3'],\n",
       " ((23, 4), 100): ['pdp23', 'sensor4'],\n",
       " ((23, 5), 100): ['pdp23', 'sensor5'],\n",
       " ((23, 6), 100): ['pdp23', 'sensor6'],\n",
       " ((23, 7), 100): ['pdp23', 'sensor7'],\n",
       " ((23, 8), 100): ['pdp23', 'sensor8'],\n",
       " ((23, 9), 100): ['pdp23', 'sensor9'],\n",
       " ((23, 10), 100): ['pdp23', 'sensor10'],\n",
       " ((23, 11), 100): ['pdp23', 'sensor11'],\n",
       " ((23, 12), 100): ['pdp23', 'sensor12'],\n",
       " ((23, 13), 100): ['pdp23', 'sensor13'],\n",
       " ((23, 14), 100): ['pdp23', 'sensor14'],\n",
       " ((23, 15), 100): ['pdp23', 'sensor15'],\n",
       " ((23, 16), 100): ['pdp23', 'sensor16'],\n",
       " ((23, 17), 100): ['pdp23', 'sensor17'],\n",
       " ((23, 18), 100): ['pdp23', 'sensor18'],\n",
       " ((23, 19), 100): ['pdp23', 'sensor19'],\n",
       " ((23, 20), 100): ['pdp23', 'sensor20'],\n",
       " ((23, 21), 100): ['pdp23', 'sensor21'],\n",
       " ((23, 22), 100): ['pdp23', 'sensor22'],\n",
       " ((23, 23), 100): ['pdp23', 'sensor23'],\n",
       " ((23, 24), 100): ['pdp23', 'sensor24'],\n",
       " ((23, 25), 100): ['pdp23', 'sensor25'],\n",
       " ((23, 26), 100): ['pdp23', 'sensor26'],\n",
       " ((23, 27), 100): ['pdp23', 'sensor27'],\n",
       " ((23, 28), 100): ['pdp23', 'sensor28'],\n",
       " ((23, 29), 100): ['pdp23', 'sensor29'],\n",
       " ((24, 0), 100): ['pdp24', 'sensor0'],\n",
       " ((24, 1), 100): ['pdp24', 'sensor1'],\n",
       " ((24, 2), 100): ['pdp24', 'sensor2'],\n",
       " ((24, 3), 100): ['pdp24', 'sensor3'],\n",
       " ((24, 4), 100): ['pdp24', 'sensor4'],\n",
       " ((24, 5), 100): ['pdp24', 'sensor5'],\n",
       " ((24, 6), 100): ['pdp24', 'sensor6'],\n",
       " ((24, 7), 100): ['pdp24', 'sensor7'],\n",
       " ((24, 8), 100): ['pdp24', 'sensor8'],\n",
       " ((24, 9), 100): ['pdp24', 'sensor9'],\n",
       " ((24, 10), 100): ['pdp24', 'sensor10'],\n",
       " ((24, 11), 100): ['pdp24', 'sensor11'],\n",
       " ((24, 12), 100): ['pdp24', 'sensor12'],\n",
       " ((24, 13), 100): ['pdp24', 'sensor13'],\n",
       " ((24, 14), 100): ['pdp24', 'sensor14'],\n",
       " ((24, 15), 100): ['pdp24', 'sensor15'],\n",
       " ((24, 16), 100): ['pdp24', 'sensor16'],\n",
       " ((24, 17), 100): ['pdp24', 'sensor17'],\n",
       " ((24, 18), 100): ['pdp24', 'sensor18'],\n",
       " ((24, 19), 100): ['pdp24', 'sensor19'],\n",
       " ((24, 20), 100): ['pdp24', 'sensor20'],\n",
       " ((24, 21), 100): ['pdp24', 'sensor21'],\n",
       " ((24, 22), 100): ['pdp24', 'sensor22'],\n",
       " ((24, 23), 100): ['pdp24', 'sensor23'],\n",
       " ((24, 24), 100): ['pdp24', 'sensor24'],\n",
       " ((24, 25), 100): ['pdp24', 'sensor25'],\n",
       " ((24, 26), 100): ['pdp24', 'sensor26'],\n",
       " ((24, 27), 100): ['pdp24', 'sensor27'],\n",
       " ((24, 28), 100): ['pdp24', 'sensor28'],\n",
       " ((24, 29), 100): ['pdp24', 'sensor29'],\n",
       " ((25, 0), 100): ['pdp25', 'sensor0'],\n",
       " ((25, 1), 100): ['pdp25', 'sensor1'],\n",
       " ((25, 2), 100): ['pdp25', 'sensor2'],\n",
       " ((25, 3), 100): ['pdp25', 'sensor3'],\n",
       " ((25, 4), 100): ['pdp25', 'sensor4'],\n",
       " ((25, 5), 100): ['pdp25', 'sensor5'],\n",
       " ((25, 6), 100): ['pdp25', 'sensor6'],\n",
       " ((25, 7), 100): ['pdp25', 'sensor7'],\n",
       " ((25, 8), 100): ['pdp25', 'sensor8'],\n",
       " ((25, 9), 100): ['pdp25', 'sensor9'],\n",
       " ((25, 10), 100): ['pdp25', 'sensor10'],\n",
       " ((25, 11), 100): ['pdp25', 'sensor11'],\n",
       " ((25, 12), 100): ['pdp25', 'sensor12'],\n",
       " ((25, 13), 100): ['pdp25', 'sensor13'],\n",
       " ((25, 14), 100): ['pdp25', 'sensor14'],\n",
       " ((25, 15), 100): ['pdp25', 'sensor15'],\n",
       " ((25, 16), 100): ['pdp25', 'sensor16'],\n",
       " ((25, 17), 100): ['pdp25', 'sensor17'],\n",
       " ((25, 18), 100): ['pdp25', 'sensor18'],\n",
       " ((25, 19), 100): ['pdp25', 'sensor19'],\n",
       " ((25, 20), 100): ['pdp25', 'sensor20'],\n",
       " ((25, 21), 100): ['pdp25', 'sensor21'],\n",
       " ((25, 22), 100): ['pdp25', 'sensor22'],\n",
       " ((25, 23), 100): ['pdp25', 'sensor23'],\n",
       " ((25, 24), 100): ['pdp25', 'sensor24'],\n",
       " ((25, 25), 100): ['pdp25', 'sensor25'],\n",
       " ((25, 26), 100): ['pdp25', 'sensor26'],\n",
       " ((25, 27), 100): ['pdp25', 'sensor27'],\n",
       " ((25, 28), 100): ['pdp25', 'sensor28'],\n",
       " ((25, 29), 100): ['pdp25', 'sensor29'],\n",
       " ((26, 0), 100): ['pdp26', 'sensor0'],\n",
       " ((26, 1), 100): ['pdp26', 'sensor1'],\n",
       " ((26, 2), 100): ['pdp26', 'sensor2'],\n",
       " ((26, 3), 100): ['pdp26', 'sensor3'],\n",
       " ((26, 4), 100): ['pdp26', 'sensor4'],\n",
       " ((26, 5), 100): ['pdp26', 'sensor5'],\n",
       " ((26, 6), 100): ['pdp26', 'sensor6'],\n",
       " ((26, 7), 100): ['pdp26', 'sensor7'],\n",
       " ((26, 8), 100): ['pdp26', 'sensor8'],\n",
       " ((26, 9), 100): ['pdp26', 'sensor9'],\n",
       " ((26, 10), 100): ['pdp26', 'sensor10'],\n",
       " ((26, 11), 100): ['pdp26', 'sensor11'],\n",
       " ((26, 12), 100): ['pdp26', 'sensor12'],\n",
       " ((26, 13), 1): ['pdp26', 'sensor13'],\n",
       " ((26, 14), 100): ['pdp26', 'sensor14'],\n",
       " ((26, 15), 100): ['pdp26', 'sensor15'],\n",
       " ((26, 16), 2): ['pdp26', 'sensor13', 'sensor16'],\n",
       " ((26, 17), 100): ['pdp26', 'sensor17'],\n",
       " ((26, 18), 100): ['pdp26', 'sensor18'],\n",
       " ((26, 19), 100): ['pdp26', 'sensor19'],\n",
       " ((26, 20), 100): ['pdp26', 'sensor20'],\n",
       " ((26, 21), 100): ['pdp26', 'sensor21'],\n",
       " ((26, 22), 100): ['pdp26', 'sensor22'],\n",
       " ((26, 23), 100): ['pdp26', 'sensor23'],\n",
       " ((26, 24), 100): ['pdp26', 'sensor24'],\n",
       " ((26, 25), 100): ['pdp26', 'sensor25'],\n",
       " ((26, 26), 100): ['pdp26', 'sensor26'],\n",
       " ((26, 27), 100): ['pdp26', 'sensor27'],\n",
       " ((26, 28), 100): ['pdp26', 'sensor28'],\n",
       " ((26, 29), 100): ['pdp26', 'sensor29'],\n",
       " ((27, 0), 100): ['pdp27', 'sensor0'],\n",
       " ((27, 1), 100): ['pdp27', 'sensor1'],\n",
       " ((27, 2), 100): ['pdp27', 'sensor2'],\n",
       " ((27, 3), 100): ['pdp27', 'sensor3'],\n",
       " ((27, 4), 100): ['pdp27', 'sensor4'],\n",
       " ((27, 5), 100): ['pdp27', 'sensor5'],\n",
       " ((27, 6), 100): ['pdp27', 'sensor6'],\n",
       " ((27, 7), 100): ['pdp27', 'sensor7'],\n",
       " ((27, 8), 100): ['pdp27', 'sensor8'],\n",
       " ((27, 9), 100): ['pdp27', 'sensor9'],\n",
       " ((27, 10), 100): ['pdp27', 'sensor10'],\n",
       " ((27, 11), 100): ['pdp27', 'sensor11'],\n",
       " ((27, 12), 100): ['pdp27', 'sensor12'],\n",
       " ((27, 13), 100): ['pdp27', 'sensor13'],\n",
       " ((27, 14), 100): ['pdp27', 'sensor14'],\n",
       " ((27, 15), 100): ['pdp27', 'sensor15'],\n",
       " ((27, 16), 100): ['pdp27', 'sensor16'],\n",
       " ((27, 17), 100): ['pdp27', 'sensor17'],\n",
       " ((27, 18), 100): ['pdp27', 'sensor18'],\n",
       " ((27, 19), 100): ['pdp27', 'sensor19'],\n",
       " ((27, 20), 100): ['pdp27', 'sensor20'],\n",
       " ((27, 21), 100): ['pdp27', 'sensor21'],\n",
       " ((27, 22), 100): ['pdp27', 'sensor22'],\n",
       " ((27, 23), 100): ['pdp27', 'sensor23'],\n",
       " ((27, 24), 100): ['pdp27', 'sensor24'],\n",
       " ((27, 25), 100): ['pdp27', 'sensor25'],\n",
       " ((27, 26), 100): ['pdp27', 'sensor26'],\n",
       " ((27, 27), 100): ['pdp27', 'sensor27'],\n",
       " ((27, 28), 100): ['pdp27', 'sensor28'],\n",
       " ((27, 29), 100): ['pdp27', 'sensor29'],\n",
       " ((28, 0), 100): ['pdp28', 'sensor0'],\n",
       " ((28, 1), 100): ['pdp28', 'sensor1'],\n",
       " ((28, 2), 100): ['pdp28', 'sensor2'],\n",
       " ((28, 3), 100): ['pdp28', 'sensor3'],\n",
       " ((28, 4), 100): ['pdp28', 'sensor4'],\n",
       " ((28, 5), 100): ['pdp28', 'sensor5'],\n",
       " ((28, 6), 100): ['pdp28', 'sensor6'],\n",
       " ((28, 7), 100): ['pdp28', 'sensor7'],\n",
       " ((28, 8), 100): ['pdp28', 'sensor8'],\n",
       " ((28, 9), 100): ['pdp28', 'sensor9'],\n",
       " ((28, 10), 100): ['pdp28', 'sensor10'],\n",
       " ((28, 11), 100): ['pdp28', 'sensor11'],\n",
       " ((28, 12), 100): ['pdp28', 'sensor12'],\n",
       " ((28, 13), 100): ['pdp28', 'sensor13'],\n",
       " ((28, 14), 100): ['pdp28', 'sensor14'],\n",
       " ((28, 15), 100): ['pdp28', 'sensor15'],\n",
       " ((28, 16), 100): ['pdp28', 'sensor16'],\n",
       " ((28, 17), 100): ['pdp28', 'sensor17'],\n",
       " ((28, 18), 100): ['pdp28', 'sensor18'],\n",
       " ((28, 19), 100): ['pdp28', 'sensor19'],\n",
       " ((28, 20), 100): ['pdp28', 'sensor20'],\n",
       " ((28, 21), 100): ['pdp28', 'sensor21'],\n",
       " ((28, 22), 100): ['pdp28', 'sensor22'],\n",
       " ((28, 23), 100): ['pdp28', 'sensor23'],\n",
       " ((28, 24), 100): ['pdp28', 'sensor24'],\n",
       " ((28, 25), 100): ['pdp28', 'sensor25'],\n",
       " ((28, 26), 100): ['pdp28', 'sensor26'],\n",
       " ((28, 27), 100): ['pdp28', 'sensor27'],\n",
       " ((28, 28), 100): ['pdp28', 'sensor28'],\n",
       " ((28, 29), 100): ['pdp28', 'sensor29'],\n",
       " ((29, 0), 100): ['pdp29', 'sensor0'],\n",
       " ((29, 1), 100): ['pdp29', 'sensor1'],\n",
       " ((29, 2), 100): ['pdp29', 'sensor2'],\n",
       " ((29, 3), 100): ['pdp29', 'sensor3'],\n",
       " ((29, 4), 100): ['pdp29', 'sensor4'],\n",
       " ((29, 5), 100): ['pdp29', 'sensor5'],\n",
       " ((29, 6), 100): ['pdp29', 'sensor6'],\n",
       " ((29, 7), 100): ['pdp29', 'sensor7'],\n",
       " ((29, 8), 100): ['pdp29', 'sensor8'],\n",
       " ((29, 9), 100): ['pdp29', 'sensor9'],\n",
       " ((29, 10), 100): ['pdp29', 'sensor10'],\n",
       " ((29, 11), 1): ['pdp29', 'sensor11'],\n",
       " ((29, 12), 1): ['pdp29', 'sensor12'],\n",
       " ((29, 13), 100): ['pdp29', 'sensor13'],\n",
       " ((29, 14), 100): ['pdp29', 'sensor14'],\n",
       " ((29, 15), 100): ['pdp29', 'sensor15'],\n",
       " ((29, 16), 100): ['pdp29', 'sensor16'],\n",
       " ((29, 17), 100): ['pdp29', 'sensor17'],\n",
       " ((29, 18), 100): ['pdp29', 'sensor18'],\n",
       " ((29, 19), 100): ['pdp29', 'sensor19'],\n",
       " ((29, 20), 100): ['pdp29', 'sensor20'],\n",
       " ((29, 21), 100): ['pdp29', 'sensor21'],\n",
       " ((29, 22), 100): ['pdp29', 'sensor22'],\n",
       " ((29, 23), 100): ['pdp29', 'sensor23'],\n",
       " ((29, 24), 100): ['pdp29', 'sensor24'],\n",
       " ((29, 25), 100): ['pdp29', 'sensor25'],\n",
       " ((29, 26), 100): ['pdp29', 'sensor26'],\n",
       " ((29, 27), 100): ['pdp29', 'sensor27'],\n",
       " ((29, 28), 100): ['pdp29', 'sensor28'],\n",
       " ((29, 29), 100): ['pdp29', 'sensor29'],\n",
       " ((30, 0), 100): ['pdp30', 'sensor0'],\n",
       " ((30, 1), 100): ['pdp30', 'sensor1'],\n",
       " ((30, 2), 100): ['pdp30', 'sensor2'],\n",
       " ((30, 3), 100): ['pdp30', 'sensor3'],\n",
       " ((30, 4), 100): ['pdp30', 'sensor4'],\n",
       " ((30, 5), 100): ['pdp30', 'sensor5'],\n",
       " ((30, 6), 100): ['pdp30', 'sensor6'],\n",
       " ((30, 7), 100): ['pdp30', 'sensor7'],\n",
       " ((30, 8), 100): ['pdp30', 'sensor8'],\n",
       " ((30, 9), 1): ['pdp30', 'sensor9'],\n",
       " ((30, 10), 1): ['pdp30', 'sensor10'],\n",
       " ((30, 11), 100): ['pdp30', 'sensor11'],\n",
       " ((30, 12), 1): ['pdp30', 'sensor12'],\n",
       " ((30, 13), 100): ['pdp30', 'sensor13'],\n",
       " ((30, 14), 100): ['pdp30', 'sensor14'],\n",
       " ((30, 15), 100): ['pdp30', 'sensor15'],\n",
       " ((30, 16), 100): ['pdp30', 'sensor16'],\n",
       " ((30, 17), 100): ['pdp30', 'sensor17'],\n",
       " ((30, 18), 100): ['pdp30', 'sensor18'],\n",
       " ((30, 19), 100): ['pdp30', 'sensor19'],\n",
       " ((30, 20), 100): ['pdp30', 'sensor20'],\n",
       " ((30, 21), 100): ['pdp30', 'sensor21'],\n",
       " ((30, 22), 100): ['pdp30', 'sensor22'],\n",
       " ((30, 23), 100): ['pdp30', 'sensor23'],\n",
       " ((30, 24), 100): ['pdp30', 'sensor24'],\n",
       " ((30, 25), 100): ['pdp30', 'sensor25'],\n",
       " ((30, 26), 100): ['pdp30', 'sensor26'],\n",
       " ((30, 27), 100): ['pdp30', 'sensor27'],\n",
       " ((30, 28), 100): ['pdp30', 'sensor28'],\n",
       " ((30, 29), 100): ['pdp30', 'sensor29'],\n",
       " ((31, 0), 100): ['pdp31', 'sensor0'],\n",
       " ((31, 1), 100): ['pdp31', 'sensor1'],\n",
       " ((31, 2), 100): ['pdp31', 'sensor2'],\n",
       " ((31, 3), 100): ['pdp31', 'sensor3'],\n",
       " ((31, 4), 100): ['pdp31', 'sensor4'],\n",
       " ((31, 5), 100): ['pdp31', 'sensor5'],\n",
       " ((31, 6), 100): ['pdp31', 'sensor6'],\n",
       " ((31, 7), 100): ['pdp31', 'sensor7'],\n",
       " ((31, 8), 100): ['pdp31', 'sensor8'],\n",
       " ((31, 9), 100): ['pdp31', 'sensor9'],\n",
       " ((31, 10), 100): ['pdp31', 'sensor10'],\n",
       " ((31, 11), 100): ['pdp31', 'sensor11'],\n",
       " ((31, 12), 100): ['pdp31', 'sensor12'],\n",
       " ((31, 13), 100): ['pdp31', 'sensor13'],\n",
       " ((31, 14), 100): ['pdp31', 'sensor14'],\n",
       " ((31, 15), 100): ['pdp31', 'sensor15'],\n",
       " ((31, 16), 100): ['pdp31', 'sensor16'],\n",
       " ((31, 17), 100): ['pdp31', 'sensor17'],\n",
       " ((31, 18), 100): ['pdp31', 'sensor18'],\n",
       " ((31, 19), 100): ['pdp31', 'sensor19'],\n",
       " ((31, 20), 100): ['pdp31', 'sensor20'],\n",
       " ((31, 21), 100): ['pdp31', 'sensor21'],\n",
       " ((31, 22), 100): ['pdp31', 'sensor22'],\n",
       " ((31, 23), 100): ['pdp31', 'sensor23'],\n",
       " ((31, 24), 100): ['pdp31', 'sensor24'],\n",
       " ((31, 25), 100): ['pdp31', 'sensor25'],\n",
       " ((31, 26), 100): ['pdp31', 'sensor26'],\n",
       " ((31, 27), 100): ['pdp31', 'sensor27'],\n",
       " ((31, 28), 100): ['pdp31', 'sensor28'],\n",
       " ((31, 29), 100): ['pdp31', 'sensor29'],\n",
       " ((32, 0), 100): ['pdp32', 'sensor0'],\n",
       " ((32, 1), 100): ['pdp32', 'sensor1'],\n",
       " ((32, 2), 100): ['pdp32', 'sensor2'],\n",
       " ((32, 3), 100): ['pdp32', 'sensor3'],\n",
       " ((32, 4), 100): ['pdp32', 'sensor4'],\n",
       " ((32, 5), 100): ['pdp32', 'sensor5'],\n",
       " ((32, 6), 100): ['pdp32', 'sensor6'],\n",
       " ((32, 7), 100): ['pdp32', 'sensor7'],\n",
       " ((32, 8), 100): ['pdp32', 'sensor8'],\n",
       " ((32, 9), 100): ['pdp32', 'sensor9'],\n",
       " ((32, 10), 100): ['pdp32', 'sensor10'],\n",
       " ((32, 11), 100): ['pdp32', 'sensor11'],\n",
       " ((32, 12), 100): ['pdp32', 'sensor12'],\n",
       " ((32, 13), 100): ['pdp32', 'sensor13'],\n",
       " ((32, 14), 100): ['pdp32', 'sensor14'],\n",
       " ((32, 15), 100): ['pdp32', 'sensor15'],\n",
       " ((32, 16), 100): ['pdp32', 'sensor16'],\n",
       " ((32, 17), 1): ['pdp32', 'sensor17'],\n",
       " ((32, 18), 100): ['pdp32', 'sensor18'],\n",
       " ((32, 19), 100): ['pdp32', 'sensor19'],\n",
       " ((32, 20), 100): ['pdp32', 'sensor20'],\n",
       " ((32, 21), 100): ['pdp32', 'sensor21'],\n",
       " ((32, 22), 100): ['pdp32', 'sensor22'],\n",
       " ((32, 23), 100): ['pdp32', 'sensor23'],\n",
       " ((32, 24), 100): ['pdp32', 'sensor24'],\n",
       " ((32, 25), 100): ['pdp32', 'sensor25'],\n",
       " ((32, 26), 100): ['pdp32', 'sensor26'],\n",
       " ((32, 27), 100): ['pdp32', 'sensor27'],\n",
       " ((32, 28), 100): ['pdp32', 'sensor28'],\n",
       " ((32, 29), 100): ['pdp32', 'sensor29'],\n",
       " ((33, 0), 100): ['pdp33', 'sensor0'],\n",
       " ((33, 1), 100): ['pdp33', 'sensor1'],\n",
       " ((33, 2), 100): ['pdp33', 'sensor2'],\n",
       " ((33, 3), 100): ['pdp33', 'sensor3'],\n",
       " ((33, 4), 100): ['pdp33', 'sensor4'],\n",
       " ((33, 5), 100): ['pdp33', 'sensor5'],\n",
       " ((33, 6), 100): ['pdp33', 'sensor6'],\n",
       " ((33, 7), 100): ['pdp33', 'sensor7'],\n",
       " ((33, 8), 100): ['pdp33', 'sensor8'],\n",
       " ((33, 9), 100): ['pdp33', 'sensor9'],\n",
       " ...}"
      ]
     },
     "execution_count": 26,
     "metadata": {},
     "output_type": "execute_result"
    }
   ],
   "source": [
    "new_zipped"
   ]
  },
  {
   "cell_type": "code",
   "execution_count": 27,
   "metadata": {},
   "outputs": [],
   "source": [
    "def spanning_tree_collecting_time(pdp):\n",
    "    \"\"\"This function defines which sensors are connected with the desired pdp\"\"\"\n",
    "    \"\"\"\n",
    "    return list\n",
    "    \"\"\"\n",
    "    sensor_subset=[]\n",
    "    for key,value in new_zipped.items():\n",
    "        if key[0][0]==pdp:\n",
    "            if key[1]!=100:\n",
    "                #print(i)\n",
    "                sensor_subset.append(key[0][1])\n",
    "    return sensor_subset"
   ]
  },
  {
   "cell_type": "code",
   "execution_count": 28,
   "metadata": {},
   "outputs": [],
   "source": [
    "def to_check_the_minimum_hops_between_the_pdp_and_sensor(spanning_tree):\n",
    "    \"\"\"In this function we check which sensor can send data to the pdp with minimum hops\n",
    "    for example if sensor2 is connected with pdp10 with  hop distance with 2 and same sensor2 is connected with \n",
    "    pdp11 with hop distance 4 then we assume that sensor2 will send data to the drone when drone is at pdp10 since \n",
    "    it has minimum hop distance\"\"\"\n",
    "    subset2=spanning_tree\n",
    "    for key,value in subset2.items():\n",
    "        for key1,value1 in subset2.items():\n",
    "            if key!=key1:\n",
    "                for i in value:\n",
    "                    for j in value1:\n",
    "                        if i==j:\n",
    "                            #print(i)\n",
    "                            #s=get_number(i)\n",
    "                            if nx.dijkstra_path_length(N,'pdp{}'.format(key),'sensor{}'.format(i))>nx.dijkstra_path_length(N,'pdp{}'.format(key1),'sensor{}'.format(i)):\n",
    "                                subset2[key].remove(i)\n",
    "                            else:\n",
    "                                subset2[key1].remove(j)\n",
    "    return subset2"
   ]
  },
  {
   "cell_type": "code",
   "execution_count": 29,
   "metadata": {},
   "outputs": [],
   "source": [
    "def create_spanning_tree_for_tour(tour):\n",
    "    sensor_subset={}\n",
    "    for i in tour:\n",
    "        sensor_subset[i]=spanning_tree_collecting_time(i)\n",
    "    correct_sensor_subset=to_check_the_minimum_hops_between_the_pdp_and_sensor(sensor_subset)\n",
    "    return correct_sensor_subset"
   ]
  },
  {
   "cell_type": "code",
   "execution_count": 30,
   "metadata": {},
   "outputs": [],
   "source": [
    "def check_all_sensor_can_send_data(checked_sensor_arc):\n",
    "    \"\"\"The main aim of creating this function was to check whether all the sensors are connected to the pdps in the route\n",
    "    of drone tour.For example we have pdp10 and pdp7 in our route.ie Route=[10 7].We create spanning tree for the both \n",
    "    the pdps and check whether all the sensors are connected or not.If all the sensors are not connected in the combined\n",
    "    spanning tree calculated with the pdps of the Route\"\"\"\n",
    "    s=[]\n",
    "    for key,values in checked_sensor_arc.items():\n",
    "        s=list(set().union(s,values))\n",
    "    if len(s)==len(sensor): # before there was only s==sensor but it was wrong as s is list and sensor is a list of tuple\n",
    "        return 1\n",
    "    else:\n",
    "        return 0\n",
    "    "
   ]
  },
  {
   "cell_type": "code",
   "execution_count": 31,
   "metadata": {},
   "outputs": [],
   "source": [
    "def determine_collecting_time(checked_sensor_arc):\n",
    "    \"\"\"After checking whether all the sensor can send data while the drone makes a trip in the way as\n",
    "    described in the Route.We assign collecting time as infinite or call the collecting time function\"\"\"\n",
    "    value=check_all_sensor_can_send_data(checked_sensor_arc)\n",
    "    if value==1:\n",
    "        t_collecting=calculate_collecting_time(checked_sensor_arc)\n",
    "    if value==0:\n",
    "        t_collecting=math.inf\n",
    "    return t_collecting"
   ]
  },
  {
   "cell_type": "code",
   "execution_count": 32,
   "metadata": {},
   "outputs": [],
   "source": [
    "def check_all_sensor_can_send_data(checked_sensor_arc):\n",
    "    \"\"\"The main aim of creating this function was to check whether all the sensors are connected to the pdps in the route\n",
    "    of drone tour.For example we have pdp10 and pdp7 in our route.ie Route=[10 7].We create spanning tree for the both \n",
    "    the pdps and check whether all the sensors are connected or not.If all the sensors are not connected in the combined\n",
    "    spanning tree calculated with the pdps of the Route\"\"\"\n",
    "    s=[]\n",
    "    for key,values in checked_sensor_arc.items():\n",
    "        s=list(set().union(s,values))\n",
    "    if len(s)==len(sensor): # before there was only s==sensor but it was wrong as s is list and sensor is a list of tuple\n",
    "        return 1\n",
    "    else:\n",
    "        return 0\n",
    "    "
   ]
  },
  {
   "cell_type": "code",
   "execution_count": 33,
   "metadata": {},
   "outputs": [],
   "source": [
    "def calculate_collecting_time(checked_sensor_arc):\n",
    "    \n",
    "    dict_={}\n",
    "    for key,values in checked_sensor_arc.items():\n",
    "        weight=0\n",
    "        if values!=[]:\n",
    "            for j in values:\n",
    "                for key1,values1 in new_zipped.items():\n",
    "                    if key1[0]==(key,j):\n",
    "                        #print(key1[1])\n",
    "                        weight=weight+key1[1]\n",
    "                        t_collecting=(data_rate/bandwidth)*weight\n",
    "        dict_[key]=t_collecting\n",
    "    return dict_\n",
    "    "
   ]
  },
  {
   "cell_type": "code",
   "execution_count": 34,
   "metadata": {},
   "outputs": [],
   "source": [
    "def calc_cluster_number(sensor):\n",
    "    \n",
    "    for i in range(1,len(sensor)):\n",
    "        new_dict={}\n",
    "        kmeans=KMeans(n_clusters=i)\n",
    "        kmeans.fit(X)\n",
    "        c_centers=tuple(kmeans.cluster_centers_)\n",
    "        for j in c_centers:\n",
    "            temp={}\n",
    "            for p,value in pdp_positions.items():\n",
    "                arr=np.array(value)\n",
    "                dist=np.linalg.norm(j-arr)\n",
    "                temp[p]=dist\n",
    "#           print(temp)\n",
    "            new_dict[tuple(j)]=min(temp.items(),key=operator.itemgetter(1))[0]\n",
    "        subset={}\n",
    "        print(new_dict)\n",
    "        for key,values in new_dict.items():\n",
    "            subset[values]=spanning_tree_collecting_time(values)\n",
    "        checked=to_check_the_minimum_hops_between_the_pdp_and_sensor(subset)\n",
    "        check=check_all_sensor_can_send_data(checked)\n",
    "        if check==1:\n",
    "            print(\"i am here\")\n",
    "            df_=calculate_collecting_time(checked)\n",
    "            print(df_)\n",
    "            break\n",
    "    return i,new_dict,df_\n",
    "        \n",
    "        \n",
    "            "
   ]
  },
  {
   "cell_type": "code",
   "execution_count": 35,
   "metadata": {},
   "outputs": [
    {
     "name": "stderr",
     "output_type": "stream",
     "text": [
      "C:\\Users\\dilip\\Anaconda3\\lib\\site-packages\\sklearn\\cluster\\_kmeans.py:882: UserWarning: KMeans is known to have a memory leak on Windows with MKL, when there are less chunks than available threads. You can avoid it by setting the environment variable OMP_NUM_THREADS=1.\n",
      "  f\"KMeans is known to have a memory leak on Windows \"\n"
     ]
    },
    {
     "name": "stdout",
     "output_type": "stream",
     "text": [
      "{(513.7666666666668, 523.0666666666667): 36}\n",
      "{(263.8461538461539, 585.5384615384615): 20, (704.8823529411765, 475.29411764705884): 43}\n",
      "{(210.5, 378.33333333333337): 11, (735.3076923076924, 409.61538461538464): 43, (417.3636363636364, 736.0909090909092): 29}\n",
      "{(210.5, 378.33333333333337): 11, (748.6363636363636, 593.8181818181819): 44, (309.57142857142856, 763.1428571428571): 21, (624.6666666666666, 258.00000000000006): 34}\n",
      "{(210.5, 378.33333333333337): 11, (615.0, 642.0): 37, (309.57142857142856, 763.1428571428571): 21, (624.6666666666666, 258.00000000000006): 34, (909.0, 536.0): 52}\n",
      "{(210.5, 378.33333333333337): 11, (924.0, 497.25): 60, (585.25, 569.5): 36, (624.6666666666666, 258.00000000000006): 34, (309.57142857142856, 763.1428571428571): 21, (732.6666666666666, 755.0): 45}\n",
      "{(309.57142857142856, 763.1428571428571): 21, (924.0, 497.25): 60, (732.6666666666666, 755.0): 45, (210.5, 378.33333333333337): 11, (596.75, 340.5): 34, (585.25, 569.5): 36, (680.5, 93.0): 41}\n",
      "{(210.5, 378.33333333333337): 11, (596.75, 340.5): 34, (388.75, 805.75): 30, (204.0, 706.3333333333333): 13, (924.0, 497.25): 60, (680.5, 93.0): 41, (732.6666666666666, 755.0): 45, (585.25, 569.5): 36}\n",
      "{(924.0, 497.25): 60, (204.0, 706.3333333333333): 13, (585.25, 569.5): 36, (139.0, 421.6666666666667): 11, (282.0, 335.0): 18, (680.5, 93.0): 41, (732.6666666666666, 755.0): 45, (388.75, 805.75): 30, (596.75, 340.5): 34}\n",
      "{(674.5, 787.0): 46, (185.25, 430.25): 11, (916.5, 409.5): 51, (596.75, 340.5): 34, (340.0, 809.8): 22, (680.5, 93.0): 41, (261.0, 274.5): 18, (904.0, 620.3333333333334): 52, (585.25, 569.5): 36, (233.5, 646.5): 21}\n",
      "{(323.5, 387.5): 19, (916.5, 409.5): 51, (388.75, 805.75): 30, (680.5, 93.0): 41, (585.25, 569.5): 36, (596.75, 340.5): 34, (204.0, 706.3333333333333): 13, (199.0, 230.0): 10, (904.0, 620.3333333333334): 52, (139.0, 421.6666666666667): 11, (674.5, 787.0): 46}\n",
      "{(199.0, 230.0): 10, (585.25, 569.5): 36, (916.5, 409.5): 51, (388.75, 805.75): 30, (674.5, 787.0): 46, (233.5, 646.5): 21, (596.75, 340.5): 34, (680.5, 93.0): 41, (904.0, 620.3333333333334): 52, (139.0, 421.6666666666667): 11, (145.0, 826.0): 14, (323.5, 387.5): 19}\n",
      "{(388.75, 805.75): 30, (596.75, 340.5): 34, (139.0, 421.6666666666667): 11, (674.5, 787.0): 46, (904.0, 620.3333333333334): 52, (585.25, 569.5): 36, (602.0, 38.0): 32, (233.5, 646.5): 21, (916.5, 409.5): 51, (323.5, 387.5): 19, (145.0, 826.0): 14, (759.0, 148.0): 41, (199.0, 230.0): 10}\n",
      "{(585.25, 569.5): 36, (139.0, 421.6666666666667): 11, (357.0, 868.0): 30, (680.5, 93.0): 41, (904.0, 620.3333333333334): 52, (658.5, 370.5): 43, (233.5, 646.5): 21, (674.5, 787.0): 46, (535.0, 310.5): 34, (420.5, 743.5): 29, (145.0, 826.0): 14, (323.5, 387.5): 19, (916.5, 409.5): 51, (199.0, 230.0): 10}\n",
      "{(658.5, 370.5): 43, (139.0, 421.6666666666667): 11, (585.25, 569.5): 36, (904.0, 620.3333333333334): 52, (357.0, 868.0): 30, (233.5, 646.5): 21, (602.0, 38.0): 32, (674.5, 787.0): 46, (323.5, 387.5): 19, (916.5, 409.5): 51, (535.0, 310.5): 34, (420.5, 743.5): 29, (759.0, 148.0): 41, (145.0, 826.0): 14, (199.0, 230.0): 10}\n",
      "{(357.0, 868.0): 30, (535.0, 310.5): 34, (849.0, 691.0): 53, (139.0, 421.6666666666667): 11, (658.5, 370.5): 43, (585.25, 569.5): 36, (233.5, 646.5): 21, (916.5, 409.5): 51, (602.0, 38.0): 32, (674.5, 787.0): 46, (145.0, 826.0): 14, (420.5, 743.5): 29, (931.5, 585.0): 60, (323.5, 387.5): 19, (199.0, 230.0): 10, (759.0, 148.0): 41}\n",
      "{(674.5, 787.0): 46, (323.5, 387.5): 19, (658.5, 370.5): 43, (145.0, 826.0): 14, (916.5, 409.5): 51, (537.5, 590.5): 36, (849.0, 691.0): 53, (139.0, 421.6666666666667): 11, (357.0, 868.0): 30, (602.0, 38.0): 32, (233.5, 646.5): 21, (759.0, 148.0): 41, (535.0, 310.5): 34, (633.0, 548.5): 36, (199.0, 230.0): 10, (931.5, 585.0): 60, (420.5, 743.5): 29}\n",
      "{(849.0, 691.0): 53, (420.5, 743.5): 29, (323.5, 387.5): 19, (658.5, 370.5): 43, (602.0, 38.0): 32, (537.5, 590.5): 36, (988.0, 418.0): 59, (233.5, 646.5): 21, (139.0, 421.6666666666667): 11, (674.5, 787.0): 46, (145.0, 826.0): 14, (535.0, 310.5): 34, (357.0, 868.0): 30, (199.0, 230.0): 10, (759.0, 148.0): 41, (633.0, 548.5): 36, (931.5, 585.0): 60, (845.0, 401.0): 51}\n",
      "{(357.0, 868.0): 30, (845.0, 401.0): 51, (324.0, 456.0): 19, (537.5, 590.5): 36, (535.0, 310.5): 34, (849.0, 691.0): 53, (139.0, 421.6666666666667): 11, (759.0, 148.0): 41, (233.5, 646.5): 21, (199.0, 230.0): 10, (674.5, 787.0): 46, (420.5, 743.5): 29, (931.5, 585.0): 60, (633.0, 548.5): 36, (145.0, 826.0): 14, (602.0, 38.0): 32, (658.5, 370.5): 43, (988.0, 418.0): 59, (323.0, 319.0): 18}\n",
      "{(535.0, 310.5): 34, (674.5, 787.0): 46, (233.5, 646.5): 21, (931.5, 585.0): 60, (139.0, 421.6666666666667): 11, (537.5, 590.5): 36, (759.0, 148.0): 41, (658.5, 370.5): 43, (357.0, 868.0): 30, (470.0, 770.0): 29, (323.0, 319.0): 18, (845.0, 401.0): 51, (145.0, 826.0): 14, (602.0, 38.0): 32, (633.0, 548.5): 36, (849.0, 691.0): 53, (199.0, 230.0): 10, (988.0, 418.0): 59, (324.0, 456.0): 19, (371.0, 717.0): 29}\n",
      "{(602.0, 38.0): 32, (470.0, 770.0): 29, (845.0, 401.0): 51, (139.0, 421.6666666666667): 11, (537.5, 590.5): 36, (535.0, 310.5): 34, (233.5, 646.5): 21, (931.5, 585.0): 60, (323.0, 319.0): 18, (357.0, 868.0): 30, (145.0, 826.0): 14, (702.0, 829.0): 46, (759.0, 148.0): 41, (324.0, 456.0): 19, (199.0, 230.0): 10, (371.0, 717.0): 29, (988.0, 418.0): 59, (647.0, 745.0): 45, (658.5, 370.5): 43, (633.0, 548.5): 36, (849.0, 691.0): 53}\n",
      "i am here\n",
      "{32: 2.5, 29: 5.0, 51: 2.5, 11: 7.5, 36: 10.0, 34: 5.0, 21: 7.5, 60: 5.0, 18: 5.0, 30: 5.0, 14: 2.5, 46: 2.5, 41: 2.5, 19: 2.5, 10: 2.5, 59: 2.5, 45: 2.5, 43: 5.0, 53: 2.5}\n"
     ]
    }
   ],
   "source": [
    "n,m,o=calc_cluster_number(sensor)"
   ]
  },
  {
   "cell_type": "code",
   "execution_count": 36,
   "metadata": {},
   "outputs": [],
   "source": [
    "coordinates=[]\n",
    "for key,values in o.items():\n",
    "    for k,v in pdp_positions.items():\n",
    "        if key==k:\n",
    "            l=list(v)\n",
    "            coordinates.append(l)\n",
    "    "
   ]
  },
  {
   "cell_type": "code",
   "execution_count": 37,
   "metadata": {},
   "outputs": [
    {
     "data": {
      "text/plain": [
       "[[565.685424949238, 0.0],\n",
       " [424.26406871192853, 707.1067811865476],\n",
       " [848.5281374238571, 424.26406871192853],\n",
       " [141.4213562373095, 424.26406871192853],\n",
       " [565.685424949238, 565.685424949238],\n",
       " [565.685424949238, 282.842712474619],\n",
       " [282.842712474619, 707.1067811865476],\n",
       " [989.9494936611666, 565.685424949238],\n",
       " [282.842712474619, 282.842712474619],\n",
       " [424.26406871192853, 848.5281374238571],\n",
       " [141.4213562373095, 848.5281374238571],\n",
       " [707.1067811865476, 848.5281374238571],\n",
       " [707.1067811865476, 141.4213562373095],\n",
       " [282.842712474619, 424.26406871192853],\n",
       " [141.4213562373095, 282.842712474619],\n",
       " [989.9494936611666, 424.26406871192853],\n",
       " [707.1067811865476, 707.1067811865476],\n",
       " [707.1067811865476, 424.26406871192853],\n",
       " [848.5281374238571, 707.1067811865476]]"
      ]
     },
     "execution_count": 37,
     "metadata": {},
     "output_type": "execute_result"
    }
   ],
   "source": [
    "coordinates"
   ]
  },
  {
   "cell_type": "code",
   "execution_count": 38,
   "metadata": {},
   "outputs": [],
   "source": [
    "coordinates=coordinates[1:8]"
   ]
  },
  {
   "cell_type": "code",
   "execution_count": 39,
   "metadata": {},
   "outputs": [
    {
     "data": {
      "text/plain": [
       "7"
      ]
     },
     "execution_count": 39,
     "metadata": {},
     "output_type": "execute_result"
    }
   ],
   "source": [
    "len(coordinates)"
   ]
  },
  {
   "cell_type": "code",
   "execution_count": 40,
   "metadata": {},
   "outputs": [],
   "source": [
    "class Drone():\n",
    "    def __init__(self,number,depot,name):\n",
    "        self.number=number\n",
    "        self.depot=depot\n",
    "        self.name=name\n",
    "    "
   ]
  },
  {
   "cell_type": "code",
   "execution_count": 41,
   "metadata": {},
   "outputs": [],
   "source": [
    "class Depot():\n",
    "    def __init__(self,number,position,location,name):\n",
    "        self.number=number\n",
    "        self.position=position\n",
    "        self.location=location\n",
    "        self.name=name\n",
    "        "
   ]
  },
  {
   "cell_type": "code",
   "execution_count": 42,
   "metadata": {},
   "outputs": [],
   "source": [
    "class Cluster():\n",
    "    def __init__(self,location,number,coveredby,name,position):\n",
    "        self.location=location\n",
    "        self.number=number\n",
    "        self.coveredby=coveredby\n",
    "        self.name=name\n",
    "        self.position=position"
   ]
  },
  {
   "cell_type": "markdown",
   "metadata": {},
   "source": [
    "here the depot is assigned"
   ]
  },
  {
   "cell_type": "code",
   "execution_count": 43,
   "metadata": {},
   "outputs": [],
   "source": [
    "depot=[(0,0),(989.9494936611666\n",
    ",0)]\n",
    "depot_object=[]\n",
    "for i,j in enumerate(depot):\n",
    "    depot_object.append(Depot(i,j,\"Depotloc{}\".format(i),\"Depot{}\".format(i)))\n",
    "    "
   ]
  },
  {
   "cell_type": "code",
   "execution_count": 44,
   "metadata": {},
   "outputs": [
    {
     "name": "stdout",
     "output_type": "stream",
     "text": [
      "(0, 0)\n",
      "(989.9494936611666, 0)\n"
     ]
    }
   ],
   "source": [
    "for i,j in enumerate(depot):\n",
    "    print(j)"
   ]
  },
  {
   "cell_type": "code",
   "execution_count": 45,
   "metadata": {},
   "outputs": [
    {
     "data": {
      "text/plain": [
       "list"
      ]
     },
     "execution_count": 45,
     "metadata": {},
     "output_type": "execute_result"
    }
   ],
   "source": [
    "type(depot_object)"
   ]
  },
  {
   "cell_type": "code",
   "execution_count": 46,
   "metadata": {},
   "outputs": [
    {
     "name": "stdout",
     "output_type": "stream",
     "text": [
      "Depot0\n"
     ]
    }
   ],
   "source": [
    "print(depot_object[0].name)"
   ]
  },
  {
   "cell_type": "markdown",
   "metadata": {},
   "source": [
    "create drone objects"
   ]
  },
  {
   "cell_type": "code",
   "execution_count": 47,
   "metadata": {},
   "outputs": [],
   "source": [
    "drone_object=[]\n",
    "for i,j in enumerate(depot_object):\n",
    "    drone_object.append(Drone(i,depot_object[i],\"Drone{}\".format(i)))"
   ]
  },
  {
   "cell_type": "code",
   "execution_count": 48,
   "metadata": {},
   "outputs": [
    {
     "data": {
      "text/plain": [
       "'Drone0'"
      ]
     },
     "execution_count": 48,
     "metadata": {},
     "output_type": "execute_result"
    }
   ],
   "source": [
    "drone_object[0].name"
   ]
  },
  {
   "cell_type": "markdown",
   "metadata": {},
   "source": [
    "create object for pdps near to each cluster center ,each point to be visited is defined as customers"
   ]
  },
  {
   "cell_type": "code",
   "execution_count": 49,
   "metadata": {},
   "outputs": [],
   "source": [
    "customers=[]\n",
    "for i,j in enumerate(coordinates):\n",
    "    customers.append(Cluster(\"customer{}loc\".format(i),i,[drone_object[k].number for k in range(len(drone_object))],\"customer{}\".format(i),j))"
   ]
  },
  {
   "cell_type": "code",
   "execution_count": 50,
   "metadata": {},
   "outputs": [
    {
     "data": {
      "text/plain": [
       "[424.26406871192853, 707.1067811865476]"
      ]
     },
     "execution_count": 50,
     "metadata": {},
     "output_type": "execute_result"
    }
   ],
   "source": [
    "customers[0].position"
   ]
  },
  {
   "cell_type": "markdown",
   "metadata": {},
   "source": [
    "In the variable K  name of drone object is stored"
   ]
  },
  {
   "cell_type": "code",
   "execution_count": 51,
   "metadata": {},
   "outputs": [],
   "source": [
    "K=[drone_object[k].name for k in range(len(drone_object))]"
   ]
  },
  {
   "cell_type": "code",
   "execution_count": 52,
   "metadata": {},
   "outputs": [
    {
     "data": {
      "text/plain": [
       "['Drone0', 'Drone1']"
      ]
     },
     "execution_count": 52,
     "metadata": {},
     "output_type": "execute_result"
    }
   ],
   "source": [
    "K"
   ]
  },
  {
   "cell_type": "markdown",
   "metadata": {},
   "source": [
    "In the variable C the nameof customer object is stored"
   ]
  },
  {
   "cell_type": "code",
   "execution_count": 53,
   "metadata": {},
   "outputs": [],
   "source": [
    "C=[customers[k].name for k in range(len(customers))]"
   ]
  },
  {
   "cell_type": "code",
   "execution_count": 54,
   "metadata": {},
   "outputs": [
    {
     "data": {
      "text/plain": [
       "['customer0',\n",
       " 'customer1',\n",
       " 'customer2',\n",
       " 'customer3',\n",
       " 'customer4',\n",
       " 'customer5',\n",
       " 'customer6']"
      ]
     },
     "execution_count": 54,
     "metadata": {},
     "output_type": "execute_result"
    }
   ],
   "source": [
    "C"
   ]
  },
  {
   "cell_type": "markdown",
   "metadata": {},
   "source": [
    "## In the variable J location of each customer object is stored"
   ]
  },
  {
   "cell_type": "code",
   "execution_count": 55,
   "metadata": {},
   "outputs": [],
   "source": [
    "J=[k.location for k in customers]"
   ]
  },
  {
   "cell_type": "code",
   "execution_count": 56,
   "metadata": {},
   "outputs": [
    {
     "data": {
      "text/plain": [
       "['customer0loc',\n",
       " 'customer1loc',\n",
       " 'customer2loc',\n",
       " 'customer3loc',\n",
       " 'customer4loc',\n",
       " 'customer5loc',\n",
       " 'customer6loc']"
      ]
     },
     "execution_count": 56,
     "metadata": {},
     "output_type": "execute_result"
    }
   ],
   "source": [
    "J"
   ]
  },
  {
   "cell_type": "markdown",
   "metadata": {},
   "source": [
    "Here the depot object and customer objects are combined and 2D position of each object is calculated"
   ]
  },
  {
   "cell_type": "code",
   "execution_count": 57,
   "metadata": {},
   "outputs": [],
   "source": [
    "cust_depot=depot_object+customers"
   ]
  },
  {
   "cell_type": "code",
   "execution_count": 58,
   "metadata": {},
   "outputs": [
    {
     "name": "stdout",
     "output_type": "stream",
     "text": [
      "(0, 0)\n",
      "(989.9494936611666, 0)\n",
      "[424.26406871192853, 707.1067811865476]\n",
      "[848.5281374238571, 424.26406871192853]\n",
      "[141.4213562373095, 424.26406871192853]\n",
      "[565.685424949238, 565.685424949238]\n",
      "[565.685424949238, 282.842712474619]\n",
      "[282.842712474619, 707.1067811865476]\n",
      "[989.9494936611666, 565.685424949238]\n"
     ]
    }
   ],
   "source": [
    "for i in cust_depot:\n",
    "    print(i.position)"
   ]
  },
  {
   "cell_type": "code",
   "execution_count": 59,
   "metadata": {},
   "outputs": [],
   "source": [
    "dist ={}\n",
    "for i,_ in enumerate(cust_depot):\n",
    "    for j,_ in enumerate(cust_depot):\n",
    "        dist[cust_depot[i].location , cust_depot[j].location]=np.linalg.norm(np.array(cust_depot[i].position)-np.array(cust_depot[j].position))\n"
   ]
  },
  {
   "cell_type": "markdown",
   "metadata": {},
   "source": [
    "# In the variable L all the location including the depot and customer is stored"
   ]
  },
  {
   "cell_type": "code",
   "execution_count": 60,
   "metadata": {},
   "outputs": [
    {
     "data": {
      "text/plain": [
       "['customer6loc',\n",
       " 'customer1loc',\n",
       " 'customer2loc',\n",
       " 'customer0loc',\n",
       " 'customer4loc',\n",
       " 'customer3loc',\n",
       " 'customer5loc',\n",
       " 'Depotloc0',\n",
       " 'Depotloc1']"
      ]
     },
     "execution_count": 60,
     "metadata": {},
     "output_type": "execute_result"
    }
   ],
   "source": [
    " L = list(set([l[0] for l in dist.keys()]))\n",
    "L"
   ]
  },
  {
   "cell_type": "markdown",
   "metadata": {},
   "source": [
    "# In the variable D the depot location is stored"
   ]
  },
  {
   "cell_type": "code",
   "execution_count": 61,
   "metadata": {},
   "outputs": [
    {
     "data": {
      "text/plain": [
       "['Depotloc0', 'Depotloc1']"
      ]
     },
     "execution_count": 61,
     "metadata": {},
     "output_type": "execute_result"
    }
   ],
   "source": [
    " D = list(set([t.location for t in depot_object]))\n",
    "D"
   ]
  },
  {
   "cell_type": "markdown",
   "metadata": {},
   "source": [
    "# In loc variable location and name of each customer is stored"
   ]
  },
  {
   "cell_type": "code",
   "execution_count": 62,
   "metadata": {},
   "outputs": [
    {
     "data": {
      "text/plain": [
       "{'customer0': 'customer0loc',\n",
       " 'customer1': 'customer1loc',\n",
       " 'customer2': 'customer2loc',\n",
       " 'customer3': 'customer3loc',\n",
       " 'customer4': 'customer4loc',\n",
       " 'customer5': 'customer5loc',\n",
       " 'customer6': 'customer6loc'}"
      ]
     },
     "execution_count": 62,
     "metadata": {},
     "output_type": "execute_result"
    }
   ],
   "source": [
    " loc = {j.name : j.location for j in customers}\n",
    "loc"
   ]
  },
  {
   "cell_type": "markdown",
   "metadata": {},
   "source": [
    "# In depot variable drone associated with its depot location is stored"
   ]
  },
  {
   "cell_type": "code",
   "execution_count": 63,
   "metadata": {},
   "outputs": [
    {
     "data": {
      "text/plain": [
       "{'Drone0': 'Depotloc0', 'Drone1': 'Depotloc1'}"
      ]
     },
     "execution_count": 63,
     "metadata": {},
     "output_type": "execute_result"
    }
   ],
   "source": [
    "depot = {k.name : k.depot.location for k in drone_object}\n",
    "depot"
   ]
  },
  {
   "cell_type": "markdown",
   "metadata": {},
   "source": [
    "# In cancover variable which customer can be visited by which drone is mentioned"
   ]
  },
  {
   "cell_type": "code",
   "execution_count": 64,
   "metadata": {},
   "outputs": [
    {
     "data": {
      "text/plain": [
       "{'customer0': ['Drone0', 'Drone1'],\n",
       " 'customer1': ['Drone0', 'Drone1'],\n",
       " 'customer2': ['Drone0', 'Drone1'],\n",
       " 'customer3': ['Drone0', 'Drone1'],\n",
       " 'customer4': ['Drone0', 'Drone1'],\n",
       " 'customer5': ['Drone0', 'Drone1'],\n",
       " 'customer6': ['Drone0', 'Drone1']}"
      ]
     },
     "execution_count": 64,
     "metadata": {},
     "output_type": "execute_result"
    }
   ],
   "source": [
    "canCover = {j.name :K for j in customers}\n",
    "canCover"
   ]
  },
  {
   "cell_type": "code",
   "execution_count": 65,
   "metadata": {},
   "outputs": [],
   "source": [
    "import pandas as pd\n",
    "import numpy as np\n",
    "from matplotlib import pyplot as plt\n",
    "from gurobipy import *\n",
    "import gurobipy as gp\n"
   ]
  },
  {
   "cell_type": "code",
   "execution_count": 66,
   "metadata": {},
   "outputs": [
    {
     "name": "stdout",
     "output_type": "stream",
     "text": [
      "Academic license - for non-commercial use only - expires 2022-03-14\n",
      "Using license file C:\\Users\\dilip\\gurobi.lic\n"
     ]
    }
   ],
   "source": [
    "    m =gp.Model(\"trs0\")\n"
   ]
  },
  {
   "cell_type": "code",
   "execution_count": 67,
   "metadata": {},
   "outputs": [
    {
     "data": {
      "text/plain": [
       "<gurobi.Model Continuous instance trs0: 0 constrs, 0 vars, No parameter changes>"
      ]
     },
     "execution_count": 67,
     "metadata": {},
     "output_type": "execute_result"
    }
   ],
   "source": [
    "m"
   ]
  },
  {
   "cell_type": "code",
   "execution_count": 68,
   "metadata": {},
   "outputs": [],
   "source": [
    "### Decision variables\n",
    "    # Customer-technician assignment\n",
    "x = m.addVars(C, K, vtype=GRB.BINARY, name=\"x\")"
   ]
  },
  {
   "cell_type": "code",
   "execution_count": 69,
   "metadata": {},
   "outputs": [
    {
     "data": {
      "text/plain": [
       "{('customer0', 'Drone0'): <gurobi.Var *Awaiting Model Update*>,\n",
       " ('customer0', 'Drone1'): <gurobi.Var *Awaiting Model Update*>,\n",
       " ('customer1', 'Drone0'): <gurobi.Var *Awaiting Model Update*>,\n",
       " ('customer1', 'Drone1'): <gurobi.Var *Awaiting Model Update*>,\n",
       " ('customer2', 'Drone0'): <gurobi.Var *Awaiting Model Update*>,\n",
       " ('customer2', 'Drone1'): <gurobi.Var *Awaiting Model Update*>,\n",
       " ('customer3', 'Drone0'): <gurobi.Var *Awaiting Model Update*>,\n",
       " ('customer3', 'Drone1'): <gurobi.Var *Awaiting Model Update*>,\n",
       " ('customer4', 'Drone0'): <gurobi.Var *Awaiting Model Update*>,\n",
       " ('customer4', 'Drone1'): <gurobi.Var *Awaiting Model Update*>,\n",
       " ('customer5', 'Drone0'): <gurobi.Var *Awaiting Model Update*>,\n",
       " ('customer5', 'Drone1'): <gurobi.Var *Awaiting Model Update*>,\n",
       " ('customer6', 'Drone0'): <gurobi.Var *Awaiting Model Update*>,\n",
       " ('customer6', 'Drone1'): <gurobi.Var *Awaiting Model Update*>}"
      ]
     },
     "execution_count": 69,
     "metadata": {},
     "output_type": "execute_result"
    }
   ],
   "source": [
    "x"
   ]
  },
  {
   "cell_type": "code",
   "execution_count": 70,
   "metadata": {},
   "outputs": [],
   "source": [
    "# Technician assignment\n",
    "u = m.addVars(K, vtype=GRB.BINARY, name=\"u\")"
   ]
  },
  {
   "cell_type": "code",
   "execution_count": 71,
   "metadata": {},
   "outputs": [
    {
     "data": {
      "text/plain": [
       "{'Drone0': <gurobi.Var *Awaiting Model Update*>,\n",
       " 'Drone1': <gurobi.Var *Awaiting Model Update*>}"
      ]
     },
     "execution_count": 71,
     "metadata": {},
     "output_type": "execute_result"
    }
   ],
   "source": [
    "u"
   ]
  },
  {
   "cell_type": "code",
   "execution_count": 72,
   "metadata": {},
   "outputs": [],
   "source": [
    "# Edge-route assignment to technician\n",
    "y = m.addVars(L, L, K, vtype=GRB.BINARY, name=\"y\")"
   ]
  },
  {
   "cell_type": "code",
   "execution_count": 73,
   "metadata": {},
   "outputs": [
    {
     "data": {
      "text/plain": [
       "{('customer6loc',\n",
       "  'customer6loc',\n",
       "  'Drone0'): <gurobi.Var *Awaiting Model Update*>,\n",
       " ('customer6loc',\n",
       "  'customer6loc',\n",
       "  'Drone1'): <gurobi.Var *Awaiting Model Update*>,\n",
       " ('customer6loc',\n",
       "  'customer1loc',\n",
       "  'Drone0'): <gurobi.Var *Awaiting Model Update*>,\n",
       " ('customer6loc',\n",
       "  'customer1loc',\n",
       "  'Drone1'): <gurobi.Var *Awaiting Model Update*>,\n",
       " ('customer6loc',\n",
       "  'customer2loc',\n",
       "  'Drone0'): <gurobi.Var *Awaiting Model Update*>,\n",
       " ('customer6loc',\n",
       "  'customer2loc',\n",
       "  'Drone1'): <gurobi.Var *Awaiting Model Update*>,\n",
       " ('customer6loc',\n",
       "  'customer0loc',\n",
       "  'Drone0'): <gurobi.Var *Awaiting Model Update*>,\n",
       " ('customer6loc',\n",
       "  'customer0loc',\n",
       "  'Drone1'): <gurobi.Var *Awaiting Model Update*>,\n",
       " ('customer6loc',\n",
       "  'customer4loc',\n",
       "  'Drone0'): <gurobi.Var *Awaiting Model Update*>,\n",
       " ('customer6loc',\n",
       "  'customer4loc',\n",
       "  'Drone1'): <gurobi.Var *Awaiting Model Update*>,\n",
       " ('customer6loc',\n",
       "  'customer3loc',\n",
       "  'Drone0'): <gurobi.Var *Awaiting Model Update*>,\n",
       " ('customer6loc',\n",
       "  'customer3loc',\n",
       "  'Drone1'): <gurobi.Var *Awaiting Model Update*>,\n",
       " ('customer6loc',\n",
       "  'customer5loc',\n",
       "  'Drone0'): <gurobi.Var *Awaiting Model Update*>,\n",
       " ('customer6loc',\n",
       "  'customer5loc',\n",
       "  'Drone1'): <gurobi.Var *Awaiting Model Update*>,\n",
       " ('customer6loc', 'Depotloc0', 'Drone0'): <gurobi.Var *Awaiting Model Update*>,\n",
       " ('customer6loc', 'Depotloc0', 'Drone1'): <gurobi.Var *Awaiting Model Update*>,\n",
       " ('customer6loc', 'Depotloc1', 'Drone0'): <gurobi.Var *Awaiting Model Update*>,\n",
       " ('customer6loc', 'Depotloc1', 'Drone1'): <gurobi.Var *Awaiting Model Update*>,\n",
       " ('customer1loc',\n",
       "  'customer6loc',\n",
       "  'Drone0'): <gurobi.Var *Awaiting Model Update*>,\n",
       " ('customer1loc',\n",
       "  'customer6loc',\n",
       "  'Drone1'): <gurobi.Var *Awaiting Model Update*>,\n",
       " ('customer1loc',\n",
       "  'customer1loc',\n",
       "  'Drone0'): <gurobi.Var *Awaiting Model Update*>,\n",
       " ('customer1loc',\n",
       "  'customer1loc',\n",
       "  'Drone1'): <gurobi.Var *Awaiting Model Update*>,\n",
       " ('customer1loc',\n",
       "  'customer2loc',\n",
       "  'Drone0'): <gurobi.Var *Awaiting Model Update*>,\n",
       " ('customer1loc',\n",
       "  'customer2loc',\n",
       "  'Drone1'): <gurobi.Var *Awaiting Model Update*>,\n",
       " ('customer1loc',\n",
       "  'customer0loc',\n",
       "  'Drone0'): <gurobi.Var *Awaiting Model Update*>,\n",
       " ('customer1loc',\n",
       "  'customer0loc',\n",
       "  'Drone1'): <gurobi.Var *Awaiting Model Update*>,\n",
       " ('customer1loc',\n",
       "  'customer4loc',\n",
       "  'Drone0'): <gurobi.Var *Awaiting Model Update*>,\n",
       " ('customer1loc',\n",
       "  'customer4loc',\n",
       "  'Drone1'): <gurobi.Var *Awaiting Model Update*>,\n",
       " ('customer1loc',\n",
       "  'customer3loc',\n",
       "  'Drone0'): <gurobi.Var *Awaiting Model Update*>,\n",
       " ('customer1loc',\n",
       "  'customer3loc',\n",
       "  'Drone1'): <gurobi.Var *Awaiting Model Update*>,\n",
       " ('customer1loc',\n",
       "  'customer5loc',\n",
       "  'Drone0'): <gurobi.Var *Awaiting Model Update*>,\n",
       " ('customer1loc',\n",
       "  'customer5loc',\n",
       "  'Drone1'): <gurobi.Var *Awaiting Model Update*>,\n",
       " ('customer1loc', 'Depotloc0', 'Drone0'): <gurobi.Var *Awaiting Model Update*>,\n",
       " ('customer1loc', 'Depotloc0', 'Drone1'): <gurobi.Var *Awaiting Model Update*>,\n",
       " ('customer1loc', 'Depotloc1', 'Drone0'): <gurobi.Var *Awaiting Model Update*>,\n",
       " ('customer1loc', 'Depotloc1', 'Drone1'): <gurobi.Var *Awaiting Model Update*>,\n",
       " ('customer2loc',\n",
       "  'customer6loc',\n",
       "  'Drone0'): <gurobi.Var *Awaiting Model Update*>,\n",
       " ('customer2loc',\n",
       "  'customer6loc',\n",
       "  'Drone1'): <gurobi.Var *Awaiting Model Update*>,\n",
       " ('customer2loc',\n",
       "  'customer1loc',\n",
       "  'Drone0'): <gurobi.Var *Awaiting Model Update*>,\n",
       " ('customer2loc',\n",
       "  'customer1loc',\n",
       "  'Drone1'): <gurobi.Var *Awaiting Model Update*>,\n",
       " ('customer2loc',\n",
       "  'customer2loc',\n",
       "  'Drone0'): <gurobi.Var *Awaiting Model Update*>,\n",
       " ('customer2loc',\n",
       "  'customer2loc',\n",
       "  'Drone1'): <gurobi.Var *Awaiting Model Update*>,\n",
       " ('customer2loc',\n",
       "  'customer0loc',\n",
       "  'Drone0'): <gurobi.Var *Awaiting Model Update*>,\n",
       " ('customer2loc',\n",
       "  'customer0loc',\n",
       "  'Drone1'): <gurobi.Var *Awaiting Model Update*>,\n",
       " ('customer2loc',\n",
       "  'customer4loc',\n",
       "  'Drone0'): <gurobi.Var *Awaiting Model Update*>,\n",
       " ('customer2loc',\n",
       "  'customer4loc',\n",
       "  'Drone1'): <gurobi.Var *Awaiting Model Update*>,\n",
       " ('customer2loc',\n",
       "  'customer3loc',\n",
       "  'Drone0'): <gurobi.Var *Awaiting Model Update*>,\n",
       " ('customer2loc',\n",
       "  'customer3loc',\n",
       "  'Drone1'): <gurobi.Var *Awaiting Model Update*>,\n",
       " ('customer2loc',\n",
       "  'customer5loc',\n",
       "  'Drone0'): <gurobi.Var *Awaiting Model Update*>,\n",
       " ('customer2loc',\n",
       "  'customer5loc',\n",
       "  'Drone1'): <gurobi.Var *Awaiting Model Update*>,\n",
       " ('customer2loc', 'Depotloc0', 'Drone0'): <gurobi.Var *Awaiting Model Update*>,\n",
       " ('customer2loc', 'Depotloc0', 'Drone1'): <gurobi.Var *Awaiting Model Update*>,\n",
       " ('customer2loc', 'Depotloc1', 'Drone0'): <gurobi.Var *Awaiting Model Update*>,\n",
       " ('customer2loc', 'Depotloc1', 'Drone1'): <gurobi.Var *Awaiting Model Update*>,\n",
       " ('customer0loc',\n",
       "  'customer6loc',\n",
       "  'Drone0'): <gurobi.Var *Awaiting Model Update*>,\n",
       " ('customer0loc',\n",
       "  'customer6loc',\n",
       "  'Drone1'): <gurobi.Var *Awaiting Model Update*>,\n",
       " ('customer0loc',\n",
       "  'customer1loc',\n",
       "  'Drone0'): <gurobi.Var *Awaiting Model Update*>,\n",
       " ('customer0loc',\n",
       "  'customer1loc',\n",
       "  'Drone1'): <gurobi.Var *Awaiting Model Update*>,\n",
       " ('customer0loc',\n",
       "  'customer2loc',\n",
       "  'Drone0'): <gurobi.Var *Awaiting Model Update*>,\n",
       " ('customer0loc',\n",
       "  'customer2loc',\n",
       "  'Drone1'): <gurobi.Var *Awaiting Model Update*>,\n",
       " ('customer0loc',\n",
       "  'customer0loc',\n",
       "  'Drone0'): <gurobi.Var *Awaiting Model Update*>,\n",
       " ('customer0loc',\n",
       "  'customer0loc',\n",
       "  'Drone1'): <gurobi.Var *Awaiting Model Update*>,\n",
       " ('customer0loc',\n",
       "  'customer4loc',\n",
       "  'Drone0'): <gurobi.Var *Awaiting Model Update*>,\n",
       " ('customer0loc',\n",
       "  'customer4loc',\n",
       "  'Drone1'): <gurobi.Var *Awaiting Model Update*>,\n",
       " ('customer0loc',\n",
       "  'customer3loc',\n",
       "  'Drone0'): <gurobi.Var *Awaiting Model Update*>,\n",
       " ('customer0loc',\n",
       "  'customer3loc',\n",
       "  'Drone1'): <gurobi.Var *Awaiting Model Update*>,\n",
       " ('customer0loc',\n",
       "  'customer5loc',\n",
       "  'Drone0'): <gurobi.Var *Awaiting Model Update*>,\n",
       " ('customer0loc',\n",
       "  'customer5loc',\n",
       "  'Drone1'): <gurobi.Var *Awaiting Model Update*>,\n",
       " ('customer0loc', 'Depotloc0', 'Drone0'): <gurobi.Var *Awaiting Model Update*>,\n",
       " ('customer0loc', 'Depotloc0', 'Drone1'): <gurobi.Var *Awaiting Model Update*>,\n",
       " ('customer0loc', 'Depotloc1', 'Drone0'): <gurobi.Var *Awaiting Model Update*>,\n",
       " ('customer0loc', 'Depotloc1', 'Drone1'): <gurobi.Var *Awaiting Model Update*>,\n",
       " ('customer4loc',\n",
       "  'customer6loc',\n",
       "  'Drone0'): <gurobi.Var *Awaiting Model Update*>,\n",
       " ('customer4loc',\n",
       "  'customer6loc',\n",
       "  'Drone1'): <gurobi.Var *Awaiting Model Update*>,\n",
       " ('customer4loc',\n",
       "  'customer1loc',\n",
       "  'Drone0'): <gurobi.Var *Awaiting Model Update*>,\n",
       " ('customer4loc',\n",
       "  'customer1loc',\n",
       "  'Drone1'): <gurobi.Var *Awaiting Model Update*>,\n",
       " ('customer4loc',\n",
       "  'customer2loc',\n",
       "  'Drone0'): <gurobi.Var *Awaiting Model Update*>,\n",
       " ('customer4loc',\n",
       "  'customer2loc',\n",
       "  'Drone1'): <gurobi.Var *Awaiting Model Update*>,\n",
       " ('customer4loc',\n",
       "  'customer0loc',\n",
       "  'Drone0'): <gurobi.Var *Awaiting Model Update*>,\n",
       " ('customer4loc',\n",
       "  'customer0loc',\n",
       "  'Drone1'): <gurobi.Var *Awaiting Model Update*>,\n",
       " ('customer4loc',\n",
       "  'customer4loc',\n",
       "  'Drone0'): <gurobi.Var *Awaiting Model Update*>,\n",
       " ('customer4loc',\n",
       "  'customer4loc',\n",
       "  'Drone1'): <gurobi.Var *Awaiting Model Update*>,\n",
       " ('customer4loc',\n",
       "  'customer3loc',\n",
       "  'Drone0'): <gurobi.Var *Awaiting Model Update*>,\n",
       " ('customer4loc',\n",
       "  'customer3loc',\n",
       "  'Drone1'): <gurobi.Var *Awaiting Model Update*>,\n",
       " ('customer4loc',\n",
       "  'customer5loc',\n",
       "  'Drone0'): <gurobi.Var *Awaiting Model Update*>,\n",
       " ('customer4loc',\n",
       "  'customer5loc',\n",
       "  'Drone1'): <gurobi.Var *Awaiting Model Update*>,\n",
       " ('customer4loc', 'Depotloc0', 'Drone0'): <gurobi.Var *Awaiting Model Update*>,\n",
       " ('customer4loc', 'Depotloc0', 'Drone1'): <gurobi.Var *Awaiting Model Update*>,\n",
       " ('customer4loc', 'Depotloc1', 'Drone0'): <gurobi.Var *Awaiting Model Update*>,\n",
       " ('customer4loc', 'Depotloc1', 'Drone1'): <gurobi.Var *Awaiting Model Update*>,\n",
       " ('customer3loc',\n",
       "  'customer6loc',\n",
       "  'Drone0'): <gurobi.Var *Awaiting Model Update*>,\n",
       " ('customer3loc',\n",
       "  'customer6loc',\n",
       "  'Drone1'): <gurobi.Var *Awaiting Model Update*>,\n",
       " ('customer3loc',\n",
       "  'customer1loc',\n",
       "  'Drone0'): <gurobi.Var *Awaiting Model Update*>,\n",
       " ('customer3loc',\n",
       "  'customer1loc',\n",
       "  'Drone1'): <gurobi.Var *Awaiting Model Update*>,\n",
       " ('customer3loc',\n",
       "  'customer2loc',\n",
       "  'Drone0'): <gurobi.Var *Awaiting Model Update*>,\n",
       " ('customer3loc',\n",
       "  'customer2loc',\n",
       "  'Drone1'): <gurobi.Var *Awaiting Model Update*>,\n",
       " ('customer3loc',\n",
       "  'customer0loc',\n",
       "  'Drone0'): <gurobi.Var *Awaiting Model Update*>,\n",
       " ('customer3loc',\n",
       "  'customer0loc',\n",
       "  'Drone1'): <gurobi.Var *Awaiting Model Update*>,\n",
       " ('customer3loc',\n",
       "  'customer4loc',\n",
       "  'Drone0'): <gurobi.Var *Awaiting Model Update*>,\n",
       " ('customer3loc',\n",
       "  'customer4loc',\n",
       "  'Drone1'): <gurobi.Var *Awaiting Model Update*>,\n",
       " ('customer3loc',\n",
       "  'customer3loc',\n",
       "  'Drone0'): <gurobi.Var *Awaiting Model Update*>,\n",
       " ('customer3loc',\n",
       "  'customer3loc',\n",
       "  'Drone1'): <gurobi.Var *Awaiting Model Update*>,\n",
       " ('customer3loc',\n",
       "  'customer5loc',\n",
       "  'Drone0'): <gurobi.Var *Awaiting Model Update*>,\n",
       " ('customer3loc',\n",
       "  'customer5loc',\n",
       "  'Drone1'): <gurobi.Var *Awaiting Model Update*>,\n",
       " ('customer3loc', 'Depotloc0', 'Drone0'): <gurobi.Var *Awaiting Model Update*>,\n",
       " ('customer3loc', 'Depotloc0', 'Drone1'): <gurobi.Var *Awaiting Model Update*>,\n",
       " ('customer3loc', 'Depotloc1', 'Drone0'): <gurobi.Var *Awaiting Model Update*>,\n",
       " ('customer3loc', 'Depotloc1', 'Drone1'): <gurobi.Var *Awaiting Model Update*>,\n",
       " ('customer5loc',\n",
       "  'customer6loc',\n",
       "  'Drone0'): <gurobi.Var *Awaiting Model Update*>,\n",
       " ('customer5loc',\n",
       "  'customer6loc',\n",
       "  'Drone1'): <gurobi.Var *Awaiting Model Update*>,\n",
       " ('customer5loc',\n",
       "  'customer1loc',\n",
       "  'Drone0'): <gurobi.Var *Awaiting Model Update*>,\n",
       " ('customer5loc',\n",
       "  'customer1loc',\n",
       "  'Drone1'): <gurobi.Var *Awaiting Model Update*>,\n",
       " ('customer5loc',\n",
       "  'customer2loc',\n",
       "  'Drone0'): <gurobi.Var *Awaiting Model Update*>,\n",
       " ('customer5loc',\n",
       "  'customer2loc',\n",
       "  'Drone1'): <gurobi.Var *Awaiting Model Update*>,\n",
       " ('customer5loc',\n",
       "  'customer0loc',\n",
       "  'Drone0'): <gurobi.Var *Awaiting Model Update*>,\n",
       " ('customer5loc',\n",
       "  'customer0loc',\n",
       "  'Drone1'): <gurobi.Var *Awaiting Model Update*>,\n",
       " ('customer5loc',\n",
       "  'customer4loc',\n",
       "  'Drone0'): <gurobi.Var *Awaiting Model Update*>,\n",
       " ('customer5loc',\n",
       "  'customer4loc',\n",
       "  'Drone1'): <gurobi.Var *Awaiting Model Update*>,\n",
       " ('customer5loc',\n",
       "  'customer3loc',\n",
       "  'Drone0'): <gurobi.Var *Awaiting Model Update*>,\n",
       " ('customer5loc',\n",
       "  'customer3loc',\n",
       "  'Drone1'): <gurobi.Var *Awaiting Model Update*>,\n",
       " ('customer5loc',\n",
       "  'customer5loc',\n",
       "  'Drone0'): <gurobi.Var *Awaiting Model Update*>,\n",
       " ('customer5loc',\n",
       "  'customer5loc',\n",
       "  'Drone1'): <gurobi.Var *Awaiting Model Update*>,\n",
       " ('customer5loc', 'Depotloc0', 'Drone0'): <gurobi.Var *Awaiting Model Update*>,\n",
       " ('customer5loc', 'Depotloc0', 'Drone1'): <gurobi.Var *Awaiting Model Update*>,\n",
       " ('customer5loc', 'Depotloc1', 'Drone0'): <gurobi.Var *Awaiting Model Update*>,\n",
       " ('customer5loc', 'Depotloc1', 'Drone1'): <gurobi.Var *Awaiting Model Update*>,\n",
       " ('Depotloc0', 'customer6loc', 'Drone0'): <gurobi.Var *Awaiting Model Update*>,\n",
       " ('Depotloc0', 'customer6loc', 'Drone1'): <gurobi.Var *Awaiting Model Update*>,\n",
       " ('Depotloc0', 'customer1loc', 'Drone0'): <gurobi.Var *Awaiting Model Update*>,\n",
       " ('Depotloc0', 'customer1loc', 'Drone1'): <gurobi.Var *Awaiting Model Update*>,\n",
       " ('Depotloc0', 'customer2loc', 'Drone0'): <gurobi.Var *Awaiting Model Update*>,\n",
       " ('Depotloc0', 'customer2loc', 'Drone1'): <gurobi.Var *Awaiting Model Update*>,\n",
       " ('Depotloc0', 'customer0loc', 'Drone0'): <gurobi.Var *Awaiting Model Update*>,\n",
       " ('Depotloc0', 'customer0loc', 'Drone1'): <gurobi.Var *Awaiting Model Update*>,\n",
       " ('Depotloc0', 'customer4loc', 'Drone0'): <gurobi.Var *Awaiting Model Update*>,\n",
       " ('Depotloc0', 'customer4loc', 'Drone1'): <gurobi.Var *Awaiting Model Update*>,\n",
       " ('Depotloc0', 'customer3loc', 'Drone0'): <gurobi.Var *Awaiting Model Update*>,\n",
       " ('Depotloc0', 'customer3loc', 'Drone1'): <gurobi.Var *Awaiting Model Update*>,\n",
       " ('Depotloc0', 'customer5loc', 'Drone0'): <gurobi.Var *Awaiting Model Update*>,\n",
       " ('Depotloc0', 'customer5loc', 'Drone1'): <gurobi.Var *Awaiting Model Update*>,\n",
       " ('Depotloc0', 'Depotloc0', 'Drone0'): <gurobi.Var *Awaiting Model Update*>,\n",
       " ('Depotloc0', 'Depotloc0', 'Drone1'): <gurobi.Var *Awaiting Model Update*>,\n",
       " ('Depotloc0', 'Depotloc1', 'Drone0'): <gurobi.Var *Awaiting Model Update*>,\n",
       " ('Depotloc0', 'Depotloc1', 'Drone1'): <gurobi.Var *Awaiting Model Update*>,\n",
       " ('Depotloc1', 'customer6loc', 'Drone0'): <gurobi.Var *Awaiting Model Update*>,\n",
       " ('Depotloc1', 'customer6loc', 'Drone1'): <gurobi.Var *Awaiting Model Update*>,\n",
       " ('Depotloc1', 'customer1loc', 'Drone0'): <gurobi.Var *Awaiting Model Update*>,\n",
       " ('Depotloc1', 'customer1loc', 'Drone1'): <gurobi.Var *Awaiting Model Update*>,\n",
       " ('Depotloc1', 'customer2loc', 'Drone0'): <gurobi.Var *Awaiting Model Update*>,\n",
       " ('Depotloc1', 'customer2loc', 'Drone1'): <gurobi.Var *Awaiting Model Update*>,\n",
       " ('Depotloc1', 'customer0loc', 'Drone0'): <gurobi.Var *Awaiting Model Update*>,\n",
       " ('Depotloc1', 'customer0loc', 'Drone1'): <gurobi.Var *Awaiting Model Update*>,\n",
       " ('Depotloc1', 'customer4loc', 'Drone0'): <gurobi.Var *Awaiting Model Update*>,\n",
       " ('Depotloc1', 'customer4loc', 'Drone1'): <gurobi.Var *Awaiting Model Update*>,\n",
       " ('Depotloc1', 'customer3loc', 'Drone0'): <gurobi.Var *Awaiting Model Update*>,\n",
       " ('Depotloc1', 'customer3loc', 'Drone1'): <gurobi.Var *Awaiting Model Update*>,\n",
       " ('Depotloc1', 'customer5loc', 'Drone0'): <gurobi.Var *Awaiting Model Update*>,\n",
       " ('Depotloc1', 'customer5loc', 'Drone1'): <gurobi.Var *Awaiting Model Update*>,\n",
       " ('Depotloc1', 'Depotloc0', 'Drone0'): <gurobi.Var *Awaiting Model Update*>,\n",
       " ('Depotloc1', 'Depotloc0', 'Drone1'): <gurobi.Var *Awaiting Model Update*>,\n",
       " ('Depotloc1', 'Depotloc1', 'Drone0'): <gurobi.Var *Awaiting Model Update*>,\n",
       " ('Depotloc1', 'Depotloc1', 'Drone1'): <gurobi.Var *Awaiting Model Update*>}"
      ]
     },
     "execution_count": 73,
     "metadata": {},
     "output_type": "execute_result"
    }
   ],
   "source": [
    "y"
   ]
  },
  {
   "cell_type": "code",
   "execution_count": 74,
   "metadata": {},
   "outputs": [
    {
     "data": {
      "text/plain": [
       "{'customer0': 'customer0loc',\n",
       " 'customer1': 'customer1loc',\n",
       " 'customer2': 'customer2loc',\n",
       " 'customer3': 'customer3loc',\n",
       " 'customer4': 'customer4loc',\n",
       " 'customer5': 'customer5loc',\n",
       " 'customer6': 'customer6loc'}"
      ]
     },
     "execution_count": 74,
     "metadata": {},
     "output_type": "execute_result"
    }
   ],
   "source": [
    "loc"
   ]
  },
  {
   "cell_type": "code",
   "execution_count": 75,
   "metadata": {},
   "outputs": [],
   "source": [
    "# Technician cannot leave or return to a depot that is not its base\n",
    "# for k in drone_object:\n",
    "#     for d in D:\n",
    "#         if k.depot.location != d:\n",
    "#             for i in L:\n",
    "#                 y[i,d,k.name].ub = 0\n",
    "#                 y[d,i,k.name].ub = 0"
   ]
  },
  {
   "cell_type": "code",
   "execution_count": 76,
   "metadata": {},
   "outputs": [
    {
     "data": {
      "text/plain": [
       "{'customer0': <gurobi.Constr *Awaiting Model Update*>,\n",
       " 'customer1': <gurobi.Constr *Awaiting Model Update*>,\n",
       " 'customer2': <gurobi.Constr *Awaiting Model Update*>,\n",
       " 'customer3': <gurobi.Constr *Awaiting Model Update*>,\n",
       " 'customer4': <gurobi.Constr *Awaiting Model Update*>,\n",
       " 'customer5': <gurobi.Constr *Awaiting Model Update*>,\n",
       " 'customer6': <gurobi.Constr *Awaiting Model Update*>}"
      ]
     },
     "execution_count": 76,
     "metadata": {},
     "output_type": "execute_result"
    }
   ],
   "source": [
    "# At most one technician can be assigned to a job (2)\n",
    "m.addConstrs((x.sum(j, '*') <= 1 for j in C), name=\"assignOne\")"
   ]
  },
  {
   "cell_type": "code",
   "execution_count": 77,
   "metadata": {},
   "outputs": [
    {
     "name": "stdout",
     "output_type": "stream",
     "text": [
      "customer0loc\n",
      "customer1loc\n",
      "customer2loc\n",
      "customer3loc\n",
      "customer4loc\n",
      "customer5loc\n",
      "customer6loc\n"
     ]
    }
   ],
   "source": [
    "for j in C:\n",
    "    print(loc[j])"
   ]
  },
  {
   "cell_type": "code",
   "execution_count": 78,
   "metadata": {},
   "outputs": [
    {
     "data": {
      "text/plain": [
       "{('Depotloc0', 'Depotloc0'): 0.0,\n",
       " ('Depotloc0', 'Depotloc1'): 989.9494936611666,\n",
       " ('Depotloc0', 'customer0loc'): 824.6211251235321,\n",
       " ('Depotloc0', 'customer1loc'): 948.6832980505138,\n",
       " ('Depotloc0', 'customer2loc'): 447.21359549995793,\n",
       " ('Depotloc0', 'customer3loc'): 800.0,\n",
       " ('Depotloc0', 'customer4loc'): 632.4555320336759,\n",
       " ('Depotloc0', 'customer5loc'): 761.5773105863908,\n",
       " ('Depotloc0', 'customer6loc'): 1140.175425099138,\n",
       " ('Depotloc1', 'Depotloc0'): 989.9494936611666,\n",
       " ('Depotloc1', 'Depotloc1'): 0.0,\n",
       " ('Depotloc1', 'customer0loc'): 905.5385138137417,\n",
       " ('Depotloc1', 'customer1loc'): 447.21359549995793,\n",
       " ('Depotloc1', 'customer2loc'): 948.6832980505138,\n",
       " ('Depotloc1', 'customer3loc'): 707.1067811865476,\n",
       " ('Depotloc1', 'customer4loc'): 509.9019513592785,\n",
       " ('Depotloc1', 'customer5loc'): 1000.0000000000001,\n",
       " ('Depotloc1', 'customer6loc'): 565.685424949238,\n",
       " ('customer0loc', 'Depotloc0'): 824.6211251235321,\n",
       " ('customer0loc', 'Depotloc1'): 905.5385138137417,\n",
       " ('customer0loc', 'customer0loc'): 0.0,\n",
       " ('customer0loc', 'customer1loc'): 509.9019513592785,\n",
       " ('customer0loc', 'customer2loc'): 400.0,\n",
       " ('customer0loc', 'customer3loc'): 200.0,\n",
       " ('customer0loc', 'customer4loc'): 447.21359549995793,\n",
       " ('customer0loc', 'customer5loc'): 141.4213562373095,\n",
       " ('customer0loc', 'customer6loc'): 583.09518948453,\n",
       " ('customer1loc', 'Depotloc0'): 948.6832980505138,\n",
       " ('customer1loc', 'Depotloc1'): 447.21359549995793,\n",
       " ('customer1loc', 'customer0loc'): 509.9019513592785,\n",
       " ('customer1loc', 'customer1loc'): 0.0,\n",
       " ('customer1loc', 'customer2loc'): 707.1067811865476,\n",
       " ('customer1loc', 'customer3loc'): 316.22776601683796,\n",
       " ('customer1loc', 'customer4loc'): 316.22776601683796,\n",
       " ('customer1loc', 'customer5loc'): 632.4555320336759,\n",
       " ('customer1loc', 'customer6loc'): 200.0,\n",
       " ('customer2loc', 'Depotloc0'): 447.21359549995793,\n",
       " ('customer2loc', 'Depotloc1'): 948.6832980505138,\n",
       " ('customer2loc', 'customer0loc'): 400.0,\n",
       " ('customer2loc', 'customer1loc'): 707.1067811865476,\n",
       " ('customer2loc', 'customer2loc'): 0.0,\n",
       " ('customer2loc', 'customer3loc'): 447.21359549995793,\n",
       " ('customer2loc', 'customer4loc'): 447.21359549995793,\n",
       " ('customer2loc', 'customer5loc'): 316.22776601683796,\n",
       " ('customer2loc', 'customer6loc'): 860.2325267042627,\n",
       " ('customer3loc', 'Depotloc0'): 800.0,\n",
       " ('customer3loc', 'Depotloc1'): 707.1067811865476,\n",
       " ('customer3loc', 'customer0loc'): 200.0,\n",
       " ('customer3loc', 'customer1loc'): 316.22776601683796,\n",
       " ('customer3loc', 'customer2loc'): 447.21359549995793,\n",
       " ('customer3loc', 'customer3loc'): 0.0,\n",
       " ('customer3loc', 'customer4loc'): 282.842712474619,\n",
       " ('customer3loc', 'customer5loc'): 316.22776601683796,\n",
       " ('customer3loc', 'customer6loc'): 424.26406871192853,\n",
       " ('customer4loc', 'Depotloc0'): 632.4555320336759,\n",
       " ('customer4loc', 'Depotloc1'): 509.9019513592785,\n",
       " ('customer4loc', 'customer0loc'): 447.21359549995793,\n",
       " ('customer4loc', 'customer1loc'): 316.22776601683796,\n",
       " ('customer4loc', 'customer2loc'): 447.21359549995793,\n",
       " ('customer4loc', 'customer3loc'): 282.842712474619,\n",
       " ('customer4loc', 'customer4loc'): 0.0,\n",
       " ('customer4loc', 'customer5loc'): 509.9019513592785,\n",
       " ('customer4loc', 'customer6loc'): 509.9019513592785,\n",
       " ('customer5loc', 'Depotloc0'): 761.5773105863908,\n",
       " ('customer5loc', 'Depotloc1'): 1000.0000000000001,\n",
       " ('customer5loc', 'customer0loc'): 141.4213562373095,\n",
       " ('customer5loc', 'customer1loc'): 632.4555320336759,\n",
       " ('customer5loc', 'customer2loc'): 316.22776601683796,\n",
       " ('customer5loc', 'customer3loc'): 316.22776601683796,\n",
       " ('customer5loc', 'customer4loc'): 509.9019513592785,\n",
       " ('customer5loc', 'customer5loc'): 0.0,\n",
       " ('customer5loc', 'customer6loc'): 721.1102550927978,\n",
       " ('customer6loc', 'Depotloc0'): 1140.175425099138,\n",
       " ('customer6loc', 'Depotloc1'): 565.685424949238,\n",
       " ('customer6loc', 'customer0loc'): 583.09518948453,\n",
       " ('customer6loc', 'customer1loc'): 200.0,\n",
       " ('customer6loc', 'customer2loc'): 860.2325267042627,\n",
       " ('customer6loc', 'customer3loc'): 424.26406871192853,\n",
       " ('customer6loc', 'customer4loc'): 509.9019513592785,\n",
       " ('customer6loc', 'customer5loc'): 721.1102550927978,\n",
       " ('customer6loc', 'customer6loc'): 0.0}"
      ]
     },
     "execution_count": 78,
     "metadata": {},
     "output_type": "execute_result"
    }
   ],
   "source": [
    "dist"
   ]
  },
  {
   "cell_type": "code",
   "execution_count": 79,
   "metadata": {},
   "outputs": [
    {
     "data": {
      "text/plain": [
       "{('Drone0', 'customer0'): <gurobi.Constr *Awaiting Model Update*>,\n",
       " ('Drone0', 'customer1'): <gurobi.Constr *Awaiting Model Update*>,\n",
       " ('Drone0', 'customer2'): <gurobi.Constr *Awaiting Model Update*>,\n",
       " ('Drone0', 'customer3'): <gurobi.Constr *Awaiting Model Update*>,\n",
       " ('Drone0', 'customer4'): <gurobi.Constr *Awaiting Model Update*>,\n",
       " ('Drone0', 'customer5'): <gurobi.Constr *Awaiting Model Update*>,\n",
       " ('Drone0', 'customer6'): <gurobi.Constr *Awaiting Model Update*>,\n",
       " ('Drone1', 'customer0'): <gurobi.Constr *Awaiting Model Update*>,\n",
       " ('Drone1', 'customer1'): <gurobi.Constr *Awaiting Model Update*>,\n",
       " ('Drone1', 'customer2'): <gurobi.Constr *Awaiting Model Update*>,\n",
       " ('Drone1', 'customer3'): <gurobi.Constr *Awaiting Model Update*>,\n",
       " ('Drone1', 'customer4'): <gurobi.Constr *Awaiting Model Update*>,\n",
       " ('Drone1', 'customer5'): <gurobi.Constr *Awaiting Model Update*>,\n",
       " ('Drone1', 'customer6'): <gurobi.Constr *Awaiting Model Update*>}"
      ]
     },
     "execution_count": 79,
     "metadata": {},
     "output_type": "execute_result"
    }
   ],
   "source": [
    "# Technician tour constraints \n",
    "m.addConstrs((y.sum('*', loc[j], k) == x[j,k] for k in K for j in C),\\\n",
    "    name=\"techTour1\")\n",
    "m.addConstrs((y.sum(loc[j], '*', k) == x[j,k] for k in K for j in C),\\\n",
    "    name=\"techTour2\")"
   ]
  },
  {
   "cell_type": "code",
   "execution_count": 81,
   "metadata": {},
   "outputs": [
    {
     "data": {
      "text/plain": [
       "{'Drone0': <gurobi.Constr *Awaiting Model Update*>,\n",
       " 'Drone1': <gurobi.Constr *Awaiting Model Update*>}"
      ]
     },
     "execution_count": 81,
     "metadata": {},
     "output_type": "execute_result"
    }
   ],
   "source": [
    "# Same depot constraints \n",
    "m.addConstrs((gp.quicksum(y[j,depot[k],k] for j in J) == u[k] for k in K),\\\n",
    "    name=\"sameDepot1\")\n",
    "m.addConstrs((gp.quicksum(y[depot[k],j,k] for j in J) == u[k] for k in K),\\\n",
    "    name=\"sameDepot2\")"
   ]
  },
  {
   "cell_type": "code",
   "execution_count": 82,
   "metadata": {},
   "outputs": [],
   "source": [
    "m.setObjective(quicksum(quicksum(dist[i,j]*y[i,j,k] for i in L for j in L) for k in K),GRB.MINIMIZE)"
   ]
  },
  {
   "cell_type": "code",
   "execution_count": 83,
   "metadata": {},
   "outputs": [
    {
     "data": {
      "text/plain": [
       "<bound method Model.update of <gurobi.Model Continuous instance trs0: 0 constrs, 0 vars, No parameter changes>>"
      ]
     },
     "execution_count": 83,
     "metadata": {},
     "output_type": "execute_result"
    }
   ],
   "source": [
    "m.update"
   ]
  },
  {
   "cell_type": "code",
   "execution_count": 84,
   "metadata": {},
   "outputs": [],
   "source": [
    "# m.write()"
   ]
  },
  {
   "cell_type": "code",
   "execution_count": 85,
   "metadata": {},
   "outputs": [
    {
     "name": "stdout",
     "output_type": "stream",
     "text": [
      "Gurobi Optimizer version 9.1.2 build v9.1.2rc0 (win64)\n",
      "Thread count: 2 physical cores, 4 logical processors, using up to 4 threads\n",
      "Optimize a model with 39 rows, 178 columns and 326 nonzeros\n",
      "Model fingerprint: 0x9c1c03d0\n",
      "Variable types: 0 continuous, 178 integer (178 binary)\n",
      "Coefficient statistics:\n",
      "  Matrix range     [1e+00, 1e+00]\n",
      "  Objective range  [1e+02, 1e+03]\n",
      "  Bounds range     [1e+00, 1e+00]\n",
      "  RHS range        [1e+00, 1e+00]\n",
      "Found heuristic solution: objective 0.0000000\n",
      "\n",
      "Explored 0 nodes (0 simplex iterations) in 0.01 seconds\n",
      "Thread count was 1 (of 4 available processors)\n",
      "\n",
      "Solution count 1: 0 \n",
      "\n",
      "Optimal solution found (tolerance 1.00e-04)\n",
      "Best objective 0.000000000000e+00, best bound 0.000000000000e+00, gap 0.0000%\n"
     ]
    }
   ],
   "source": [
    "m.optimize()"
   ]
  },
  {
   "cell_type": "code",
   "execution_count": 86,
   "metadata": {},
   "outputs": [
    {
     "data": {
      "text/plain": [
       "0.0"
      ]
     },
     "execution_count": 86,
     "metadata": {},
     "output_type": "execute_result"
    }
   ],
   "source": [
    "m.objVal"
   ]
  },
  {
   "cell_type": "code",
   "execution_count": null,
   "metadata": {},
   "outputs": [],
   "source": []
  }
 ],
 "metadata": {
  "kernelspec": {
   "display_name": "Python 3",
   "language": "python",
   "name": "python3"
  },
  "language_info": {
   "codemirror_mode": {
    "name": "ipython",
    "version": 3
   },
   "file_extension": ".py",
   "mimetype": "text/x-python",
   "name": "python",
   "nbconvert_exporter": "python",
   "pygments_lexer": "ipython3",
   "version": "3.7.4"
  }
 },
 "nbformat": 4,
 "nbformat_minor": 4
}
